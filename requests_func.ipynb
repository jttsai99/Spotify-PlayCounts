{
 "cells": [
  {
   "cell_type": "code",
   "execution_count": 1,
   "metadata": {},
   "outputs": [],
   "source": [
    "import pandas as pd\n",
    "import requests\n",
    "import requests_cache\n",
    "from dotenv import load_dotenv\n",
    "import os"
   ]
  },
  {
   "cell_type": "code",
   "execution_count": 2,
   "metadata": {},
   "outputs": [],
   "source": [
    "# Get configuration file that has all the api tokens\n",
    "def configure():\n",
    "    load_dotenv()"
   ]
  },
  {
   "cell_type": "code",
   "execution_count": 3,
   "metadata": {},
   "outputs": [],
   "source": [
    "def request_album(album_ID):\n",
    "    url = \"https://api-partner.spotify.com/pathfinder/v1/query\"\n",
    "\n",
    "    querystring = {\n",
    "                \"operationName\":\"queryAlbumTracks\",\n",
    "                \"variables\":'{\\\"uri\\\":\\\"spotify:album:' +album_ID+ '\\\",\\\"offset\\\":0,\\\"limit\\\":300}',\n",
    "                \"extensions\":\"{\\\"persistedQuery\\\":{\\\"version\\\":1,\\\"sha256Hash\\\":\\\"f387592b8a1d259b833237a51ed9b23d7d8ac83da78c6f4be3e6a08edef83d5b\\\"}}\"}\n",
    "\n",
    "    headers = {\n",
    "    \"authority\": \"api-partner.spotify.com\",\n",
    "    \"accept\": \"application/json\",\n",
    "    \"accept-language\": \"en\",\n",
    "    \"authorization\": os.getenv('undoc_authorization'),\n",
    "    \"client-token\": os.getenv('undoc_client-token'),\n",
    "    \"content-type\": \"application/json;charset=UTF-8\"\n",
    "}\n",
    "\n",
    "    response = requests.request(\"GET\", url, headers=headers, params=querystring)\n",
    "\n",
    "    print(response.text)"
   ]
  },
  {
   "cell_type": "code",
   "execution_count": null,
   "metadata": {},
   "outputs": [],
   "source": []
  }
 ],
 "metadata": {
  "kernelspec": {
   "display_name": "Python 3",
   "language": "python",
   "name": "python3"
  },
  "language_info": {
   "codemirror_mode": {
    "name": "ipython",
    "version": 3
   },
   "file_extension": ".py",
   "mimetype": "text/x-python",
   "name": "python",
   "nbconvert_exporter": "python",
   "pygments_lexer": "ipython3",
   "version": "3.9.15"
  },
  "orig_nbformat": 4,
  "vscode": {
   "interpreter": {
    "hash": "397704579725e15f5c7cb49fe5f0341eb7531c82d19f2c29d197e8b64ab5776b"
   }
  }
 },
 "nbformat": 4,
 "nbformat_minor": 2
}
