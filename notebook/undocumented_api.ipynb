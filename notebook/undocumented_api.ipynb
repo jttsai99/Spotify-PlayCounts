{
 "cells": [
  {
   "cell_type": "code",
   "execution_count": 1,
   "metadata": {},
   "outputs": [],
   "source": [
    "import pandas as pd\n",
    "import requests\n",
    "from dotenv import load_dotenv\n",
    "import os\n",
    "import numpy as np"
   ]
  },
  {
   "cell_type": "code",
   "execution_count": 2,
   "metadata": {},
   "outputs": [],
   "source": [
    "# Get configuration file that has all the api tokens\n",
    "def configure():\n",
    "    load_dotenv()"
   ]
  },
  {
   "cell_type": "code",
   "execution_count": 3,
   "metadata": {},
   "outputs": [],
   "source": [
    "#Grab the authorization and client token from the env\n",
    "configure()\n",
    "UNDOC_AUTHORIZATION = (os.getenv('UNDOC_AUTHORIZATION'))\n",
    "UNDOC_CLIENT_TOKEN = (os.getenv('UNDOC_CLIENT_TOKEN'))"
   ]
  },
  {
   "attachments": {},
   "cell_type": "markdown",
   "metadata": {},
   "source": [
    "***"
   ]
  },
  {
   "attachments": {},
   "cell_type": "markdown",
   "metadata": {},
   "source": [
    "## Get the play counts of each song in the Album"
   ]
  },
  {
   "cell_type": "code",
   "execution_count": 4,
   "metadata": {},
   "outputs": [],
   "source": [
    "def request_album_playcounts(album_ID):\n",
    "    '''Search ID of albums and return response to get counts'''\n",
    "    url = \"https://api-partner.spotify.com/pathfinder/v1/query\"\n",
    "\n",
    "    querystring = {\n",
    "                \"operationName\":\"queryAlbumTracks\",\n",
    "                \"variables\":'{\\\"uri\\\":\\\"spotify:album:' +album_ID+ '\\\",\\\"offset\\\":0,\\\"limit\\\":300}',\n",
    "                \"extensions\":\"{\\\"persistedQuery\\\":{\\\"version\\\":1,\\\"sha256Hash\\\":\\\"f387592b8a1d259b833237a51ed9b23d7d8ac83da78c6f4be3e6a08edef83d5b\\\"}}\"\n",
    "                }\n",
    "\n",
    "    headers = {\n",
    "    \"authority\": \"api-partner.spotify.com\",\n",
    "    \"accept\": \"application/json\",\n",
    "    \"accept-language\": \"en\",\n",
    "    \"app-platform\": \"WebPlayer\",\n",
    "    \"authorization\":\"Bearer {}\".format(UNDOC_AUTHORIZATION),\n",
    "    \"client-token\": str(UNDOC_CLIENT_TOKEN),\n",
    "    \"content-type\": \"application/json;charset=UTF-8\",\n",
    "    \"origin\": \"https://open.spotify.com\",\n",
    "    \"referer\": \"https://open.spotify.com/\"\n",
    "}\n",
    "\n",
    "    #prcoessing the result\n",
    "    result = requests.request(\"GET\", url, headers=headers, params=querystring)\n",
    "    json_result = result.json()\n",
    "    #getting each track object\n",
    "    items = json_result['data']['albumUnion']['tracks']['items']\n",
    "    \n",
    "    # get the number of items to determine the loop size\n",
    "    n = len(items)\n",
    "    track_uri_list = np.empty(n, dtype=object)\n",
    "    playcount_list = np.empty(n)\n",
    "    for i in range(n):\n",
    "        track_uri_list[i] = items[i]['track']['uri']\n",
    "        playcount_list[i] = items[i]['track']['playcount']\n",
    "\n",
    "    return track_uri_list, playcount_list"
   ]
  },
  {
   "cell_type": "code",
   "execution_count": 5,
   "metadata": {},
   "outputs": [
    {
     "data": {
      "text/plain": [
       "(array(['spotify:track:1bDbXMyjaUIooNwFE9wn0N',\n",
       "        'spotify:track:46s57QULU02Voy0Kup6UEb',\n",
       "        'spotify:track:34tz0eDhGuFErIuW3q4mPX',\n",
       "        'spotify:track:0wshkEEcJUQU33RSRBb5dv',\n",
       "        'spotify:track:7l2nxyx7IkBX5orhkALg0V',\n",
       "        'spotify:track:2ZL7WZcjuYKi1KUDtp4kCC',\n",
       "        'spotify:track:0sSRLXxknVTQDStgU1NqpY',\n",
       "        'spotify:track:4Flfb4fGscN9kXPOduQLrv',\n",
       "        'spotify:track:7GeTsDIc5ykNB6lORO6Cee',\n",
       "        'spotify:track:2KLwPaRDOB87XOYAT2fgxh',\n",
       "        'spotify:track:45pUWUeEWGoSdH6UF162G8',\n",
       "        'spotify:track:410TZrK18uRjtsTunG14cl',\n",
       "        'spotify:track:2ZlABhxMMa43COmZ97kKsJ',\n",
       "        'spotify:track:29YW2xXlo6Pc6M0SBTCXYN',\n",
       "        'spotify:track:1MTXYvJ9TSqg9x6WPCDx2n',\n",
       "        'spotify:track:31bsuKDOzFGzBAoXxtnAJm'], dtype=object),\n",
       " array([3.77513209e+08, 1.19683551e+08, 1.15641417e+08, 7.09288030e+07,\n",
       "        7.98015990e+07, 1.04130454e+08, 6.05025210e+07, 4.76703610e+07,\n",
       "        1.00836124e+08, 1.38410520e+08, 7.70638210e+07, 4.49430490e+07,\n",
       "        5.25634540e+07, 4.91814540e+07, 2.75262380e+07, 2.99259200e+07]))"
      ]
     },
     "execution_count": 5,
     "metadata": {},
     "output_type": "execute_result"
    }
   ],
   "source": [
    "request_album_playcounts('5MS3MvWHJ3lOZPLiMxzOU6')"
   ]
  },
  {
   "cell_type": "code",
   "execution_count": null,
   "metadata": {},
   "outputs": [],
   "source": []
  }
 ],
 "metadata": {
  "kernelspec": {
   "display_name": "Python 3",
   "language": "python",
   "name": "python3"
  },
  "language_info": {
   "codemirror_mode": {
    "name": "ipython",
    "version": 3
   },
   "file_extension": ".py",
   "mimetype": "text/x-python",
   "name": "python",
   "nbconvert_exporter": "python",
   "pygments_lexer": "ipython3",
   "version": "3.9.15"
  },
  "orig_nbformat": 4,
  "vscode": {
   "interpreter": {
    "hash": "397704579725e15f5c7cb49fe5f0341eb7531c82d19f2c29d197e8b64ab5776b"
   }
  }
 },
 "nbformat": 4,
 "nbformat_minor": 2
}
