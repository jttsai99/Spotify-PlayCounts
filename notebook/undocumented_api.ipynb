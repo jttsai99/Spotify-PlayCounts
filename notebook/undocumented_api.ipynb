{
 "cells": [
  {
   "cell_type": "code",
   "execution_count": 1,
   "metadata": {},
   "outputs": [],
   "source": [
    "import pandas as pd\n",
    "import requests\n",
    "from dotenv import load_dotenv\n",
    "import os\n",
    "import numpy as np"
   ]
  },
  {
   "cell_type": "code",
   "execution_count": 2,
   "metadata": {},
   "outputs": [],
   "source": [
    "# Get configuration file that has all the api tokens\n",
    "def configure():\n",
    "    load_dotenv()"
   ]
  },
  {
   "cell_type": "code",
   "execution_count": 3,
   "metadata": {},
   "outputs": [],
   "source": [
    "#Grab the authorization and client token from the env\n",
    "configure()\n",
    "UNDOC_AUTHORIZATION = (os.getenv('UNDOC_AUTHORIZATION'))\n",
    "UNDOC_CLIENT_TOKEN = (os.getenv('UNDOC_CLIENT_TOKEN'))"
   ]
  },
  {
   "attachments": {},
   "cell_type": "markdown",
   "metadata": {},
   "source": [
    "***"
   ]
  },
  {
   "attachments": {},
   "cell_type": "markdown",
   "metadata": {},
   "source": [
    "## Get the play counts of each song in the Album"
   ]
  },
  {
   "attachments": {},
   "cell_type": "markdown",
   "metadata": {},
   "source": [
    "#### `request_album_playcounts()`"
   ]
  },
  {
   "cell_type": "code",
   "execution_count": 4,
   "metadata": {},
   "outputs": [],
   "source": [
    "def request_album_playcounts(album_ID):\n",
    "    '''Search ID of albums and return response to get playcounts and track_uri'''\n",
    "    url = \"https://api-partner.spotify.com/pathfinder/v1/query\"\n",
    "\n",
    "    querystring = {\n",
    "                \"operationName\":\"queryAlbumTracks\",\n",
    "                \"variables\":'{\\\"uri\\\":\\\"spotify:album:' +album_ID+ '\\\",\\\"offset\\\":0,\\\"limit\\\":300}',\n",
    "                \"extensions\":\"{\\\"persistedQuery\\\":{\\\"version\\\":1,\\\"sha256Hash\\\":\\\"f387592b8a1d259b833237a51ed9b23d7d8ac83da78c6f4be3e6a08edef83d5b\\\"}}\"\n",
    "                }\n",
    "\n",
    "    headers = {\n",
    "    \"authority\": \"api-partner.spotify.com\",\n",
    "    \"accept\": \"application/json\",\n",
    "    \"accept-language\": \"en\",\n",
    "    \"app-platform\": \"WebPlayer\",\n",
    "    \"authorization\":\"Bearer {}\".format(UNDOC_AUTHORIZATION),\n",
    "    \"client-token\": str(UNDOC_CLIENT_TOKEN),\n",
    "    \"content-type\": \"application/json;charset=UTF-8\",\n",
    "    \"origin\": \"https://open.spotify.com\",\n",
    "    \"referer\": \"https://open.spotify.com/\"\n",
    "}\n",
    "\n",
    "    #prcoessing the result\n",
    "    result = requests.request(\"GET\", url, headers=headers, params=querystring)\n",
    "    json_result = result.json()\n",
    "    #getting each track object\n",
    "    items = json_result['data']['albumUnion']['tracks']['items']\n",
    "    \n",
    "    # get the number of items to determine the loop size\n",
    "    n = len(items)\n",
    "    track_uri_list = np.empty(n, dtype=object)\n",
    "    playcount_list = np.empty(n)\n",
    "    for i in range(n):\n",
    "        track_uri_list[i] = items[i]['track']['uri']\n",
    "        playcount_list[i] = items[i]['track']['playcount']\n",
    "\n",
    "    return track_uri_list, playcount_list"
   ]
  },
  {
   "attachments": {},
   "cell_type": "markdown",
   "metadata": {},
   "source": [
    "Test what `request_album_playcounts()` return"
   ]
  },
  {
   "cell_type": "code",
   "execution_count": 5,
   "metadata": {},
   "outputs": [
    {
     "data": {
      "text/plain": [
       "(array(['spotify:track:1bDbXMyjaUIooNwFE9wn0N',\n",
       "        'spotify:track:46s57QULU02Voy0Kup6UEb',\n",
       "        'spotify:track:34tz0eDhGuFErIuW3q4mPX',\n",
       "        'spotify:track:0wshkEEcJUQU33RSRBb5dv',\n",
       "        'spotify:track:7l2nxyx7IkBX5orhkALg0V',\n",
       "        'spotify:track:2ZL7WZcjuYKi1KUDtp4kCC',\n",
       "        'spotify:track:0sSRLXxknVTQDStgU1NqpY',\n",
       "        'spotify:track:4Flfb4fGscN9kXPOduQLrv',\n",
       "        'spotify:track:7GeTsDIc5ykNB6lORO6Cee',\n",
       "        'spotify:track:2KLwPaRDOB87XOYAT2fgxh',\n",
       "        'spotify:track:45pUWUeEWGoSdH6UF162G8',\n",
       "        'spotify:track:410TZrK18uRjtsTunG14cl',\n",
       "        'spotify:track:2ZlABhxMMa43COmZ97kKsJ',\n",
       "        'spotify:track:29YW2xXlo6Pc6M0SBTCXYN',\n",
       "        'spotify:track:1MTXYvJ9TSqg9x6WPCDx2n',\n",
       "        'spotify:track:31bsuKDOzFGzBAoXxtnAJm'], dtype=object),\n",
       " array([3.77513209e+08, 1.19683551e+08, 1.15641417e+08, 7.09288030e+07,\n",
       "        7.98015990e+07, 1.04130454e+08, 6.05025210e+07, 4.76703610e+07,\n",
       "        1.00836124e+08, 1.38410520e+08, 7.70638210e+07, 4.49430490e+07,\n",
       "        5.25634540e+07, 4.91814540e+07, 2.75262380e+07, 2.99259200e+07]))"
      ]
     },
     "execution_count": 5,
     "metadata": {},
     "output_type": "execute_result"
    }
   ],
   "source": [
    "request_album_playcounts('5MS3MvWHJ3lOZPLiMxzOU6')"
   ]
  },
  {
   "attachments": {},
   "cell_type": "markdown",
   "metadata": {},
   "source": [
    "#### `get_today_playcounts()`"
   ]
  },
  {
   "cell_type": "code",
   "execution_count": 6,
   "metadata": {},
   "outputs": [],
   "source": [
    "def get_today_playcounts(album_ID):\n",
    "    '''Using the undocumented API to request playcounts and return a dataframe of '''\n",
    "    track_uri_list, playcount_list = request_album_playcounts(album_ID)\n",
    "    df = pd.DataFrame({'track_uri':track_uri_list, 'playcount':playcount_list})\n",
    "    df['date_tracked'] = pd.Timestamp.today().strftime('%Y-%m-%d')\n",
    "    return df"
   ]
  },
  {
   "cell_type": "code",
   "execution_count": 7,
   "metadata": {},
   "outputs": [
    {
     "data": {
      "text/html": [
       "<div>\n",
       "<style scoped>\n",
       "    .dataframe tbody tr th:only-of-type {\n",
       "        vertical-align: middle;\n",
       "    }\n",
       "\n",
       "    .dataframe tbody tr th {\n",
       "        vertical-align: top;\n",
       "    }\n",
       "\n",
       "    .dataframe thead th {\n",
       "        text-align: right;\n",
       "    }\n",
       "</style>\n",
       "<table border=\"1\" class=\"dataframe\">\n",
       "  <thead>\n",
       "    <tr style=\"text-align: right;\">\n",
       "      <th></th>\n",
       "      <th>track_uri</th>\n",
       "      <th>playcount</th>\n",
       "      <th>date_tracked</th>\n",
       "    </tr>\n",
       "  </thead>\n",
       "  <tbody>\n",
       "    <tr>\n",
       "      <th>0</th>\n",
       "      <td>spotify:track:1bDbXMyjaUIooNwFE9wn0N</td>\n",
       "      <td>377513209.0</td>\n",
       "      <td>2023-03-02</td>\n",
       "    </tr>\n",
       "    <tr>\n",
       "      <th>1</th>\n",
       "      <td>spotify:track:46s57QULU02Voy0Kup6UEb</td>\n",
       "      <td>119683551.0</td>\n",
       "      <td>2023-03-02</td>\n",
       "    </tr>\n",
       "    <tr>\n",
       "      <th>2</th>\n",
       "      <td>spotify:track:34tz0eDhGuFErIuW3q4mPX</td>\n",
       "      <td>115641417.0</td>\n",
       "      <td>2023-03-02</td>\n",
       "    </tr>\n",
       "    <tr>\n",
       "      <th>3</th>\n",
       "      <td>spotify:track:0wshkEEcJUQU33RSRBb5dv</td>\n",
       "      <td>70928803.0</td>\n",
       "      <td>2023-03-02</td>\n",
       "    </tr>\n",
       "    <tr>\n",
       "      <th>4</th>\n",
       "      <td>spotify:track:7l2nxyx7IkBX5orhkALg0V</td>\n",
       "      <td>79801599.0</td>\n",
       "      <td>2023-03-02</td>\n",
       "    </tr>\n",
       "    <tr>\n",
       "      <th>5</th>\n",
       "      <td>spotify:track:2ZL7WZcjuYKi1KUDtp4kCC</td>\n",
       "      <td>104130454.0</td>\n",
       "      <td>2023-03-02</td>\n",
       "    </tr>\n",
       "    <tr>\n",
       "      <th>6</th>\n",
       "      <td>spotify:track:0sSRLXxknVTQDStgU1NqpY</td>\n",
       "      <td>60502521.0</td>\n",
       "      <td>2023-03-02</td>\n",
       "    </tr>\n",
       "    <tr>\n",
       "      <th>7</th>\n",
       "      <td>spotify:track:4Flfb4fGscN9kXPOduQLrv</td>\n",
       "      <td>47670361.0</td>\n",
       "      <td>2023-03-02</td>\n",
       "    </tr>\n",
       "    <tr>\n",
       "      <th>8</th>\n",
       "      <td>spotify:track:7GeTsDIc5ykNB6lORO6Cee</td>\n",
       "      <td>100836124.0</td>\n",
       "      <td>2023-03-02</td>\n",
       "    </tr>\n",
       "    <tr>\n",
       "      <th>9</th>\n",
       "      <td>spotify:track:2KLwPaRDOB87XOYAT2fgxh</td>\n",
       "      <td>138410520.0</td>\n",
       "      <td>2023-03-02</td>\n",
       "    </tr>\n",
       "    <tr>\n",
       "      <th>10</th>\n",
       "      <td>spotify:track:45pUWUeEWGoSdH6UF162G8</td>\n",
       "      <td>77063821.0</td>\n",
       "      <td>2023-03-02</td>\n",
       "    </tr>\n",
       "    <tr>\n",
       "      <th>11</th>\n",
       "      <td>spotify:track:410TZrK18uRjtsTunG14cl</td>\n",
       "      <td>44943049.0</td>\n",
       "      <td>2023-03-02</td>\n",
       "    </tr>\n",
       "    <tr>\n",
       "      <th>12</th>\n",
       "      <td>spotify:track:2ZlABhxMMa43COmZ97kKsJ</td>\n",
       "      <td>52563454.0</td>\n",
       "      <td>2023-03-02</td>\n",
       "    </tr>\n",
       "    <tr>\n",
       "      <th>13</th>\n",
       "      <td>spotify:track:29YW2xXlo6Pc6M0SBTCXYN</td>\n",
       "      <td>49181454.0</td>\n",
       "      <td>2023-03-02</td>\n",
       "    </tr>\n",
       "    <tr>\n",
       "      <th>14</th>\n",
       "      <td>spotify:track:1MTXYvJ9TSqg9x6WPCDx2n</td>\n",
       "      <td>27526238.0</td>\n",
       "      <td>2023-03-02</td>\n",
       "    </tr>\n",
       "    <tr>\n",
       "      <th>15</th>\n",
       "      <td>spotify:track:31bsuKDOzFGzBAoXxtnAJm</td>\n",
       "      <td>29925920.0</td>\n",
       "      <td>2023-03-02</td>\n",
       "    </tr>\n",
       "  </tbody>\n",
       "</table>\n",
       "</div>"
      ],
      "text/plain": [
       "                               track_uri    playcount date_tracked\n",
       "0   spotify:track:1bDbXMyjaUIooNwFE9wn0N  377513209.0   2023-03-02\n",
       "1   spotify:track:46s57QULU02Voy0Kup6UEb  119683551.0   2023-03-02\n",
       "2   spotify:track:34tz0eDhGuFErIuW3q4mPX  115641417.0   2023-03-02\n",
       "3   spotify:track:0wshkEEcJUQU33RSRBb5dv   70928803.0   2023-03-02\n",
       "4   spotify:track:7l2nxyx7IkBX5orhkALg0V   79801599.0   2023-03-02\n",
       "5   spotify:track:2ZL7WZcjuYKi1KUDtp4kCC  104130454.0   2023-03-02\n",
       "6   spotify:track:0sSRLXxknVTQDStgU1NqpY   60502521.0   2023-03-02\n",
       "7   spotify:track:4Flfb4fGscN9kXPOduQLrv   47670361.0   2023-03-02\n",
       "8   spotify:track:7GeTsDIc5ykNB6lORO6Cee  100836124.0   2023-03-02\n",
       "9   spotify:track:2KLwPaRDOB87XOYAT2fgxh  138410520.0   2023-03-02\n",
       "10  spotify:track:45pUWUeEWGoSdH6UF162G8   77063821.0   2023-03-02\n",
       "11  spotify:track:410TZrK18uRjtsTunG14cl   44943049.0   2023-03-02\n",
       "12  spotify:track:2ZlABhxMMa43COmZ97kKsJ   52563454.0   2023-03-02\n",
       "13  spotify:track:29YW2xXlo6Pc6M0SBTCXYN   49181454.0   2023-03-02\n",
       "14  spotify:track:1MTXYvJ9TSqg9x6WPCDx2n   27526238.0   2023-03-02\n",
       "15  spotify:track:31bsuKDOzFGzBAoXxtnAJm   29925920.0   2023-03-02"
      ]
     },
     "execution_count": 7,
     "metadata": {},
     "output_type": "execute_result"
    }
   ],
   "source": [
    "get_today_playcounts(\"5MS3MvWHJ3lOZPLiMxzOU6\")"
   ]
  }
 ],
 "metadata": {
  "kernelspec": {
   "display_name": "Python 3",
   "language": "python",
   "name": "python3"
  },
  "language_info": {
   "codemirror_mode": {
    "name": "ipython",
    "version": 3
   },
   "file_extension": ".py",
   "mimetype": "text/x-python",
   "name": "python",
   "nbconvert_exporter": "python",
   "pygments_lexer": "ipython3",
   "version": "3.9.15"
  },
  "orig_nbformat": 4,
  "vscode": {
   "interpreter": {
    "hash": "397704579725e15f5c7cb49fe5f0341eb7531c82d19f2c29d197e8b64ab5776b"
   }
  }
 },
 "nbformat": 4,
 "nbformat_minor": 2
}
