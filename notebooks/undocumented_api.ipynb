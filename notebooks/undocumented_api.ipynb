{
 "cells": [
  {
   "cell_type": "code",
   "execution_count": 1,
   "metadata": {},
   "outputs": [],
   "source": [
    "import pandas as pd\n",
    "import requests\n",
    "from dotenv import load_dotenv\n",
    "import os\n",
    "import numpy as np\n",
    "from tqdm import tqdm"
   ]
  },
  {
   "cell_type": "code",
   "execution_count": 2,
   "metadata": {},
   "outputs": [],
   "source": [
    "# Get configuration file that has all the api tokens\n",
    "def configure_undoc():\n",
    "    load_dotenv()\n",
    "    UNDOC_AUTHORIZATION = (os.getenv('UNDOC_AUTHORIZATION'))\n",
    "    UNDOC_CLIENT_TOKEN = (os.getenv('UNDOC_CLIENT_TOKEN'))\n",
    "    return UNDOC_AUTHORIZATION, UNDOC_CLIENT_TOKEN"
   ]
  },
  {
   "cell_type": "code",
   "execution_count": 3,
   "metadata": {},
   "outputs": [
    {
     "name": "stdout",
     "output_type": "stream",
     "text": [
      "BQC-kyIhZ0UNnLRacHfaqFMuUFQieBODDA7Qtrj-JgnhLIoxYQB37qZbpUVJ9bKuQPIZoQU0ihMSo-a2uMQ_bGwkz8H2bQrheMI2Z07h-rVpHrYPA3O0cNIjLjK9Hdb4lQVVfCzAx_kvEoV23C0XPtFLJKRFJpoZgNZZt-mSsO2tq5CbGDFgBNiHLTsPSovngZzxATgV80h3jfGhfTvzZ6swyGXWpT1pWVL31bn3xK6DPGtGIX9E8_DQhYED3NeJGxPHENmWoQEv_7ORcvLlUw1pAVit7mawJPR4WLOSCMcMHMhECJll1SlPM0xdztwqZ8Mmxw\n",
      "AABgim22BLnPeO3Gha9Me2MaGuboabqA2m2wdKxHzunrtwEY+0hbPIMRCbM07+odJ4c8v0y0hLbRSb51mGB+iDVGFp/3/nMv1k/fIWF8UVPFcG3724kZD6G42zXuixL9/w6Nsj0TNsva35qzO8qM7dAYhuGjCSD9KzfPH5hRxVKulyRUZk3wnD24ppPT1O+hkMivDmpgAgRDhaei4osjt01fNsV8eDoPxU2r/pv10YU9kuxJ2V7bfXicGWaGaQ/vM665+rH8NC6BOsZ6d/XXWTrdrxoNtjLlvTwDeTNGUA==\n"
     ]
    }
   ],
   "source": [
    "#Grab the authorization and client token from the env\n",
    "UNDOC_AUTHORIZATION,UNDOC_CLIENT_TOKEN = configure_undoc()\n",
    "print(UNDOC_AUTHORIZATION)\n",
    "print(UNDOC_CLIENT_TOKEN)"
   ]
  },
  {
   "attachments": {},
   "cell_type": "markdown",
   "metadata": {},
   "source": [
    "***"
   ]
  },
  {
   "attachments": {},
   "cell_type": "markdown",
   "metadata": {},
   "source": [
    "## Get the play counts of each song in the Album"
   ]
  },
  {
   "attachments": {},
   "cell_type": "markdown",
   "metadata": {},
   "source": [
    "#### `request_album_playcounts()`"
   ]
  },
  {
   "cell_type": "code",
   "execution_count": 4,
   "metadata": {},
   "outputs": [],
   "source": [
    "def request_album_playcounts(UNDOC_AUTHORIZATION,UNDOC_CLIENT_TOKEN,album_ID):\n",
    "    '''Search ID of albums and return response to get playcounts and track_uri'''\n",
    "    url = \"https://api-partner.spotify.com/pathfinder/v1/query\"\n",
    "\n",
    "    querystring = {\n",
    "                \"operationName\":\"queryAlbumTracks\",\n",
    "                \"variables\":'{\\\"uri\\\":\\\"spotify:album:' +album_ID+ '\\\",\\\"offset\\\":0,\\\"limit\\\":300}',\n",
    "                \"extensions\":\"{\\\"persistedQuery\\\":{\\\"version\\\":1,\\\"sha256Hash\\\":\\\"f387592b8a1d259b833237a51ed9b23d7d8ac83da78c6f4be3e6a08edef83d5b\\\"}}\"\n",
    "                }\n",
    "\n",
    "    headers = {\n",
    "    \"authority\": \"api-partner.spotify.com\",\n",
    "    \"accept\": \"application/json\",\n",
    "    \"accept-language\": \"en\",\n",
    "    \"app-platform\": \"WebPlayer\",\n",
    "    \"authorization\":\"Bearer {}\".format(UNDOC_AUTHORIZATION),\n",
    "    \"client-token\": str(UNDOC_CLIENT_TOKEN),\n",
    "    \"content-type\": \"application/json;charset=UTF-8\",\n",
    "    \"origin\": \"https://open.spotify.com\",\n",
    "    \"referer\": \"https://open.spotify.com/\"\n",
    "}\n",
    "\n",
    "    #prcoessing the result\n",
    "    result = requests.request(\"GET\", url, headers=headers, params=querystring)\n",
    "    json_result = result.json()\n",
    "    #getting each track object\n",
    "    items = json_result['data']['albumUnion']['tracks']['items']\n",
    "    \n",
    "    # get the number of items to determine the loop size\n",
    "    n = len(items)\n",
    "    track_uri_list = np.empty(n, dtype=object)\n",
    "    playcount_list = np.empty(n)\n",
    "    for i in range(n):\n",
    "        track_uri_list[i] = items[i]['track']['uri']\n",
    "        playcount_list[i] = items[i]['track']['playcount']\n",
    "\n",
    "    return track_uri_list, playcount_list"
   ]
  },
  {
   "attachments": {},
   "cell_type": "markdown",
   "metadata": {},
   "source": [
    "Test what `request_album_playcounts()` return"
   ]
  },
  {
   "cell_type": "code",
   "execution_count": 5,
   "metadata": {},
   "outputs": [
    {
     "data": {
      "text/plain": [
       "(array(['spotify:track:1bDbXMyjaUIooNwFE9wn0N',\n",
       "        'spotify:track:46s57QULU02Voy0Kup6UEb',\n",
       "        'spotify:track:34tz0eDhGuFErIuW3q4mPX',\n",
       "        'spotify:track:0wshkEEcJUQU33RSRBb5dv',\n",
       "        'spotify:track:7l2nxyx7IkBX5orhkALg0V',\n",
       "        'spotify:track:2ZL7WZcjuYKi1KUDtp4kCC',\n",
       "        'spotify:track:0sSRLXxknVTQDStgU1NqpY',\n",
       "        'spotify:track:4Flfb4fGscN9kXPOduQLrv',\n",
       "        'spotify:track:7GeTsDIc5ykNB6lORO6Cee',\n",
       "        'spotify:track:2KLwPaRDOB87XOYAT2fgxh',\n",
       "        'spotify:track:45pUWUeEWGoSdH6UF162G8',\n",
       "        'spotify:track:410TZrK18uRjtsTunG14cl',\n",
       "        'spotify:track:2ZlABhxMMa43COmZ97kKsJ',\n",
       "        'spotify:track:29YW2xXlo6Pc6M0SBTCXYN',\n",
       "        'spotify:track:1MTXYvJ9TSqg9x6WPCDx2n',\n",
       "        'spotify:track:31bsuKDOzFGzBAoXxtnAJm'], dtype=object),\n",
       " array([3.81681747e+08, 1.20395783e+08, 1.16635003e+08, 7.13407670e+07,\n",
       "        8.03696400e+07, 1.05473437e+08, 6.09217450e+07, 4.79212130e+07,\n",
       "        1.01589261e+08, 1.39488978e+08, 7.76550460e+07, 4.51793480e+07,\n",
       "        5.30564370e+07, 4.95522150e+07, 2.76581660e+07, 3.00941740e+07]))"
      ]
     },
     "execution_count": 5,
     "metadata": {},
     "output_type": "execute_result"
    }
   ],
   "source": [
    "request_album_playcounts(UNDOC_AUTHORIZATION,UNDOC_CLIENT_TOKEN,'5MS3MvWHJ3lOZPLiMxzOU6')"
   ]
  },
  {
   "attachments": {},
   "cell_type": "markdown",
   "metadata": {},
   "source": [
    "#### `get_today_playcounts()`"
   ]
  },
  {
   "cell_type": "code",
   "execution_count": 6,
   "metadata": {},
   "outputs": [],
   "source": [
    "def get_today_playcounts(UNDOC_AUTHORIZATION,UNDOC_CLIENT_TOKEN,album_ID):\n",
    "    '''Using the undocumented API to request playcounts and return a dataframe of '''\n",
    "    track_uri_list, playcount_list = request_album_playcounts(UNDOC_AUTHORIZATION,UNDOC_CLIENT_TOKEN,album_ID)\n",
    "    df = pd.DataFrame({'track_uri':track_uri_list, 'playcount':playcount_list})\n",
    "    df['date_tracked'] = pd.Timestamp.today().strftime('%Y-%m-%d')\n",
    "    return df"
   ]
  },
  {
   "attachments": {},
   "cell_type": "markdown",
   "metadata": {},
   "source": [
    "Test what `get_today_playcounts()`"
   ]
  },
  {
   "cell_type": "code",
   "execution_count": 7,
   "metadata": {},
   "outputs": [
    {
     "data": {
      "text/html": [
       "<div>\n",
       "<style scoped>\n",
       "    .dataframe tbody tr th:only-of-type {\n",
       "        vertical-align: middle;\n",
       "    }\n",
       "\n",
       "    .dataframe tbody tr th {\n",
       "        vertical-align: top;\n",
       "    }\n",
       "\n",
       "    .dataframe thead th {\n",
       "        text-align: right;\n",
       "    }\n",
       "</style>\n",
       "<table border=\"1\" class=\"dataframe\">\n",
       "  <thead>\n",
       "    <tr style=\"text-align: right;\">\n",
       "      <th></th>\n",
       "      <th>track_uri</th>\n",
       "      <th>playcount</th>\n",
       "      <th>date_tracked</th>\n",
       "    </tr>\n",
       "  </thead>\n",
       "  <tbody>\n",
       "    <tr>\n",
       "      <th>0</th>\n",
       "      <td>spotify:track:1bDbXMyjaUIooNwFE9wn0N</td>\n",
       "      <td>381681747.0</td>\n",
       "      <td>2023-03-04</td>\n",
       "    </tr>\n",
       "    <tr>\n",
       "      <th>1</th>\n",
       "      <td>spotify:track:46s57QULU02Voy0Kup6UEb</td>\n",
       "      <td>120395783.0</td>\n",
       "      <td>2023-03-04</td>\n",
       "    </tr>\n",
       "    <tr>\n",
       "      <th>2</th>\n",
       "      <td>spotify:track:34tz0eDhGuFErIuW3q4mPX</td>\n",
       "      <td>116635003.0</td>\n",
       "      <td>2023-03-04</td>\n",
       "    </tr>\n",
       "    <tr>\n",
       "      <th>3</th>\n",
       "      <td>spotify:track:0wshkEEcJUQU33RSRBb5dv</td>\n",
       "      <td>71340767.0</td>\n",
       "      <td>2023-03-04</td>\n",
       "    </tr>\n",
       "    <tr>\n",
       "      <th>4</th>\n",
       "      <td>spotify:track:7l2nxyx7IkBX5orhkALg0V</td>\n",
       "      <td>80369640.0</td>\n",
       "      <td>2023-03-04</td>\n",
       "    </tr>\n",
       "    <tr>\n",
       "      <th>5</th>\n",
       "      <td>spotify:track:2ZL7WZcjuYKi1KUDtp4kCC</td>\n",
       "      <td>105473437.0</td>\n",
       "      <td>2023-03-04</td>\n",
       "    </tr>\n",
       "    <tr>\n",
       "      <th>6</th>\n",
       "      <td>spotify:track:0sSRLXxknVTQDStgU1NqpY</td>\n",
       "      <td>60921745.0</td>\n",
       "      <td>2023-03-04</td>\n",
       "    </tr>\n",
       "    <tr>\n",
       "      <th>7</th>\n",
       "      <td>spotify:track:4Flfb4fGscN9kXPOduQLrv</td>\n",
       "      <td>47921213.0</td>\n",
       "      <td>2023-03-04</td>\n",
       "    </tr>\n",
       "    <tr>\n",
       "      <th>8</th>\n",
       "      <td>spotify:track:7GeTsDIc5ykNB6lORO6Cee</td>\n",
       "      <td>101589261.0</td>\n",
       "      <td>2023-03-04</td>\n",
       "    </tr>\n",
       "    <tr>\n",
       "      <th>9</th>\n",
       "      <td>spotify:track:2KLwPaRDOB87XOYAT2fgxh</td>\n",
       "      <td>139488978.0</td>\n",
       "      <td>2023-03-04</td>\n",
       "    </tr>\n",
       "    <tr>\n",
       "      <th>10</th>\n",
       "      <td>spotify:track:45pUWUeEWGoSdH6UF162G8</td>\n",
       "      <td>77655046.0</td>\n",
       "      <td>2023-03-04</td>\n",
       "    </tr>\n",
       "    <tr>\n",
       "      <th>11</th>\n",
       "      <td>spotify:track:410TZrK18uRjtsTunG14cl</td>\n",
       "      <td>45179348.0</td>\n",
       "      <td>2023-03-04</td>\n",
       "    </tr>\n",
       "    <tr>\n",
       "      <th>12</th>\n",
       "      <td>spotify:track:2ZlABhxMMa43COmZ97kKsJ</td>\n",
       "      <td>53056437.0</td>\n",
       "      <td>2023-03-04</td>\n",
       "    </tr>\n",
       "    <tr>\n",
       "      <th>13</th>\n",
       "      <td>spotify:track:29YW2xXlo6Pc6M0SBTCXYN</td>\n",
       "      <td>49552215.0</td>\n",
       "      <td>2023-03-04</td>\n",
       "    </tr>\n",
       "    <tr>\n",
       "      <th>14</th>\n",
       "      <td>spotify:track:1MTXYvJ9TSqg9x6WPCDx2n</td>\n",
       "      <td>27658166.0</td>\n",
       "      <td>2023-03-04</td>\n",
       "    </tr>\n",
       "    <tr>\n",
       "      <th>15</th>\n",
       "      <td>spotify:track:31bsuKDOzFGzBAoXxtnAJm</td>\n",
       "      <td>30094174.0</td>\n",
       "      <td>2023-03-04</td>\n",
       "    </tr>\n",
       "  </tbody>\n",
       "</table>\n",
       "</div>"
      ],
      "text/plain": [
       "                               track_uri    playcount date_tracked\n",
       "0   spotify:track:1bDbXMyjaUIooNwFE9wn0N  381681747.0   2023-03-04\n",
       "1   spotify:track:46s57QULU02Voy0Kup6UEb  120395783.0   2023-03-04\n",
       "2   spotify:track:34tz0eDhGuFErIuW3q4mPX  116635003.0   2023-03-04\n",
       "3   spotify:track:0wshkEEcJUQU33RSRBb5dv   71340767.0   2023-03-04\n",
       "4   spotify:track:7l2nxyx7IkBX5orhkALg0V   80369640.0   2023-03-04\n",
       "5   spotify:track:2ZL7WZcjuYKi1KUDtp4kCC  105473437.0   2023-03-04\n",
       "6   spotify:track:0sSRLXxknVTQDStgU1NqpY   60921745.0   2023-03-04\n",
       "7   spotify:track:4Flfb4fGscN9kXPOduQLrv   47921213.0   2023-03-04\n",
       "8   spotify:track:7GeTsDIc5ykNB6lORO6Cee  101589261.0   2023-03-04\n",
       "9   spotify:track:2KLwPaRDOB87XOYAT2fgxh  139488978.0   2023-03-04\n",
       "10  spotify:track:45pUWUeEWGoSdH6UF162G8   77655046.0   2023-03-04\n",
       "11  spotify:track:410TZrK18uRjtsTunG14cl   45179348.0   2023-03-04\n",
       "12  spotify:track:2ZlABhxMMa43COmZ97kKsJ   53056437.0   2023-03-04\n",
       "13  spotify:track:29YW2xXlo6Pc6M0SBTCXYN   49552215.0   2023-03-04\n",
       "14  spotify:track:1MTXYvJ9TSqg9x6WPCDx2n   27658166.0   2023-03-04\n",
       "15  spotify:track:31bsuKDOzFGzBAoXxtnAJm   30094174.0   2023-03-04"
      ]
     },
     "execution_count": 7,
     "metadata": {},
     "output_type": "execute_result"
    }
   ],
   "source": [
    "get_today_playcounts(UNDOC_AUTHORIZATION,UNDOC_CLIENT_TOKEN,\"5MS3MvWHJ3lOZPLiMxzOU6\")"
   ]
  },
  {
   "attachments": {},
   "cell_type": "markdown",
   "metadata": {},
   "source": [
    "#### `get_all_playcounts_today()`\n",
    "**Being used in update_track_playcount**"
   ]
  },
  {
   "cell_type": "code",
   "execution_count": 8,
   "metadata": {},
   "outputs": [],
   "source": [
    "def get_all_playcounts_today(UNDOC_AUTHORIZATION,UNDOC_CLIENT_TOKEN,albums_ids):\n",
    "    '''Takes in array of album_ids and loop through each one to get a dataframe to be able to append to SQL database'''\n",
    "    dataframe = pd.DataFrame()\n",
    "    for id in tqdm(albums_ids, desc = \"Updating track playcounts\"):\n",
    "        temp = get_today_playcounts(UNDOC_AUTHORIZATION,UNDOC_CLIENT_TOKEN,id)\n",
    "        dataframe = pd.concat([dataframe,temp], axis = 0)\n",
    "    dataframe  = dataframe.reset_index(drop=True)\n",
    "    return dataframe"
   ]
  },
  {
   "attachments": {},
   "cell_type": "markdown",
   "metadata": {},
   "source": [
    "Test what `get_all_playcounts_today()` return"
   ]
  },
  {
   "cell_type": "code",
   "execution_count": 9,
   "metadata": {},
   "outputs": [],
   "source": [
    "test_list = np.array(['5MS3MvWHJ3lOZPLiMxzOU6', '3cf4iSSKd8ffTncbtKljXw','3SpBlxme9WbeQdI9kx7KAV', '6OQ9gBfg5EXeNAEwGSs6jK'], dtype=object)"
   ]
  },
  {
   "cell_type": "code",
   "execution_count": 10,
   "metadata": {},
   "outputs": [
    {
     "name": "stderr",
     "output_type": "stream",
     "text": [
      "Updating track playcounts: 100%|██████████| 4/4 [00:00<00:00,  7.66it/s]\n"
     ]
    },
    {
     "data": {
      "text/html": [
       "<div>\n",
       "<style scoped>\n",
       "    .dataframe tbody tr th:only-of-type {\n",
       "        vertical-align: middle;\n",
       "    }\n",
       "\n",
       "    .dataframe tbody tr th {\n",
       "        vertical-align: top;\n",
       "    }\n",
       "\n",
       "    .dataframe thead th {\n",
       "        text-align: right;\n",
       "    }\n",
       "</style>\n",
       "<table border=\"1\" class=\"dataframe\">\n",
       "  <thead>\n",
       "    <tr style=\"text-align: right;\">\n",
       "      <th></th>\n",
       "      <th>track_uri</th>\n",
       "      <th>playcount</th>\n",
       "      <th>date_tracked</th>\n",
       "    </tr>\n",
       "  </thead>\n",
       "  <tbody>\n",
       "    <tr>\n",
       "      <th>0</th>\n",
       "      <td>spotify:track:1bDbXMyjaUIooNwFE9wn0N</td>\n",
       "      <td>381681747.0</td>\n",
       "      <td>2023-03-04</td>\n",
       "    </tr>\n",
       "    <tr>\n",
       "      <th>1</th>\n",
       "      <td>spotify:track:46s57QULU02Voy0Kup6UEb</td>\n",
       "      <td>120395783.0</td>\n",
       "      <td>2023-03-04</td>\n",
       "    </tr>\n",
       "    <tr>\n",
       "      <th>2</th>\n",
       "      <td>spotify:track:34tz0eDhGuFErIuW3q4mPX</td>\n",
       "      <td>116635003.0</td>\n",
       "      <td>2023-03-04</td>\n",
       "    </tr>\n",
       "    <tr>\n",
       "      <th>3</th>\n",
       "      <td>spotify:track:0wshkEEcJUQU33RSRBb5dv</td>\n",
       "      <td>71340767.0</td>\n",
       "      <td>2023-03-04</td>\n",
       "    </tr>\n",
       "    <tr>\n",
       "      <th>4</th>\n",
       "      <td>spotify:track:7l2nxyx7IkBX5orhkALg0V</td>\n",
       "      <td>80369640.0</td>\n",
       "      <td>2023-03-04</td>\n",
       "    </tr>\n",
       "    <tr>\n",
       "      <th>...</th>\n",
       "      <td>...</td>\n",
       "      <td>...</td>\n",
       "      <td>...</td>\n",
       "    </tr>\n",
       "    <tr>\n",
       "      <th>60</th>\n",
       "      <td>spotify:track:6Kj17Afjo1OKJYpf5VzCeo</td>\n",
       "      <td>144391033.0</td>\n",
       "      <td>2023-03-04</td>\n",
       "    </tr>\n",
       "    <tr>\n",
       "      <th>61</th>\n",
       "      <td>spotify:track:6fLVTVaHWaEfVKfEgbkf4D</td>\n",
       "      <td>31909288.0</td>\n",
       "      <td>2023-03-04</td>\n",
       "    </tr>\n",
       "    <tr>\n",
       "      <th>62</th>\n",
       "      <td>spotify:track:0YkUwXxnTkeJBvt5upeEtP</td>\n",
       "      <td>58751747.0</td>\n",
       "      <td>2023-03-04</td>\n",
       "    </tr>\n",
       "    <tr>\n",
       "      <th>63</th>\n",
       "      <td>spotify:track:05aZ9sAU1YXndHv0FMi9iW</td>\n",
       "      <td>74030238.0</td>\n",
       "      <td>2023-03-04</td>\n",
       "    </tr>\n",
       "    <tr>\n",
       "      <th>64</th>\n",
       "      <td>spotify:track:1I55Ea0zVoSKs6MqW7DQ3i</td>\n",
       "      <td>73694488.0</td>\n",
       "      <td>2023-03-04</td>\n",
       "    </tr>\n",
       "  </tbody>\n",
       "</table>\n",
       "<p>65 rows × 3 columns</p>\n",
       "</div>"
      ],
      "text/plain": [
       "                               track_uri    playcount date_tracked\n",
       "0   spotify:track:1bDbXMyjaUIooNwFE9wn0N  381681747.0   2023-03-04\n",
       "1   spotify:track:46s57QULU02Voy0Kup6UEb  120395783.0   2023-03-04\n",
       "2   spotify:track:34tz0eDhGuFErIuW3q4mPX  116635003.0   2023-03-04\n",
       "3   spotify:track:0wshkEEcJUQU33RSRBb5dv   71340767.0   2023-03-04\n",
       "4   spotify:track:7l2nxyx7IkBX5orhkALg0V   80369640.0   2023-03-04\n",
       "..                                   ...          ...          ...\n",
       "60  spotify:track:6Kj17Afjo1OKJYpf5VzCeo  144391033.0   2023-03-04\n",
       "61  spotify:track:6fLVTVaHWaEfVKfEgbkf4D   31909288.0   2023-03-04\n",
       "62  spotify:track:0YkUwXxnTkeJBvt5upeEtP   58751747.0   2023-03-04\n",
       "63  spotify:track:05aZ9sAU1YXndHv0FMi9iW   74030238.0   2023-03-04\n",
       "64  spotify:track:1I55Ea0zVoSKs6MqW7DQ3i   73694488.0   2023-03-04\n",
       "\n",
       "[65 rows x 3 columns]"
      ]
     },
     "execution_count": 10,
     "metadata": {},
     "output_type": "execute_result"
    }
   ],
   "source": [
    "get_all_playcounts_today(UNDOC_AUTHORIZATION,UNDOC_CLIENT_TOKEN,test_list)"
   ]
  },
  {
   "cell_type": "code",
   "execution_count": null,
   "metadata": {},
   "outputs": [],
   "source": []
  }
 ],
 "metadata": {
  "kernelspec": {
   "display_name": "Python 3",
   "language": "python",
   "name": "python3"
  },
  "language_info": {
   "codemirror_mode": {
    "name": "ipython",
    "version": 3
   },
   "file_extension": ".py",
   "mimetype": "text/x-python",
   "name": "python",
   "nbconvert_exporter": "python",
   "pygments_lexer": "ipython3",
   "version": "3.9.15"
  },
  "orig_nbformat": 4,
  "vscode": {
   "interpreter": {
    "hash": "397704579725e15f5c7cb49fe5f0341eb7531c82d19f2c29d197e8b64ab5776b"
   }
  }
 },
 "nbformat": 4,
 "nbformat_minor": 2
}
