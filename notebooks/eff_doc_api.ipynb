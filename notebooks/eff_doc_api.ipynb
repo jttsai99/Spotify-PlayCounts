{
 "cells": [
  {
   "cell_type": "code",
   "execution_count": 28,
   "metadata": {},
   "outputs": [],
   "source": [
    "from dotenv import load_dotenv\n",
    "import os\n",
    "import base64\n",
    "import requests\n",
    "import pandas as pd\n",
    "import numpy as np"
   ]
  },
  {
   "cell_type": "code",
   "execution_count": 29,
   "metadata": {},
   "outputs": [],
   "source": [
    "# Get configuration file that has all the api tokens\n",
    "def configure():\n",
    "    load_dotenv()\n",
    "    CLIENT_ID = os.getenv('CLIENT_ID')\n",
    "    CLIENT_SECRET = os.getenv('CLIENT_SECRET')\n",
    "    return CLIENT_ID, CLIENT_SECRET"
   ]
  },
  {
   "cell_type": "code",
   "execution_count": 30,
   "metadata": {},
   "outputs": [
    {
     "name": "stdout",
     "output_type": "stream",
     "text": [
      "40692bc74b7f42f9a0d19365e7af4cd8\n",
      "559d13d75dd346c9b3b01cbbd2a1f55a\n"
     ]
    }
   ],
   "source": [
    "#Grab the Client_id and Client_secret from the env for the documented api\n",
    "CLIENT_ID, CLIENT_SECRET = configure()\n",
    "print(CLIENT_ID)\n",
    "print(CLIENT_SECRET)"
   ]
  },
  {
   "attachments": {},
   "cell_type": "markdown",
   "metadata": {},
   "source": [
    "***"
   ]
  },
  {
   "cell_type": "code",
   "execution_count": 31,
   "metadata": {},
   "outputs": [],
   "source": [
    "def get_token(CLIENT_ID,CLIENT_SECRET):\n",
    "    '''Takes the Client_ID and Client_Secret to request access token.\n",
    "        Access tokens expire every hour so have to request new one'''\n",
    "    ## Setup the authorization str and convert to base64  \n",
    "    auth_str = CLIENT_ID + \":\" + CLIENT_SECRET\n",
    "    #encode str with utf-8 first\n",
    "    auth_bytes = auth_str.encode(\"utf-8\")\n",
    "    #encoding it to required base64\n",
    "    auth_base64 = str(base64.b64encode(auth_bytes),\"utf-8\")\n",
    "\n",
    "    ## Run the Actual Request with Post, setting up required header fields\n",
    "    url = \"https://accounts.spotify.com/api/token\"\n",
    "    headers = {\n",
    "        \"Authorization\": \"Basic \" + auth_base64,\n",
    "        \"Content-Type\": \"application/x-www-form-urlencoded\"\n",
    "    }\n",
    "\n",
    "    data = {\"grant_type\": \"client_credentials\"}\n",
    "\n",
    "    ## actually make the request to Spotify\n",
    "    result = requests.post(url, headers = headers, data = data)\n",
    "    json_result = result.json()\n",
    "    token = json_result[\"access_token\"]\n",
    "    return token"
   ]
  },
  {
   "cell_type": "code",
   "execution_count": 32,
   "metadata": {},
   "outputs": [],
   "source": [
    "def get_auth_header(token):\n",
    "    '''Creates Authorization header with the access token for requests to official Spotify API'''\n",
    "    header = {\n",
    "        \"Authorization\": \"Bearer \" + token\n",
    "        }\n",
    "    return header"
   ]
  },
  {
   "cell_type": "code",
   "execution_count": 33,
   "metadata": {},
   "outputs": [],
   "source": [
    "#get Token\n",
    "token = get_token(CLIENT_ID,CLIENT_SECRET)"
   ]
  },
  {
   "cell_type": "code",
   "execution_count": 34,
   "metadata": {},
   "outputs": [
    {
     "data": {
      "text/plain": [
       "'BQDu2PGQ5Vc7_iJnYxjDe0IwIiECsLG1BFQM4r_DrZoDdupG85KYESdd-EIQ9rlt-oja-Dc9UhwizEPrjQbwwCAf_nThmDUWRatWA4u91Oe9lkrhLYOQ'"
      ]
     },
     "execution_count": 34,
     "metadata": {},
     "output_type": "execute_result"
    }
   ],
   "source": [
    "token"
   ]
  },
  {
   "attachments": {},
   "cell_type": "markdown",
   "metadata": {},
   "source": [
    "***"
   ]
  },
  {
   "attachments": {},
   "cell_type": "markdown",
   "metadata": {},
   "source": [
    "## Read in static data"
   ]
  },
  {
   "cell_type": "code",
   "execution_count": 35,
   "metadata": {},
   "outputs": [],
   "source": [
    "#read in the csv with all artist_id\n",
    "artist_info = pd.read_csv(\"/Users/jaspertsai/Documents/GitHub/Spotify-PlayCounts/data/artists.csv\")\n",
    "## get all artist_name\n",
    "artist_names = artist_info['artist_name']"
   ]
  },
  {
   "cell_type": "code",
   "execution_count": 36,
   "metadata": {},
   "outputs": [],
   "source": [
    "#read in the csv with all album_id\n",
    "album_info = pd.read_csv(\"/Users/jaspertsai/Documents/GitHub/Spotify-PlayCounts/data/albums.csv\")\n",
    "## get all album_id\n",
    "album_ids = album_info['album_id']"
   ]
  },
  {
   "cell_type": "code",
   "execution_count": 37,
   "metadata": {},
   "outputs": [],
   "source": [
    "#read in the csv with all album_id\n",
    "track_info = pd.read_csv(\"/Users/jaspertsai/Documents/GitHub/Spotify-PlayCounts/data/tracks.csv\")\n",
    "## get all album_id\n",
    "track_ids = track_info['track_id']"
   ]
  },
  {
   "cell_type": "markdown",
   "metadata": {},
   "source": [
    "## More efficient way to get albums' popularity score in bulk"
   ]
  },
  {
   "cell_type": "code",
   "execution_count": 38,
   "metadata": {},
   "outputs": [],
   "source": [
    "def get_pop_by_album_limit_20(token, subset_20_ids):\n",
    "    '''Read in an array of up to 20 IDs and get the album_ids and popularity score back as two arrays'''\n",
    "    url = \"https://api.spotify.com/v1/albums\"\n",
    "\n",
    "    #comma separated string to use in api\n",
    "    album_ids = ','.join(subset_20_ids)\n",
    "\n",
    "    headers = get_auth_header(token)\n",
    "    querystring = {\n",
    "                \"ids\": album_ids\n",
    "                }\n",
    "\n",
    "    result = requests.request(\"GET\",url, headers= headers, params=querystring)\n",
    "    \n",
    "    json_result = result.json()\n",
    "    #get the albums object \n",
    "    albums = json_result['albums']\n",
    "\n",
    "    album_pop_score = np.arange(len(albums))\n",
    "    for i in range(len(albums)):\n",
    "        album_pop_score[i] = albums[i]['popularity']\n",
    "        \n",
    "        \n",
    "\n",
    "    return subset_20_ids,album_pop_score\n",
    "\n"
   ]
  },
  {
   "attachments": {},
   "cell_type": "markdown",
   "metadata": {},
   "source": [
    "test what `get_pop_album_limit_20()` return"
   ]
  },
  {
   "cell_type": "code",
   "execution_count": 39,
   "metadata": {},
   "outputs": [
    {
     "data": {
      "text/plain": [
       "(['74vajFwEwXJ61OW1DKSPEa', '3euz4vS7ezKGnNSwgyvKcd'], array([71, 83]))"
      ]
     },
     "execution_count": 39,
     "metadata": {},
     "output_type": "execute_result"
    }
   ],
   "source": [
    "test_list = ['74vajFwEwXJ61OW1DKSPEa','3euz4vS7ezKGnNSwgyvKcd']\n",
    "get_pop_by_album_limit_20(token,test_list)"
   ]
  },
  {
   "attachments": {},
   "cell_type": "markdown",
   "metadata": {},
   "source": [
    "### Testing out the function for all album_id"
   ]
  },
  {
   "cell_type": "code",
   "execution_count": 40,
   "metadata": {},
   "outputs": [
    {
     "data": {
      "text/plain": [
       "array([  0,  20,  40,  60,  80, 100, 120, 140, 160, 180, 200, 220, 240,\n",
       "       260, 280, 300, 320, 340, 360, 380, 400, 420, 440, 460, 480, 500,\n",
       "       520, 540, 560, 580, 600, 620, 640, 660, 680, 700, 720, 740, 760,\n",
       "       780, 800, 820, 840, 860, 880, 881])"
      ]
     },
     "execution_count": 40,
     "metadata": {},
     "output_type": "execute_result"
    }
   ],
   "source": [
    "#gets the array of indices by 20 and if not multiplier go all way to last element.\n",
    "## NEED this because API only allows search 20 albums at once\n",
    "album_by_20_ind = np.arange(0,len(album_ids),20)\n",
    "album_by_20_ind = np.concatenate((album_by_20_ind, [len(album_ids)]))\n",
    "album_by_20_ind"
   ]
  },
  {
   "cell_type": "code",
   "execution_count": 41,
   "metadata": {},
   "outputs": [
    {
     "data": {
      "text/html": [
       "<div>\n",
       "<style scoped>\n",
       "    .dataframe tbody tr th:only-of-type {\n",
       "        vertical-align: middle;\n",
       "    }\n",
       "\n",
       "    .dataframe tbody tr th {\n",
       "        vertical-align: top;\n",
       "    }\n",
       "\n",
       "    .dataframe thead th {\n",
       "        text-align: right;\n",
       "    }\n",
       "</style>\n",
       "<table border=\"1\" class=\"dataframe\">\n",
       "  <thead>\n",
       "    <tr style=\"text-align: right;\">\n",
       "      <th></th>\n",
       "      <th>album_id</th>\n",
       "      <th>album_popularity</th>\n",
       "    </tr>\n",
       "  </thead>\n",
       "  <tbody>\n",
       "    <tr>\n",
       "      <th>0</th>\n",
       "      <td>74vajFwEwXJ61OW1DKSPEa</td>\n",
       "      <td>71</td>\n",
       "    </tr>\n",
       "    <tr>\n",
       "      <th>1</th>\n",
       "      <td>3euz4vS7ezKGnNSwgyvKcd</td>\n",
       "      <td>83</td>\n",
       "    </tr>\n",
       "    <tr>\n",
       "      <th>2</th>\n",
       "      <td>5UACk85y1hNRSUtY0ss8pb</td>\n",
       "      <td>62</td>\n",
       "    </tr>\n",
       "    <tr>\n",
       "      <th>3</th>\n",
       "      <td>2fYhqwDWXjbpjaIJPEfKFw</td>\n",
       "      <td>85</td>\n",
       "    </tr>\n",
       "    <tr>\n",
       "      <th>4</th>\n",
       "      <td>3tx8gQqWbGwqIGZHqDNrGe</td>\n",
       "      <td>81</td>\n",
       "    </tr>\n",
       "    <tr>\n",
       "      <th>...</th>\n",
       "      <td>...</td>\n",
       "      <td>...</td>\n",
       "    </tr>\n",
       "    <tr>\n",
       "      <th>876</th>\n",
       "      <td>11e4xCXllbvk8pWc1cCas1</td>\n",
       "      <td>45</td>\n",
       "    </tr>\n",
       "    <tr>\n",
       "      <th>877</th>\n",
       "      <td>7CoqvPGCLHm7LbgH2Pz9aY</td>\n",
       "      <td>27</td>\n",
       "    </tr>\n",
       "    <tr>\n",
       "      <th>878</th>\n",
       "      <td>4T5606j6qpkQrWlwbKPLOp</td>\n",
       "      <td>35</td>\n",
       "    </tr>\n",
       "    <tr>\n",
       "      <th>879</th>\n",
       "      <td>7cfhaRiLqBzuAzc6Q24nyW</td>\n",
       "      <td>44</td>\n",
       "    </tr>\n",
       "    <tr>\n",
       "      <th>880</th>\n",
       "      <td>7vzYp7FrKnTRoktBYsx9SF</td>\n",
       "      <td>51</td>\n",
       "    </tr>\n",
       "  </tbody>\n",
       "</table>\n",
       "<p>881 rows × 2 columns</p>\n",
       "</div>"
      ],
      "text/plain": [
       "                   album_id  album_popularity\n",
       "0    74vajFwEwXJ61OW1DKSPEa                71\n",
       "1    3euz4vS7ezKGnNSwgyvKcd                83\n",
       "2    5UACk85y1hNRSUtY0ss8pb                62\n",
       "3    2fYhqwDWXjbpjaIJPEfKFw                85\n",
       "4    3tx8gQqWbGwqIGZHqDNrGe                81\n",
       "..                      ...               ...\n",
       "876  11e4xCXllbvk8pWc1cCas1                45\n",
       "877  7CoqvPGCLHm7LbgH2Pz9aY                27\n",
       "878  4T5606j6qpkQrWlwbKPLOp                35\n",
       "879  7cfhaRiLqBzuAzc6Q24nyW                44\n",
       "880  7vzYp7FrKnTRoktBYsx9SF                51\n",
       "\n",
       "[881 rows x 2 columns]"
      ]
     },
     "execution_count": 41,
     "metadata": {},
     "output_type": "execute_result"
    }
   ],
   "source": [
    "album_ids_ls = []\n",
    "album_pop_ls = []\n",
    "\n",
    "for i in range(len(album_by_20_ind)-1):\n",
    "    lower = album_by_20_ind[i]\n",
    "    upper = album_by_20_ind[i+1]\n",
    "    #subset to allow function to search 20 albums at once\n",
    "    subset_id = album_ids[lower:upper]\n",
    "    temp_id,temp_pop = get_pop_by_album_limit_20(token,subset_id)\n",
    "    #adds onto the list instead of append which adds list within list\n",
    "    album_ids_ls.extend(temp_id)\n",
    "    album_pop_ls.extend(temp_pop)\n",
    "\n",
    "data = pd.DataFrame({'album_id':album_ids_ls, 'album_popularity':album_pop_ls})\n",
    "data"
   ]
  },
  {
   "attachments": {},
   "cell_type": "markdown",
   "metadata": {},
   "source": [
    "## More efficient way to get tracks' popularity score in bulk"
   ]
  },
  {
   "cell_type": "code",
   "execution_count": 42,
   "metadata": {},
   "outputs": [],
   "source": [
    "def get_pop_by_tracks_limit_50(token, subset_50_ids):\n",
    "    '''Read in an array of up to 50 IDs and get the track_ids and popularity score back as two arrays'''\n",
    "    url = \"https://api.spotify.com/v1/tracks\"\n",
    "\n",
    "    #comma separated string to use in api\n",
    "    track_ids = ','.join(subset_50_ids)\n",
    "\n",
    "    headers = get_auth_header(token)\n",
    "    querystring = {\n",
    "                \"ids\": track_ids\n",
    "                }\n",
    "\n",
    "    result = requests.request(\"GET\",url, headers= headers, params=querystring)\n",
    "    \n",
    "    json_result = result.json()\n",
    "    #get the albums object \n",
    "    tracks = json_result['tracks']\n",
    "\n",
    "    track_pop_score = np.arange(len(tracks))\n",
    "    for i in range(len(tracks)):\n",
    "        track_pop_score[i] = tracks[i]['popularity']\n",
    "\n",
    "    return subset_50_ids,track_pop_score\n",
    "\n"
   ]
  },
  {
   "attachments": {},
   "cell_type": "markdown",
   "metadata": {},
   "source": [
    "test what `get_pop_by_tracks_limit_50()` return"
   ]
  },
  {
   "cell_type": "code",
   "execution_count": 43,
   "metadata": {},
   "outputs": [
    {
     "data": {
      "text/plain": [
       "(['12sliObzVzbLbAlDb8eChf', '1hG4V53eR16jg7jVTNLOiX'], array([50, 54]))"
      ]
     },
     "execution_count": 43,
     "metadata": {},
     "output_type": "execute_result"
    }
   ],
   "source": [
    "test_list = ['12sliObzVzbLbAlDb8eChf','1hG4V53eR16jg7jVTNLOiX']\n",
    "get_pop_by_tracks_limit_50(token,test_list)"
   ]
  },
  {
   "attachments": {},
   "cell_type": "markdown",
   "metadata": {},
   "source": [
    "### Testing out the function for all track_id"
   ]
  },
  {
   "cell_type": "code",
   "execution_count": 44,
   "metadata": {},
   "outputs": [
    {
     "data": {
      "text/plain": [
       "array([   0,   50,  100,  150,  200,  250,  300,  350,  400,  450,  500,\n",
       "        550,  600,  650,  700,  750,  800,  850,  900,  950, 1000, 1050,\n",
       "       1100, 1150, 1200, 1250, 1300, 1350, 1400, 1450, 1500, 1550, 1600,\n",
       "       1650, 1700, 1750, 1800, 1850, 1900, 1950, 2000, 2050, 2100, 2150,\n",
       "       2200, 2250, 2300, 2350, 2400, 2450, 2500, 2550, 2600, 2650, 2700,\n",
       "       2750, 2800, 2850, 2900, 2950, 3000, 3050, 3100, 3150, 3200, 3250,\n",
       "       3300, 3350, 3400, 3450, 3500, 3550, 3600, 3650, 3700, 3750, 3755])"
      ]
     },
     "execution_count": 44,
     "metadata": {},
     "output_type": "execute_result"
    }
   ],
   "source": [
    "#gets the array of indices by 50 and if not multiplier go all way to last element.\n",
    "## NEED this because API only allows search 50 tracks at once\n",
    "track_by_50_ind = np.arange(0,len(track_ids),50)\n",
    "track_by_50_ind = np.concatenate((track_by_50_ind, [len(track_ids)]))\n",
    "track_by_50_ind"
   ]
  },
  {
   "cell_type": "code",
   "execution_count": 45,
   "metadata": {},
   "outputs": [
    {
     "data": {
      "text/html": [
       "<div>\n",
       "<style scoped>\n",
       "    .dataframe tbody tr th:only-of-type {\n",
       "        vertical-align: middle;\n",
       "    }\n",
       "\n",
       "    .dataframe tbody tr th {\n",
       "        vertical-align: top;\n",
       "    }\n",
       "\n",
       "    .dataframe thead th {\n",
       "        text-align: right;\n",
       "    }\n",
       "</style>\n",
       "<table border=\"1\" class=\"dataframe\">\n",
       "  <thead>\n",
       "    <tr style=\"text-align: right;\">\n",
       "      <th></th>\n",
       "      <th>track_id</th>\n",
       "      <th>track_popularity</th>\n",
       "    </tr>\n",
       "  </thead>\n",
       "  <tbody>\n",
       "    <tr>\n",
       "      <th>0</th>\n",
       "      <td>12sliObzVzbLbAlDb8eChf</td>\n",
       "      <td>50</td>\n",
       "    </tr>\n",
       "    <tr>\n",
       "      <th>1</th>\n",
       "      <td>1hG4V53eR16jg7jVTNLOiX</td>\n",
       "      <td>54</td>\n",
       "    </tr>\n",
       "    <tr>\n",
       "      <th>2</th>\n",
       "      <td>5VipERQ1ofCowecoFg2MVU</td>\n",
       "      <td>54</td>\n",
       "    </tr>\n",
       "    <tr>\n",
       "      <th>3</th>\n",
       "      <td>1N9hFgcgWYbGINUKjhvcK6</td>\n",
       "      <td>52</td>\n",
       "    </tr>\n",
       "    <tr>\n",
       "      <th>4</th>\n",
       "      <td>1qKdid2S9fZdSrzLaCcjcF</td>\n",
       "      <td>53</td>\n",
       "    </tr>\n",
       "    <tr>\n",
       "      <th>...</th>\n",
       "      <td>...</td>\n",
       "      <td>...</td>\n",
       "    </tr>\n",
       "    <tr>\n",
       "      <th>3750</th>\n",
       "      <td>1g09DZjQ7yBommCT6POY2n</td>\n",
       "      <td>41</td>\n",
       "    </tr>\n",
       "    <tr>\n",
       "      <th>3751</th>\n",
       "      <td>71IScwIe7bcIlpnlkbKVQw</td>\n",
       "      <td>43</td>\n",
       "    </tr>\n",
       "    <tr>\n",
       "      <th>3752</th>\n",
       "      <td>1cJkUN5LAotktryx2nPCr7</td>\n",
       "      <td>39</td>\n",
       "    </tr>\n",
       "    <tr>\n",
       "      <th>3753</th>\n",
       "      <td>31JVjy3XWnh6C2zf4kLCXN</td>\n",
       "      <td>40</td>\n",
       "    </tr>\n",
       "    <tr>\n",
       "      <th>3754</th>\n",
       "      <td>7GZ3KDorsc1yWndEtzGTjf</td>\n",
       "      <td>40</td>\n",
       "    </tr>\n",
       "  </tbody>\n",
       "</table>\n",
       "<p>3755 rows × 2 columns</p>\n",
       "</div>"
      ],
      "text/plain": [
       "                    track_id  track_popularity\n",
       "0     12sliObzVzbLbAlDb8eChf                50\n",
       "1     1hG4V53eR16jg7jVTNLOiX                54\n",
       "2     5VipERQ1ofCowecoFg2MVU                54\n",
       "3     1N9hFgcgWYbGINUKjhvcK6                52\n",
       "4     1qKdid2S9fZdSrzLaCcjcF                53\n",
       "...                      ...               ...\n",
       "3750  1g09DZjQ7yBommCT6POY2n                41\n",
       "3751  71IScwIe7bcIlpnlkbKVQw                43\n",
       "3752  1cJkUN5LAotktryx2nPCr7                39\n",
       "3753  31JVjy3XWnh6C2zf4kLCXN                40\n",
       "3754  7GZ3KDorsc1yWndEtzGTjf                40\n",
       "\n",
       "[3755 rows x 2 columns]"
      ]
     },
     "execution_count": 45,
     "metadata": {},
     "output_type": "execute_result"
    }
   ],
   "source": [
    "track_ids_ls = []\n",
    "track_pop_ls = []\n",
    "\n",
    "for i in range(len(track_by_50_ind)-1):\n",
    "    lower = track_by_50_ind[i]\n",
    "    upper = track_by_50_ind[i+1]\n",
    "    #subset to allow function to search 50 tracks at once\n",
    "    subset_id = track_ids[lower:upper]\n",
    "    temp_id,temp_pop = get_pop_by_tracks_limit_50(token,subset_id)\n",
    "    #adds onto the list instead of append which adds list within list\n",
    "    track_ids_ls.extend(temp_id)\n",
    "    track_pop_ls.extend(temp_pop)\n",
    "\n",
    "data = pd.DataFrame({'track_id':track_ids_ls, 'track_popularity':track_pop_ls})\n",
    "data"
   ]
  },
  {
   "cell_type": "code",
   "execution_count": null,
   "metadata": {},
   "outputs": [],
   "source": []
  }
 ],
 "metadata": {
  "kernelspec": {
   "display_name": "Python 3",
   "language": "python",
   "name": "python3"
  },
  "language_info": {
   "codemirror_mode": {
    "name": "ipython",
    "version": 3
   },
   "file_extension": ".py",
   "mimetype": "text/x-python",
   "name": "python",
   "nbconvert_exporter": "python",
   "pygments_lexer": "ipython3",
   "version": "3.9.15"
  },
  "orig_nbformat": 4,
  "vscode": {
   "interpreter": {
    "hash": "397704579725e15f5c7cb49fe5f0341eb7531c82d19f2c29d197e8b64ab5776b"
   }
  }
 },
 "nbformat": 4,
 "nbformat_minor": 2
}
