{
 "cells": [
  {
   "cell_type": "code",
   "execution_count": 1,
   "metadata": {},
   "outputs": [],
   "source": [
    "import sqlite3 as sql\n",
    "import pandas as pd\n",
    "import plotly.express as px"
   ]
  },
  {
   "cell_type": "code",
   "execution_count": 2,
   "metadata": {},
   "outputs": [],
   "source": [
    "db = sql.connect(\"/Users/jaspertsai/Documents/GitHub/Spotify-PlayCounts/data/Spotify.db\")\n"
   ]
  },
  {
   "attachments": {},
   "cell_type": "markdown",
   "metadata": {},
   "source": [
    "## Test sql query"
   ]
  },
  {
   "attachments": {},
   "cell_type": "markdown",
   "metadata": {},
   "source": [
    "#### Tracks_Playcount"
   ]
  },
  {
   "cell_type": "code",
   "execution_count": 3,
   "metadata": {},
   "outputs": [],
   "source": [
    "track_play_df = pd.read_sql(\n",
    "        f'''\n",
    "        SELECT track_id,track_playcount,date_tracked\n",
    "        FROM Tracks_Playcount\n",
    "        '''\n",
    "    ,db)"
   ]
  },
  {
   "cell_type": "code",
   "execution_count": 4,
   "metadata": {},
   "outputs": [
    {
     "data": {
      "text/html": [
       "<div>\n",
       "<style scoped>\n",
       "    .dataframe tbody tr th:only-of-type {\n",
       "        vertical-align: middle;\n",
       "    }\n",
       "\n",
       "    .dataframe tbody tr th {\n",
       "        vertical-align: top;\n",
       "    }\n",
       "\n",
       "    .dataframe thead th {\n",
       "        text-align: right;\n",
       "    }\n",
       "</style>\n",
       "<table border=\"1\" class=\"dataframe\">\n",
       "  <thead>\n",
       "    <tr style=\"text-align: right;\">\n",
       "      <th></th>\n",
       "      <th>track_id</th>\n",
       "      <th>track_playcount</th>\n",
       "      <th>date_tracked</th>\n",
       "    </tr>\n",
       "  </thead>\n",
       "  <tbody>\n",
       "    <tr>\n",
       "      <th>1324</th>\n",
       "      <td>5FvxRvrQ8qzKjBJ6ST9aiu</td>\n",
       "      <td>13378937</td>\n",
       "      <td>2023-03-04</td>\n",
       "    </tr>\n",
       "    <tr>\n",
       "      <th>1325</th>\n",
       "      <td>1DlczmjByrS4qxRVfGjpqN</td>\n",
       "      <td>25973528</td>\n",
       "      <td>2023-03-04</td>\n",
       "    </tr>\n",
       "    <tr>\n",
       "      <th>1326</th>\n",
       "      <td>6nhc3daOpKaZBRj2ZFWfc7</td>\n",
       "      <td>22909653</td>\n",
       "      <td>2023-03-04</td>\n",
       "    </tr>\n",
       "    <tr>\n",
       "      <th>1327</th>\n",
       "      <td>6Lgbf4b6c9fwz24eFEWONX</td>\n",
       "      <td>9471671</td>\n",
       "      <td>2023-03-04</td>\n",
       "    </tr>\n",
       "    <tr>\n",
       "      <th>1328</th>\n",
       "      <td>7btzRuXC6Ed3rIyomBRkO2</td>\n",
       "      <td>920719525</td>\n",
       "      <td>2023-03-04</td>\n",
       "    </tr>\n",
       "    <tr>\n",
       "      <th>1329</th>\n",
       "      <td>6BeOJPXMstvXolxKbL09kR</td>\n",
       "      <td>30978568</td>\n",
       "      <td>2023-03-04</td>\n",
       "    </tr>\n",
       "    <tr>\n",
       "      <th>3683</th>\n",
       "      <td>6C0H8ts9M6deezz0yYR6LK</td>\n",
       "      <td>6655791</td>\n",
       "      <td>2023-03-04</td>\n",
       "    </tr>\n",
       "    <tr>\n",
       "      <th>5079</th>\n",
       "      <td>5FvxRvrQ8qzKjBJ6ST9aiu</td>\n",
       "      <td>13392717</td>\n",
       "      <td>2023-03-05</td>\n",
       "    </tr>\n",
       "    <tr>\n",
       "      <th>5080</th>\n",
       "      <td>1DlczmjByrS4qxRVfGjpqN</td>\n",
       "      <td>26004920</td>\n",
       "      <td>2023-03-05</td>\n",
       "    </tr>\n",
       "    <tr>\n",
       "      <th>5081</th>\n",
       "      <td>6nhc3daOpKaZBRj2ZFWfc7</td>\n",
       "      <td>22927583</td>\n",
       "      <td>2023-03-05</td>\n",
       "    </tr>\n",
       "    <tr>\n",
       "      <th>5082</th>\n",
       "      <td>6Lgbf4b6c9fwz24eFEWONX</td>\n",
       "      <td>9475543</td>\n",
       "      <td>2023-03-05</td>\n",
       "    </tr>\n",
       "    <tr>\n",
       "      <th>5083</th>\n",
       "      <td>7btzRuXC6Ed3rIyomBRkO2</td>\n",
       "      <td>921842430</td>\n",
       "      <td>2023-03-05</td>\n",
       "    </tr>\n",
       "    <tr>\n",
       "      <th>5084</th>\n",
       "      <td>6BeOJPXMstvXolxKbL09kR</td>\n",
       "      <td>31000941</td>\n",
       "      <td>2023-03-05</td>\n",
       "    </tr>\n",
       "    <tr>\n",
       "      <th>7438</th>\n",
       "      <td>6C0H8ts9M6deezz0yYR6LK</td>\n",
       "      <td>6692236</td>\n",
       "      <td>2023-03-05</td>\n",
       "    </tr>\n",
       "    <tr>\n",
       "      <th>8834</th>\n",
       "      <td>5FvxRvrQ8qzKjBJ6ST9aiu</td>\n",
       "      <td>13404440</td>\n",
       "      <td>2023-03-06</td>\n",
       "    </tr>\n",
       "    <tr>\n",
       "      <th>8835</th>\n",
       "      <td>1DlczmjByrS4qxRVfGjpqN</td>\n",
       "      <td>26031618</td>\n",
       "      <td>2023-03-06</td>\n",
       "    </tr>\n",
       "    <tr>\n",
       "      <th>8836</th>\n",
       "      <td>6nhc3daOpKaZBRj2ZFWfc7</td>\n",
       "      <td>22943763</td>\n",
       "      <td>2023-03-06</td>\n",
       "    </tr>\n",
       "    <tr>\n",
       "      <th>8837</th>\n",
       "      <td>6Lgbf4b6c9fwz24eFEWONX</td>\n",
       "      <td>9479017</td>\n",
       "      <td>2023-03-06</td>\n",
       "    </tr>\n",
       "    <tr>\n",
       "      <th>8838</th>\n",
       "      <td>7btzRuXC6Ed3rIyomBRkO2</td>\n",
       "      <td>922860626</td>\n",
       "      <td>2023-03-06</td>\n",
       "    </tr>\n",
       "    <tr>\n",
       "      <th>8839</th>\n",
       "      <td>6BeOJPXMstvXolxKbL09kR</td>\n",
       "      <td>31022346</td>\n",
       "      <td>2023-03-06</td>\n",
       "    </tr>\n",
       "    <tr>\n",
       "      <th>11193</th>\n",
       "      <td>6C0H8ts9M6deezz0yYR6LK</td>\n",
       "      <td>6724343</td>\n",
       "      <td>2023-03-06</td>\n",
       "    </tr>\n",
       "    <tr>\n",
       "      <th>12589</th>\n",
       "      <td>5FvxRvrQ8qzKjBJ6ST9aiu</td>\n",
       "      <td>13417828</td>\n",
       "      <td>2023-03-07</td>\n",
       "    </tr>\n",
       "    <tr>\n",
       "      <th>12591</th>\n",
       "      <td>6nhc3daOpKaZBRj2ZFWfc7</td>\n",
       "      <td>22943763</td>\n",
       "      <td>2023-03-07</td>\n",
       "    </tr>\n",
       "    <tr>\n",
       "      <th>12592</th>\n",
       "      <td>6Lgbf4b6c9fwz24eFEWONX</td>\n",
       "      <td>9483046</td>\n",
       "      <td>2023-03-07</td>\n",
       "    </tr>\n",
       "    <tr>\n",
       "      <th>12593</th>\n",
       "      <td>7btzRuXC6Ed3rIyomBRkO2</td>\n",
       "      <td>923945094</td>\n",
       "      <td>2023-03-07</td>\n",
       "    </tr>\n",
       "    <tr>\n",
       "      <th>12594</th>\n",
       "      <td>6BeOJPXMstvXolxKbL09kR</td>\n",
       "      <td>31046147</td>\n",
       "      <td>2023-03-07</td>\n",
       "    </tr>\n",
       "    <tr>\n",
       "      <th>16344</th>\n",
       "      <td>5FvxRvrQ8qzKjBJ6ST9aiu</td>\n",
       "      <td>13431107</td>\n",
       "      <td>2023-03-08</td>\n",
       "    </tr>\n",
       "    <tr>\n",
       "      <th>16345</th>\n",
       "      <td>1DlczmjByrS4qxRVfGjpqN</td>\n",
       "      <td>26100633</td>\n",
       "      <td>2023-03-08</td>\n",
       "    </tr>\n",
       "    <tr>\n",
       "      <th>16346</th>\n",
       "      <td>6nhc3daOpKaZBRj2ZFWfc7</td>\n",
       "      <td>22979967</td>\n",
       "      <td>2023-03-08</td>\n",
       "    </tr>\n",
       "    <tr>\n",
       "      <th>16347</th>\n",
       "      <td>6Lgbf4b6c9fwz24eFEWONX</td>\n",
       "      <td>9487059</td>\n",
       "      <td>2023-03-08</td>\n",
       "    </tr>\n",
       "    <tr>\n",
       "      <th>16348</th>\n",
       "      <td>7btzRuXC6Ed3rIyomBRkO2</td>\n",
       "      <td>925042847</td>\n",
       "      <td>2023-03-08</td>\n",
       "    </tr>\n",
       "    <tr>\n",
       "      <th>16349</th>\n",
       "      <td>6BeOJPXMstvXolxKbL09kR</td>\n",
       "      <td>31071709</td>\n",
       "      <td>2023-03-08</td>\n",
       "    </tr>\n",
       "    <tr>\n",
       "      <th>20099</th>\n",
       "      <td>5FvxRvrQ8qzKjBJ6ST9aiu</td>\n",
       "      <td>13444720</td>\n",
       "      <td>2023-03-09</td>\n",
       "    </tr>\n",
       "    <tr>\n",
       "      <th>20100</th>\n",
       "      <td>1DlczmjByrS4qxRVfGjpqN</td>\n",
       "      <td>26131981</td>\n",
       "      <td>2023-03-09</td>\n",
       "    </tr>\n",
       "    <tr>\n",
       "      <th>20101</th>\n",
       "      <td>6nhc3daOpKaZBRj2ZFWfc7</td>\n",
       "      <td>22999129</td>\n",
       "      <td>2023-03-09</td>\n",
       "    </tr>\n",
       "    <tr>\n",
       "      <th>20102</th>\n",
       "      <td>6Lgbf4b6c9fwz24eFEWONX</td>\n",
       "      <td>9490992</td>\n",
       "      <td>2023-03-09</td>\n",
       "    </tr>\n",
       "    <tr>\n",
       "      <th>20103</th>\n",
       "      <td>7btzRuXC6Ed3rIyomBRkO2</td>\n",
       "      <td>926114368</td>\n",
       "      <td>2023-03-09</td>\n",
       "    </tr>\n",
       "    <tr>\n",
       "      <th>20104</th>\n",
       "      <td>6BeOJPXMstvXolxKbL09kR</td>\n",
       "      <td>31174983</td>\n",
       "      <td>2023-03-09</td>\n",
       "    </tr>\n",
       "    <tr>\n",
       "      <th>22458</th>\n",
       "      <td>6C0H8ts9M6deezz0yYR6LK</td>\n",
       "      <td>6832593</td>\n",
       "      <td>2023-03-09</td>\n",
       "    </tr>\n",
       "    <tr>\n",
       "      <th>23854</th>\n",
       "      <td>5FvxRvrQ8qzKjBJ6ST9aiu</td>\n",
       "      <td>13457377</td>\n",
       "      <td>2023-03-10</td>\n",
       "    </tr>\n",
       "    <tr>\n",
       "      <th>23855</th>\n",
       "      <td>1DlczmjByrS4qxRVfGjpqN</td>\n",
       "      <td>26155941</td>\n",
       "      <td>2023-03-10</td>\n",
       "    </tr>\n",
       "    <tr>\n",
       "      <th>23856</th>\n",
       "      <td>6nhc3daOpKaZBRj2ZFWfc7</td>\n",
       "      <td>23018663</td>\n",
       "      <td>2023-03-10</td>\n",
       "    </tr>\n",
       "    <tr>\n",
       "      <th>23857</th>\n",
       "      <td>6Lgbf4b6c9fwz24eFEWONX</td>\n",
       "      <td>9494983</td>\n",
       "      <td>2023-03-10</td>\n",
       "    </tr>\n",
       "    <tr>\n",
       "      <th>23858</th>\n",
       "      <td>7btzRuXC6Ed3rIyomBRkO2</td>\n",
       "      <td>927207803</td>\n",
       "      <td>2023-03-10</td>\n",
       "    </tr>\n",
       "    <tr>\n",
       "      <th>23859</th>\n",
       "      <td>6BeOJPXMstvXolxKbL09kR</td>\n",
       "      <td>31217264</td>\n",
       "      <td>2023-03-10</td>\n",
       "    </tr>\n",
       "    <tr>\n",
       "      <th>26213</th>\n",
       "      <td>6C0H8ts9M6deezz0yYR6LK</td>\n",
       "      <td>6867834</td>\n",
       "      <td>2023-03-10</td>\n",
       "    </tr>\n",
       "    <tr>\n",
       "      <th>27609</th>\n",
       "      <td>5FvxRvrQ8qzKjBJ6ST9aiu</td>\n",
       "      <td>13470070</td>\n",
       "      <td>2023-03-11</td>\n",
       "    </tr>\n",
       "    <tr>\n",
       "      <th>27610</th>\n",
       "      <td>1DlczmjByrS4qxRVfGjpqN</td>\n",
       "      <td>26179863</td>\n",
       "      <td>2023-03-11</td>\n",
       "    </tr>\n",
       "    <tr>\n",
       "      <th>27611</th>\n",
       "      <td>6nhc3daOpKaZBRj2ZFWfc7</td>\n",
       "      <td>23038361</td>\n",
       "      <td>2023-03-11</td>\n",
       "    </tr>\n",
       "    <tr>\n",
       "      <th>27612</th>\n",
       "      <td>6Lgbf4b6c9fwz24eFEWONX</td>\n",
       "      <td>9498883</td>\n",
       "      <td>2023-03-11</td>\n",
       "    </tr>\n",
       "    <tr>\n",
       "      <th>27613</th>\n",
       "      <td>7btzRuXC6Ed3rIyomBRkO2</td>\n",
       "      <td>928359337</td>\n",
       "      <td>2023-03-11</td>\n",
       "    </tr>\n",
       "    <tr>\n",
       "      <th>27614</th>\n",
       "      <td>6BeOJPXMstvXolxKbL09kR</td>\n",
       "      <td>31246505</td>\n",
       "      <td>2023-03-11</td>\n",
       "    </tr>\n",
       "    <tr>\n",
       "      <th>29968</th>\n",
       "      <td>6C0H8ts9M6deezz0yYR6LK</td>\n",
       "      <td>6901747</td>\n",
       "      <td>2023-03-11</td>\n",
       "    </tr>\n",
       "  </tbody>\n",
       "</table>\n",
       "</div>"
      ],
      "text/plain": [
       "                     track_id  track_playcount date_tracked\n",
       "1324   5FvxRvrQ8qzKjBJ6ST9aiu         13378937   2023-03-04\n",
       "1325   1DlczmjByrS4qxRVfGjpqN         25973528   2023-03-04\n",
       "1326   6nhc3daOpKaZBRj2ZFWfc7         22909653   2023-03-04\n",
       "1327   6Lgbf4b6c9fwz24eFEWONX          9471671   2023-03-04\n",
       "1328   7btzRuXC6Ed3rIyomBRkO2        920719525   2023-03-04\n",
       "1329   6BeOJPXMstvXolxKbL09kR         30978568   2023-03-04\n",
       "3683   6C0H8ts9M6deezz0yYR6LK          6655791   2023-03-04\n",
       "5079   5FvxRvrQ8qzKjBJ6ST9aiu         13392717   2023-03-05\n",
       "5080   1DlczmjByrS4qxRVfGjpqN         26004920   2023-03-05\n",
       "5081   6nhc3daOpKaZBRj2ZFWfc7         22927583   2023-03-05\n",
       "5082   6Lgbf4b6c9fwz24eFEWONX          9475543   2023-03-05\n",
       "5083   7btzRuXC6Ed3rIyomBRkO2        921842430   2023-03-05\n",
       "5084   6BeOJPXMstvXolxKbL09kR         31000941   2023-03-05\n",
       "7438   6C0H8ts9M6deezz0yYR6LK          6692236   2023-03-05\n",
       "8834   5FvxRvrQ8qzKjBJ6ST9aiu         13404440   2023-03-06\n",
       "8835   1DlczmjByrS4qxRVfGjpqN         26031618   2023-03-06\n",
       "8836   6nhc3daOpKaZBRj2ZFWfc7         22943763   2023-03-06\n",
       "8837   6Lgbf4b6c9fwz24eFEWONX          9479017   2023-03-06\n",
       "8838   7btzRuXC6Ed3rIyomBRkO2        922860626   2023-03-06\n",
       "8839   6BeOJPXMstvXolxKbL09kR         31022346   2023-03-06\n",
       "11193  6C0H8ts9M6deezz0yYR6LK          6724343   2023-03-06\n",
       "12589  5FvxRvrQ8qzKjBJ6ST9aiu         13417828   2023-03-07\n",
       "12591  6nhc3daOpKaZBRj2ZFWfc7         22943763   2023-03-07\n",
       "12592  6Lgbf4b6c9fwz24eFEWONX          9483046   2023-03-07\n",
       "12593  7btzRuXC6Ed3rIyomBRkO2        923945094   2023-03-07\n",
       "12594  6BeOJPXMstvXolxKbL09kR         31046147   2023-03-07\n",
       "16344  5FvxRvrQ8qzKjBJ6ST9aiu         13431107   2023-03-08\n",
       "16345  1DlczmjByrS4qxRVfGjpqN         26100633   2023-03-08\n",
       "16346  6nhc3daOpKaZBRj2ZFWfc7         22979967   2023-03-08\n",
       "16347  6Lgbf4b6c9fwz24eFEWONX          9487059   2023-03-08\n",
       "16348  7btzRuXC6Ed3rIyomBRkO2        925042847   2023-03-08\n",
       "16349  6BeOJPXMstvXolxKbL09kR         31071709   2023-03-08\n",
       "20099  5FvxRvrQ8qzKjBJ6ST9aiu         13444720   2023-03-09\n",
       "20100  1DlczmjByrS4qxRVfGjpqN         26131981   2023-03-09\n",
       "20101  6nhc3daOpKaZBRj2ZFWfc7         22999129   2023-03-09\n",
       "20102  6Lgbf4b6c9fwz24eFEWONX          9490992   2023-03-09\n",
       "20103  7btzRuXC6Ed3rIyomBRkO2        926114368   2023-03-09\n",
       "20104  6BeOJPXMstvXolxKbL09kR         31174983   2023-03-09\n",
       "22458  6C0H8ts9M6deezz0yYR6LK          6832593   2023-03-09\n",
       "23854  5FvxRvrQ8qzKjBJ6ST9aiu         13457377   2023-03-10\n",
       "23855  1DlczmjByrS4qxRVfGjpqN         26155941   2023-03-10\n",
       "23856  6nhc3daOpKaZBRj2ZFWfc7         23018663   2023-03-10\n",
       "23857  6Lgbf4b6c9fwz24eFEWONX          9494983   2023-03-10\n",
       "23858  7btzRuXC6Ed3rIyomBRkO2        927207803   2023-03-10\n",
       "23859  6BeOJPXMstvXolxKbL09kR         31217264   2023-03-10\n",
       "26213  6C0H8ts9M6deezz0yYR6LK          6867834   2023-03-10\n",
       "27609  5FvxRvrQ8qzKjBJ6ST9aiu         13470070   2023-03-11\n",
       "27610  1DlczmjByrS4qxRVfGjpqN         26179863   2023-03-11\n",
       "27611  6nhc3daOpKaZBRj2ZFWfc7         23038361   2023-03-11\n",
       "27612  6Lgbf4b6c9fwz24eFEWONX          9498883   2023-03-11\n",
       "27613  7btzRuXC6Ed3rIyomBRkO2        928359337   2023-03-11\n",
       "27614  6BeOJPXMstvXolxKbL09kR         31246505   2023-03-11\n",
       "29968  6C0H8ts9M6deezz0yYR6LK          6901747   2023-03-11"
      ]
     },
     "execution_count": 4,
     "metadata": {},
     "output_type": "execute_result"
    }
   ],
   "source": [
    "#see the duplicated ids\n",
    "track_play_df.loc[track_play_df.duplicated(),:]"
   ]
  },
  {
   "cell_type": "code",
   "execution_count": 5,
   "metadata": {},
   "outputs": [
    {
     "data": {
      "text/html": [
       "<div>\n",
       "<style scoped>\n",
       "    .dataframe tbody tr th:only-of-type {\n",
       "        vertical-align: middle;\n",
       "    }\n",
       "\n",
       "    .dataframe tbody tr th {\n",
       "        vertical-align: top;\n",
       "    }\n",
       "\n",
       "    .dataframe thead th {\n",
       "        text-align: right;\n",
       "    }\n",
       "</style>\n",
       "<table border=\"1\" class=\"dataframe\">\n",
       "  <thead>\n",
       "    <tr style=\"text-align: right;\">\n",
       "      <th></th>\n",
       "      <th>track_id</th>\n",
       "      <th>track_playcount</th>\n",
       "      <th>date_tracked</th>\n",
       "    </tr>\n",
       "  </thead>\n",
       "  <tbody>\n",
       "    <tr>\n",
       "      <th>0</th>\n",
       "      <td>12sliObzVzbLbAlDb8eChf</td>\n",
       "      <td>91887648</td>\n",
       "      <td>2023-03-04</td>\n",
       "    </tr>\n",
       "    <tr>\n",
       "      <th>1</th>\n",
       "      <td>1hG4V53eR16jg7jVTNLOiX</td>\n",
       "      <td>813653167</td>\n",
       "      <td>2023-03-04</td>\n",
       "    </tr>\n",
       "    <tr>\n",
       "      <th>2</th>\n",
       "      <td>5VipERQ1ofCowecoFg2MVU</td>\n",
       "      <td>380497375</td>\n",
       "      <td>2023-03-04</td>\n",
       "    </tr>\n",
       "    <tr>\n",
       "      <th>3</th>\n",
       "      <td>1N9hFgcgWYbGINUKjhvcK6</td>\n",
       "      <td>157315542</td>\n",
       "      <td>2023-03-04</td>\n",
       "    </tr>\n",
       "    <tr>\n",
       "      <th>4</th>\n",
       "      <td>1qKdid2S9fZdSrzLaCcjcF</td>\n",
       "      <td>125490517</td>\n",
       "      <td>2023-03-04</td>\n",
       "    </tr>\n",
       "    <tr>\n",
       "      <th>...</th>\n",
       "      <td>...</td>\n",
       "      <td>...</td>\n",
       "      <td>...</td>\n",
       "    </tr>\n",
       "    <tr>\n",
       "      <th>30035</th>\n",
       "      <td>1g09DZjQ7yBommCT6POY2n</td>\n",
       "      <td>4440379</td>\n",
       "      <td>2023-03-11</td>\n",
       "    </tr>\n",
       "    <tr>\n",
       "      <th>30036</th>\n",
       "      <td>71IScwIe7bcIlpnlkbKVQw</td>\n",
       "      <td>7009333</td>\n",
       "      <td>2023-03-11</td>\n",
       "    </tr>\n",
       "    <tr>\n",
       "      <th>30037</th>\n",
       "      <td>1cJkUN5LAotktryx2nPCr7</td>\n",
       "      <td>3385864</td>\n",
       "      <td>2023-03-11</td>\n",
       "    </tr>\n",
       "    <tr>\n",
       "      <th>30038</th>\n",
       "      <td>31JVjy3XWnh6C2zf4kLCXN</td>\n",
       "      <td>4263512</td>\n",
       "      <td>2023-03-11</td>\n",
       "    </tr>\n",
       "    <tr>\n",
       "      <th>30039</th>\n",
       "      <td>7GZ3KDorsc1yWndEtzGTjf</td>\n",
       "      <td>3862782</td>\n",
       "      <td>2023-03-11</td>\n",
       "    </tr>\n",
       "  </tbody>\n",
       "</table>\n",
       "<p>29987 rows × 3 columns</p>\n",
       "</div>"
      ],
      "text/plain": [
       "                     track_id  track_playcount date_tracked\n",
       "0      12sliObzVzbLbAlDb8eChf         91887648   2023-03-04\n",
       "1      1hG4V53eR16jg7jVTNLOiX        813653167   2023-03-04\n",
       "2      5VipERQ1ofCowecoFg2MVU        380497375   2023-03-04\n",
       "3      1N9hFgcgWYbGINUKjhvcK6        157315542   2023-03-04\n",
       "4      1qKdid2S9fZdSrzLaCcjcF        125490517   2023-03-04\n",
       "...                       ...              ...          ...\n",
       "30035  1g09DZjQ7yBommCT6POY2n          4440379   2023-03-11\n",
       "30036  71IScwIe7bcIlpnlkbKVQw          7009333   2023-03-11\n",
       "30037  1cJkUN5LAotktryx2nPCr7          3385864   2023-03-11\n",
       "30038  31JVjy3XWnh6C2zf4kLCXN          4263512   2023-03-11\n",
       "30039  7GZ3KDorsc1yWndEtzGTjf          3862782   2023-03-11\n",
       "\n",
       "[29987 rows x 3 columns]"
      ]
     },
     "execution_count": 5,
     "metadata": {},
     "output_type": "execute_result"
    }
   ],
   "source": [
    "df1 = track_play_df.drop_duplicates()\n",
    "df1"
   ]
  },
  {
   "attachments": {},
   "cell_type": "markdown",
   "metadata": {},
   "source": [
    "#### Tracks_Popularity"
   ]
  },
  {
   "cell_type": "code",
   "execution_count": 6,
   "metadata": {},
   "outputs": [],
   "source": [
    "track_pop_df = pd.read_sql(\n",
    "        f'''\n",
    "        SELECT track_id,track_popularity,date_tracked\n",
    "        FROM Tracks_Popularity\n",
    "        '''\n",
    "    ,db)"
   ]
  },
  {
   "cell_type": "code",
   "execution_count": 7,
   "metadata": {},
   "outputs": [
    {
     "data": {
      "text/html": [
       "<div>\n",
       "<style scoped>\n",
       "    .dataframe tbody tr th:only-of-type {\n",
       "        vertical-align: middle;\n",
       "    }\n",
       "\n",
       "    .dataframe tbody tr th {\n",
       "        vertical-align: top;\n",
       "    }\n",
       "\n",
       "    .dataframe thead th {\n",
       "        text-align: right;\n",
       "    }\n",
       "</style>\n",
       "<table border=\"1\" class=\"dataframe\">\n",
       "  <thead>\n",
       "    <tr style=\"text-align: right;\">\n",
       "      <th></th>\n",
       "      <th>track_id</th>\n",
       "      <th>track_popularity</th>\n",
       "      <th>date_tracked</th>\n",
       "    </tr>\n",
       "  </thead>\n",
       "  <tbody>\n",
       "    <tr>\n",
       "      <th>1324</th>\n",
       "      <td>5FvxRvrQ8qzKjBJ6ST9aiu</td>\n",
       "      <td>52</td>\n",
       "      <td>2023-03-04</td>\n",
       "    </tr>\n",
       "    <tr>\n",
       "      <th>1325</th>\n",
       "      <td>1DlczmjByrS4qxRVfGjpqN</td>\n",
       "      <td>60</td>\n",
       "      <td>2023-03-04</td>\n",
       "    </tr>\n",
       "    <tr>\n",
       "      <th>1326</th>\n",
       "      <td>6nhc3daOpKaZBRj2ZFWfc7</td>\n",
       "      <td>55</td>\n",
       "      <td>2023-03-04</td>\n",
       "    </tr>\n",
       "    <tr>\n",
       "      <th>1327</th>\n",
       "      <td>6Lgbf4b6c9fwz24eFEWONX</td>\n",
       "      <td>44</td>\n",
       "      <td>2023-03-04</td>\n",
       "    </tr>\n",
       "    <tr>\n",
       "      <th>1328</th>\n",
       "      <td>7btzRuXC6Ed3rIyomBRkO2</td>\n",
       "      <td>63</td>\n",
       "      <td>2023-03-04</td>\n",
       "    </tr>\n",
       "    <tr>\n",
       "      <th>1329</th>\n",
       "      <td>6BeOJPXMstvXolxKbL09kR</td>\n",
       "      <td>57</td>\n",
       "      <td>2023-03-04</td>\n",
       "    </tr>\n",
       "    <tr>\n",
       "      <th>3683</th>\n",
       "      <td>6C0H8ts9M6deezz0yYR6LK</td>\n",
       "      <td>60</td>\n",
       "      <td>2023-03-04</td>\n",
       "    </tr>\n",
       "    <tr>\n",
       "      <th>5079</th>\n",
       "      <td>5FvxRvrQ8qzKjBJ6ST9aiu</td>\n",
       "      <td>52</td>\n",
       "      <td>2023-03-05</td>\n",
       "    </tr>\n",
       "    <tr>\n",
       "      <th>5080</th>\n",
       "      <td>1DlczmjByrS4qxRVfGjpqN</td>\n",
       "      <td>60</td>\n",
       "      <td>2023-03-05</td>\n",
       "    </tr>\n",
       "    <tr>\n",
       "      <th>5081</th>\n",
       "      <td>6nhc3daOpKaZBRj2ZFWfc7</td>\n",
       "      <td>56</td>\n",
       "      <td>2023-03-05</td>\n",
       "    </tr>\n",
       "    <tr>\n",
       "      <th>5082</th>\n",
       "      <td>6Lgbf4b6c9fwz24eFEWONX</td>\n",
       "      <td>44</td>\n",
       "      <td>2023-03-05</td>\n",
       "    </tr>\n",
       "    <tr>\n",
       "      <th>5083</th>\n",
       "      <td>7btzRuXC6Ed3rIyomBRkO2</td>\n",
       "      <td>63</td>\n",
       "      <td>2023-03-05</td>\n",
       "    </tr>\n",
       "    <tr>\n",
       "      <th>5084</th>\n",
       "      <td>6BeOJPXMstvXolxKbL09kR</td>\n",
       "      <td>57</td>\n",
       "      <td>2023-03-05</td>\n",
       "    </tr>\n",
       "    <tr>\n",
       "      <th>7438</th>\n",
       "      <td>6C0H8ts9M6deezz0yYR6LK</td>\n",
       "      <td>60</td>\n",
       "      <td>2023-03-05</td>\n",
       "    </tr>\n",
       "    <tr>\n",
       "      <th>8834</th>\n",
       "      <td>5FvxRvrQ8qzKjBJ6ST9aiu</td>\n",
       "      <td>52</td>\n",
       "      <td>2023-03-06</td>\n",
       "    </tr>\n",
       "    <tr>\n",
       "      <th>8835</th>\n",
       "      <td>1DlczmjByrS4qxRVfGjpqN</td>\n",
       "      <td>60</td>\n",
       "      <td>2023-03-06</td>\n",
       "    </tr>\n",
       "    <tr>\n",
       "      <th>8836</th>\n",
       "      <td>6nhc3daOpKaZBRj2ZFWfc7</td>\n",
       "      <td>55</td>\n",
       "      <td>2023-03-06</td>\n",
       "    </tr>\n",
       "    <tr>\n",
       "      <th>8837</th>\n",
       "      <td>6Lgbf4b6c9fwz24eFEWONX</td>\n",
       "      <td>44</td>\n",
       "      <td>2023-03-06</td>\n",
       "    </tr>\n",
       "    <tr>\n",
       "      <th>8838</th>\n",
       "      <td>7btzRuXC6Ed3rIyomBRkO2</td>\n",
       "      <td>63</td>\n",
       "      <td>2023-03-06</td>\n",
       "    </tr>\n",
       "    <tr>\n",
       "      <th>8839</th>\n",
       "      <td>6BeOJPXMstvXolxKbL09kR</td>\n",
       "      <td>57</td>\n",
       "      <td>2023-03-06</td>\n",
       "    </tr>\n",
       "    <tr>\n",
       "      <th>11193</th>\n",
       "      <td>6C0H8ts9M6deezz0yYR6LK</td>\n",
       "      <td>60</td>\n",
       "      <td>2023-03-06</td>\n",
       "    </tr>\n",
       "    <tr>\n",
       "      <th>12589</th>\n",
       "      <td>5FvxRvrQ8qzKjBJ6ST9aiu</td>\n",
       "      <td>52</td>\n",
       "      <td>2023-03-07</td>\n",
       "    </tr>\n",
       "    <tr>\n",
       "      <th>12590</th>\n",
       "      <td>1DlczmjByrS4qxRVfGjpqN</td>\n",
       "      <td>60</td>\n",
       "      <td>2023-03-07</td>\n",
       "    </tr>\n",
       "    <tr>\n",
       "      <th>12591</th>\n",
       "      <td>6nhc3daOpKaZBRj2ZFWfc7</td>\n",
       "      <td>56</td>\n",
       "      <td>2023-03-07</td>\n",
       "    </tr>\n",
       "    <tr>\n",
       "      <th>12592</th>\n",
       "      <td>6Lgbf4b6c9fwz24eFEWONX</td>\n",
       "      <td>44</td>\n",
       "      <td>2023-03-07</td>\n",
       "    </tr>\n",
       "    <tr>\n",
       "      <th>12593</th>\n",
       "      <td>7btzRuXC6Ed3rIyomBRkO2</td>\n",
       "      <td>63</td>\n",
       "      <td>2023-03-07</td>\n",
       "    </tr>\n",
       "    <tr>\n",
       "      <th>12594</th>\n",
       "      <td>6BeOJPXMstvXolxKbL09kR</td>\n",
       "      <td>57</td>\n",
       "      <td>2023-03-07</td>\n",
       "    </tr>\n",
       "    <tr>\n",
       "      <th>14948</th>\n",
       "      <td>6C0H8ts9M6deezz0yYR6LK</td>\n",
       "      <td>60</td>\n",
       "      <td>2023-03-07</td>\n",
       "    </tr>\n",
       "    <tr>\n",
       "      <th>16344</th>\n",
       "      <td>5FvxRvrQ8qzKjBJ6ST9aiu</td>\n",
       "      <td>52</td>\n",
       "      <td>2023-03-08</td>\n",
       "    </tr>\n",
       "    <tr>\n",
       "      <th>16345</th>\n",
       "      <td>1DlczmjByrS4qxRVfGjpqN</td>\n",
       "      <td>60</td>\n",
       "      <td>2023-03-08</td>\n",
       "    </tr>\n",
       "    <tr>\n",
       "      <th>16346</th>\n",
       "      <td>6nhc3daOpKaZBRj2ZFWfc7</td>\n",
       "      <td>56</td>\n",
       "      <td>2023-03-08</td>\n",
       "    </tr>\n",
       "    <tr>\n",
       "      <th>16347</th>\n",
       "      <td>6Lgbf4b6c9fwz24eFEWONX</td>\n",
       "      <td>44</td>\n",
       "      <td>2023-03-08</td>\n",
       "    </tr>\n",
       "    <tr>\n",
       "      <th>16348</th>\n",
       "      <td>7btzRuXC6Ed3rIyomBRkO2</td>\n",
       "      <td>63</td>\n",
       "      <td>2023-03-08</td>\n",
       "    </tr>\n",
       "    <tr>\n",
       "      <th>16349</th>\n",
       "      <td>6BeOJPXMstvXolxKbL09kR</td>\n",
       "      <td>57</td>\n",
       "      <td>2023-03-08</td>\n",
       "    </tr>\n",
       "    <tr>\n",
       "      <th>18703</th>\n",
       "      <td>6C0H8ts9M6deezz0yYR6LK</td>\n",
       "      <td>60</td>\n",
       "      <td>2023-03-08</td>\n",
       "    </tr>\n",
       "    <tr>\n",
       "      <th>20099</th>\n",
       "      <td>5FvxRvrQ8qzKjBJ6ST9aiu</td>\n",
       "      <td>52</td>\n",
       "      <td>2023-03-09</td>\n",
       "    </tr>\n",
       "    <tr>\n",
       "      <th>20100</th>\n",
       "      <td>1DlczmjByrS4qxRVfGjpqN</td>\n",
       "      <td>60</td>\n",
       "      <td>2023-03-09</td>\n",
       "    </tr>\n",
       "    <tr>\n",
       "      <th>20101</th>\n",
       "      <td>6nhc3daOpKaZBRj2ZFWfc7</td>\n",
       "      <td>56</td>\n",
       "      <td>2023-03-09</td>\n",
       "    </tr>\n",
       "    <tr>\n",
       "      <th>20102</th>\n",
       "      <td>6Lgbf4b6c9fwz24eFEWONX</td>\n",
       "      <td>44</td>\n",
       "      <td>2023-03-09</td>\n",
       "    </tr>\n",
       "    <tr>\n",
       "      <th>20103</th>\n",
       "      <td>7btzRuXC6Ed3rIyomBRkO2</td>\n",
       "      <td>63</td>\n",
       "      <td>2023-03-09</td>\n",
       "    </tr>\n",
       "    <tr>\n",
       "      <th>20104</th>\n",
       "      <td>6BeOJPXMstvXolxKbL09kR</td>\n",
       "      <td>57</td>\n",
       "      <td>2023-03-09</td>\n",
       "    </tr>\n",
       "    <tr>\n",
       "      <th>22458</th>\n",
       "      <td>6C0H8ts9M6deezz0yYR6LK</td>\n",
       "      <td>61</td>\n",
       "      <td>2023-03-09</td>\n",
       "    </tr>\n",
       "    <tr>\n",
       "      <th>23854</th>\n",
       "      <td>5FvxRvrQ8qzKjBJ6ST9aiu</td>\n",
       "      <td>52</td>\n",
       "      <td>2023-03-10</td>\n",
       "    </tr>\n",
       "    <tr>\n",
       "      <th>23855</th>\n",
       "      <td>1DlczmjByrS4qxRVfGjpqN</td>\n",
       "      <td>60</td>\n",
       "      <td>2023-03-10</td>\n",
       "    </tr>\n",
       "    <tr>\n",
       "      <th>23856</th>\n",
       "      <td>6nhc3daOpKaZBRj2ZFWfc7</td>\n",
       "      <td>56</td>\n",
       "      <td>2023-03-10</td>\n",
       "    </tr>\n",
       "    <tr>\n",
       "      <th>23857</th>\n",
       "      <td>6Lgbf4b6c9fwz24eFEWONX</td>\n",
       "      <td>44</td>\n",
       "      <td>2023-03-10</td>\n",
       "    </tr>\n",
       "    <tr>\n",
       "      <th>23858</th>\n",
       "      <td>7btzRuXC6Ed3rIyomBRkO2</td>\n",
       "      <td>63</td>\n",
       "      <td>2023-03-10</td>\n",
       "    </tr>\n",
       "    <tr>\n",
       "      <th>23859</th>\n",
       "      <td>6BeOJPXMstvXolxKbL09kR</td>\n",
       "      <td>58</td>\n",
       "      <td>2023-03-10</td>\n",
       "    </tr>\n",
       "    <tr>\n",
       "      <th>26213</th>\n",
       "      <td>6C0H8ts9M6deezz0yYR6LK</td>\n",
       "      <td>61</td>\n",
       "      <td>2023-03-10</td>\n",
       "    </tr>\n",
       "    <tr>\n",
       "      <th>27609</th>\n",
       "      <td>5FvxRvrQ8qzKjBJ6ST9aiu</td>\n",
       "      <td>52</td>\n",
       "      <td>2023-03-11</td>\n",
       "    </tr>\n",
       "    <tr>\n",
       "      <th>27610</th>\n",
       "      <td>1DlczmjByrS4qxRVfGjpqN</td>\n",
       "      <td>60</td>\n",
       "      <td>2023-03-11</td>\n",
       "    </tr>\n",
       "    <tr>\n",
       "      <th>27611</th>\n",
       "      <td>6nhc3daOpKaZBRj2ZFWfc7</td>\n",
       "      <td>56</td>\n",
       "      <td>2023-03-11</td>\n",
       "    </tr>\n",
       "    <tr>\n",
       "      <th>27612</th>\n",
       "      <td>6Lgbf4b6c9fwz24eFEWONX</td>\n",
       "      <td>44</td>\n",
       "      <td>2023-03-11</td>\n",
       "    </tr>\n",
       "    <tr>\n",
       "      <th>27613</th>\n",
       "      <td>7btzRuXC6Ed3rIyomBRkO2</td>\n",
       "      <td>63</td>\n",
       "      <td>2023-03-11</td>\n",
       "    </tr>\n",
       "    <tr>\n",
       "      <th>27614</th>\n",
       "      <td>6BeOJPXMstvXolxKbL09kR</td>\n",
       "      <td>59</td>\n",
       "      <td>2023-03-11</td>\n",
       "    </tr>\n",
       "    <tr>\n",
       "      <th>29968</th>\n",
       "      <td>6C0H8ts9M6deezz0yYR6LK</td>\n",
       "      <td>61</td>\n",
       "      <td>2023-03-11</td>\n",
       "    </tr>\n",
       "  </tbody>\n",
       "</table>\n",
       "</div>"
      ],
      "text/plain": [
       "                     track_id  track_popularity date_tracked\n",
       "1324   5FvxRvrQ8qzKjBJ6ST9aiu                52   2023-03-04\n",
       "1325   1DlczmjByrS4qxRVfGjpqN                60   2023-03-04\n",
       "1326   6nhc3daOpKaZBRj2ZFWfc7                55   2023-03-04\n",
       "1327   6Lgbf4b6c9fwz24eFEWONX                44   2023-03-04\n",
       "1328   7btzRuXC6Ed3rIyomBRkO2                63   2023-03-04\n",
       "1329   6BeOJPXMstvXolxKbL09kR                57   2023-03-04\n",
       "3683   6C0H8ts9M6deezz0yYR6LK                60   2023-03-04\n",
       "5079   5FvxRvrQ8qzKjBJ6ST9aiu                52   2023-03-05\n",
       "5080   1DlczmjByrS4qxRVfGjpqN                60   2023-03-05\n",
       "5081   6nhc3daOpKaZBRj2ZFWfc7                56   2023-03-05\n",
       "5082   6Lgbf4b6c9fwz24eFEWONX                44   2023-03-05\n",
       "5083   7btzRuXC6Ed3rIyomBRkO2                63   2023-03-05\n",
       "5084   6BeOJPXMstvXolxKbL09kR                57   2023-03-05\n",
       "7438   6C0H8ts9M6deezz0yYR6LK                60   2023-03-05\n",
       "8834   5FvxRvrQ8qzKjBJ6ST9aiu                52   2023-03-06\n",
       "8835   1DlczmjByrS4qxRVfGjpqN                60   2023-03-06\n",
       "8836   6nhc3daOpKaZBRj2ZFWfc7                55   2023-03-06\n",
       "8837   6Lgbf4b6c9fwz24eFEWONX                44   2023-03-06\n",
       "8838   7btzRuXC6Ed3rIyomBRkO2                63   2023-03-06\n",
       "8839   6BeOJPXMstvXolxKbL09kR                57   2023-03-06\n",
       "11193  6C0H8ts9M6deezz0yYR6LK                60   2023-03-06\n",
       "12589  5FvxRvrQ8qzKjBJ6ST9aiu                52   2023-03-07\n",
       "12590  1DlczmjByrS4qxRVfGjpqN                60   2023-03-07\n",
       "12591  6nhc3daOpKaZBRj2ZFWfc7                56   2023-03-07\n",
       "12592  6Lgbf4b6c9fwz24eFEWONX                44   2023-03-07\n",
       "12593  7btzRuXC6Ed3rIyomBRkO2                63   2023-03-07\n",
       "12594  6BeOJPXMstvXolxKbL09kR                57   2023-03-07\n",
       "14948  6C0H8ts9M6deezz0yYR6LK                60   2023-03-07\n",
       "16344  5FvxRvrQ8qzKjBJ6ST9aiu                52   2023-03-08\n",
       "16345  1DlczmjByrS4qxRVfGjpqN                60   2023-03-08\n",
       "16346  6nhc3daOpKaZBRj2ZFWfc7                56   2023-03-08\n",
       "16347  6Lgbf4b6c9fwz24eFEWONX                44   2023-03-08\n",
       "16348  7btzRuXC6Ed3rIyomBRkO2                63   2023-03-08\n",
       "16349  6BeOJPXMstvXolxKbL09kR                57   2023-03-08\n",
       "18703  6C0H8ts9M6deezz0yYR6LK                60   2023-03-08\n",
       "20099  5FvxRvrQ8qzKjBJ6ST9aiu                52   2023-03-09\n",
       "20100  1DlczmjByrS4qxRVfGjpqN                60   2023-03-09\n",
       "20101  6nhc3daOpKaZBRj2ZFWfc7                56   2023-03-09\n",
       "20102  6Lgbf4b6c9fwz24eFEWONX                44   2023-03-09\n",
       "20103  7btzRuXC6Ed3rIyomBRkO2                63   2023-03-09\n",
       "20104  6BeOJPXMstvXolxKbL09kR                57   2023-03-09\n",
       "22458  6C0H8ts9M6deezz0yYR6LK                61   2023-03-09\n",
       "23854  5FvxRvrQ8qzKjBJ6ST9aiu                52   2023-03-10\n",
       "23855  1DlczmjByrS4qxRVfGjpqN                60   2023-03-10\n",
       "23856  6nhc3daOpKaZBRj2ZFWfc7                56   2023-03-10\n",
       "23857  6Lgbf4b6c9fwz24eFEWONX                44   2023-03-10\n",
       "23858  7btzRuXC6Ed3rIyomBRkO2                63   2023-03-10\n",
       "23859  6BeOJPXMstvXolxKbL09kR                58   2023-03-10\n",
       "26213  6C0H8ts9M6deezz0yYR6LK                61   2023-03-10\n",
       "27609  5FvxRvrQ8qzKjBJ6ST9aiu                52   2023-03-11\n",
       "27610  1DlczmjByrS4qxRVfGjpqN                60   2023-03-11\n",
       "27611  6nhc3daOpKaZBRj2ZFWfc7                56   2023-03-11\n",
       "27612  6Lgbf4b6c9fwz24eFEWONX                44   2023-03-11\n",
       "27613  7btzRuXC6Ed3rIyomBRkO2                63   2023-03-11\n",
       "27614  6BeOJPXMstvXolxKbL09kR                59   2023-03-11\n",
       "29968  6C0H8ts9M6deezz0yYR6LK                61   2023-03-11"
      ]
     },
     "execution_count": 7,
     "metadata": {},
     "output_type": "execute_result"
    }
   ],
   "source": [
    "#see the duplicated ids\n",
    "track_pop_df.loc[track_pop_df.duplicated(),:]"
   ]
  },
  {
   "cell_type": "code",
   "execution_count": 8,
   "metadata": {},
   "outputs": [
    {
     "data": {
      "text/html": [
       "<div>\n",
       "<style scoped>\n",
       "    .dataframe tbody tr th:only-of-type {\n",
       "        vertical-align: middle;\n",
       "    }\n",
       "\n",
       "    .dataframe tbody tr th {\n",
       "        vertical-align: top;\n",
       "    }\n",
       "\n",
       "    .dataframe thead th {\n",
       "        text-align: right;\n",
       "    }\n",
       "</style>\n",
       "<table border=\"1\" class=\"dataframe\">\n",
       "  <thead>\n",
       "    <tr style=\"text-align: right;\">\n",
       "      <th></th>\n",
       "      <th>track_id</th>\n",
       "      <th>track_popularity</th>\n",
       "      <th>date_tracked</th>\n",
       "    </tr>\n",
       "  </thead>\n",
       "  <tbody>\n",
       "    <tr>\n",
       "      <th>0</th>\n",
       "      <td>12sliObzVzbLbAlDb8eChf</td>\n",
       "      <td>50</td>\n",
       "      <td>2023-03-04</td>\n",
       "    </tr>\n",
       "    <tr>\n",
       "      <th>1</th>\n",
       "      <td>1hG4V53eR16jg7jVTNLOiX</td>\n",
       "      <td>54</td>\n",
       "      <td>2023-03-04</td>\n",
       "    </tr>\n",
       "    <tr>\n",
       "      <th>2</th>\n",
       "      <td>5VipERQ1ofCowecoFg2MVU</td>\n",
       "      <td>54</td>\n",
       "      <td>2023-03-04</td>\n",
       "    </tr>\n",
       "    <tr>\n",
       "      <th>3</th>\n",
       "      <td>1N9hFgcgWYbGINUKjhvcK6</td>\n",
       "      <td>52</td>\n",
       "      <td>2023-03-04</td>\n",
       "    </tr>\n",
       "    <tr>\n",
       "      <th>4</th>\n",
       "      <td>1qKdid2S9fZdSrzLaCcjcF</td>\n",
       "      <td>53</td>\n",
       "      <td>2023-03-04</td>\n",
       "    </tr>\n",
       "    <tr>\n",
       "      <th>...</th>\n",
       "      <td>...</td>\n",
       "      <td>...</td>\n",
       "      <td>...</td>\n",
       "    </tr>\n",
       "    <tr>\n",
       "      <th>30035</th>\n",
       "      <td>1g09DZjQ7yBommCT6POY2n</td>\n",
       "      <td>40</td>\n",
       "      <td>2023-03-11</td>\n",
       "    </tr>\n",
       "    <tr>\n",
       "      <th>30036</th>\n",
       "      <td>71IScwIe7bcIlpnlkbKVQw</td>\n",
       "      <td>42</td>\n",
       "      <td>2023-03-11</td>\n",
       "    </tr>\n",
       "    <tr>\n",
       "      <th>30037</th>\n",
       "      <td>1cJkUN5LAotktryx2nPCr7</td>\n",
       "      <td>39</td>\n",
       "      <td>2023-03-11</td>\n",
       "    </tr>\n",
       "    <tr>\n",
       "      <th>30038</th>\n",
       "      <td>31JVjy3XWnh6C2zf4kLCXN</td>\n",
       "      <td>40</td>\n",
       "      <td>2023-03-11</td>\n",
       "    </tr>\n",
       "    <tr>\n",
       "      <th>30039</th>\n",
       "      <td>7GZ3KDorsc1yWndEtzGTjf</td>\n",
       "      <td>39</td>\n",
       "      <td>2023-03-11</td>\n",
       "    </tr>\n",
       "  </tbody>\n",
       "</table>\n",
       "<p>29984 rows × 3 columns</p>\n",
       "</div>"
      ],
      "text/plain": [
       "                     track_id  track_popularity date_tracked\n",
       "0      12sliObzVzbLbAlDb8eChf                50   2023-03-04\n",
       "1      1hG4V53eR16jg7jVTNLOiX                54   2023-03-04\n",
       "2      5VipERQ1ofCowecoFg2MVU                54   2023-03-04\n",
       "3      1N9hFgcgWYbGINUKjhvcK6                52   2023-03-04\n",
       "4      1qKdid2S9fZdSrzLaCcjcF                53   2023-03-04\n",
       "...                       ...               ...          ...\n",
       "30035  1g09DZjQ7yBommCT6POY2n                40   2023-03-11\n",
       "30036  71IScwIe7bcIlpnlkbKVQw                42   2023-03-11\n",
       "30037  1cJkUN5LAotktryx2nPCr7                39   2023-03-11\n",
       "30038  31JVjy3XWnh6C2zf4kLCXN                40   2023-03-11\n",
       "30039  7GZ3KDorsc1yWndEtzGTjf                39   2023-03-11\n",
       "\n",
       "[29984 rows x 3 columns]"
      ]
     },
     "execution_count": 8,
     "metadata": {},
     "output_type": "execute_result"
    }
   ],
   "source": [
    "df2 = track_pop_df.drop_duplicates()\n",
    "df2"
   ]
  },
  {
   "attachments": {},
   "cell_type": "markdown",
   "metadata": {},
   "source": [
    "Test the merge to see the new resulted track_id"
   ]
  },
  {
   "cell_type": "code",
   "execution_count": 9,
   "metadata": {},
   "outputs": [
    {
     "data": {
      "text/html": [
       "<div>\n",
       "<style scoped>\n",
       "    .dataframe tbody tr th:only-of-type {\n",
       "        vertical-align: middle;\n",
       "    }\n",
       "\n",
       "    .dataframe tbody tr th {\n",
       "        vertical-align: top;\n",
       "    }\n",
       "\n",
       "    .dataframe thead th {\n",
       "        text-align: right;\n",
       "    }\n",
       "</style>\n",
       "<table border=\"1\" class=\"dataframe\">\n",
       "  <thead>\n",
       "    <tr style=\"text-align: right;\">\n",
       "      <th></th>\n",
       "      <th>track_id</th>\n",
       "      <th>track_playcount</th>\n",
       "      <th>date_tracked</th>\n",
       "      <th>track_popularity</th>\n",
       "    </tr>\n",
       "  </thead>\n",
       "  <tbody>\n",
       "    <tr>\n",
       "      <th>0</th>\n",
       "      <td>12sliObzVzbLbAlDb8eChf</td>\n",
       "      <td>91887648</td>\n",
       "      <td>2023-03-04</td>\n",
       "      <td>50</td>\n",
       "    </tr>\n",
       "    <tr>\n",
       "      <th>1</th>\n",
       "      <td>1hG4V53eR16jg7jVTNLOiX</td>\n",
       "      <td>813653167</td>\n",
       "      <td>2023-03-04</td>\n",
       "      <td>54</td>\n",
       "    </tr>\n",
       "    <tr>\n",
       "      <th>2</th>\n",
       "      <td>5VipERQ1ofCowecoFg2MVU</td>\n",
       "      <td>380497375</td>\n",
       "      <td>2023-03-04</td>\n",
       "      <td>54</td>\n",
       "    </tr>\n",
       "    <tr>\n",
       "      <th>3</th>\n",
       "      <td>1N9hFgcgWYbGINUKjhvcK6</td>\n",
       "      <td>157315542</td>\n",
       "      <td>2023-03-04</td>\n",
       "      <td>52</td>\n",
       "    </tr>\n",
       "    <tr>\n",
       "      <th>4</th>\n",
       "      <td>1qKdid2S9fZdSrzLaCcjcF</td>\n",
       "      <td>125490517</td>\n",
       "      <td>2023-03-04</td>\n",
       "      <td>53</td>\n",
       "    </tr>\n",
       "    <tr>\n",
       "      <th>...</th>\n",
       "      <td>...</td>\n",
       "      <td>...</td>\n",
       "      <td>...</td>\n",
       "      <td>...</td>\n",
       "    </tr>\n",
       "    <tr>\n",
       "      <th>29982</th>\n",
       "      <td>1g09DZjQ7yBommCT6POY2n</td>\n",
       "      <td>4440379</td>\n",
       "      <td>2023-03-11</td>\n",
       "      <td>40</td>\n",
       "    </tr>\n",
       "    <tr>\n",
       "      <th>29983</th>\n",
       "      <td>71IScwIe7bcIlpnlkbKVQw</td>\n",
       "      <td>7009333</td>\n",
       "      <td>2023-03-11</td>\n",
       "      <td>42</td>\n",
       "    </tr>\n",
       "    <tr>\n",
       "      <th>29984</th>\n",
       "      <td>1cJkUN5LAotktryx2nPCr7</td>\n",
       "      <td>3385864</td>\n",
       "      <td>2023-03-11</td>\n",
       "      <td>39</td>\n",
       "    </tr>\n",
       "    <tr>\n",
       "      <th>29985</th>\n",
       "      <td>31JVjy3XWnh6C2zf4kLCXN</td>\n",
       "      <td>4263512</td>\n",
       "      <td>2023-03-11</td>\n",
       "      <td>40</td>\n",
       "    </tr>\n",
       "    <tr>\n",
       "      <th>29986</th>\n",
       "      <td>7GZ3KDorsc1yWndEtzGTjf</td>\n",
       "      <td>3862782</td>\n",
       "      <td>2023-03-11</td>\n",
       "      <td>39</td>\n",
       "    </tr>\n",
       "  </tbody>\n",
       "</table>\n",
       "<p>29987 rows × 4 columns</p>\n",
       "</div>"
      ],
      "text/plain": [
       "                     track_id  track_playcount date_tracked  track_popularity\n",
       "0      12sliObzVzbLbAlDb8eChf         91887648   2023-03-04                50\n",
       "1      1hG4V53eR16jg7jVTNLOiX        813653167   2023-03-04                54\n",
       "2      5VipERQ1ofCowecoFg2MVU        380497375   2023-03-04                54\n",
       "3      1N9hFgcgWYbGINUKjhvcK6        157315542   2023-03-04                52\n",
       "4      1qKdid2S9fZdSrzLaCcjcF        125490517   2023-03-04                53\n",
       "...                       ...              ...          ...               ...\n",
       "29982  1g09DZjQ7yBommCT6POY2n          4440379   2023-03-11                40\n",
       "29983  71IScwIe7bcIlpnlkbKVQw          7009333   2023-03-11                42\n",
       "29984  1cJkUN5LAotktryx2nPCr7          3385864   2023-03-11                39\n",
       "29985  31JVjy3XWnh6C2zf4kLCXN          4263512   2023-03-11                40\n",
       "29986  7GZ3KDorsc1yWndEtzGTjf          3862782   2023-03-11                39\n",
       "\n",
       "[29987 rows x 4 columns]"
      ]
     },
     "execution_count": 9,
     "metadata": {},
     "output_type": "execute_result"
    }
   ],
   "source": [
    "df1.merge(df2)"
   ]
  },
  {
   "attachments": {},
   "cell_type": "markdown",
   "metadata": {},
   "source": [
    "#### `SQL_get_artist_pop()`"
   ]
  },
  {
   "cell_type": "code",
   "execution_count": 10,
   "metadata": {},
   "outputs": [],
   "source": [
    "def SQL_get_artist_pop(artist_name):\n",
    "    df = pd.read_sql(\n",
    "    f'''\n",
    "    SELECT * \n",
    "    FROM Artists_Popularity\n",
    "    WHERE artist_name = '{artist_name}'\n",
    "    ''', db)\n",
    "    return df"
   ]
  },
  {
   "cell_type": "code",
   "execution_count": 11,
   "metadata": {},
   "outputs": [
    {
     "data": {
      "text/html": [
       "<div>\n",
       "<style scoped>\n",
       "    .dataframe tbody tr th:only-of-type {\n",
       "        vertical-align: middle;\n",
       "    }\n",
       "\n",
       "    .dataframe tbody tr th {\n",
       "        vertical-align: top;\n",
       "    }\n",
       "\n",
       "    .dataframe thead th {\n",
       "        text-align: right;\n",
       "    }\n",
       "</style>\n",
       "<table border=\"1\" class=\"dataframe\">\n",
       "  <thead>\n",
       "    <tr style=\"text-align: right;\">\n",
       "      <th></th>\n",
       "      <th>artist_name</th>\n",
       "      <th>artist_id</th>\n",
       "      <th>artist_followers</th>\n",
       "      <th>artist_popularity</th>\n",
       "      <th>date_tracked</th>\n",
       "    </tr>\n",
       "  </thead>\n",
       "  <tbody>\n",
       "    <tr>\n",
       "      <th>0</th>\n",
       "      <td>BTS</td>\n",
       "      <td>3Nrfpe0tUJi4K4DXYWgMUX</td>\n",
       "      <td>61927930</td>\n",
       "      <td>93</td>\n",
       "      <td>2023-03-04</td>\n",
       "    </tr>\n",
       "    <tr>\n",
       "      <th>1</th>\n",
       "      <td>BTS</td>\n",
       "      <td>3Nrfpe0tUJi4K4DXYWgMUX</td>\n",
       "      <td>61927930</td>\n",
       "      <td>93</td>\n",
       "      <td>2023-03-05</td>\n",
       "    </tr>\n",
       "    <tr>\n",
       "      <th>2</th>\n",
       "      <td>BTS</td>\n",
       "      <td>3Nrfpe0tUJi4K4DXYWgMUX</td>\n",
       "      <td>61972773</td>\n",
       "      <td>93</td>\n",
       "      <td>2023-03-06</td>\n",
       "    </tr>\n",
       "    <tr>\n",
       "      <th>3</th>\n",
       "      <td>BTS</td>\n",
       "      <td>3Nrfpe0tUJi4K4DXYWgMUX</td>\n",
       "      <td>62011343</td>\n",
       "      <td>93</td>\n",
       "      <td>2023-03-07</td>\n",
       "    </tr>\n",
       "    <tr>\n",
       "      <th>4</th>\n",
       "      <td>BTS</td>\n",
       "      <td>3Nrfpe0tUJi4K4DXYWgMUX</td>\n",
       "      <td>62048245</td>\n",
       "      <td>93</td>\n",
       "      <td>2023-03-08</td>\n",
       "    </tr>\n",
       "    <tr>\n",
       "      <th>5</th>\n",
       "      <td>BTS</td>\n",
       "      <td>3Nrfpe0tUJi4K4DXYWgMUX</td>\n",
       "      <td>62119901</td>\n",
       "      <td>93</td>\n",
       "      <td>2023-03-09</td>\n",
       "    </tr>\n",
       "    <tr>\n",
       "      <th>6</th>\n",
       "      <td>BTS</td>\n",
       "      <td>3Nrfpe0tUJi4K4DXYWgMUX</td>\n",
       "      <td>62157902</td>\n",
       "      <td>93</td>\n",
       "      <td>2023-03-10</td>\n",
       "    </tr>\n",
       "    <tr>\n",
       "      <th>7</th>\n",
       "      <td>BTS</td>\n",
       "      <td>3Nrfpe0tUJi4K4DXYWgMUX</td>\n",
       "      <td>62157902</td>\n",
       "      <td>93</td>\n",
       "      <td>2023-03-11</td>\n",
       "    </tr>\n",
       "  </tbody>\n",
       "</table>\n",
       "</div>"
      ],
      "text/plain": [
       "  artist_name               artist_id  artist_followers  artist_popularity  \\\n",
       "0         BTS  3Nrfpe0tUJi4K4DXYWgMUX          61927930                 93   \n",
       "1         BTS  3Nrfpe0tUJi4K4DXYWgMUX          61927930                 93   \n",
       "2         BTS  3Nrfpe0tUJi4K4DXYWgMUX          61972773                 93   \n",
       "3         BTS  3Nrfpe0tUJi4K4DXYWgMUX          62011343                 93   \n",
       "4         BTS  3Nrfpe0tUJi4K4DXYWgMUX          62048245                 93   \n",
       "5         BTS  3Nrfpe0tUJi4K4DXYWgMUX          62119901                 93   \n",
       "6         BTS  3Nrfpe0tUJi4K4DXYWgMUX          62157902                 93   \n",
       "7         BTS  3Nrfpe0tUJi4K4DXYWgMUX          62157902                 93   \n",
       "\n",
       "  date_tracked  \n",
       "0   2023-03-04  \n",
       "1   2023-03-05  \n",
       "2   2023-03-06  \n",
       "3   2023-03-07  \n",
       "4   2023-03-08  \n",
       "5   2023-03-09  \n",
       "6   2023-03-10  \n",
       "7   2023-03-11  "
      ]
     },
     "execution_count": 11,
     "metadata": {},
     "output_type": "execute_result"
    }
   ],
   "source": [
    "SQL_get_artist_pop(\"BTS\")"
   ]
  },
  {
   "attachments": {},
   "cell_type": "markdown",
   "metadata": {},
   "source": [
    "#### `SQL_get_albums_pop_artist()`"
   ]
  },
  {
   "cell_type": "code",
   "execution_count": 12,
   "metadata": {},
   "outputs": [],
   "source": [
    "def SQL_get_albums_pop_artist(artist_name):\n",
    "    df = pd.read_sql(\n",
    "            f'''\n",
    "            SELECT DISTINCT art.artist_name, alb.album_group, alb.album_name, alb.album_release_date, ap.album_popularity, ap.date_tracked\n",
    "            FROM albums_popularity AS ap\n",
    "            LEFT JOIN albums AS alb\n",
    "            ON ap.album_id = alb.album_id\n",
    "            LEFT JOIN artists AS art\n",
    "            ON art.artist_id = alb.artist_id\n",
    "\n",
    "            WHERE art.artist_name = '{artist_name}'\n",
    "            '''\n",
    "        , db)\n",
    "    return df"
   ]
  },
  {
   "attachments": {},
   "cell_type": "markdown",
   "metadata": {},
   "source": [
    "Test what `SQL_get_albums_pop_artist()` return"
   ]
  },
  {
   "cell_type": "code",
   "execution_count": 13,
   "metadata": {},
   "outputs": [
    {
     "data": {
      "text/html": [
       "<div>\n",
       "<style scoped>\n",
       "    .dataframe tbody tr th:only-of-type {\n",
       "        vertical-align: middle;\n",
       "    }\n",
       "\n",
       "    .dataframe tbody tr th {\n",
       "        vertical-align: top;\n",
       "    }\n",
       "\n",
       "    .dataframe thead th {\n",
       "        text-align: right;\n",
       "    }\n",
       "</style>\n",
       "<table border=\"1\" class=\"dataframe\">\n",
       "  <thead>\n",
       "    <tr style=\"text-align: right;\">\n",
       "      <th></th>\n",
       "      <th>artist_name</th>\n",
       "      <th>album_group</th>\n",
       "      <th>album_name</th>\n",
       "      <th>album_release_date</th>\n",
       "      <th>album_popularity</th>\n",
       "      <th>date_tracked</th>\n",
       "    </tr>\n",
       "  </thead>\n",
       "  <tbody>\n",
       "    <tr>\n",
       "      <th>0</th>\n",
       "      <td>BTS</td>\n",
       "      <td>album</td>\n",
       "      <td>Proof</td>\n",
       "      <td>2022-06-10</td>\n",
       "      <td>87</td>\n",
       "      <td>2023-03-04</td>\n",
       "    </tr>\n",
       "    <tr>\n",
       "      <th>1</th>\n",
       "      <td>BTS</td>\n",
       "      <td>album</td>\n",
       "      <td>BE</td>\n",
       "      <td>2020-11-20</td>\n",
       "      <td>45</td>\n",
       "      <td>2023-03-04</td>\n",
       "    </tr>\n",
       "    <tr>\n",
       "      <th>2</th>\n",
       "      <td>BTS</td>\n",
       "      <td>album</td>\n",
       "      <td>MAP OF THE SOUL : 7 ~ THE JOURNEY ~</td>\n",
       "      <td>2020-07-14</td>\n",
       "      <td>66</td>\n",
       "      <td>2023-03-04</td>\n",
       "    </tr>\n",
       "    <tr>\n",
       "      <th>3</th>\n",
       "      <td>BTS</td>\n",
       "      <td>album</td>\n",
       "      <td>MAP OF THE SOUL : 7</td>\n",
       "      <td>2020-02-21</td>\n",
       "      <td>51</td>\n",
       "      <td>2023-03-04</td>\n",
       "    </tr>\n",
       "    <tr>\n",
       "      <th>4</th>\n",
       "      <td>BTS</td>\n",
       "      <td>album</td>\n",
       "      <td>MAP OF THE SOUL : PERSONA</td>\n",
       "      <td>2019-04-12</td>\n",
       "      <td>78</td>\n",
       "      <td>2023-03-04</td>\n",
       "    </tr>\n",
       "    <tr>\n",
       "      <th>...</th>\n",
       "      <td>...</td>\n",
       "      <td>...</td>\n",
       "      <td>...</td>\n",
       "      <td>...</td>\n",
       "      <td>...</td>\n",
       "      <td>...</td>\n",
       "    </tr>\n",
       "    <tr>\n",
       "      <th>611</th>\n",
       "      <td>BTS</td>\n",
       "      <td>single</td>\n",
       "      <td>FOR YOU(通常盤)</td>\n",
       "      <td>2015-06-17</td>\n",
       "      <td>30</td>\n",
       "      <td>2023-03-11</td>\n",
       "    </tr>\n",
       "    <tr>\n",
       "      <th>612</th>\n",
       "      <td>BTS</td>\n",
       "      <td>single</td>\n",
       "      <td>Danger -Japanese Ver.- 通常盤</td>\n",
       "      <td>2014-11-19</td>\n",
       "      <td>25</td>\n",
       "      <td>2023-03-11</td>\n",
       "    </tr>\n",
       "    <tr>\n",
       "      <th>613</th>\n",
       "      <td>BTS</td>\n",
       "      <td>single</td>\n",
       "      <td>BOY IN LUV</td>\n",
       "      <td>2014-07-16</td>\n",
       "      <td>25</td>\n",
       "      <td>2023-03-11</td>\n",
       "    </tr>\n",
       "    <tr>\n",
       "      <th>614</th>\n",
       "      <td>BTS</td>\n",
       "      <td>single</td>\n",
       "      <td>No More Dream (Japanese Ver.)</td>\n",
       "      <td>2014-06-04</td>\n",
       "      <td>31</td>\n",
       "      <td>2023-03-11</td>\n",
       "    </tr>\n",
       "    <tr>\n",
       "      <th>615</th>\n",
       "      <td>BTS</td>\n",
       "      <td>single</td>\n",
       "      <td>NO MORE DREAM-Japanese Ver.- 通常盤</td>\n",
       "      <td>2014-06-04</td>\n",
       "      <td>16</td>\n",
       "      <td>2023-03-11</td>\n",
       "    </tr>\n",
       "  </tbody>\n",
       "</table>\n",
       "<p>616 rows × 6 columns</p>\n",
       "</div>"
      ],
      "text/plain": [
       "    artist_name album_group                           album_name  \\\n",
       "0           BTS       album                                Proof   \n",
       "1           BTS       album                                   BE   \n",
       "2           BTS       album  MAP OF THE SOUL : 7 ~ THE JOURNEY ~   \n",
       "3           BTS       album                  MAP OF THE SOUL : 7   \n",
       "4           BTS       album            MAP OF THE SOUL : PERSONA   \n",
       "..          ...         ...                                  ...   \n",
       "611         BTS      single                         FOR YOU(通常盤)   \n",
       "612         BTS      single           Danger -Japanese Ver.- 通常盤   \n",
       "613         BTS      single                           BOY IN LUV   \n",
       "614         BTS      single        No More Dream (Japanese Ver.)   \n",
       "615         BTS      single     NO MORE DREAM-Japanese Ver.- 通常盤   \n",
       "\n",
       "    album_release_date  album_popularity date_tracked  \n",
       "0           2022-06-10                87   2023-03-04  \n",
       "1           2020-11-20                45   2023-03-04  \n",
       "2           2020-07-14                66   2023-03-04  \n",
       "3           2020-02-21                51   2023-03-04  \n",
       "4           2019-04-12                78   2023-03-04  \n",
       "..                 ...               ...          ...  \n",
       "611         2015-06-17                30   2023-03-11  \n",
       "612         2014-11-19                25   2023-03-11  \n",
       "613         2014-07-16                25   2023-03-11  \n",
       "614         2014-06-04                31   2023-03-11  \n",
       "615         2014-06-04                16   2023-03-11  \n",
       "\n",
       "[616 rows x 6 columns]"
      ]
     },
     "execution_count": 13,
     "metadata": {},
     "output_type": "execute_result"
    }
   ],
   "source": [
    "#new\n",
    "df = SQL_get_albums_pop_artist(\"BTS\")\n",
    "df"
   ]
  },
  {
   "attachments": {},
   "cell_type": "markdown",
   "metadata": {},
   "source": [
    "#### `SQL_get_tracks_playpop_artist()`"
   ]
  },
  {
   "cell_type": "code",
   "execution_count": 14,
   "metadata": {},
   "outputs": [],
   "source": [
    "def SQL_get_tracks_playpop_artist(artist_name):\n",
    "    df = pd.read_sql(\n",
    "        f''' \n",
    "\n",
    "        SELECT DISTINCT artist_name, album_name, track_name, playc.track_id track_number, track_popularity, track_playcount, playc.date_tracked\n",
    "        FROM tracks_playcount AS playc\n",
    "\n",
    "        LEFT JOIN tracks_popularity AS pop\n",
    "        ON playc.track_id = pop.track_id AND playc.date_tracked = pop.date_tracked\n",
    "        \n",
    "        LEFT JOIN tracks\n",
    "        USING(track_id)\n",
    "\n",
    "        LEFT JOIN \n",
    "        (SELECT albums.album_id, albums.artist_id, albums.album_name\n",
    "        FROM albums) AS alb\n",
    "        USING(album_id)\n",
    "\n",
    "        LEFT JOIN artists\n",
    "        USING (artist_id)\n",
    "\n",
    "        WHERE artist_name = '{artist_name}' AND track_playcount > 0\n",
    "        '''\n",
    "    ,db)\n",
    "    return df"
   ]
  },
  {
   "attachments": {},
   "cell_type": "markdown",
   "metadata": {},
   "source": [
    "Test what `SQL_get_tracks_playpop_artist()` return"
   ]
  },
  {
   "cell_type": "code",
   "execution_count": 15,
   "metadata": {},
   "outputs": [
    {
     "data": {
      "text/html": [
       "<div>\n",
       "<style scoped>\n",
       "    .dataframe tbody tr th:only-of-type {\n",
       "        vertical-align: middle;\n",
       "    }\n",
       "\n",
       "    .dataframe tbody tr th {\n",
       "        vertical-align: top;\n",
       "    }\n",
       "\n",
       "    .dataframe thead th {\n",
       "        text-align: right;\n",
       "    }\n",
       "</style>\n",
       "<table border=\"1\" class=\"dataframe\">\n",
       "  <thead>\n",
       "    <tr style=\"text-align: right;\">\n",
       "      <th></th>\n",
       "      <th>artist_name</th>\n",
       "      <th>album_name</th>\n",
       "      <th>track_name</th>\n",
       "      <th>track_number</th>\n",
       "      <th>track_popularity</th>\n",
       "      <th>track_playcount</th>\n",
       "      <th>date_tracked</th>\n",
       "    </tr>\n",
       "  </thead>\n",
       "  <tbody>\n",
       "    <tr>\n",
       "      <th>0</th>\n",
       "      <td>Taylor Swift</td>\n",
       "      <td>Anti-Hero (ILLENIUM Remix)</td>\n",
       "      <td>Anti-Hero - ILLENIUM Remix</td>\n",
       "      <td>6C0H8ts9M6deezz0yYR6LK</td>\n",
       "      <td>60</td>\n",
       "      <td>6655791</td>\n",
       "      <td>2023-03-04</td>\n",
       "    </tr>\n",
       "    <tr>\n",
       "      <th>1</th>\n",
       "      <td>Taylor Swift</td>\n",
       "      <td>Midnights (3am Edition)</td>\n",
       "      <td>Lavender Haze</td>\n",
       "      <td>4g2c7NoTWAOSYDy44l9nub</td>\n",
       "      <td>74</td>\n",
       "      <td>310253891</td>\n",
       "      <td>2023-03-04</td>\n",
       "    </tr>\n",
       "    <tr>\n",
       "      <th>2</th>\n",
       "      <td>Taylor Swift</td>\n",
       "      <td>Midnights (3am Edition)</td>\n",
       "      <td>Maroon</td>\n",
       "      <td>199E1RRrVmVTQqBXih5qRC</td>\n",
       "      <td>74</td>\n",
       "      <td>227662369</td>\n",
       "      <td>2023-03-04</td>\n",
       "    </tr>\n",
       "    <tr>\n",
       "      <th>3</th>\n",
       "      <td>Taylor Swift</td>\n",
       "      <td>Midnights (3am Edition)</td>\n",
       "      <td>Anti-Hero</td>\n",
       "      <td>02Zkkf2zMkwRGQjZ7T4p8f</td>\n",
       "      <td>75</td>\n",
       "      <td>631167491</td>\n",
       "      <td>2023-03-04</td>\n",
       "    </tr>\n",
       "    <tr>\n",
       "      <th>4</th>\n",
       "      <td>Taylor Swift</td>\n",
       "      <td>Midnights (3am Edition)</td>\n",
       "      <td>Snow On The Beach (feat. Lana Del Rey)</td>\n",
       "      <td>6ADDIJxxqzM9LMpm78yzQG</td>\n",
       "      <td>72</td>\n",
       "      <td>236114590</td>\n",
       "      <td>2023-03-04</td>\n",
       "    </tr>\n",
       "    <tr>\n",
       "      <th>...</th>\n",
       "      <td>...</td>\n",
       "      <td>...</td>\n",
       "      <td>...</td>\n",
       "      <td>...</td>\n",
       "      <td>...</td>\n",
       "      <td>...</td>\n",
       "      <td>...</td>\n",
       "    </tr>\n",
       "    <tr>\n",
       "      <th>7830</th>\n",
       "      <td>Taylor Swift</td>\n",
       "      <td>The Taylor Swift Holiday Collection</td>\n",
       "      <td>Christmases When You Were Mine</td>\n",
       "      <td>1g09DZjQ7yBommCT6POY2n</td>\n",
       "      <td>40</td>\n",
       "      <td>4440379</td>\n",
       "      <td>2023-03-11</td>\n",
       "    </tr>\n",
       "    <tr>\n",
       "      <th>7831</th>\n",
       "      <td>Taylor Swift</td>\n",
       "      <td>The Taylor Swift Holiday Collection</td>\n",
       "      <td>Santa Baby</td>\n",
       "      <td>71IScwIe7bcIlpnlkbKVQw</td>\n",
       "      <td>42</td>\n",
       "      <td>7009333</td>\n",
       "      <td>2023-03-11</td>\n",
       "    </tr>\n",
       "    <tr>\n",
       "      <th>7832</th>\n",
       "      <td>Taylor Swift</td>\n",
       "      <td>The Taylor Swift Holiday Collection</td>\n",
       "      <td>Silent Night</td>\n",
       "      <td>1cJkUN5LAotktryx2nPCr7</td>\n",
       "      <td>39</td>\n",
       "      <td>3385864</td>\n",
       "      <td>2023-03-11</td>\n",
       "    </tr>\n",
       "    <tr>\n",
       "      <th>7833</th>\n",
       "      <td>Taylor Swift</td>\n",
       "      <td>The Taylor Swift Holiday Collection</td>\n",
       "      <td>Christmas Must Be Something More</td>\n",
       "      <td>31JVjy3XWnh6C2zf4kLCXN</td>\n",
       "      <td>40</td>\n",
       "      <td>4263512</td>\n",
       "      <td>2023-03-11</td>\n",
       "    </tr>\n",
       "    <tr>\n",
       "      <th>7834</th>\n",
       "      <td>Taylor Swift</td>\n",
       "      <td>The Taylor Swift Holiday Collection</td>\n",
       "      <td>White Christmas</td>\n",
       "      <td>7GZ3KDorsc1yWndEtzGTjf</td>\n",
       "      <td>39</td>\n",
       "      <td>3862782</td>\n",
       "      <td>2023-03-11</td>\n",
       "    </tr>\n",
       "  </tbody>\n",
       "</table>\n",
       "<p>7835 rows × 7 columns</p>\n",
       "</div>"
      ],
      "text/plain": [
       "       artist_name                           album_name  \\\n",
       "0     Taylor Swift           Anti-Hero (ILLENIUM Remix)   \n",
       "1     Taylor Swift              Midnights (3am Edition)   \n",
       "2     Taylor Swift              Midnights (3am Edition)   \n",
       "3     Taylor Swift              Midnights (3am Edition)   \n",
       "4     Taylor Swift              Midnights (3am Edition)   \n",
       "...            ...                                  ...   \n",
       "7830  Taylor Swift  The Taylor Swift Holiday Collection   \n",
       "7831  Taylor Swift  The Taylor Swift Holiday Collection   \n",
       "7832  Taylor Swift  The Taylor Swift Holiday Collection   \n",
       "7833  Taylor Swift  The Taylor Swift Holiday Collection   \n",
       "7834  Taylor Swift  The Taylor Swift Holiday Collection   \n",
       "\n",
       "                                  track_name            track_number  \\\n",
       "0                 Anti-Hero - ILLENIUM Remix  6C0H8ts9M6deezz0yYR6LK   \n",
       "1                              Lavender Haze  4g2c7NoTWAOSYDy44l9nub   \n",
       "2                                     Maroon  199E1RRrVmVTQqBXih5qRC   \n",
       "3                                  Anti-Hero  02Zkkf2zMkwRGQjZ7T4p8f   \n",
       "4     Snow On The Beach (feat. Lana Del Rey)  6ADDIJxxqzM9LMpm78yzQG   \n",
       "...                                      ...                     ...   \n",
       "7830          Christmases When You Were Mine  1g09DZjQ7yBommCT6POY2n   \n",
       "7831                              Santa Baby  71IScwIe7bcIlpnlkbKVQw   \n",
       "7832                            Silent Night  1cJkUN5LAotktryx2nPCr7   \n",
       "7833        Christmas Must Be Something More  31JVjy3XWnh6C2zf4kLCXN   \n",
       "7834                         White Christmas  7GZ3KDorsc1yWndEtzGTjf   \n",
       "\n",
       "      track_popularity  track_playcount date_tracked  \n",
       "0                   60          6655791   2023-03-04  \n",
       "1                   74        310253891   2023-03-04  \n",
       "2                   74        227662369   2023-03-04  \n",
       "3                   75        631167491   2023-03-04  \n",
       "4                   72        236114590   2023-03-04  \n",
       "...                ...              ...          ...  \n",
       "7830                40          4440379   2023-03-11  \n",
       "7831                42          7009333   2023-03-11  \n",
       "7832                39          3385864   2023-03-11  \n",
       "7833                40          4263512   2023-03-11  \n",
       "7834                39          3862782   2023-03-11  \n",
       "\n",
       "[7835 rows x 7 columns]"
      ]
     },
     "execution_count": 15,
     "metadata": {},
     "output_type": "execute_result"
    }
   ],
   "source": [
    "df = SQL_get_tracks_playpop_artist('Taylor Swift')\n",
    "df"
   ]
  },
  {
   "attachments": {},
   "cell_type": "markdown",
   "metadata": {},
   "source": [
    "### SQL Get all"
   ]
  },
  {
   "attachments": {},
   "cell_type": "markdown",
   "metadata": {},
   "source": [
    "***"
   ]
  },
  {
   "attachments": {},
   "cell_type": "markdown",
   "metadata": {},
   "source": [
    "#### `SQL_get_all_art_pop()`"
   ]
  },
  {
   "cell_type": "code",
   "execution_count": 16,
   "metadata": {},
   "outputs": [],
   "source": [
    "def SQL_get_all_art_pop():\n",
    "    df = pd.read_sql(\n",
    "    f'''\n",
    "    SELECT * \n",
    "    FROM Artists_Popularity\n",
    "    ''', db)\n",
    "    return df"
   ]
  },
  {
   "cell_type": "code",
   "execution_count": 17,
   "metadata": {},
   "outputs": [
    {
     "data": {
      "text/html": [
       "<div>\n",
       "<style scoped>\n",
       "    .dataframe tbody tr th:only-of-type {\n",
       "        vertical-align: middle;\n",
       "    }\n",
       "\n",
       "    .dataframe tbody tr th {\n",
       "        vertical-align: top;\n",
       "    }\n",
       "\n",
       "    .dataframe thead th {\n",
       "        text-align: right;\n",
       "    }\n",
       "</style>\n",
       "<table border=\"1\" class=\"dataframe\">\n",
       "  <thead>\n",
       "    <tr style=\"text-align: right;\">\n",
       "      <th></th>\n",
       "      <th>artist_name</th>\n",
       "      <th>artist_id</th>\n",
       "      <th>artist_followers</th>\n",
       "      <th>artist_popularity</th>\n",
       "      <th>date_tracked</th>\n",
       "    </tr>\n",
       "  </thead>\n",
       "  <tbody>\n",
       "    <tr>\n",
       "      <th>0</th>\n",
       "      <td>Ariana Grande</td>\n",
       "      <td>66CXWjxzNUsdJxJ2JdwvnR</td>\n",
       "      <td>88348950</td>\n",
       "      <td>92</td>\n",
       "      <td>2023-03-04</td>\n",
       "    </tr>\n",
       "    <tr>\n",
       "      <th>1</th>\n",
       "      <td>Avicii</td>\n",
       "      <td>1vCWHaC5f2uS3yhpwWbIA6</td>\n",
       "      <td>22620854</td>\n",
       "      <td>84</td>\n",
       "      <td>2023-03-04</td>\n",
       "    </tr>\n",
       "    <tr>\n",
       "      <th>2</th>\n",
       "      <td>BTS</td>\n",
       "      <td>3Nrfpe0tUJi4K4DXYWgMUX</td>\n",
       "      <td>61927930</td>\n",
       "      <td>93</td>\n",
       "      <td>2023-03-04</td>\n",
       "    </tr>\n",
       "    <tr>\n",
       "      <th>3</th>\n",
       "      <td>Coldplay</td>\n",
       "      <td>4gzpq5DPGxSnKTe4SA8HAU</td>\n",
       "      <td>42282671</td>\n",
       "      <td>90</td>\n",
       "      <td>2023-03-04</td>\n",
       "    </tr>\n",
       "    <tr>\n",
       "      <th>4</th>\n",
       "      <td>Drake</td>\n",
       "      <td>3TVXtAsR1Inumwj472S9r4</td>\n",
       "      <td>72531141</td>\n",
       "      <td>98</td>\n",
       "      <td>2023-03-04</td>\n",
       "    </tr>\n",
       "    <tr>\n",
       "      <th>...</th>\n",
       "      <td>...</td>\n",
       "      <td>...</td>\n",
       "      <td>...</td>\n",
       "      <td>...</td>\n",
       "      <td>...</td>\n",
       "    </tr>\n",
       "    <tr>\n",
       "      <th>91</th>\n",
       "      <td>Joji</td>\n",
       "      <td>3MZsBdqDrRTJihTHQrO6Dq</td>\n",
       "      <td>8174450</td>\n",
       "      <td>86</td>\n",
       "      <td>2023-03-11</td>\n",
       "    </tr>\n",
       "    <tr>\n",
       "      <th>92</th>\n",
       "      <td>Martin Garrix</td>\n",
       "      <td>60d24wfXkVzDSfLS6hyCjZ</td>\n",
       "      <td>15746075</td>\n",
       "      <td>80</td>\n",
       "      <td>2023-03-11</td>\n",
       "    </tr>\n",
       "    <tr>\n",
       "      <th>93</th>\n",
       "      <td>Mike Williams</td>\n",
       "      <td>3IpvVrP3VLhruTmnququq7</td>\n",
       "      <td>350583</td>\n",
       "      <td>61</td>\n",
       "      <td>2023-03-11</td>\n",
       "    </tr>\n",
       "    <tr>\n",
       "      <th>94</th>\n",
       "      <td>NIKI</td>\n",
       "      <td>2kxP07DLgs4xlWz8YHlvfh</td>\n",
       "      <td>2378449</td>\n",
       "      <td>76</td>\n",
       "      <td>2023-03-11</td>\n",
       "    </tr>\n",
       "    <tr>\n",
       "      <th>95</th>\n",
       "      <td>Taylor Swift</td>\n",
       "      <td>06HL4z0CvFAxyc27GXpf02</td>\n",
       "      <td>69369186</td>\n",
       "      <td>99</td>\n",
       "      <td>2023-03-11</td>\n",
       "    </tr>\n",
       "  </tbody>\n",
       "</table>\n",
       "<p>96 rows × 5 columns</p>\n",
       "</div>"
      ],
      "text/plain": [
       "      artist_name               artist_id  artist_followers  \\\n",
       "0   Ariana Grande  66CXWjxzNUsdJxJ2JdwvnR          88348950   \n",
       "1          Avicii  1vCWHaC5f2uS3yhpwWbIA6          22620854   \n",
       "2             BTS  3Nrfpe0tUJi4K4DXYWgMUX          61927930   \n",
       "3        Coldplay  4gzpq5DPGxSnKTe4SA8HAU          42282671   \n",
       "4           Drake  3TVXtAsR1Inumwj472S9r4          72531141   \n",
       "..            ...                     ...               ...   \n",
       "91           Joji  3MZsBdqDrRTJihTHQrO6Dq           8174450   \n",
       "92  Martin Garrix  60d24wfXkVzDSfLS6hyCjZ          15746075   \n",
       "93  Mike Williams  3IpvVrP3VLhruTmnququq7            350583   \n",
       "94           NIKI  2kxP07DLgs4xlWz8YHlvfh           2378449   \n",
       "95   Taylor Swift  06HL4z0CvFAxyc27GXpf02          69369186   \n",
       "\n",
       "    artist_popularity date_tracked  \n",
       "0                  92   2023-03-04  \n",
       "1                  84   2023-03-04  \n",
       "2                  93   2023-03-04  \n",
       "3                  90   2023-03-04  \n",
       "4                  98   2023-03-04  \n",
       "..                ...          ...  \n",
       "91                 86   2023-03-11  \n",
       "92                 80   2023-03-11  \n",
       "93                 61   2023-03-11  \n",
       "94                 76   2023-03-11  \n",
       "95                 99   2023-03-11  \n",
       "\n",
       "[96 rows x 5 columns]"
      ]
     },
     "execution_count": 17,
     "metadata": {},
     "output_type": "execute_result"
    }
   ],
   "source": [
    "df = SQL_get_all_art_pop()\n",
    "df"
   ]
  },
  {
   "attachments": {},
   "cell_type": "markdown",
   "metadata": {},
   "source": [
    "#### `SQL_get_albums_pop_all()`"
   ]
  },
  {
   "cell_type": "code",
   "execution_count": 18,
   "metadata": {},
   "outputs": [],
   "source": [
    "def SQL_get_albums_pop_all():\n",
    "    df = pd.read_sql(\n",
    "            f'''\n",
    "            SELECT DISTINCT art.artist_name, alb.album_group, alb.album_name, alb.album_release_date, ap.album_popularity, ap.date_tracked\n",
    "            FROM albums_popularity AS ap\n",
    "            LEFT JOIN albums AS alb\n",
    "            ON ap.album_id = alb.album_id\n",
    "            LEFT JOIN artists AS art\n",
    "            ON art.artist_id = alb.artist_id\n",
    "            '''\n",
    "        , db)\n",
    "    return df"
   ]
  },
  {
   "cell_type": "code",
   "execution_count": 19,
   "metadata": {},
   "outputs": [
    {
     "data": {
      "text/html": [
       "<div>\n",
       "<style scoped>\n",
       "    .dataframe tbody tr th:only-of-type {\n",
       "        vertical-align: middle;\n",
       "    }\n",
       "\n",
       "    .dataframe tbody tr th {\n",
       "        vertical-align: top;\n",
       "    }\n",
       "\n",
       "    .dataframe thead th {\n",
       "        text-align: right;\n",
       "    }\n",
       "</style>\n",
       "<table border=\"1\" class=\"dataframe\">\n",
       "  <thead>\n",
       "    <tr style=\"text-align: right;\">\n",
       "      <th></th>\n",
       "      <th>artist_name</th>\n",
       "      <th>album_group</th>\n",
       "      <th>album_name</th>\n",
       "      <th>album_release_date</th>\n",
       "      <th>album_popularity</th>\n",
       "      <th>date_tracked</th>\n",
       "    </tr>\n",
       "  </thead>\n",
       "  <tbody>\n",
       "    <tr>\n",
       "      <th>0</th>\n",
       "      <td>Ariana Grande</td>\n",
       "      <td>album</td>\n",
       "      <td>Positions (Deluxe)</td>\n",
       "      <td>2021-02-19</td>\n",
       "      <td>71</td>\n",
       "      <td>2023-03-04</td>\n",
       "    </tr>\n",
       "    <tr>\n",
       "      <th>1</th>\n",
       "      <td>Ariana Grande</td>\n",
       "      <td>album</td>\n",
       "      <td>Positions</td>\n",
       "      <td>2020-10-30</td>\n",
       "      <td>83</td>\n",
       "      <td>2023-03-04</td>\n",
       "    </tr>\n",
       "    <tr>\n",
       "      <th>2</th>\n",
       "      <td>Ariana Grande</td>\n",
       "      <td>album</td>\n",
       "      <td>k bye for now (swt live)</td>\n",
       "      <td>2019-12-23</td>\n",
       "      <td>62</td>\n",
       "      <td>2023-03-04</td>\n",
       "    </tr>\n",
       "    <tr>\n",
       "      <th>3</th>\n",
       "      <td>Ariana Grande</td>\n",
       "      <td>album</td>\n",
       "      <td>thank u, next</td>\n",
       "      <td>2019-02-08</td>\n",
       "      <td>85</td>\n",
       "      <td>2023-03-04</td>\n",
       "    </tr>\n",
       "    <tr>\n",
       "      <th>4</th>\n",
       "      <td>Ariana Grande</td>\n",
       "      <td>album</td>\n",
       "      <td>Sweetener</td>\n",
       "      <td>2018-08-17</td>\n",
       "      <td>81</td>\n",
       "      <td>2023-03-04</td>\n",
       "    </tr>\n",
       "    <tr>\n",
       "      <th>...</th>\n",
       "      <td>...</td>\n",
       "      <td>...</td>\n",
       "      <td>...</td>\n",
       "      <td>...</td>\n",
       "      <td>...</td>\n",
       "      <td>...</td>\n",
       "    </tr>\n",
       "    <tr>\n",
       "      <th>7043</th>\n",
       "      <td>Taylor Swift</td>\n",
       "      <td>single</td>\n",
       "      <td>Sweeter Than Fiction</td>\n",
       "      <td>2013-10-21</td>\n",
       "      <td>45</td>\n",
       "      <td>2023-03-11</td>\n",
       "    </tr>\n",
       "    <tr>\n",
       "      <th>7044</th>\n",
       "      <td>Taylor Swift</td>\n",
       "      <td>single</td>\n",
       "      <td>Everything Has Changed (Remix)</td>\n",
       "      <td>2013-01-01</td>\n",
       "      <td>28</td>\n",
       "      <td>2023-03-11</td>\n",
       "    </tr>\n",
       "    <tr>\n",
       "      <th>7045</th>\n",
       "      <td>Taylor Swift</td>\n",
       "      <td>single</td>\n",
       "      <td>Ronan</td>\n",
       "      <td>2012-09-08</td>\n",
       "      <td>36</td>\n",
       "      <td>2023-03-11</td>\n",
       "    </tr>\n",
       "    <tr>\n",
       "      <th>7046</th>\n",
       "      <td>Taylor Swift</td>\n",
       "      <td>single</td>\n",
       "      <td>Today Was A Fairytale</td>\n",
       "      <td>2011-02-15</td>\n",
       "      <td>44</td>\n",
       "      <td>2023-03-11</td>\n",
       "    </tr>\n",
       "    <tr>\n",
       "      <th>7047</th>\n",
       "      <td>Taylor Swift</td>\n",
       "      <td>single</td>\n",
       "      <td>The Taylor Swift Holiday Collection</td>\n",
       "      <td>2008-12-02</td>\n",
       "      <td>51</td>\n",
       "      <td>2023-03-11</td>\n",
       "    </tr>\n",
       "  </tbody>\n",
       "</table>\n",
       "<p>7048 rows × 6 columns</p>\n",
       "</div>"
      ],
      "text/plain": [
       "        artist_name album_group                           album_name  \\\n",
       "0     Ariana Grande       album                   Positions (Deluxe)   \n",
       "1     Ariana Grande       album                            Positions   \n",
       "2     Ariana Grande       album             k bye for now (swt live)   \n",
       "3     Ariana Grande       album                        thank u, next   \n",
       "4     Ariana Grande       album                            Sweetener   \n",
       "...             ...         ...                                  ...   \n",
       "7043   Taylor Swift      single                 Sweeter Than Fiction   \n",
       "7044   Taylor Swift      single       Everything Has Changed (Remix)   \n",
       "7045   Taylor Swift      single                                Ronan   \n",
       "7046   Taylor Swift      single                Today Was A Fairytale   \n",
       "7047   Taylor Swift      single  The Taylor Swift Holiday Collection   \n",
       "\n",
       "     album_release_date  album_popularity date_tracked  \n",
       "0            2021-02-19                71   2023-03-04  \n",
       "1            2020-10-30                83   2023-03-04  \n",
       "2            2019-12-23                62   2023-03-04  \n",
       "3            2019-02-08                85   2023-03-04  \n",
       "4            2018-08-17                81   2023-03-04  \n",
       "...                 ...               ...          ...  \n",
       "7043         2013-10-21                45   2023-03-11  \n",
       "7044         2013-01-01                28   2023-03-11  \n",
       "7045         2012-09-08                36   2023-03-11  \n",
       "7046         2011-02-15                44   2023-03-11  \n",
       "7047         2008-12-02                51   2023-03-11  \n",
       "\n",
       "[7048 rows x 6 columns]"
      ]
     },
     "execution_count": 19,
     "metadata": {},
     "output_type": "execute_result"
    }
   ],
   "source": [
    "df = SQL_get_albums_pop_all()\n",
    "df"
   ]
  },
  {
   "attachments": {},
   "cell_type": "markdown",
   "metadata": {},
   "source": [
    "#### `SQL_get_tracks_playpop_all()`"
   ]
  },
  {
   "cell_type": "code",
   "execution_count": 20,
   "metadata": {},
   "outputs": [],
   "source": [
    "def SQL_get_tracks_playpop_all():\n",
    "    df = pd.read_sql(\n",
    "        f''' \n",
    "\n",
    "        SELECT DISTINCT artist_name, album_name, track_name, playc.track_id, track_number, track_popularity, track_playcount, playc.date_tracked\n",
    "        FROM tracks_playcount AS playc\n",
    "\n",
    "        LEFT JOIN tracks_popularity AS pop\n",
    "        ON playc.track_id = pop.track_id AND playc.date_tracked = pop.date_tracked\n",
    "        \n",
    "        LEFT JOIN tracks\n",
    "        USING(track_id)\n",
    "\n",
    "        LEFT JOIN \n",
    "        (SELECT albums.album_id, albums.artist_id, albums.album_name\n",
    "        FROM albums) AS alb\n",
    "        USING(album_id)\n",
    "\n",
    "        LEFT JOIN artists\n",
    "        USING (artist_id)\n",
    "\n",
    "        WHERE track_playcount > 0\n",
    "        '''\n",
    "    ,db)\n",
    "    return df"
   ]
  },
  {
   "cell_type": "code",
   "execution_count": 21,
   "metadata": {},
   "outputs": [],
   "source": [
    "# def SQL_get_tracks_playpop_all():\n",
    "#     df = pd.read_sql(\n",
    "#         f''' \n",
    "\n",
    "#         SELECT DISTINCT artist_name, album_name, track_name, playc.track_id, track_number, track_popularity, track_playcount, playc.date_tracked\n",
    "#         FROM tracks_playcount AS playc\n",
    "\n",
    "#         LEFT JOIN tracks_popularity AS pop\n",
    "#         ON playc.track_id = pop.track_id AND playc.date_tracked = pop.date_tracked\n",
    "        \n",
    "#         LEFT JOIN tracks\n",
    "#         USING(track_id)\n",
    "\n",
    "#         LEFT JOIN \n",
    "#         (SELECT albums.album_id, albums.artist_id, albums.album_name\n",
    "#         FROM albums) AS alb\n",
    "#         USING(album_id)\n",
    "#         '''\n",
    "#     ,db)\n",
    "#     return df"
   ]
  },
  {
   "cell_type": "code",
   "execution_count": 22,
   "metadata": {},
   "outputs": [
    {
     "data": {
      "text/html": [
       "<div>\n",
       "<style scoped>\n",
       "    .dataframe tbody tr th:only-of-type {\n",
       "        vertical-align: middle;\n",
       "    }\n",
       "\n",
       "    .dataframe tbody tr th {\n",
       "        vertical-align: top;\n",
       "    }\n",
       "\n",
       "    .dataframe thead th {\n",
       "        text-align: right;\n",
       "    }\n",
       "</style>\n",
       "<table border=\"1\" class=\"dataframe\">\n",
       "  <thead>\n",
       "    <tr style=\"text-align: right;\">\n",
       "      <th></th>\n",
       "      <th>artist_name</th>\n",
       "      <th>album_name</th>\n",
       "      <th>track_name</th>\n",
       "      <th>track_id</th>\n",
       "      <th>track_number</th>\n",
       "      <th>track_popularity</th>\n",
       "      <th>track_playcount</th>\n",
       "      <th>date_tracked</th>\n",
       "    </tr>\n",
       "  </thead>\n",
       "  <tbody>\n",
       "    <tr>\n",
       "      <th>0</th>\n",
       "      <td>Ariana Grande</td>\n",
       "      <td>Positions (Deluxe)</td>\n",
       "      <td>shut up</td>\n",
       "      <td>12sliObzVzbLbAlDb8eChf</td>\n",
       "      <td>1</td>\n",
       "      <td>50</td>\n",
       "      <td>91887648</td>\n",
       "      <td>2023-03-04</td>\n",
       "    </tr>\n",
       "    <tr>\n",
       "      <th>1</th>\n",
       "      <td>Ariana Grande</td>\n",
       "      <td>Positions (Deluxe)</td>\n",
       "      <td>34+35</td>\n",
       "      <td>1hG4V53eR16jg7jVTNLOiX</td>\n",
       "      <td>2</td>\n",
       "      <td>54</td>\n",
       "      <td>813653167</td>\n",
       "      <td>2023-03-04</td>\n",
       "    </tr>\n",
       "    <tr>\n",
       "      <th>2</th>\n",
       "      <td>Ariana Grande</td>\n",
       "      <td>Positions (Deluxe)</td>\n",
       "      <td>motive (with Doja Cat)</td>\n",
       "      <td>5VipERQ1ofCowecoFg2MVU</td>\n",
       "      <td>3</td>\n",
       "      <td>54</td>\n",
       "      <td>380497375</td>\n",
       "      <td>2023-03-04</td>\n",
       "    </tr>\n",
       "    <tr>\n",
       "      <th>3</th>\n",
       "      <td>Ariana Grande</td>\n",
       "      <td>Positions (Deluxe)</td>\n",
       "      <td>just like magic</td>\n",
       "      <td>1N9hFgcgWYbGINUKjhvcK6</td>\n",
       "      <td>4</td>\n",
       "      <td>52</td>\n",
       "      <td>157315542</td>\n",
       "      <td>2023-03-04</td>\n",
       "    </tr>\n",
       "    <tr>\n",
       "      <th>4</th>\n",
       "      <td>Ariana Grande</td>\n",
       "      <td>Positions (Deluxe)</td>\n",
       "      <td>off the table (with The Weeknd)</td>\n",
       "      <td>1qKdid2S9fZdSrzLaCcjcF</td>\n",
       "      <td>5</td>\n",
       "      <td>53</td>\n",
       "      <td>125490517</td>\n",
       "      <td>2023-03-04</td>\n",
       "    </tr>\n",
       "    <tr>\n",
       "      <th>...</th>\n",
       "      <td>...</td>\n",
       "      <td>...</td>\n",
       "      <td>...</td>\n",
       "      <td>...</td>\n",
       "      <td>...</td>\n",
       "      <td>...</td>\n",
       "      <td>...</td>\n",
       "      <td>...</td>\n",
       "    </tr>\n",
       "    <tr>\n",
       "      <th>29953</th>\n",
       "      <td>Taylor Swift</td>\n",
       "      <td>The Taylor Swift Holiday Collection</td>\n",
       "      <td>Christmases When You Were Mine</td>\n",
       "      <td>1g09DZjQ7yBommCT6POY2n</td>\n",
       "      <td>2</td>\n",
       "      <td>40</td>\n",
       "      <td>4440379</td>\n",
       "      <td>2023-03-11</td>\n",
       "    </tr>\n",
       "    <tr>\n",
       "      <th>29954</th>\n",
       "      <td>Taylor Swift</td>\n",
       "      <td>The Taylor Swift Holiday Collection</td>\n",
       "      <td>Santa Baby</td>\n",
       "      <td>71IScwIe7bcIlpnlkbKVQw</td>\n",
       "      <td>3</td>\n",
       "      <td>42</td>\n",
       "      <td>7009333</td>\n",
       "      <td>2023-03-11</td>\n",
       "    </tr>\n",
       "    <tr>\n",
       "      <th>29955</th>\n",
       "      <td>Taylor Swift</td>\n",
       "      <td>The Taylor Swift Holiday Collection</td>\n",
       "      <td>Silent Night</td>\n",
       "      <td>1cJkUN5LAotktryx2nPCr7</td>\n",
       "      <td>4</td>\n",
       "      <td>39</td>\n",
       "      <td>3385864</td>\n",
       "      <td>2023-03-11</td>\n",
       "    </tr>\n",
       "    <tr>\n",
       "      <th>29956</th>\n",
       "      <td>Taylor Swift</td>\n",
       "      <td>The Taylor Swift Holiday Collection</td>\n",
       "      <td>Christmas Must Be Something More</td>\n",
       "      <td>31JVjy3XWnh6C2zf4kLCXN</td>\n",
       "      <td>5</td>\n",
       "      <td>40</td>\n",
       "      <td>4263512</td>\n",
       "      <td>2023-03-11</td>\n",
       "    </tr>\n",
       "    <tr>\n",
       "      <th>29957</th>\n",
       "      <td>Taylor Swift</td>\n",
       "      <td>The Taylor Swift Holiday Collection</td>\n",
       "      <td>White Christmas</td>\n",
       "      <td>7GZ3KDorsc1yWndEtzGTjf</td>\n",
       "      <td>6</td>\n",
       "      <td>39</td>\n",
       "      <td>3862782</td>\n",
       "      <td>2023-03-11</td>\n",
       "    </tr>\n",
       "  </tbody>\n",
       "</table>\n",
       "<p>29958 rows × 8 columns</p>\n",
       "</div>"
      ],
      "text/plain": [
       "         artist_name                           album_name  \\\n",
       "0      Ariana Grande                   Positions (Deluxe)   \n",
       "1      Ariana Grande                   Positions (Deluxe)   \n",
       "2      Ariana Grande                   Positions (Deluxe)   \n",
       "3      Ariana Grande                   Positions (Deluxe)   \n",
       "4      Ariana Grande                   Positions (Deluxe)   \n",
       "...              ...                                  ...   \n",
       "29953   Taylor Swift  The Taylor Swift Holiday Collection   \n",
       "29954   Taylor Swift  The Taylor Swift Holiday Collection   \n",
       "29955   Taylor Swift  The Taylor Swift Holiday Collection   \n",
       "29956   Taylor Swift  The Taylor Swift Holiday Collection   \n",
       "29957   Taylor Swift  The Taylor Swift Holiday Collection   \n",
       "\n",
       "                             track_name                track_id  track_number  \\\n",
       "0                               shut up  12sliObzVzbLbAlDb8eChf             1   \n",
       "1                                 34+35  1hG4V53eR16jg7jVTNLOiX             2   \n",
       "2                motive (with Doja Cat)  5VipERQ1ofCowecoFg2MVU             3   \n",
       "3                       just like magic  1N9hFgcgWYbGINUKjhvcK6             4   \n",
       "4       off the table (with The Weeknd)  1qKdid2S9fZdSrzLaCcjcF             5   \n",
       "...                                 ...                     ...           ...   \n",
       "29953    Christmases When You Were Mine  1g09DZjQ7yBommCT6POY2n             2   \n",
       "29954                        Santa Baby  71IScwIe7bcIlpnlkbKVQw             3   \n",
       "29955                      Silent Night  1cJkUN5LAotktryx2nPCr7             4   \n",
       "29956  Christmas Must Be Something More  31JVjy3XWnh6C2zf4kLCXN             5   \n",
       "29957                   White Christmas  7GZ3KDorsc1yWndEtzGTjf             6   \n",
       "\n",
       "       track_popularity  track_playcount date_tracked  \n",
       "0                    50         91887648   2023-03-04  \n",
       "1                    54        813653167   2023-03-04  \n",
       "2                    54        380497375   2023-03-04  \n",
       "3                    52        157315542   2023-03-04  \n",
       "4                    53        125490517   2023-03-04  \n",
       "...                 ...              ...          ...  \n",
       "29953                40          4440379   2023-03-11  \n",
       "29954                42          7009333   2023-03-11  \n",
       "29955                39          3385864   2023-03-11  \n",
       "29956                40          4263512   2023-03-11  \n",
       "29957                39          3862782   2023-03-11  \n",
       "\n",
       "[29958 rows x 8 columns]"
      ]
     },
     "execution_count": 22,
     "metadata": {},
     "output_type": "execute_result"
    }
   ],
   "source": [
    "df = SQL_get_tracks_playpop_all()\n",
    "df"
   ]
  },
  {
   "cell_type": "code",
   "execution_count": 23,
   "metadata": {},
   "outputs": [
    {
     "data": {
      "text/html": [
       "<div>\n",
       "<style scoped>\n",
       "    .dataframe tbody tr th:only-of-type {\n",
       "        vertical-align: middle;\n",
       "    }\n",
       "\n",
       "    .dataframe tbody tr th {\n",
       "        vertical-align: top;\n",
       "    }\n",
       "\n",
       "    .dataframe thead th {\n",
       "        text-align: right;\n",
       "    }\n",
       "</style>\n",
       "<table border=\"1\" class=\"dataframe\">\n",
       "  <thead>\n",
       "    <tr style=\"text-align: right;\">\n",
       "      <th></th>\n",
       "      <th>artist_name</th>\n",
       "      <th>album_name</th>\n",
       "      <th>track_name</th>\n",
       "      <th>track_id</th>\n",
       "      <th>track_number</th>\n",
       "      <th>track_popularity</th>\n",
       "      <th>track_playcount</th>\n",
       "      <th>date_tracked</th>\n",
       "    </tr>\n",
       "  </thead>\n",
       "  <tbody>\n",
       "    <tr>\n",
       "      <th>12569</th>\n",
       "      <td>BTS</td>\n",
       "      <td>My Universe (Galantis Remix)</td>\n",
       "      <td>My Universe - Galantis Remix</td>\n",
       "      <td>1DlczmjByrS4qxRVfGjpqN</td>\n",
       "      <td>1</td>\n",
       "      <td>60</td>\n",
       "      <td>26064701</td>\n",
       "      <td>2023-03-07</td>\n",
       "    </tr>\n",
       "    <tr>\n",
       "      <th>12570</th>\n",
       "      <td>Coldplay</td>\n",
       "      <td>My Universe (Galantis Remix)</td>\n",
       "      <td>My Universe - Galantis Remix</td>\n",
       "      <td>1DlczmjByrS4qxRVfGjpqN</td>\n",
       "      <td>1</td>\n",
       "      <td>60</td>\n",
       "      <td>26064701</td>\n",
       "      <td>2023-03-07</td>\n",
       "    </tr>\n",
       "    <tr>\n",
       "      <th>14919</th>\n",
       "      <td>Taylor Swift</td>\n",
       "      <td>Anti-Hero (ILLENIUM Remix)</td>\n",
       "      <td>Anti-Hero - ILLENIUM Remix</td>\n",
       "      <td>6C0H8ts9M6deezz0yYR6LK</td>\n",
       "      <td>1</td>\n",
       "      <td>60</td>\n",
       "      <td>6724343</td>\n",
       "      <td>2023-03-07</td>\n",
       "    </tr>\n",
       "    <tr>\n",
       "      <th>14920</th>\n",
       "      <td>ILLENIUM</td>\n",
       "      <td>Anti-Hero (ILLENIUM Remix)</td>\n",
       "      <td>Anti-Hero - ILLENIUM Remix</td>\n",
       "      <td>6C0H8ts9M6deezz0yYR6LK</td>\n",
       "      <td>1</td>\n",
       "      <td>60</td>\n",
       "      <td>6724343</td>\n",
       "      <td>2023-03-07</td>\n",
       "    </tr>\n",
       "  </tbody>\n",
       "</table>\n",
       "</div>"
      ],
      "text/plain": [
       "        artist_name                    album_name  \\\n",
       "12569           BTS  My Universe (Galantis Remix)   \n",
       "12570      Coldplay  My Universe (Galantis Remix)   \n",
       "14919  Taylor Swift    Anti-Hero (ILLENIUM Remix)   \n",
       "14920      ILLENIUM    Anti-Hero (ILLENIUM Remix)   \n",
       "\n",
       "                         track_name                track_id  track_number  \\\n",
       "12569  My Universe - Galantis Remix  1DlczmjByrS4qxRVfGjpqN             1   \n",
       "12570  My Universe - Galantis Remix  1DlczmjByrS4qxRVfGjpqN             1   \n",
       "14919    Anti-Hero - ILLENIUM Remix  6C0H8ts9M6deezz0yYR6LK             1   \n",
       "14920    Anti-Hero - ILLENIUM Remix  6C0H8ts9M6deezz0yYR6LK             1   \n",
       "\n",
       "       track_popularity  track_playcount date_tracked  \n",
       "12569                60         26064701   2023-03-07  \n",
       "12570                60         26064701   2023-03-07  \n",
       "14919                60          6724343   2023-03-07  \n",
       "14920                60          6724343   2023-03-07  "
      ]
     },
     "execution_count": 23,
     "metadata": {},
     "output_type": "execute_result"
    }
   ],
   "source": [
    "#identify the duplicates created\n",
    "df.loc[df.duplicated(subset=['track_id','date_tracked','artist_name']),:]\n"
   ]
  },
  {
   "cell_type": "code",
   "execution_count": 24,
   "metadata": {},
   "outputs": [],
   "source": [
    "# This is needed to drop duplicates.\n",
    "df = df.drop_duplicates(subset=['track_id','date_tracked','artist_name'])"
   ]
  },
  {
   "cell_type": "code",
   "execution_count": 25,
   "metadata": {},
   "outputs": [
    {
     "data": {
      "application/vnd.plotly.v1+json": {
       "config": {
        "plotlyServerURL": "https://plot.ly"
       },
       "data": [
        {
         "hovertemplate": "date_tracked=%{x}<br>track_playcount=%{y}<extra></extra>",
         "legendgroup": "",
         "line": {
          "color": "#636efa",
          "dash": "solid"
         },
         "marker": {
          "symbol": "circle"
         },
         "mode": "lines",
         "name": "",
         "orientation": "v",
         "showlegend": false,
         "type": "scatter",
         "x": [
          "2023-03-04",
          "2023-03-04",
          "2023-03-05",
          "2023-03-05",
          "2023-03-06",
          "2023-03-06",
          "2023-03-07",
          "2023-03-07",
          "2023-03-08",
          "2023-03-08",
          "2023-03-09",
          "2023-03-09",
          "2023-03-10",
          "2023-03-10",
          "2023-03-11",
          "2023-03-11"
         ],
         "xaxis": "x",
         "y": [
          6655791,
          6655791,
          6692236,
          6692236,
          6724343,
          6724343,
          6759510,
          6759510,
          6796466,
          6796466,
          6832593,
          6832593,
          6867834,
          6867834,
          6901747,
          6901747
         ],
         "yaxis": "y"
        }
       ],
       "layout": {
        "legend": {
         "tracegroupgap": 0
        },
        "margin": {
         "t": 60
        },
        "template": {
         "data": {
          "bar": [
           {
            "error_x": {
             "color": "#2a3f5f"
            },
            "error_y": {
             "color": "#2a3f5f"
            },
            "marker": {
             "line": {
              "color": "#E5ECF6",
              "width": 0.5
             },
             "pattern": {
              "fillmode": "overlay",
              "size": 10,
              "solidity": 0.2
             }
            },
            "type": "bar"
           }
          ],
          "barpolar": [
           {
            "marker": {
             "line": {
              "color": "#E5ECF6",
              "width": 0.5
             },
             "pattern": {
              "fillmode": "overlay",
              "size": 10,
              "solidity": 0.2
             }
            },
            "type": "barpolar"
           }
          ],
          "carpet": [
           {
            "aaxis": {
             "endlinecolor": "#2a3f5f",
             "gridcolor": "white",
             "linecolor": "white",
             "minorgridcolor": "white",
             "startlinecolor": "#2a3f5f"
            },
            "baxis": {
             "endlinecolor": "#2a3f5f",
             "gridcolor": "white",
             "linecolor": "white",
             "minorgridcolor": "white",
             "startlinecolor": "#2a3f5f"
            },
            "type": "carpet"
           }
          ],
          "choropleth": [
           {
            "colorbar": {
             "outlinewidth": 0,
             "ticks": ""
            },
            "type": "choropleth"
           }
          ],
          "contour": [
           {
            "colorbar": {
             "outlinewidth": 0,
             "ticks": ""
            },
            "colorscale": [
             [
              0,
              "#0d0887"
             ],
             [
              0.1111111111111111,
              "#46039f"
             ],
             [
              0.2222222222222222,
              "#7201a8"
             ],
             [
              0.3333333333333333,
              "#9c179e"
             ],
             [
              0.4444444444444444,
              "#bd3786"
             ],
             [
              0.5555555555555556,
              "#d8576b"
             ],
             [
              0.6666666666666666,
              "#ed7953"
             ],
             [
              0.7777777777777778,
              "#fb9f3a"
             ],
             [
              0.8888888888888888,
              "#fdca26"
             ],
             [
              1,
              "#f0f921"
             ]
            ],
            "type": "contour"
           }
          ],
          "contourcarpet": [
           {
            "colorbar": {
             "outlinewidth": 0,
             "ticks": ""
            },
            "type": "contourcarpet"
           }
          ],
          "heatmap": [
           {
            "colorbar": {
             "outlinewidth": 0,
             "ticks": ""
            },
            "colorscale": [
             [
              0,
              "#0d0887"
             ],
             [
              0.1111111111111111,
              "#46039f"
             ],
             [
              0.2222222222222222,
              "#7201a8"
             ],
             [
              0.3333333333333333,
              "#9c179e"
             ],
             [
              0.4444444444444444,
              "#bd3786"
             ],
             [
              0.5555555555555556,
              "#d8576b"
             ],
             [
              0.6666666666666666,
              "#ed7953"
             ],
             [
              0.7777777777777778,
              "#fb9f3a"
             ],
             [
              0.8888888888888888,
              "#fdca26"
             ],
             [
              1,
              "#f0f921"
             ]
            ],
            "type": "heatmap"
           }
          ],
          "heatmapgl": [
           {
            "colorbar": {
             "outlinewidth": 0,
             "ticks": ""
            },
            "colorscale": [
             [
              0,
              "#0d0887"
             ],
             [
              0.1111111111111111,
              "#46039f"
             ],
             [
              0.2222222222222222,
              "#7201a8"
             ],
             [
              0.3333333333333333,
              "#9c179e"
             ],
             [
              0.4444444444444444,
              "#bd3786"
             ],
             [
              0.5555555555555556,
              "#d8576b"
             ],
             [
              0.6666666666666666,
              "#ed7953"
             ],
             [
              0.7777777777777778,
              "#fb9f3a"
             ],
             [
              0.8888888888888888,
              "#fdca26"
             ],
             [
              1,
              "#f0f921"
             ]
            ],
            "type": "heatmapgl"
           }
          ],
          "histogram": [
           {
            "marker": {
             "pattern": {
              "fillmode": "overlay",
              "size": 10,
              "solidity": 0.2
             }
            },
            "type": "histogram"
           }
          ],
          "histogram2d": [
           {
            "colorbar": {
             "outlinewidth": 0,
             "ticks": ""
            },
            "colorscale": [
             [
              0,
              "#0d0887"
             ],
             [
              0.1111111111111111,
              "#46039f"
             ],
             [
              0.2222222222222222,
              "#7201a8"
             ],
             [
              0.3333333333333333,
              "#9c179e"
             ],
             [
              0.4444444444444444,
              "#bd3786"
             ],
             [
              0.5555555555555556,
              "#d8576b"
             ],
             [
              0.6666666666666666,
              "#ed7953"
             ],
             [
              0.7777777777777778,
              "#fb9f3a"
             ],
             [
              0.8888888888888888,
              "#fdca26"
             ],
             [
              1,
              "#f0f921"
             ]
            ],
            "type": "histogram2d"
           }
          ],
          "histogram2dcontour": [
           {
            "colorbar": {
             "outlinewidth": 0,
             "ticks": ""
            },
            "colorscale": [
             [
              0,
              "#0d0887"
             ],
             [
              0.1111111111111111,
              "#46039f"
             ],
             [
              0.2222222222222222,
              "#7201a8"
             ],
             [
              0.3333333333333333,
              "#9c179e"
             ],
             [
              0.4444444444444444,
              "#bd3786"
             ],
             [
              0.5555555555555556,
              "#d8576b"
             ],
             [
              0.6666666666666666,
              "#ed7953"
             ],
             [
              0.7777777777777778,
              "#fb9f3a"
             ],
             [
              0.8888888888888888,
              "#fdca26"
             ],
             [
              1,
              "#f0f921"
             ]
            ],
            "type": "histogram2dcontour"
           }
          ],
          "mesh3d": [
           {
            "colorbar": {
             "outlinewidth": 0,
             "ticks": ""
            },
            "type": "mesh3d"
           }
          ],
          "parcoords": [
           {
            "line": {
             "colorbar": {
              "outlinewidth": 0,
              "ticks": ""
             }
            },
            "type": "parcoords"
           }
          ],
          "pie": [
           {
            "automargin": true,
            "type": "pie"
           }
          ],
          "scatter": [
           {
            "fillpattern": {
             "fillmode": "overlay",
             "size": 10,
             "solidity": 0.2
            },
            "type": "scatter"
           }
          ],
          "scatter3d": [
           {
            "line": {
             "colorbar": {
              "outlinewidth": 0,
              "ticks": ""
             }
            },
            "marker": {
             "colorbar": {
              "outlinewidth": 0,
              "ticks": ""
             }
            },
            "type": "scatter3d"
           }
          ],
          "scattercarpet": [
           {
            "marker": {
             "colorbar": {
              "outlinewidth": 0,
              "ticks": ""
             }
            },
            "type": "scattercarpet"
           }
          ],
          "scattergeo": [
           {
            "marker": {
             "colorbar": {
              "outlinewidth": 0,
              "ticks": ""
             }
            },
            "type": "scattergeo"
           }
          ],
          "scattergl": [
           {
            "marker": {
             "colorbar": {
              "outlinewidth": 0,
              "ticks": ""
             }
            },
            "type": "scattergl"
           }
          ],
          "scattermapbox": [
           {
            "marker": {
             "colorbar": {
              "outlinewidth": 0,
              "ticks": ""
             }
            },
            "type": "scattermapbox"
           }
          ],
          "scatterpolar": [
           {
            "marker": {
             "colorbar": {
              "outlinewidth": 0,
              "ticks": ""
             }
            },
            "type": "scatterpolar"
           }
          ],
          "scatterpolargl": [
           {
            "marker": {
             "colorbar": {
              "outlinewidth": 0,
              "ticks": ""
             }
            },
            "type": "scatterpolargl"
           }
          ],
          "scatterternary": [
           {
            "marker": {
             "colorbar": {
              "outlinewidth": 0,
              "ticks": ""
             }
            },
            "type": "scatterternary"
           }
          ],
          "surface": [
           {
            "colorbar": {
             "outlinewidth": 0,
             "ticks": ""
            },
            "colorscale": [
             [
              0,
              "#0d0887"
             ],
             [
              0.1111111111111111,
              "#46039f"
             ],
             [
              0.2222222222222222,
              "#7201a8"
             ],
             [
              0.3333333333333333,
              "#9c179e"
             ],
             [
              0.4444444444444444,
              "#bd3786"
             ],
             [
              0.5555555555555556,
              "#d8576b"
             ],
             [
              0.6666666666666666,
              "#ed7953"
             ],
             [
              0.7777777777777778,
              "#fb9f3a"
             ],
             [
              0.8888888888888888,
              "#fdca26"
             ],
             [
              1,
              "#f0f921"
             ]
            ],
            "type": "surface"
           }
          ],
          "table": [
           {
            "cells": {
             "fill": {
              "color": "#EBF0F8"
             },
             "line": {
              "color": "white"
             }
            },
            "header": {
             "fill": {
              "color": "#C8D4E3"
             },
             "line": {
              "color": "white"
             }
            },
            "type": "table"
           }
          ]
         },
         "layout": {
          "annotationdefaults": {
           "arrowcolor": "#2a3f5f",
           "arrowhead": 0,
           "arrowwidth": 1
          },
          "autotypenumbers": "strict",
          "coloraxis": {
           "colorbar": {
            "outlinewidth": 0,
            "ticks": ""
           }
          },
          "colorscale": {
           "diverging": [
            [
             0,
             "#8e0152"
            ],
            [
             0.1,
             "#c51b7d"
            ],
            [
             0.2,
             "#de77ae"
            ],
            [
             0.3,
             "#f1b6da"
            ],
            [
             0.4,
             "#fde0ef"
            ],
            [
             0.5,
             "#f7f7f7"
            ],
            [
             0.6,
             "#e6f5d0"
            ],
            [
             0.7,
             "#b8e186"
            ],
            [
             0.8,
             "#7fbc41"
            ],
            [
             0.9,
             "#4d9221"
            ],
            [
             1,
             "#276419"
            ]
           ],
           "sequential": [
            [
             0,
             "#0d0887"
            ],
            [
             0.1111111111111111,
             "#46039f"
            ],
            [
             0.2222222222222222,
             "#7201a8"
            ],
            [
             0.3333333333333333,
             "#9c179e"
            ],
            [
             0.4444444444444444,
             "#bd3786"
            ],
            [
             0.5555555555555556,
             "#d8576b"
            ],
            [
             0.6666666666666666,
             "#ed7953"
            ],
            [
             0.7777777777777778,
             "#fb9f3a"
            ],
            [
             0.8888888888888888,
             "#fdca26"
            ],
            [
             1,
             "#f0f921"
            ]
           ],
           "sequentialminus": [
            [
             0,
             "#0d0887"
            ],
            [
             0.1111111111111111,
             "#46039f"
            ],
            [
             0.2222222222222222,
             "#7201a8"
            ],
            [
             0.3333333333333333,
             "#9c179e"
            ],
            [
             0.4444444444444444,
             "#bd3786"
            ],
            [
             0.5555555555555556,
             "#d8576b"
            ],
            [
             0.6666666666666666,
             "#ed7953"
            ],
            [
             0.7777777777777778,
             "#fb9f3a"
            ],
            [
             0.8888888888888888,
             "#fdca26"
            ],
            [
             1,
             "#f0f921"
            ]
           ]
          },
          "colorway": [
           "#636efa",
           "#EF553B",
           "#00cc96",
           "#ab63fa",
           "#FFA15A",
           "#19d3f3",
           "#FF6692",
           "#B6E880",
           "#FF97FF",
           "#FECB52"
          ],
          "font": {
           "color": "#2a3f5f"
          },
          "geo": {
           "bgcolor": "white",
           "lakecolor": "white",
           "landcolor": "#E5ECF6",
           "showlakes": true,
           "showland": true,
           "subunitcolor": "white"
          },
          "hoverlabel": {
           "align": "left"
          },
          "hovermode": "closest",
          "mapbox": {
           "style": "light"
          },
          "paper_bgcolor": "white",
          "plot_bgcolor": "#E5ECF6",
          "polar": {
           "angularaxis": {
            "gridcolor": "white",
            "linecolor": "white",
            "ticks": ""
           },
           "bgcolor": "#E5ECF6",
           "radialaxis": {
            "gridcolor": "white",
            "linecolor": "white",
            "ticks": ""
           }
          },
          "scene": {
           "xaxis": {
            "backgroundcolor": "#E5ECF6",
            "gridcolor": "white",
            "gridwidth": 2,
            "linecolor": "white",
            "showbackground": true,
            "ticks": "",
            "zerolinecolor": "white"
           },
           "yaxis": {
            "backgroundcolor": "#E5ECF6",
            "gridcolor": "white",
            "gridwidth": 2,
            "linecolor": "white",
            "showbackground": true,
            "ticks": "",
            "zerolinecolor": "white"
           },
           "zaxis": {
            "backgroundcolor": "#E5ECF6",
            "gridcolor": "white",
            "gridwidth": 2,
            "linecolor": "white",
            "showbackground": true,
            "ticks": "",
            "zerolinecolor": "white"
           }
          },
          "shapedefaults": {
           "line": {
            "color": "#2a3f5f"
           }
          },
          "ternary": {
           "aaxis": {
            "gridcolor": "white",
            "linecolor": "white",
            "ticks": ""
           },
           "baxis": {
            "gridcolor": "white",
            "linecolor": "white",
            "ticks": ""
           },
           "bgcolor": "#E5ECF6",
           "caxis": {
            "gridcolor": "white",
            "linecolor": "white",
            "ticks": ""
           }
          },
          "title": {
           "x": 0.05
          },
          "xaxis": {
           "automargin": true,
           "gridcolor": "white",
           "linecolor": "white",
           "ticks": "",
           "title": {
            "standoff": 15
           },
           "zerolinecolor": "white",
           "zerolinewidth": 2
          },
          "yaxis": {
           "automargin": true,
           "gridcolor": "white",
           "linecolor": "white",
           "ticks": "",
           "title": {
            "standoff": 15
           },
           "zerolinecolor": "white",
           "zerolinewidth": 2
          }
         }
        },
        "xaxis": {
         "anchor": "y",
         "domain": [
          0,
          1
         ],
         "title": {
          "text": "date_tracked"
         }
        },
        "yaxis": {
         "anchor": "x",
         "domain": [
          0,
          1
         ],
         "title": {
          "text": "track_playcount"
         }
        }
       }
      }
     },
     "metadata": {},
     "output_type": "display_data"
    }
   ],
   "source": [
    "import plotly.express as px\n",
    "df1 = df[df['album_name'] == 'Anti-Hero (ILLENIUM Remix)']\n",
    "\n",
    "\n",
    "fig = px.line(df1, x='date_tracked', y=\"track_playcount\")\n",
    "fig.show()"
   ]
  },
  {
   "cell_type": "code",
   "execution_count": null,
   "metadata": {},
   "outputs": [],
   "source": []
  }
 ],
 "metadata": {
  "kernelspec": {
   "display_name": "Python 3",
   "language": "python",
   "name": "python3"
  },
  "language_info": {
   "codemirror_mode": {
    "name": "ipython",
    "version": 3
   },
   "file_extension": ".py",
   "mimetype": "text/x-python",
   "name": "python",
   "nbconvert_exporter": "python",
   "pygments_lexer": "ipython3",
   "version": "3.9.15"
  },
  "orig_nbformat": 4,
  "vscode": {
   "interpreter": {
    "hash": "397704579725e15f5c7cb49fe5f0341eb7531c82d19f2c29d197e8b64ab5776b"
   }
  }
 },
 "nbformat": 4,
 "nbformat_minor": 2
}
