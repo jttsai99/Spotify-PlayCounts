{
 "cells": [
  {
   "cell_type": "code",
   "execution_count": 1,
   "metadata": {},
   "outputs": [],
   "source": [
    "from dotenv import load_dotenv\n",
    "import os\n",
    "import base64\n",
    "import requests"
   ]
  },
  {
   "cell_type": "code",
   "execution_count": 2,
   "metadata": {},
   "outputs": [],
   "source": [
    "# Get configuration file that has all the api tokens\n",
    "def configure():\n",
    "    load_dotenv()"
   ]
  },
  {
   "cell_type": "code",
   "execution_count": 3,
   "metadata": {},
   "outputs": [
    {
     "name": "stdout",
     "output_type": "stream",
     "text": [
      "40692bc74b7f42f9a0d19365e7af4cd8\n",
      "790e90e05ada42339bc081c69ffef37e\n"
     ]
    }
   ],
   "source": [
    "#Grab the Client_id and Client_secret from the env for the documented api\n",
    "configure()\n",
    "CLIENT_ID = os.getenv('CLIENT_ID')\n",
    "CLIENT_SECRET = os.getenv('CLIENT_SECRET')\n",
    "print(CLIENT_ID)\n",
    "print(CLIENT_SECRET)"
   ]
  },
  {
   "attachments": {},
   "cell_type": "markdown",
   "metadata": {},
   "source": [
    "***"
   ]
  },
  {
   "cell_type": "code",
   "execution_count": 4,
   "metadata": {},
   "outputs": [],
   "source": [
    "def get_token():\n",
    "    '''Takes the Client_ID and Client_Secret to request access token.\n",
    "        Access tokens expire every hour so have to request new one'''\n",
    "    ## Setup the authorization str and convert to base64  \n",
    "    auth_str = CLIENT_ID + \":\" + CLIENT_SECRET\n",
    "    #encode str with utf-8 first\n",
    "    auth_bytes = auth_str.encode(\"utf-8\")\n",
    "    #encoding it to required base64\n",
    "    auth_base64 = str(base64.b64encode(auth_bytes),\"utf-8\")\n",
    "\n",
    "    ## Run the Actual Request with Post, setting up required header fields\n",
    "    url = \"https://accounts.spotify.com/api/token\"\n",
    "    headers = {\n",
    "        \"Authorization\": \"Basic \" + auth_base64,\n",
    "        \"Content-Type\": \"application/x-www-form-urlencoded\"\n",
    "    }\n",
    "\n",
    "    data = {\"grant_type\": \"client_credentials\"}\n",
    "\n",
    "    ## actually make the request to Spotify\n",
    "    result = requests.post(url, headers = headers, data = data)\n",
    "    json_result = result.json()\n",
    "    token = json_result[\"access_token\"]\n",
    "    return token"
   ]
  },
  {
   "cell_type": "code",
   "execution_count": 5,
   "metadata": {},
   "outputs": [],
   "source": [
    "def get_auth_header(token):\n",
    "    '''Creates Authorization header with the access token for requests to official Spotify API'''\n",
    "    header = {\n",
    "        \"Authorization\": \"Bearer \" + token\n",
    "        }\n",
    "    return header"
   ]
  },
  {
   "cell_type": "code",
   "execution_count": 6,
   "metadata": {},
   "outputs": [],
   "source": [
    "\n",
    "def search_artist(token, artist_name):\n",
    "    '''Search the Artist name and get their info including ID and popularity'''\n",
    "    url = \"https://api.spotify.com/v1/search\"\n",
    "    headers = get_auth_header(token)\n",
    "\n",
    "    querystring = {\n",
    "                \"q\": artist_name,\n",
    "                \"type\": \"artist\",\n",
    "                \"limit\": 1\n",
    "                }\n",
    "\n",
    "    result = requests.request(\"GET\",url, headers= headers, params=querystring)\n",
    "    \n",
    "    json_result = result.json()\n",
    "\n",
    "    try:\n",
    "        #returns a artist_id, artist name,\n",
    "        answer = json_result['artists']['items'][0]\n",
    "        return answer\n",
    "    except:\n",
    "        #give error\n",
    "        print(\"No artist with this name on Spotify\")\n",
    "        return None"
   ]
  },
  {
   "cell_type": "code",
   "execution_count": 7,
   "metadata": {},
   "outputs": [],
   "source": [
    "token = get_token()\n",
    "artist = search_artist(token, \"Tee Grizzley\")"
   ]
  },
  {
   "cell_type": "code",
   "execution_count": 8,
   "metadata": {},
   "outputs": [
    {
     "data": {
      "text/plain": [
       "{'external_urls': {'spotify': 'https://open.spotify.com/artist/6AUl0ykLLpvTktob97x9hO'},\n",
       " 'followers': {'href': None, 'total': 3238309},\n",
       " 'genres': ['detroit hip hop',\n",
       "  'detroit trap',\n",
       "  'hip hop',\n",
       "  'pop rap',\n",
       "  'rap',\n",
       "  'southern hip hop',\n",
       "  'trap'],\n",
       " 'href': 'https://api.spotify.com/v1/artists/6AUl0ykLLpvTktob97x9hO',\n",
       " 'id': '6AUl0ykLLpvTktob97x9hO',\n",
       " 'images': [{'height': 640,\n",
       "   'url': 'https://i.scdn.co/image/ab6761610000e5eba8f18373dcbc960a190a058d',\n",
       "   'width': 640},\n",
       "  {'height': 320,\n",
       "   'url': 'https://i.scdn.co/image/ab67616100005174a8f18373dcbc960a190a058d',\n",
       "   'width': 320},\n",
       "  {'height': 160,\n",
       "   'url': 'https://i.scdn.co/image/ab6761610000f178a8f18373dcbc960a190a058d',\n",
       "   'width': 160}],\n",
       " 'name': 'Tee Grizzley',\n",
       " 'popularity': 70,\n",
       " 'type': 'artist',\n",
       " 'uri': 'spotify:artist:6AUl0ykLLpvTktob97x9hO'}"
      ]
     },
     "execution_count": 8,
     "metadata": {},
     "output_type": "execute_result"
    }
   ],
   "source": [
    "artist"
   ]
  },
  {
   "cell_type": "code",
   "execution_count": null,
   "metadata": {},
   "outputs": [],
   "source": []
  }
 ],
 "metadata": {
  "kernelspec": {
   "display_name": "Python 3",
   "language": "python",
   "name": "python3"
  },
  "language_info": {
   "codemirror_mode": {
    "name": "ipython",
    "version": 3
   },
   "file_extension": ".py",
   "mimetype": "text/x-python",
   "name": "python",
   "nbconvert_exporter": "python",
   "pygments_lexer": "ipython3",
   "version": "3.9.15"
  },
  "orig_nbformat": 4,
  "vscode": {
   "interpreter": {
    "hash": "397704579725e15f5c7cb49fe5f0341eb7531c82d19f2c29d197e8b64ab5776b"
   }
  }
 },
 "nbformat": 4,
 "nbformat_minor": 2
}
