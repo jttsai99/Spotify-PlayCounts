{
 "cells": [
  {
   "cell_type": "code",
   "execution_count": 1,
   "metadata": {},
   "outputs": [],
   "source": [
    "import sqlite3 as sql\n",
    "import pandas as pd\n",
    "import plotly.express as px"
   ]
  },
  {
   "cell_type": "code",
   "execution_count": 2,
   "metadata": {},
   "outputs": [],
   "source": [
    "db = sql.connect(\"/Users/jaspertsai/Documents/GitHub/Spotify-PlayCounts/data/Spotify.db\")\n"
   ]
  },
  {
   "attachments": {},
   "cell_type": "markdown",
   "metadata": {},
   "source": [
    "# SQL query"
   ]
  },
  {
   "attachments": {},
   "cell_type": "markdown",
   "metadata": {},
   "source": [
    "## Testing Query"
   ]
  },
  {
   "attachments": {},
   "cell_type": "markdown",
   "metadata": {},
   "source": [
    "#### Tracks_Playcount"
   ]
  },
  {
   "cell_type": "code",
   "execution_count": 3,
   "metadata": {},
   "outputs": [],
   "source": [
    "track_play_df = pd.read_sql(\n",
    "        f'''\n",
    "        SELECT track_id,track_playcount,date_tracked\n",
    "        FROM Tracks_Playcount\n",
    "        '''\n",
    "    ,db)"
   ]
  },
  {
   "cell_type": "code",
   "execution_count": 4,
   "metadata": {},
   "outputs": [
    {
     "data": {
      "text/html": [
       "<div>\n",
       "<style scoped>\n",
       "    .dataframe tbody tr th:only-of-type {\n",
       "        vertical-align: middle;\n",
       "    }\n",
       "\n",
       "    .dataframe tbody tr th {\n",
       "        vertical-align: top;\n",
       "    }\n",
       "\n",
       "    .dataframe thead th {\n",
       "        text-align: right;\n",
       "    }\n",
       "</style>\n",
       "<table border=\"1\" class=\"dataframe\">\n",
       "  <thead>\n",
       "    <tr style=\"text-align: right;\">\n",
       "      <th></th>\n",
       "      <th>track_id</th>\n",
       "      <th>track_playcount</th>\n",
       "      <th>date_tracked</th>\n",
       "    </tr>\n",
       "  </thead>\n",
       "  <tbody>\n",
       "    <tr>\n",
       "      <th>1324</th>\n",
       "      <td>5FvxRvrQ8qzKjBJ6ST9aiu</td>\n",
       "      <td>13378937</td>\n",
       "      <td>2023-03-04</td>\n",
       "    </tr>\n",
       "    <tr>\n",
       "      <th>1325</th>\n",
       "      <td>1DlczmjByrS4qxRVfGjpqN</td>\n",
       "      <td>25973528</td>\n",
       "      <td>2023-03-04</td>\n",
       "    </tr>\n",
       "    <tr>\n",
       "      <th>1326</th>\n",
       "      <td>6nhc3daOpKaZBRj2ZFWfc7</td>\n",
       "      <td>22909653</td>\n",
       "      <td>2023-03-04</td>\n",
       "    </tr>\n",
       "    <tr>\n",
       "      <th>1327</th>\n",
       "      <td>6Lgbf4b6c9fwz24eFEWONX</td>\n",
       "      <td>9471671</td>\n",
       "      <td>2023-03-04</td>\n",
       "    </tr>\n",
       "    <tr>\n",
       "      <th>1328</th>\n",
       "      <td>7btzRuXC6Ed3rIyomBRkO2</td>\n",
       "      <td>920719525</td>\n",
       "      <td>2023-03-04</td>\n",
       "    </tr>\n",
       "    <tr>\n",
       "      <th>...</th>\n",
       "      <td>...</td>\n",
       "      <td>...</td>\n",
       "      <td>...</td>\n",
       "    </tr>\n",
       "    <tr>\n",
       "      <th>35121</th>\n",
       "      <td>6nhc3daOpKaZBRj2ZFWfc7</td>\n",
       "      <td>23072610</td>\n",
       "      <td>2023-03-13</td>\n",
       "    </tr>\n",
       "    <tr>\n",
       "      <th>35122</th>\n",
       "      <td>6Lgbf4b6c9fwz24eFEWONX</td>\n",
       "      <td>9506402</td>\n",
       "      <td>2023-03-13</td>\n",
       "    </tr>\n",
       "    <tr>\n",
       "      <th>35123</th>\n",
       "      <td>7btzRuXC6Ed3rIyomBRkO2</td>\n",
       "      <td>930553054</td>\n",
       "      <td>2023-03-13</td>\n",
       "    </tr>\n",
       "    <tr>\n",
       "      <th>35124</th>\n",
       "      <td>6BeOJPXMstvXolxKbL09kR</td>\n",
       "      <td>31298708</td>\n",
       "      <td>2023-03-13</td>\n",
       "    </tr>\n",
       "    <tr>\n",
       "      <th>37478</th>\n",
       "      <td>6C0H8ts9M6deezz0yYR6LK</td>\n",
       "      <td>6961760</td>\n",
       "      <td>2023-03-13</td>\n",
       "    </tr>\n",
       "  </tbody>\n",
       "</table>\n",
       "<p>67 rows × 3 columns</p>\n",
       "</div>"
      ],
      "text/plain": [
       "                     track_id  track_playcount date_tracked\n",
       "1324   5FvxRvrQ8qzKjBJ6ST9aiu         13378937   2023-03-04\n",
       "1325   1DlczmjByrS4qxRVfGjpqN         25973528   2023-03-04\n",
       "1326   6nhc3daOpKaZBRj2ZFWfc7         22909653   2023-03-04\n",
       "1327   6Lgbf4b6c9fwz24eFEWONX          9471671   2023-03-04\n",
       "1328   7btzRuXC6Ed3rIyomBRkO2        920719525   2023-03-04\n",
       "...                       ...              ...          ...\n",
       "35121  6nhc3daOpKaZBRj2ZFWfc7         23072610   2023-03-13\n",
       "35122  6Lgbf4b6c9fwz24eFEWONX          9506402   2023-03-13\n",
       "35123  7btzRuXC6Ed3rIyomBRkO2        930553054   2023-03-13\n",
       "35124  6BeOJPXMstvXolxKbL09kR         31298708   2023-03-13\n",
       "37478  6C0H8ts9M6deezz0yYR6LK          6961760   2023-03-13\n",
       "\n",
       "[67 rows x 3 columns]"
      ]
     },
     "execution_count": 4,
     "metadata": {},
     "output_type": "execute_result"
    }
   ],
   "source": [
    "#see the duplicated ids\n",
    "track_play_df.loc[track_play_df.duplicated(),:]"
   ]
  },
  {
   "cell_type": "code",
   "execution_count": 5,
   "metadata": {},
   "outputs": [
    {
     "data": {
      "text/html": [
       "<div>\n",
       "<style scoped>\n",
       "    .dataframe tbody tr th:only-of-type {\n",
       "        vertical-align: middle;\n",
       "    }\n",
       "\n",
       "    .dataframe tbody tr th {\n",
       "        vertical-align: top;\n",
       "    }\n",
       "\n",
       "    .dataframe thead th {\n",
       "        text-align: right;\n",
       "    }\n",
       "</style>\n",
       "<table border=\"1\" class=\"dataframe\">\n",
       "  <thead>\n",
       "    <tr style=\"text-align: right;\">\n",
       "      <th></th>\n",
       "      <th>track_id</th>\n",
       "      <th>track_playcount</th>\n",
       "      <th>date_tracked</th>\n",
       "    </tr>\n",
       "  </thead>\n",
       "  <tbody>\n",
       "    <tr>\n",
       "      <th>0</th>\n",
       "      <td>12sliObzVzbLbAlDb8eChf</td>\n",
       "      <td>91887648</td>\n",
       "      <td>2023-03-04</td>\n",
       "    </tr>\n",
       "    <tr>\n",
       "      <th>1</th>\n",
       "      <td>1hG4V53eR16jg7jVTNLOiX</td>\n",
       "      <td>813653167</td>\n",
       "      <td>2023-03-04</td>\n",
       "    </tr>\n",
       "    <tr>\n",
       "      <th>2</th>\n",
       "      <td>5VipERQ1ofCowecoFg2MVU</td>\n",
       "      <td>380497375</td>\n",
       "      <td>2023-03-04</td>\n",
       "    </tr>\n",
       "    <tr>\n",
       "      <th>3</th>\n",
       "      <td>1N9hFgcgWYbGINUKjhvcK6</td>\n",
       "      <td>157315542</td>\n",
       "      <td>2023-03-04</td>\n",
       "    </tr>\n",
       "    <tr>\n",
       "      <th>4</th>\n",
       "      <td>1qKdid2S9fZdSrzLaCcjcF</td>\n",
       "      <td>125490517</td>\n",
       "      <td>2023-03-04</td>\n",
       "    </tr>\n",
       "    <tr>\n",
       "      <th>...</th>\n",
       "      <td>...</td>\n",
       "      <td>...</td>\n",
       "      <td>...</td>\n",
       "    </tr>\n",
       "    <tr>\n",
       "      <th>37545</th>\n",
       "      <td>1g09DZjQ7yBommCT6POY2n</td>\n",
       "      <td>4443156</td>\n",
       "      <td>2023-03-13</td>\n",
       "    </tr>\n",
       "    <tr>\n",
       "      <th>37546</th>\n",
       "      <td>71IScwIe7bcIlpnlkbKVQw</td>\n",
       "      <td>7011906</td>\n",
       "      <td>2023-03-13</td>\n",
       "    </tr>\n",
       "    <tr>\n",
       "      <th>37547</th>\n",
       "      <td>1cJkUN5LAotktryx2nPCr7</td>\n",
       "      <td>3388686</td>\n",
       "      <td>2023-03-13</td>\n",
       "    </tr>\n",
       "    <tr>\n",
       "      <th>37548</th>\n",
       "      <td>31JVjy3XWnh6C2zf4kLCXN</td>\n",
       "      <td>4266171</td>\n",
       "      <td>2023-03-13</td>\n",
       "    </tr>\n",
       "    <tr>\n",
       "      <th>37549</th>\n",
       "      <td>7GZ3KDorsc1yWndEtzGTjf</td>\n",
       "      <td>3864811</td>\n",
       "      <td>2023-03-13</td>\n",
       "    </tr>\n",
       "  </tbody>\n",
       "</table>\n",
       "<p>37483 rows × 3 columns</p>\n",
       "</div>"
      ],
      "text/plain": [
       "                     track_id  track_playcount date_tracked\n",
       "0      12sliObzVzbLbAlDb8eChf         91887648   2023-03-04\n",
       "1      1hG4V53eR16jg7jVTNLOiX        813653167   2023-03-04\n",
       "2      5VipERQ1ofCowecoFg2MVU        380497375   2023-03-04\n",
       "3      1N9hFgcgWYbGINUKjhvcK6        157315542   2023-03-04\n",
       "4      1qKdid2S9fZdSrzLaCcjcF        125490517   2023-03-04\n",
       "...                       ...              ...          ...\n",
       "37545  1g09DZjQ7yBommCT6POY2n          4443156   2023-03-13\n",
       "37546  71IScwIe7bcIlpnlkbKVQw          7011906   2023-03-13\n",
       "37547  1cJkUN5LAotktryx2nPCr7          3388686   2023-03-13\n",
       "37548  31JVjy3XWnh6C2zf4kLCXN          4266171   2023-03-13\n",
       "37549  7GZ3KDorsc1yWndEtzGTjf          3864811   2023-03-13\n",
       "\n",
       "[37483 rows x 3 columns]"
      ]
     },
     "execution_count": 5,
     "metadata": {},
     "output_type": "execute_result"
    }
   ],
   "source": [
    "df1 = track_play_df.drop_duplicates()\n",
    "df1"
   ]
  },
  {
   "attachments": {},
   "cell_type": "markdown",
   "metadata": {},
   "source": [
    "#### Tracks_Popularity"
   ]
  },
  {
   "cell_type": "code",
   "execution_count": 6,
   "metadata": {},
   "outputs": [],
   "source": [
    "track_pop_df = pd.read_sql(\n",
    "        f'''\n",
    "        SELECT track_id,track_popularity,date_tracked\n",
    "        FROM Tracks_Popularity\n",
    "        '''\n",
    "    ,db)"
   ]
  },
  {
   "cell_type": "code",
   "execution_count": 7,
   "metadata": {},
   "outputs": [
    {
     "data": {
      "text/html": [
       "<div>\n",
       "<style scoped>\n",
       "    .dataframe tbody tr th:only-of-type {\n",
       "        vertical-align: middle;\n",
       "    }\n",
       "\n",
       "    .dataframe tbody tr th {\n",
       "        vertical-align: top;\n",
       "    }\n",
       "\n",
       "    .dataframe thead th {\n",
       "        text-align: right;\n",
       "    }\n",
       "</style>\n",
       "<table border=\"1\" class=\"dataframe\">\n",
       "  <thead>\n",
       "    <tr style=\"text-align: right;\">\n",
       "      <th></th>\n",
       "      <th>track_id</th>\n",
       "      <th>track_popularity</th>\n",
       "      <th>date_tracked</th>\n",
       "    </tr>\n",
       "  </thead>\n",
       "  <tbody>\n",
       "    <tr>\n",
       "      <th>1324</th>\n",
       "      <td>5FvxRvrQ8qzKjBJ6ST9aiu</td>\n",
       "      <td>52</td>\n",
       "      <td>2023-03-04</td>\n",
       "    </tr>\n",
       "    <tr>\n",
       "      <th>1325</th>\n",
       "      <td>1DlczmjByrS4qxRVfGjpqN</td>\n",
       "      <td>60</td>\n",
       "      <td>2023-03-04</td>\n",
       "    </tr>\n",
       "    <tr>\n",
       "      <th>1326</th>\n",
       "      <td>6nhc3daOpKaZBRj2ZFWfc7</td>\n",
       "      <td>55</td>\n",
       "      <td>2023-03-04</td>\n",
       "    </tr>\n",
       "    <tr>\n",
       "      <th>1327</th>\n",
       "      <td>6Lgbf4b6c9fwz24eFEWONX</td>\n",
       "      <td>44</td>\n",
       "      <td>2023-03-04</td>\n",
       "    </tr>\n",
       "    <tr>\n",
       "      <th>1328</th>\n",
       "      <td>7btzRuXC6Ed3rIyomBRkO2</td>\n",
       "      <td>63</td>\n",
       "      <td>2023-03-04</td>\n",
       "    </tr>\n",
       "    <tr>\n",
       "      <th>...</th>\n",
       "      <td>...</td>\n",
       "      <td>...</td>\n",
       "      <td>...</td>\n",
       "    </tr>\n",
       "    <tr>\n",
       "      <th>35121</th>\n",
       "      <td>6nhc3daOpKaZBRj2ZFWfc7</td>\n",
       "      <td>56</td>\n",
       "      <td>2023-03-13</td>\n",
       "    </tr>\n",
       "    <tr>\n",
       "      <th>35122</th>\n",
       "      <td>6Lgbf4b6c9fwz24eFEWONX</td>\n",
       "      <td>44</td>\n",
       "      <td>2023-03-13</td>\n",
       "    </tr>\n",
       "    <tr>\n",
       "      <th>35123</th>\n",
       "      <td>7btzRuXC6Ed3rIyomBRkO2</td>\n",
       "      <td>63</td>\n",
       "      <td>2023-03-13</td>\n",
       "    </tr>\n",
       "    <tr>\n",
       "      <th>35124</th>\n",
       "      <td>6BeOJPXMstvXolxKbL09kR</td>\n",
       "      <td>59</td>\n",
       "      <td>2023-03-13</td>\n",
       "    </tr>\n",
       "    <tr>\n",
       "      <th>37478</th>\n",
       "      <td>6C0H8ts9M6deezz0yYR6LK</td>\n",
       "      <td>61</td>\n",
       "      <td>2023-03-13</td>\n",
       "    </tr>\n",
       "  </tbody>\n",
       "</table>\n",
       "<p>70 rows × 3 columns</p>\n",
       "</div>"
      ],
      "text/plain": [
       "                     track_id  track_popularity date_tracked\n",
       "1324   5FvxRvrQ8qzKjBJ6ST9aiu                52   2023-03-04\n",
       "1325   1DlczmjByrS4qxRVfGjpqN                60   2023-03-04\n",
       "1326   6nhc3daOpKaZBRj2ZFWfc7                55   2023-03-04\n",
       "1327   6Lgbf4b6c9fwz24eFEWONX                44   2023-03-04\n",
       "1328   7btzRuXC6Ed3rIyomBRkO2                63   2023-03-04\n",
       "...                       ...               ...          ...\n",
       "35121  6nhc3daOpKaZBRj2ZFWfc7                56   2023-03-13\n",
       "35122  6Lgbf4b6c9fwz24eFEWONX                44   2023-03-13\n",
       "35123  7btzRuXC6Ed3rIyomBRkO2                63   2023-03-13\n",
       "35124  6BeOJPXMstvXolxKbL09kR                59   2023-03-13\n",
       "37478  6C0H8ts9M6deezz0yYR6LK                61   2023-03-13\n",
       "\n",
       "[70 rows x 3 columns]"
      ]
     },
     "execution_count": 7,
     "metadata": {},
     "output_type": "execute_result"
    }
   ],
   "source": [
    "#see the duplicated ids\n",
    "track_pop_df.loc[track_pop_df.duplicated(),:]"
   ]
  },
  {
   "cell_type": "code",
   "execution_count": 8,
   "metadata": {},
   "outputs": [
    {
     "data": {
      "text/html": [
       "<div>\n",
       "<style scoped>\n",
       "    .dataframe tbody tr th:only-of-type {\n",
       "        vertical-align: middle;\n",
       "    }\n",
       "\n",
       "    .dataframe tbody tr th {\n",
       "        vertical-align: top;\n",
       "    }\n",
       "\n",
       "    .dataframe thead th {\n",
       "        text-align: right;\n",
       "    }\n",
       "</style>\n",
       "<table border=\"1\" class=\"dataframe\">\n",
       "  <thead>\n",
       "    <tr style=\"text-align: right;\">\n",
       "      <th></th>\n",
       "      <th>track_id</th>\n",
       "      <th>track_popularity</th>\n",
       "      <th>date_tracked</th>\n",
       "    </tr>\n",
       "  </thead>\n",
       "  <tbody>\n",
       "    <tr>\n",
       "      <th>0</th>\n",
       "      <td>12sliObzVzbLbAlDb8eChf</td>\n",
       "      <td>50</td>\n",
       "      <td>2023-03-04</td>\n",
       "    </tr>\n",
       "    <tr>\n",
       "      <th>1</th>\n",
       "      <td>1hG4V53eR16jg7jVTNLOiX</td>\n",
       "      <td>54</td>\n",
       "      <td>2023-03-04</td>\n",
       "    </tr>\n",
       "    <tr>\n",
       "      <th>2</th>\n",
       "      <td>5VipERQ1ofCowecoFg2MVU</td>\n",
       "      <td>54</td>\n",
       "      <td>2023-03-04</td>\n",
       "    </tr>\n",
       "    <tr>\n",
       "      <th>3</th>\n",
       "      <td>1N9hFgcgWYbGINUKjhvcK6</td>\n",
       "      <td>52</td>\n",
       "      <td>2023-03-04</td>\n",
       "    </tr>\n",
       "    <tr>\n",
       "      <th>4</th>\n",
       "      <td>1qKdid2S9fZdSrzLaCcjcF</td>\n",
       "      <td>53</td>\n",
       "      <td>2023-03-04</td>\n",
       "    </tr>\n",
       "    <tr>\n",
       "      <th>...</th>\n",
       "      <td>...</td>\n",
       "      <td>...</td>\n",
       "      <td>...</td>\n",
       "    </tr>\n",
       "    <tr>\n",
       "      <th>37545</th>\n",
       "      <td>1g09DZjQ7yBommCT6POY2n</td>\n",
       "      <td>40</td>\n",
       "      <td>2023-03-13</td>\n",
       "    </tr>\n",
       "    <tr>\n",
       "      <th>37546</th>\n",
       "      <td>71IScwIe7bcIlpnlkbKVQw</td>\n",
       "      <td>41</td>\n",
       "      <td>2023-03-13</td>\n",
       "    </tr>\n",
       "    <tr>\n",
       "      <th>37547</th>\n",
       "      <td>1cJkUN5LAotktryx2nPCr7</td>\n",
       "      <td>39</td>\n",
       "      <td>2023-03-13</td>\n",
       "    </tr>\n",
       "    <tr>\n",
       "      <th>37548</th>\n",
       "      <td>31JVjy3XWnh6C2zf4kLCXN</td>\n",
       "      <td>40</td>\n",
       "      <td>2023-03-13</td>\n",
       "    </tr>\n",
       "    <tr>\n",
       "      <th>37549</th>\n",
       "      <td>7GZ3KDorsc1yWndEtzGTjf</td>\n",
       "      <td>39</td>\n",
       "      <td>2023-03-13</td>\n",
       "    </tr>\n",
       "  </tbody>\n",
       "</table>\n",
       "<p>37480 rows × 3 columns</p>\n",
       "</div>"
      ],
      "text/plain": [
       "                     track_id  track_popularity date_tracked\n",
       "0      12sliObzVzbLbAlDb8eChf                50   2023-03-04\n",
       "1      1hG4V53eR16jg7jVTNLOiX                54   2023-03-04\n",
       "2      5VipERQ1ofCowecoFg2MVU                54   2023-03-04\n",
       "3      1N9hFgcgWYbGINUKjhvcK6                52   2023-03-04\n",
       "4      1qKdid2S9fZdSrzLaCcjcF                53   2023-03-04\n",
       "...                       ...               ...          ...\n",
       "37545  1g09DZjQ7yBommCT6POY2n                40   2023-03-13\n",
       "37546  71IScwIe7bcIlpnlkbKVQw                41   2023-03-13\n",
       "37547  1cJkUN5LAotktryx2nPCr7                39   2023-03-13\n",
       "37548  31JVjy3XWnh6C2zf4kLCXN                40   2023-03-13\n",
       "37549  7GZ3KDorsc1yWndEtzGTjf                39   2023-03-13\n",
       "\n",
       "[37480 rows x 3 columns]"
      ]
     },
     "execution_count": 8,
     "metadata": {},
     "output_type": "execute_result"
    }
   ],
   "source": [
    "df2 = track_pop_df.drop_duplicates()\n",
    "df2"
   ]
  },
  {
   "attachments": {},
   "cell_type": "markdown",
   "metadata": {},
   "source": [
    "Test the merge to see the new resulted track_id"
   ]
  },
  {
   "cell_type": "code",
   "execution_count": 9,
   "metadata": {},
   "outputs": [
    {
     "data": {
      "text/html": [
       "<div>\n",
       "<style scoped>\n",
       "    .dataframe tbody tr th:only-of-type {\n",
       "        vertical-align: middle;\n",
       "    }\n",
       "\n",
       "    .dataframe tbody tr th {\n",
       "        vertical-align: top;\n",
       "    }\n",
       "\n",
       "    .dataframe thead th {\n",
       "        text-align: right;\n",
       "    }\n",
       "</style>\n",
       "<table border=\"1\" class=\"dataframe\">\n",
       "  <thead>\n",
       "    <tr style=\"text-align: right;\">\n",
       "      <th></th>\n",
       "      <th>track_id</th>\n",
       "      <th>track_playcount</th>\n",
       "      <th>date_tracked</th>\n",
       "      <th>track_popularity</th>\n",
       "    </tr>\n",
       "  </thead>\n",
       "  <tbody>\n",
       "    <tr>\n",
       "      <th>0</th>\n",
       "      <td>12sliObzVzbLbAlDb8eChf</td>\n",
       "      <td>91887648</td>\n",
       "      <td>2023-03-04</td>\n",
       "      <td>50</td>\n",
       "    </tr>\n",
       "    <tr>\n",
       "      <th>1</th>\n",
       "      <td>1hG4V53eR16jg7jVTNLOiX</td>\n",
       "      <td>813653167</td>\n",
       "      <td>2023-03-04</td>\n",
       "      <td>54</td>\n",
       "    </tr>\n",
       "    <tr>\n",
       "      <th>2</th>\n",
       "      <td>5VipERQ1ofCowecoFg2MVU</td>\n",
       "      <td>380497375</td>\n",
       "      <td>2023-03-04</td>\n",
       "      <td>54</td>\n",
       "    </tr>\n",
       "    <tr>\n",
       "      <th>3</th>\n",
       "      <td>1N9hFgcgWYbGINUKjhvcK6</td>\n",
       "      <td>157315542</td>\n",
       "      <td>2023-03-04</td>\n",
       "      <td>52</td>\n",
       "    </tr>\n",
       "    <tr>\n",
       "      <th>4</th>\n",
       "      <td>1qKdid2S9fZdSrzLaCcjcF</td>\n",
       "      <td>125490517</td>\n",
       "      <td>2023-03-04</td>\n",
       "      <td>53</td>\n",
       "    </tr>\n",
       "    <tr>\n",
       "      <th>...</th>\n",
       "      <td>...</td>\n",
       "      <td>...</td>\n",
       "      <td>...</td>\n",
       "      <td>...</td>\n",
       "    </tr>\n",
       "    <tr>\n",
       "      <th>37478</th>\n",
       "      <td>1g09DZjQ7yBommCT6POY2n</td>\n",
       "      <td>4443156</td>\n",
       "      <td>2023-03-13</td>\n",
       "      <td>40</td>\n",
       "    </tr>\n",
       "    <tr>\n",
       "      <th>37479</th>\n",
       "      <td>71IScwIe7bcIlpnlkbKVQw</td>\n",
       "      <td>7011906</td>\n",
       "      <td>2023-03-13</td>\n",
       "      <td>41</td>\n",
       "    </tr>\n",
       "    <tr>\n",
       "      <th>37480</th>\n",
       "      <td>1cJkUN5LAotktryx2nPCr7</td>\n",
       "      <td>3388686</td>\n",
       "      <td>2023-03-13</td>\n",
       "      <td>39</td>\n",
       "    </tr>\n",
       "    <tr>\n",
       "      <th>37481</th>\n",
       "      <td>31JVjy3XWnh6C2zf4kLCXN</td>\n",
       "      <td>4266171</td>\n",
       "      <td>2023-03-13</td>\n",
       "      <td>40</td>\n",
       "    </tr>\n",
       "    <tr>\n",
       "      <th>37482</th>\n",
       "      <td>7GZ3KDorsc1yWndEtzGTjf</td>\n",
       "      <td>3864811</td>\n",
       "      <td>2023-03-13</td>\n",
       "      <td>39</td>\n",
       "    </tr>\n",
       "  </tbody>\n",
       "</table>\n",
       "<p>37483 rows × 4 columns</p>\n",
       "</div>"
      ],
      "text/plain": [
       "                     track_id  track_playcount date_tracked  track_popularity\n",
       "0      12sliObzVzbLbAlDb8eChf         91887648   2023-03-04                50\n",
       "1      1hG4V53eR16jg7jVTNLOiX        813653167   2023-03-04                54\n",
       "2      5VipERQ1ofCowecoFg2MVU        380497375   2023-03-04                54\n",
       "3      1N9hFgcgWYbGINUKjhvcK6        157315542   2023-03-04                52\n",
       "4      1qKdid2S9fZdSrzLaCcjcF        125490517   2023-03-04                53\n",
       "...                       ...              ...          ...               ...\n",
       "37478  1g09DZjQ7yBommCT6POY2n          4443156   2023-03-13                40\n",
       "37479  71IScwIe7bcIlpnlkbKVQw          7011906   2023-03-13                41\n",
       "37480  1cJkUN5LAotktryx2nPCr7          3388686   2023-03-13                39\n",
       "37481  31JVjy3XWnh6C2zf4kLCXN          4266171   2023-03-13                40\n",
       "37482  7GZ3KDorsc1yWndEtzGTjf          3864811   2023-03-13                39\n",
       "\n",
       "[37483 rows x 4 columns]"
      ]
     },
     "execution_count": 9,
     "metadata": {},
     "output_type": "execute_result"
    }
   ],
   "source": [
    "df1.merge(df2)"
   ]
  },
  {
   "attachments": {},
   "cell_type": "markdown",
   "metadata": {},
   "source": [
    "## Get individual"
   ]
  },
  {
   "attachments": {},
   "cell_type": "markdown",
   "metadata": {},
   "source": [
    "#### `SQL_get_artist_pop()`"
   ]
  },
  {
   "cell_type": "code",
   "execution_count": 10,
   "metadata": {},
   "outputs": [],
   "source": [
    "def SQL_get_artist_pop(artist_name):\n",
    "    df = pd.read_sql(\n",
    "    f'''\n",
    "    SELECT * \n",
    "    FROM Artists_Popularity\n",
    "    WHERE artist_name = '{artist_name}'\n",
    "    ''', db)\n",
    "    return df"
   ]
  },
  {
   "cell_type": "code",
   "execution_count": 11,
   "metadata": {},
   "outputs": [
    {
     "data": {
      "text/html": [
       "<div>\n",
       "<style scoped>\n",
       "    .dataframe tbody tr th:only-of-type {\n",
       "        vertical-align: middle;\n",
       "    }\n",
       "\n",
       "    .dataframe tbody tr th {\n",
       "        vertical-align: top;\n",
       "    }\n",
       "\n",
       "    .dataframe thead th {\n",
       "        text-align: right;\n",
       "    }\n",
       "</style>\n",
       "<table border=\"1\" class=\"dataframe\">\n",
       "  <thead>\n",
       "    <tr style=\"text-align: right;\">\n",
       "      <th></th>\n",
       "      <th>artist_name</th>\n",
       "      <th>artist_id</th>\n",
       "      <th>artist_followers</th>\n",
       "      <th>artist_popularity</th>\n",
       "      <th>date_tracked</th>\n",
       "    </tr>\n",
       "  </thead>\n",
       "  <tbody>\n",
       "    <tr>\n",
       "      <th>0</th>\n",
       "      <td>BTS</td>\n",
       "      <td>3Nrfpe0tUJi4K4DXYWgMUX</td>\n",
       "      <td>61927930</td>\n",
       "      <td>93</td>\n",
       "      <td>2023-03-04</td>\n",
       "    </tr>\n",
       "    <tr>\n",
       "      <th>1</th>\n",
       "      <td>BTS</td>\n",
       "      <td>3Nrfpe0tUJi4K4DXYWgMUX</td>\n",
       "      <td>61927930</td>\n",
       "      <td>93</td>\n",
       "      <td>2023-03-05</td>\n",
       "    </tr>\n",
       "    <tr>\n",
       "      <th>2</th>\n",
       "      <td>BTS</td>\n",
       "      <td>3Nrfpe0tUJi4K4DXYWgMUX</td>\n",
       "      <td>61972773</td>\n",
       "      <td>93</td>\n",
       "      <td>2023-03-06</td>\n",
       "    </tr>\n",
       "    <tr>\n",
       "      <th>3</th>\n",
       "      <td>BTS</td>\n",
       "      <td>3Nrfpe0tUJi4K4DXYWgMUX</td>\n",
       "      <td>62011343</td>\n",
       "      <td>93</td>\n",
       "      <td>2023-03-07</td>\n",
       "    </tr>\n",
       "    <tr>\n",
       "      <th>4</th>\n",
       "      <td>BTS</td>\n",
       "      <td>3Nrfpe0tUJi4K4DXYWgMUX</td>\n",
       "      <td>62048245</td>\n",
       "      <td>93</td>\n",
       "      <td>2023-03-08</td>\n",
       "    </tr>\n",
       "    <tr>\n",
       "      <th>5</th>\n",
       "      <td>BTS</td>\n",
       "      <td>3Nrfpe0tUJi4K4DXYWgMUX</td>\n",
       "      <td>62119901</td>\n",
       "      <td>93</td>\n",
       "      <td>2023-03-09</td>\n",
       "    </tr>\n",
       "    <tr>\n",
       "      <th>6</th>\n",
       "      <td>BTS</td>\n",
       "      <td>3Nrfpe0tUJi4K4DXYWgMUX</td>\n",
       "      <td>62157902</td>\n",
       "      <td>93</td>\n",
       "      <td>2023-03-10</td>\n",
       "    </tr>\n",
       "    <tr>\n",
       "      <th>7</th>\n",
       "      <td>BTS</td>\n",
       "      <td>3Nrfpe0tUJi4K4DXYWgMUX</td>\n",
       "      <td>62157902</td>\n",
       "      <td>93</td>\n",
       "      <td>2023-03-11</td>\n",
       "    </tr>\n",
       "    <tr>\n",
       "      <th>8</th>\n",
       "      <td>BTS</td>\n",
       "      <td>3Nrfpe0tUJi4K4DXYWgMUX</td>\n",
       "      <td>62202800</td>\n",
       "      <td>93</td>\n",
       "      <td>2023-03-12</td>\n",
       "    </tr>\n",
       "    <tr>\n",
       "      <th>9</th>\n",
       "      <td>BTS</td>\n",
       "      <td>3Nrfpe0tUJi4K4DXYWgMUX</td>\n",
       "      <td>62247140</td>\n",
       "      <td>93</td>\n",
       "      <td>2023-03-13</td>\n",
       "    </tr>\n",
       "  </tbody>\n",
       "</table>\n",
       "</div>"
      ],
      "text/plain": [
       "  artist_name               artist_id  artist_followers  artist_popularity  \\\n",
       "0         BTS  3Nrfpe0tUJi4K4DXYWgMUX          61927930                 93   \n",
       "1         BTS  3Nrfpe0tUJi4K4DXYWgMUX          61927930                 93   \n",
       "2         BTS  3Nrfpe0tUJi4K4DXYWgMUX          61972773                 93   \n",
       "3         BTS  3Nrfpe0tUJi4K4DXYWgMUX          62011343                 93   \n",
       "4         BTS  3Nrfpe0tUJi4K4DXYWgMUX          62048245                 93   \n",
       "5         BTS  3Nrfpe0tUJi4K4DXYWgMUX          62119901                 93   \n",
       "6         BTS  3Nrfpe0tUJi4K4DXYWgMUX          62157902                 93   \n",
       "7         BTS  3Nrfpe0tUJi4K4DXYWgMUX          62157902                 93   \n",
       "8         BTS  3Nrfpe0tUJi4K4DXYWgMUX          62202800                 93   \n",
       "9         BTS  3Nrfpe0tUJi4K4DXYWgMUX          62247140                 93   \n",
       "\n",
       "  date_tracked  \n",
       "0   2023-03-04  \n",
       "1   2023-03-05  \n",
       "2   2023-03-06  \n",
       "3   2023-03-07  \n",
       "4   2023-03-08  \n",
       "5   2023-03-09  \n",
       "6   2023-03-10  \n",
       "7   2023-03-11  \n",
       "8   2023-03-12  \n",
       "9   2023-03-13  "
      ]
     },
     "execution_count": 11,
     "metadata": {},
     "output_type": "execute_result"
    }
   ],
   "source": [
    "SQL_get_artist_pop(\"BTS\")"
   ]
  },
  {
   "attachments": {},
   "cell_type": "markdown",
   "metadata": {},
   "source": [
    "#### `SQL_get_albums_pop_artist()`"
   ]
  },
  {
   "cell_type": "code",
   "execution_count": 12,
   "metadata": {},
   "outputs": [],
   "source": [
    "def SQL_get_albums_pop_artist(artist_name):\n",
    "    df = pd.read_sql(\n",
    "            f'''\n",
    "            SELECT DISTINCT art.artist_name, alb.album_group, alb.album_name, alb.album_release_date, ap.album_popularity, ap.date_tracked\n",
    "            FROM albums_popularity AS ap\n",
    "            LEFT JOIN albums AS alb\n",
    "            ON ap.album_id = alb.album_id\n",
    "            LEFT JOIN artists AS art\n",
    "            ON art.artist_id = alb.artist_id\n",
    "\n",
    "            WHERE art.artist_name = '{artist_name}'\n",
    "            '''\n",
    "        , db)\n",
    "    return df"
   ]
  },
  {
   "attachments": {},
   "cell_type": "markdown",
   "metadata": {},
   "source": [
    "Test what `SQL_get_albums_pop_artist()` return"
   ]
  },
  {
   "cell_type": "code",
   "execution_count": 13,
   "metadata": {},
   "outputs": [
    {
     "data": {
      "text/html": [
       "<div>\n",
       "<style scoped>\n",
       "    .dataframe tbody tr th:only-of-type {\n",
       "        vertical-align: middle;\n",
       "    }\n",
       "\n",
       "    .dataframe tbody tr th {\n",
       "        vertical-align: top;\n",
       "    }\n",
       "\n",
       "    .dataframe thead th {\n",
       "        text-align: right;\n",
       "    }\n",
       "</style>\n",
       "<table border=\"1\" class=\"dataframe\">\n",
       "  <thead>\n",
       "    <tr style=\"text-align: right;\">\n",
       "      <th></th>\n",
       "      <th>artist_name</th>\n",
       "      <th>album_group</th>\n",
       "      <th>album_name</th>\n",
       "      <th>album_release_date</th>\n",
       "      <th>album_popularity</th>\n",
       "      <th>date_tracked</th>\n",
       "    </tr>\n",
       "  </thead>\n",
       "  <tbody>\n",
       "    <tr>\n",
       "      <th>0</th>\n",
       "      <td>BTS</td>\n",
       "      <td>album</td>\n",
       "      <td>Proof</td>\n",
       "      <td>2022-06-10</td>\n",
       "      <td>87</td>\n",
       "      <td>2023-03-04</td>\n",
       "    </tr>\n",
       "    <tr>\n",
       "      <th>1</th>\n",
       "      <td>BTS</td>\n",
       "      <td>album</td>\n",
       "      <td>BE</td>\n",
       "      <td>2020-11-20</td>\n",
       "      <td>45</td>\n",
       "      <td>2023-03-04</td>\n",
       "    </tr>\n",
       "    <tr>\n",
       "      <th>2</th>\n",
       "      <td>BTS</td>\n",
       "      <td>album</td>\n",
       "      <td>MAP OF THE SOUL : 7 ~ THE JOURNEY ~</td>\n",
       "      <td>2020-07-14</td>\n",
       "      <td>66</td>\n",
       "      <td>2023-03-04</td>\n",
       "    </tr>\n",
       "    <tr>\n",
       "      <th>3</th>\n",
       "      <td>BTS</td>\n",
       "      <td>album</td>\n",
       "      <td>MAP OF THE SOUL : 7</td>\n",
       "      <td>2020-02-21</td>\n",
       "      <td>51</td>\n",
       "      <td>2023-03-04</td>\n",
       "    </tr>\n",
       "    <tr>\n",
       "      <th>4</th>\n",
       "      <td>BTS</td>\n",
       "      <td>album</td>\n",
       "      <td>MAP OF THE SOUL : PERSONA</td>\n",
       "      <td>2019-04-12</td>\n",
       "      <td>78</td>\n",
       "      <td>2023-03-04</td>\n",
       "    </tr>\n",
       "    <tr>\n",
       "      <th>...</th>\n",
       "      <td>...</td>\n",
       "      <td>...</td>\n",
       "      <td>...</td>\n",
       "      <td>...</td>\n",
       "      <td>...</td>\n",
       "      <td>...</td>\n",
       "    </tr>\n",
       "    <tr>\n",
       "      <th>765</th>\n",
       "      <td>BTS</td>\n",
       "      <td>single</td>\n",
       "      <td>FOR YOU(通常盤)</td>\n",
       "      <td>2015-06-17</td>\n",
       "      <td>30</td>\n",
       "      <td>2023-03-13</td>\n",
       "    </tr>\n",
       "    <tr>\n",
       "      <th>766</th>\n",
       "      <td>BTS</td>\n",
       "      <td>single</td>\n",
       "      <td>Danger -Japanese Ver.- 通常盤</td>\n",
       "      <td>2014-11-19</td>\n",
       "      <td>25</td>\n",
       "      <td>2023-03-13</td>\n",
       "    </tr>\n",
       "    <tr>\n",
       "      <th>767</th>\n",
       "      <td>BTS</td>\n",
       "      <td>single</td>\n",
       "      <td>BOY IN LUV</td>\n",
       "      <td>2014-07-16</td>\n",
       "      <td>25</td>\n",
       "      <td>2023-03-13</td>\n",
       "    </tr>\n",
       "    <tr>\n",
       "      <th>768</th>\n",
       "      <td>BTS</td>\n",
       "      <td>single</td>\n",
       "      <td>No More Dream (Japanese Ver.)</td>\n",
       "      <td>2014-06-04</td>\n",
       "      <td>31</td>\n",
       "      <td>2023-03-13</td>\n",
       "    </tr>\n",
       "    <tr>\n",
       "      <th>769</th>\n",
       "      <td>BTS</td>\n",
       "      <td>single</td>\n",
       "      <td>NO MORE DREAM-Japanese Ver.- 通常盤</td>\n",
       "      <td>2014-06-04</td>\n",
       "      <td>16</td>\n",
       "      <td>2023-03-13</td>\n",
       "    </tr>\n",
       "  </tbody>\n",
       "</table>\n",
       "<p>770 rows × 6 columns</p>\n",
       "</div>"
      ],
      "text/plain": [
       "    artist_name album_group                           album_name  \\\n",
       "0           BTS       album                                Proof   \n",
       "1           BTS       album                                   BE   \n",
       "2           BTS       album  MAP OF THE SOUL : 7 ~ THE JOURNEY ~   \n",
       "3           BTS       album                  MAP OF THE SOUL : 7   \n",
       "4           BTS       album            MAP OF THE SOUL : PERSONA   \n",
       "..          ...         ...                                  ...   \n",
       "765         BTS      single                         FOR YOU(通常盤)   \n",
       "766         BTS      single           Danger -Japanese Ver.- 通常盤   \n",
       "767         BTS      single                           BOY IN LUV   \n",
       "768         BTS      single        No More Dream (Japanese Ver.)   \n",
       "769         BTS      single     NO MORE DREAM-Japanese Ver.- 通常盤   \n",
       "\n",
       "    album_release_date  album_popularity date_tracked  \n",
       "0           2022-06-10                87   2023-03-04  \n",
       "1           2020-11-20                45   2023-03-04  \n",
       "2           2020-07-14                66   2023-03-04  \n",
       "3           2020-02-21                51   2023-03-04  \n",
       "4           2019-04-12                78   2023-03-04  \n",
       "..                 ...               ...          ...  \n",
       "765         2015-06-17                30   2023-03-13  \n",
       "766         2014-11-19                25   2023-03-13  \n",
       "767         2014-07-16                25   2023-03-13  \n",
       "768         2014-06-04                31   2023-03-13  \n",
       "769         2014-06-04                16   2023-03-13  \n",
       "\n",
       "[770 rows x 6 columns]"
      ]
     },
     "execution_count": 13,
     "metadata": {},
     "output_type": "execute_result"
    }
   ],
   "source": [
    "#new\n",
    "df = SQL_get_albums_pop_artist(\"BTS\")\n",
    "df"
   ]
  },
  {
   "attachments": {},
   "cell_type": "markdown",
   "metadata": {},
   "source": [
    "#### `SQL_get_tracks_playpop_artist()`"
   ]
  },
  {
   "cell_type": "code",
   "execution_count": 14,
   "metadata": {},
   "outputs": [],
   "source": [
    "def SQL_get_tracks_playpop_artist(artist_name):\n",
    "    df = pd.read_sql(\n",
    "        f''' \n",
    "\n",
    "        SELECT DISTINCT artist_name, album_name, album_group ,track_name, playc.track_id, track_number, track_popularity, track_playcount, playc.date_tracked\n",
    "        FROM tracks_playcount AS playc\n",
    "\n",
    "        LEFT JOIN tracks_popularity AS pop\n",
    "        ON playc.track_id = pop.track_id AND playc.date_tracked = pop.date_tracked\n",
    "        \n",
    "        LEFT JOIN tracks\n",
    "        USING(track_id)\n",
    "\n",
    "        LEFT JOIN \n",
    "        (SELECT albums.album_id, albums.artist_id, albums.album_name, albums.album_group\n",
    "        FROM albums) AS alb\n",
    "        USING(album_id)\n",
    "\n",
    "        LEFT JOIN artists\n",
    "        USING (artist_id)\n",
    "\n",
    "        WHERE artist_name = '{artist_name}' AND track_playcount > 0\n",
    "        '''\n",
    "    ,db)\n",
    "    return df"
   ]
  },
  {
   "attachments": {},
   "cell_type": "markdown",
   "metadata": {},
   "source": [
    "Test what `SQL_get_tracks_playpop_artist()` return"
   ]
  },
  {
   "cell_type": "code",
   "execution_count": 15,
   "metadata": {},
   "outputs": [
    {
     "data": {
      "text/html": [
       "<div>\n",
       "<style scoped>\n",
       "    .dataframe tbody tr th:only-of-type {\n",
       "        vertical-align: middle;\n",
       "    }\n",
       "\n",
       "    .dataframe tbody tr th {\n",
       "        vertical-align: top;\n",
       "    }\n",
       "\n",
       "    .dataframe thead th {\n",
       "        text-align: right;\n",
       "    }\n",
       "</style>\n",
       "<table border=\"1\" class=\"dataframe\">\n",
       "  <thead>\n",
       "    <tr style=\"text-align: right;\">\n",
       "      <th></th>\n",
       "      <th>artist_name</th>\n",
       "      <th>album_name</th>\n",
       "      <th>album_group</th>\n",
       "      <th>track_name</th>\n",
       "      <th>track_id</th>\n",
       "      <th>track_number</th>\n",
       "      <th>track_popularity</th>\n",
       "      <th>track_playcount</th>\n",
       "      <th>date_tracked</th>\n",
       "    </tr>\n",
       "  </thead>\n",
       "  <tbody>\n",
       "    <tr>\n",
       "      <th>0</th>\n",
       "      <td>Taylor Swift</td>\n",
       "      <td>Anti-Hero (ILLENIUM Remix)</td>\n",
       "      <td>single</td>\n",
       "      <td>Anti-Hero - ILLENIUM Remix</td>\n",
       "      <td>6C0H8ts9M6deezz0yYR6LK</td>\n",
       "      <td>1</td>\n",
       "      <td>60</td>\n",
       "      <td>6655791</td>\n",
       "      <td>2023-03-04</td>\n",
       "    </tr>\n",
       "    <tr>\n",
       "      <th>1</th>\n",
       "      <td>Taylor Swift</td>\n",
       "      <td>Midnights (3am Edition)</td>\n",
       "      <td>album</td>\n",
       "      <td>Lavender Haze</td>\n",
       "      <td>4g2c7NoTWAOSYDy44l9nub</td>\n",
       "      <td>1</td>\n",
       "      <td>74</td>\n",
       "      <td>310253891</td>\n",
       "      <td>2023-03-04</td>\n",
       "    </tr>\n",
       "    <tr>\n",
       "      <th>2</th>\n",
       "      <td>Taylor Swift</td>\n",
       "      <td>Midnights (3am Edition)</td>\n",
       "      <td>album</td>\n",
       "      <td>Maroon</td>\n",
       "      <td>199E1RRrVmVTQqBXih5qRC</td>\n",
       "      <td>2</td>\n",
       "      <td>74</td>\n",
       "      <td>227662369</td>\n",
       "      <td>2023-03-04</td>\n",
       "    </tr>\n",
       "    <tr>\n",
       "      <th>3</th>\n",
       "      <td>Taylor Swift</td>\n",
       "      <td>Midnights (3am Edition)</td>\n",
       "      <td>album</td>\n",
       "      <td>Anti-Hero</td>\n",
       "      <td>02Zkkf2zMkwRGQjZ7T4p8f</td>\n",
       "      <td>3</td>\n",
       "      <td>75</td>\n",
       "      <td>631167491</td>\n",
       "      <td>2023-03-04</td>\n",
       "    </tr>\n",
       "    <tr>\n",
       "      <th>4</th>\n",
       "      <td>Taylor Swift</td>\n",
       "      <td>Midnights (3am Edition)</td>\n",
       "      <td>album</td>\n",
       "      <td>Snow On The Beach (feat. Lana Del Rey)</td>\n",
       "      <td>6ADDIJxxqzM9LMpm78yzQG</td>\n",
       "      <td>4</td>\n",
       "      <td>72</td>\n",
       "      <td>236114590</td>\n",
       "      <td>2023-03-04</td>\n",
       "    </tr>\n",
       "    <tr>\n",
       "      <th>...</th>\n",
       "      <td>...</td>\n",
       "      <td>...</td>\n",
       "      <td>...</td>\n",
       "      <td>...</td>\n",
       "      <td>...</td>\n",
       "      <td>...</td>\n",
       "      <td>...</td>\n",
       "      <td>...</td>\n",
       "      <td>...</td>\n",
       "    </tr>\n",
       "    <tr>\n",
       "      <th>9792</th>\n",
       "      <td>Taylor Swift</td>\n",
       "      <td>The Taylor Swift Holiday Collection</td>\n",
       "      <td>single</td>\n",
       "      <td>Christmases When You Were Mine</td>\n",
       "      <td>1g09DZjQ7yBommCT6POY2n</td>\n",
       "      <td>2</td>\n",
       "      <td>40</td>\n",
       "      <td>4443156</td>\n",
       "      <td>2023-03-13</td>\n",
       "    </tr>\n",
       "    <tr>\n",
       "      <th>9793</th>\n",
       "      <td>Taylor Swift</td>\n",
       "      <td>The Taylor Swift Holiday Collection</td>\n",
       "      <td>single</td>\n",
       "      <td>Santa Baby</td>\n",
       "      <td>71IScwIe7bcIlpnlkbKVQw</td>\n",
       "      <td>3</td>\n",
       "      <td>41</td>\n",
       "      <td>7011906</td>\n",
       "      <td>2023-03-13</td>\n",
       "    </tr>\n",
       "    <tr>\n",
       "      <th>9794</th>\n",
       "      <td>Taylor Swift</td>\n",
       "      <td>The Taylor Swift Holiday Collection</td>\n",
       "      <td>single</td>\n",
       "      <td>Silent Night</td>\n",
       "      <td>1cJkUN5LAotktryx2nPCr7</td>\n",
       "      <td>4</td>\n",
       "      <td>39</td>\n",
       "      <td>3388686</td>\n",
       "      <td>2023-03-13</td>\n",
       "    </tr>\n",
       "    <tr>\n",
       "      <th>9795</th>\n",
       "      <td>Taylor Swift</td>\n",
       "      <td>The Taylor Swift Holiday Collection</td>\n",
       "      <td>single</td>\n",
       "      <td>Christmas Must Be Something More</td>\n",
       "      <td>31JVjy3XWnh6C2zf4kLCXN</td>\n",
       "      <td>5</td>\n",
       "      <td>40</td>\n",
       "      <td>4266171</td>\n",
       "      <td>2023-03-13</td>\n",
       "    </tr>\n",
       "    <tr>\n",
       "      <th>9796</th>\n",
       "      <td>Taylor Swift</td>\n",
       "      <td>The Taylor Swift Holiday Collection</td>\n",
       "      <td>single</td>\n",
       "      <td>White Christmas</td>\n",
       "      <td>7GZ3KDorsc1yWndEtzGTjf</td>\n",
       "      <td>6</td>\n",
       "      <td>39</td>\n",
       "      <td>3864811</td>\n",
       "      <td>2023-03-13</td>\n",
       "    </tr>\n",
       "  </tbody>\n",
       "</table>\n",
       "<p>9797 rows × 9 columns</p>\n",
       "</div>"
      ],
      "text/plain": [
       "       artist_name                           album_name album_group  \\\n",
       "0     Taylor Swift           Anti-Hero (ILLENIUM Remix)      single   \n",
       "1     Taylor Swift              Midnights (3am Edition)       album   \n",
       "2     Taylor Swift              Midnights (3am Edition)       album   \n",
       "3     Taylor Swift              Midnights (3am Edition)       album   \n",
       "4     Taylor Swift              Midnights (3am Edition)       album   \n",
       "...            ...                                  ...         ...   \n",
       "9792  Taylor Swift  The Taylor Swift Holiday Collection      single   \n",
       "9793  Taylor Swift  The Taylor Swift Holiday Collection      single   \n",
       "9794  Taylor Swift  The Taylor Swift Holiday Collection      single   \n",
       "9795  Taylor Swift  The Taylor Swift Holiday Collection      single   \n",
       "9796  Taylor Swift  The Taylor Swift Holiday Collection      single   \n",
       "\n",
       "                                  track_name                track_id  \\\n",
       "0                 Anti-Hero - ILLENIUM Remix  6C0H8ts9M6deezz0yYR6LK   \n",
       "1                              Lavender Haze  4g2c7NoTWAOSYDy44l9nub   \n",
       "2                                     Maroon  199E1RRrVmVTQqBXih5qRC   \n",
       "3                                  Anti-Hero  02Zkkf2zMkwRGQjZ7T4p8f   \n",
       "4     Snow On The Beach (feat. Lana Del Rey)  6ADDIJxxqzM9LMpm78yzQG   \n",
       "...                                      ...                     ...   \n",
       "9792          Christmases When You Were Mine  1g09DZjQ7yBommCT6POY2n   \n",
       "9793                              Santa Baby  71IScwIe7bcIlpnlkbKVQw   \n",
       "9794                            Silent Night  1cJkUN5LAotktryx2nPCr7   \n",
       "9795        Christmas Must Be Something More  31JVjy3XWnh6C2zf4kLCXN   \n",
       "9796                         White Christmas  7GZ3KDorsc1yWndEtzGTjf   \n",
       "\n",
       "      track_number  track_popularity  track_playcount date_tracked  \n",
       "0                1                60          6655791   2023-03-04  \n",
       "1                1                74        310253891   2023-03-04  \n",
       "2                2                74        227662369   2023-03-04  \n",
       "3                3                75        631167491   2023-03-04  \n",
       "4                4                72        236114590   2023-03-04  \n",
       "...            ...               ...              ...          ...  \n",
       "9792             2                40          4443156   2023-03-13  \n",
       "9793             3                41          7011906   2023-03-13  \n",
       "9794             4                39          3388686   2023-03-13  \n",
       "9795             5                40          4266171   2023-03-13  \n",
       "9796             6                39          3864811   2023-03-13  \n",
       "\n",
       "[9797 rows x 9 columns]"
      ]
     },
     "execution_count": 15,
     "metadata": {},
     "output_type": "execute_result"
    }
   ],
   "source": [
    "df = SQL_get_tracks_playpop_artist('Taylor Swift')\n",
    "df"
   ]
  },
  {
   "attachments": {},
   "cell_type": "markdown",
   "metadata": {},
   "source": [
    "## SQL Get all"
   ]
  },
  {
   "attachments": {},
   "cell_type": "markdown",
   "metadata": {},
   "source": [
    "#### `SQL_get_all_art_pop()`"
   ]
  },
  {
   "cell_type": "code",
   "execution_count": 16,
   "metadata": {},
   "outputs": [],
   "source": [
    "def SQL_get_all_art_pop():\n",
    "    df = pd.read_sql(\n",
    "    f'''\n",
    "    SELECT * \n",
    "    FROM Artists_Popularity\n",
    "    ''', db)\n",
    "    return df"
   ]
  },
  {
   "cell_type": "code",
   "execution_count": 17,
   "metadata": {},
   "outputs": [
    {
     "data": {
      "text/html": [
       "<div>\n",
       "<style scoped>\n",
       "    .dataframe tbody tr th:only-of-type {\n",
       "        vertical-align: middle;\n",
       "    }\n",
       "\n",
       "    .dataframe tbody tr th {\n",
       "        vertical-align: top;\n",
       "    }\n",
       "\n",
       "    .dataframe thead th {\n",
       "        text-align: right;\n",
       "    }\n",
       "</style>\n",
       "<table border=\"1\" class=\"dataframe\">\n",
       "  <thead>\n",
       "    <tr style=\"text-align: right;\">\n",
       "      <th></th>\n",
       "      <th>artist_name</th>\n",
       "      <th>artist_id</th>\n",
       "      <th>artist_followers</th>\n",
       "      <th>artist_popularity</th>\n",
       "      <th>date_tracked</th>\n",
       "    </tr>\n",
       "  </thead>\n",
       "  <tbody>\n",
       "    <tr>\n",
       "      <th>0</th>\n",
       "      <td>Ariana Grande</td>\n",
       "      <td>66CXWjxzNUsdJxJ2JdwvnR</td>\n",
       "      <td>88348950</td>\n",
       "      <td>92</td>\n",
       "      <td>2023-03-04</td>\n",
       "    </tr>\n",
       "    <tr>\n",
       "      <th>1</th>\n",
       "      <td>Avicii</td>\n",
       "      <td>1vCWHaC5f2uS3yhpwWbIA6</td>\n",
       "      <td>22620854</td>\n",
       "      <td>84</td>\n",
       "      <td>2023-03-04</td>\n",
       "    </tr>\n",
       "    <tr>\n",
       "      <th>2</th>\n",
       "      <td>BTS</td>\n",
       "      <td>3Nrfpe0tUJi4K4DXYWgMUX</td>\n",
       "      <td>61927930</td>\n",
       "      <td>93</td>\n",
       "      <td>2023-03-04</td>\n",
       "    </tr>\n",
       "    <tr>\n",
       "      <th>3</th>\n",
       "      <td>Coldplay</td>\n",
       "      <td>4gzpq5DPGxSnKTe4SA8HAU</td>\n",
       "      <td>42282671</td>\n",
       "      <td>90</td>\n",
       "      <td>2023-03-04</td>\n",
       "    </tr>\n",
       "    <tr>\n",
       "      <th>4</th>\n",
       "      <td>Drake</td>\n",
       "      <td>3TVXtAsR1Inumwj472S9r4</td>\n",
       "      <td>72531141</td>\n",
       "      <td>98</td>\n",
       "      <td>2023-03-04</td>\n",
       "    </tr>\n",
       "    <tr>\n",
       "      <th>...</th>\n",
       "      <td>...</td>\n",
       "      <td>...</td>\n",
       "      <td>...</td>\n",
       "      <td>...</td>\n",
       "      <td>...</td>\n",
       "    </tr>\n",
       "    <tr>\n",
       "      <th>115</th>\n",
       "      <td>Joji</td>\n",
       "      <td>3MZsBdqDrRTJihTHQrO6Dq</td>\n",
       "      <td>8186516</td>\n",
       "      <td>86</td>\n",
       "      <td>2023-03-13</td>\n",
       "    </tr>\n",
       "    <tr>\n",
       "      <th>116</th>\n",
       "      <td>Martin Garrix</td>\n",
       "      <td>60d24wfXkVzDSfLS6hyCjZ</td>\n",
       "      <td>15748376</td>\n",
       "      <td>80</td>\n",
       "      <td>2023-03-13</td>\n",
       "    </tr>\n",
       "    <tr>\n",
       "      <th>117</th>\n",
       "      <td>Mike Williams</td>\n",
       "      <td>3IpvVrP3VLhruTmnququq7</td>\n",
       "      <td>350671</td>\n",
       "      <td>61</td>\n",
       "      <td>2023-03-13</td>\n",
       "    </tr>\n",
       "    <tr>\n",
       "      <th>118</th>\n",
       "      <td>NIKI</td>\n",
       "      <td>2kxP07DLgs4xlWz8YHlvfh</td>\n",
       "      <td>2383687</td>\n",
       "      <td>76</td>\n",
       "      <td>2023-03-13</td>\n",
       "    </tr>\n",
       "    <tr>\n",
       "      <th>119</th>\n",
       "      <td>Taylor Swift</td>\n",
       "      <td>06HL4z0CvFAxyc27GXpf02</td>\n",
       "      <td>69513913</td>\n",
       "      <td>99</td>\n",
       "      <td>2023-03-13</td>\n",
       "    </tr>\n",
       "  </tbody>\n",
       "</table>\n",
       "<p>120 rows × 5 columns</p>\n",
       "</div>"
      ],
      "text/plain": [
       "       artist_name               artist_id  artist_followers  \\\n",
       "0    Ariana Grande  66CXWjxzNUsdJxJ2JdwvnR          88348950   \n",
       "1           Avicii  1vCWHaC5f2uS3yhpwWbIA6          22620854   \n",
       "2              BTS  3Nrfpe0tUJi4K4DXYWgMUX          61927930   \n",
       "3         Coldplay  4gzpq5DPGxSnKTe4SA8HAU          42282671   \n",
       "4            Drake  3TVXtAsR1Inumwj472S9r4          72531141   \n",
       "..             ...                     ...               ...   \n",
       "115           Joji  3MZsBdqDrRTJihTHQrO6Dq           8186516   \n",
       "116  Martin Garrix  60d24wfXkVzDSfLS6hyCjZ          15748376   \n",
       "117  Mike Williams  3IpvVrP3VLhruTmnququq7            350671   \n",
       "118           NIKI  2kxP07DLgs4xlWz8YHlvfh           2383687   \n",
       "119   Taylor Swift  06HL4z0CvFAxyc27GXpf02          69513913   \n",
       "\n",
       "     artist_popularity date_tracked  \n",
       "0                   92   2023-03-04  \n",
       "1                   84   2023-03-04  \n",
       "2                   93   2023-03-04  \n",
       "3                   90   2023-03-04  \n",
       "4                   98   2023-03-04  \n",
       "..                 ...          ...  \n",
       "115                 86   2023-03-13  \n",
       "116                 80   2023-03-13  \n",
       "117                 61   2023-03-13  \n",
       "118                 76   2023-03-13  \n",
       "119                 99   2023-03-13  \n",
       "\n",
       "[120 rows x 5 columns]"
      ]
     },
     "execution_count": 17,
     "metadata": {},
     "output_type": "execute_result"
    }
   ],
   "source": [
    "df = SQL_get_all_art_pop()\n",
    "df"
   ]
  },
  {
   "attachments": {},
   "cell_type": "markdown",
   "metadata": {},
   "source": [
    "#### `SQL_get_albums_pop_all()`"
   ]
  },
  {
   "cell_type": "code",
   "execution_count": 18,
   "metadata": {},
   "outputs": [],
   "source": [
    "def SQL_get_albums_pop_all():\n",
    "    df = pd.read_sql(\n",
    "            f'''\n",
    "            SELECT DISTINCT art.artist_name, alb.album_group, alb.album_name, alb.album_release_date, ap.album_popularity, ap.date_tracked\n",
    "            FROM albums_popularity AS ap\n",
    "            LEFT JOIN albums AS alb\n",
    "            ON ap.album_id = alb.album_id\n",
    "            LEFT JOIN artists AS art\n",
    "            ON art.artist_id = alb.artist_id\n",
    "            '''\n",
    "        , db)\n",
    "    return df"
   ]
  },
  {
   "cell_type": "code",
   "execution_count": 19,
   "metadata": {},
   "outputs": [
    {
     "data": {
      "text/html": [
       "<div>\n",
       "<style scoped>\n",
       "    .dataframe tbody tr th:only-of-type {\n",
       "        vertical-align: middle;\n",
       "    }\n",
       "\n",
       "    .dataframe tbody tr th {\n",
       "        vertical-align: top;\n",
       "    }\n",
       "\n",
       "    .dataframe thead th {\n",
       "        text-align: right;\n",
       "    }\n",
       "</style>\n",
       "<table border=\"1\" class=\"dataframe\">\n",
       "  <thead>\n",
       "    <tr style=\"text-align: right;\">\n",
       "      <th></th>\n",
       "      <th>artist_name</th>\n",
       "      <th>album_group</th>\n",
       "      <th>album_name</th>\n",
       "      <th>album_release_date</th>\n",
       "      <th>album_popularity</th>\n",
       "      <th>date_tracked</th>\n",
       "    </tr>\n",
       "  </thead>\n",
       "  <tbody>\n",
       "    <tr>\n",
       "      <th>0</th>\n",
       "      <td>Ariana Grande</td>\n",
       "      <td>album</td>\n",
       "      <td>Positions (Deluxe)</td>\n",
       "      <td>2021-02-19</td>\n",
       "      <td>71</td>\n",
       "      <td>2023-03-04</td>\n",
       "    </tr>\n",
       "    <tr>\n",
       "      <th>1</th>\n",
       "      <td>Ariana Grande</td>\n",
       "      <td>album</td>\n",
       "      <td>Positions</td>\n",
       "      <td>2020-10-30</td>\n",
       "      <td>83</td>\n",
       "      <td>2023-03-04</td>\n",
       "    </tr>\n",
       "    <tr>\n",
       "      <th>2</th>\n",
       "      <td>Ariana Grande</td>\n",
       "      <td>album</td>\n",
       "      <td>k bye for now (swt live)</td>\n",
       "      <td>2019-12-23</td>\n",
       "      <td>62</td>\n",
       "      <td>2023-03-04</td>\n",
       "    </tr>\n",
       "    <tr>\n",
       "      <th>3</th>\n",
       "      <td>Ariana Grande</td>\n",
       "      <td>album</td>\n",
       "      <td>thank u, next</td>\n",
       "      <td>2019-02-08</td>\n",
       "      <td>85</td>\n",
       "      <td>2023-03-04</td>\n",
       "    </tr>\n",
       "    <tr>\n",
       "      <th>4</th>\n",
       "      <td>Ariana Grande</td>\n",
       "      <td>album</td>\n",
       "      <td>Sweetener</td>\n",
       "      <td>2018-08-17</td>\n",
       "      <td>81</td>\n",
       "      <td>2023-03-04</td>\n",
       "    </tr>\n",
       "    <tr>\n",
       "      <th>...</th>\n",
       "      <td>...</td>\n",
       "      <td>...</td>\n",
       "      <td>...</td>\n",
       "      <td>...</td>\n",
       "      <td>...</td>\n",
       "      <td>...</td>\n",
       "    </tr>\n",
       "    <tr>\n",
       "      <th>8805</th>\n",
       "      <td>Taylor Swift</td>\n",
       "      <td>single</td>\n",
       "      <td>Sweeter Than Fiction</td>\n",
       "      <td>2013-10-21</td>\n",
       "      <td>45</td>\n",
       "      <td>2023-03-13</td>\n",
       "    </tr>\n",
       "    <tr>\n",
       "      <th>8806</th>\n",
       "      <td>Taylor Swift</td>\n",
       "      <td>single</td>\n",
       "      <td>Everything Has Changed (Remix)</td>\n",
       "      <td>2013-01-01</td>\n",
       "      <td>28</td>\n",
       "      <td>2023-03-13</td>\n",
       "    </tr>\n",
       "    <tr>\n",
       "      <th>8807</th>\n",
       "      <td>Taylor Swift</td>\n",
       "      <td>single</td>\n",
       "      <td>Ronan</td>\n",
       "      <td>2012-09-08</td>\n",
       "      <td>35</td>\n",
       "      <td>2023-03-13</td>\n",
       "    </tr>\n",
       "    <tr>\n",
       "      <th>8808</th>\n",
       "      <td>Taylor Swift</td>\n",
       "      <td>single</td>\n",
       "      <td>Today Was A Fairytale</td>\n",
       "      <td>2011-02-15</td>\n",
       "      <td>44</td>\n",
       "      <td>2023-03-13</td>\n",
       "    </tr>\n",
       "    <tr>\n",
       "      <th>8809</th>\n",
       "      <td>Taylor Swift</td>\n",
       "      <td>single</td>\n",
       "      <td>The Taylor Swift Holiday Collection</td>\n",
       "      <td>2008-12-02</td>\n",
       "      <td>50</td>\n",
       "      <td>2023-03-13</td>\n",
       "    </tr>\n",
       "  </tbody>\n",
       "</table>\n",
       "<p>8810 rows × 6 columns</p>\n",
       "</div>"
      ],
      "text/plain": [
       "        artist_name album_group                           album_name  \\\n",
       "0     Ariana Grande       album                   Positions (Deluxe)   \n",
       "1     Ariana Grande       album                            Positions   \n",
       "2     Ariana Grande       album             k bye for now (swt live)   \n",
       "3     Ariana Grande       album                        thank u, next   \n",
       "4     Ariana Grande       album                            Sweetener   \n",
       "...             ...         ...                                  ...   \n",
       "8805   Taylor Swift      single                 Sweeter Than Fiction   \n",
       "8806   Taylor Swift      single       Everything Has Changed (Remix)   \n",
       "8807   Taylor Swift      single                                Ronan   \n",
       "8808   Taylor Swift      single                Today Was A Fairytale   \n",
       "8809   Taylor Swift      single  The Taylor Swift Holiday Collection   \n",
       "\n",
       "     album_release_date  album_popularity date_tracked  \n",
       "0            2021-02-19                71   2023-03-04  \n",
       "1            2020-10-30                83   2023-03-04  \n",
       "2            2019-12-23                62   2023-03-04  \n",
       "3            2019-02-08                85   2023-03-04  \n",
       "4            2018-08-17                81   2023-03-04  \n",
       "...                 ...               ...          ...  \n",
       "8805         2013-10-21                45   2023-03-13  \n",
       "8806         2013-01-01                28   2023-03-13  \n",
       "8807         2012-09-08                35   2023-03-13  \n",
       "8808         2011-02-15                44   2023-03-13  \n",
       "8809         2008-12-02                50   2023-03-13  \n",
       "\n",
       "[8810 rows x 6 columns]"
      ]
     },
     "execution_count": 19,
     "metadata": {},
     "output_type": "execute_result"
    }
   ],
   "source": [
    "df = SQL_get_albums_pop_all()\n",
    "df"
   ]
  },
  {
   "attachments": {},
   "cell_type": "markdown",
   "metadata": {},
   "source": [
    "#### `SQL_get_tracks_playpop_all()`"
   ]
  },
  {
   "cell_type": "code",
   "execution_count": 20,
   "metadata": {},
   "outputs": [],
   "source": [
    "def SQL_get_tracks_playpop_all():\n",
    "    df = pd.read_sql(\n",
    "        f''' \n",
    "\n",
    "        SELECT DISTINCT artist_name, album_name, album_group, track_name, playc.track_id, track_number, track_popularity, track_playcount, playc.date_tracked\n",
    "        FROM tracks_playcount AS playc\n",
    "\n",
    "        LEFT JOIN tracks_popularity AS pop\n",
    "        ON playc.track_id = pop.track_id AND playc.date_tracked = pop.date_tracked\n",
    "        \n",
    "        LEFT JOIN tracks\n",
    "        USING(track_id)\n",
    "\n",
    "        LEFT JOIN \n",
    "        (SELECT albums.album_id, albums.artist_id, albums.album_name, albums.album_group\n",
    "        FROM albums) AS alb\n",
    "        USING(album_id)\n",
    "\n",
    "        LEFT JOIN artists\n",
    "        USING (artist_id)\n",
    "\n",
    "        WHERE track_playcount > 0\n",
    "        '''\n",
    "    ,db)\n",
    "    return df"
   ]
  },
  {
   "cell_type": "code",
   "execution_count": 21,
   "metadata": {},
   "outputs": [
    {
     "data": {
      "text/html": [
       "<div>\n",
       "<style scoped>\n",
       "    .dataframe tbody tr th:only-of-type {\n",
       "        vertical-align: middle;\n",
       "    }\n",
       "\n",
       "    .dataframe tbody tr th {\n",
       "        vertical-align: top;\n",
       "    }\n",
       "\n",
       "    .dataframe thead th {\n",
       "        text-align: right;\n",
       "    }\n",
       "</style>\n",
       "<table border=\"1\" class=\"dataframe\">\n",
       "  <thead>\n",
       "    <tr style=\"text-align: right;\">\n",
       "      <th></th>\n",
       "      <th>artist_name</th>\n",
       "      <th>album_name</th>\n",
       "      <th>album_group</th>\n",
       "      <th>track_name</th>\n",
       "      <th>track_id</th>\n",
       "      <th>track_number</th>\n",
       "      <th>track_popularity</th>\n",
       "      <th>track_playcount</th>\n",
       "      <th>date_tracked</th>\n",
       "    </tr>\n",
       "  </thead>\n",
       "  <tbody>\n",
       "    <tr>\n",
       "      <th>0</th>\n",
       "      <td>Ariana Grande</td>\n",
       "      <td>Positions (Deluxe)</td>\n",
       "      <td>album</td>\n",
       "      <td>shut up</td>\n",
       "      <td>12sliObzVzbLbAlDb8eChf</td>\n",
       "      <td>1</td>\n",
       "      <td>50</td>\n",
       "      <td>91887648</td>\n",
       "      <td>2023-03-04</td>\n",
       "    </tr>\n",
       "    <tr>\n",
       "      <th>1</th>\n",
       "      <td>Ariana Grande</td>\n",
       "      <td>Positions (Deluxe)</td>\n",
       "      <td>album</td>\n",
       "      <td>34+35</td>\n",
       "      <td>1hG4V53eR16jg7jVTNLOiX</td>\n",
       "      <td>2</td>\n",
       "      <td>54</td>\n",
       "      <td>813653167</td>\n",
       "      <td>2023-03-04</td>\n",
       "    </tr>\n",
       "    <tr>\n",
       "      <th>2</th>\n",
       "      <td>Ariana Grande</td>\n",
       "      <td>Positions (Deluxe)</td>\n",
       "      <td>album</td>\n",
       "      <td>motive (with Doja Cat)</td>\n",
       "      <td>5VipERQ1ofCowecoFg2MVU</td>\n",
       "      <td>3</td>\n",
       "      <td>54</td>\n",
       "      <td>380497375</td>\n",
       "      <td>2023-03-04</td>\n",
       "    </tr>\n",
       "    <tr>\n",
       "      <th>3</th>\n",
       "      <td>Ariana Grande</td>\n",
       "      <td>Positions (Deluxe)</td>\n",
       "      <td>album</td>\n",
       "      <td>just like magic</td>\n",
       "      <td>1N9hFgcgWYbGINUKjhvcK6</td>\n",
       "      <td>4</td>\n",
       "      <td>52</td>\n",
       "      <td>157315542</td>\n",
       "      <td>2023-03-04</td>\n",
       "    </tr>\n",
       "    <tr>\n",
       "      <th>4</th>\n",
       "      <td>Ariana Grande</td>\n",
       "      <td>Positions (Deluxe)</td>\n",
       "      <td>album</td>\n",
       "      <td>off the table (with The Weeknd)</td>\n",
       "      <td>1qKdid2S9fZdSrzLaCcjcF</td>\n",
       "      <td>5</td>\n",
       "      <td>53</td>\n",
       "      <td>125490517</td>\n",
       "      <td>2023-03-04</td>\n",
       "    </tr>\n",
       "    <tr>\n",
       "      <th>...</th>\n",
       "      <td>...</td>\n",
       "      <td>...</td>\n",
       "      <td>...</td>\n",
       "      <td>...</td>\n",
       "      <td>...</td>\n",
       "      <td>...</td>\n",
       "      <td>...</td>\n",
       "      <td>...</td>\n",
       "      <td>...</td>\n",
       "    </tr>\n",
       "    <tr>\n",
       "      <th>37431</th>\n",
       "      <td>Taylor Swift</td>\n",
       "      <td>The Taylor Swift Holiday Collection</td>\n",
       "      <td>single</td>\n",
       "      <td>Christmases When You Were Mine</td>\n",
       "      <td>1g09DZjQ7yBommCT6POY2n</td>\n",
       "      <td>2</td>\n",
       "      <td>40</td>\n",
       "      <td>4443156</td>\n",
       "      <td>2023-03-13</td>\n",
       "    </tr>\n",
       "    <tr>\n",
       "      <th>37432</th>\n",
       "      <td>Taylor Swift</td>\n",
       "      <td>The Taylor Swift Holiday Collection</td>\n",
       "      <td>single</td>\n",
       "      <td>Santa Baby</td>\n",
       "      <td>71IScwIe7bcIlpnlkbKVQw</td>\n",
       "      <td>3</td>\n",
       "      <td>41</td>\n",
       "      <td>7011906</td>\n",
       "      <td>2023-03-13</td>\n",
       "    </tr>\n",
       "    <tr>\n",
       "      <th>37433</th>\n",
       "      <td>Taylor Swift</td>\n",
       "      <td>The Taylor Swift Holiday Collection</td>\n",
       "      <td>single</td>\n",
       "      <td>Silent Night</td>\n",
       "      <td>1cJkUN5LAotktryx2nPCr7</td>\n",
       "      <td>4</td>\n",
       "      <td>39</td>\n",
       "      <td>3388686</td>\n",
       "      <td>2023-03-13</td>\n",
       "    </tr>\n",
       "    <tr>\n",
       "      <th>37434</th>\n",
       "      <td>Taylor Swift</td>\n",
       "      <td>The Taylor Swift Holiday Collection</td>\n",
       "      <td>single</td>\n",
       "      <td>Christmas Must Be Something More</td>\n",
       "      <td>31JVjy3XWnh6C2zf4kLCXN</td>\n",
       "      <td>5</td>\n",
       "      <td>40</td>\n",
       "      <td>4266171</td>\n",
       "      <td>2023-03-13</td>\n",
       "    </tr>\n",
       "    <tr>\n",
       "      <th>37435</th>\n",
       "      <td>Taylor Swift</td>\n",
       "      <td>The Taylor Swift Holiday Collection</td>\n",
       "      <td>single</td>\n",
       "      <td>White Christmas</td>\n",
       "      <td>7GZ3KDorsc1yWndEtzGTjf</td>\n",
       "      <td>6</td>\n",
       "      <td>39</td>\n",
       "      <td>3864811</td>\n",
       "      <td>2023-03-13</td>\n",
       "    </tr>\n",
       "  </tbody>\n",
       "</table>\n",
       "<p>37436 rows × 9 columns</p>\n",
       "</div>"
      ],
      "text/plain": [
       "         artist_name                           album_name album_group  \\\n",
       "0      Ariana Grande                   Positions (Deluxe)       album   \n",
       "1      Ariana Grande                   Positions (Deluxe)       album   \n",
       "2      Ariana Grande                   Positions (Deluxe)       album   \n",
       "3      Ariana Grande                   Positions (Deluxe)       album   \n",
       "4      Ariana Grande                   Positions (Deluxe)       album   \n",
       "...              ...                                  ...         ...   \n",
       "37431   Taylor Swift  The Taylor Swift Holiday Collection      single   \n",
       "37432   Taylor Swift  The Taylor Swift Holiday Collection      single   \n",
       "37433   Taylor Swift  The Taylor Swift Holiday Collection      single   \n",
       "37434   Taylor Swift  The Taylor Swift Holiday Collection      single   \n",
       "37435   Taylor Swift  The Taylor Swift Holiday Collection      single   \n",
       "\n",
       "                             track_name                track_id  track_number  \\\n",
       "0                               shut up  12sliObzVzbLbAlDb8eChf             1   \n",
       "1                                 34+35  1hG4V53eR16jg7jVTNLOiX             2   \n",
       "2                motive (with Doja Cat)  5VipERQ1ofCowecoFg2MVU             3   \n",
       "3                       just like magic  1N9hFgcgWYbGINUKjhvcK6             4   \n",
       "4       off the table (with The Weeknd)  1qKdid2S9fZdSrzLaCcjcF             5   \n",
       "...                                 ...                     ...           ...   \n",
       "37431    Christmases When You Were Mine  1g09DZjQ7yBommCT6POY2n             2   \n",
       "37432                        Santa Baby  71IScwIe7bcIlpnlkbKVQw             3   \n",
       "37433                      Silent Night  1cJkUN5LAotktryx2nPCr7             4   \n",
       "37434  Christmas Must Be Something More  31JVjy3XWnh6C2zf4kLCXN             5   \n",
       "37435                   White Christmas  7GZ3KDorsc1yWndEtzGTjf             6   \n",
       "\n",
       "       track_popularity  track_playcount date_tracked  \n",
       "0                    50         91887648   2023-03-04  \n",
       "1                    54        813653167   2023-03-04  \n",
       "2                    54        380497375   2023-03-04  \n",
       "3                    52        157315542   2023-03-04  \n",
       "4                    53        125490517   2023-03-04  \n",
       "...                 ...              ...          ...  \n",
       "37431                40          4443156   2023-03-13  \n",
       "37432                41          7011906   2023-03-13  \n",
       "37433                39          3388686   2023-03-13  \n",
       "37434                40          4266171   2023-03-13  \n",
       "37435                39          3864811   2023-03-13  \n",
       "\n",
       "[37436 rows x 9 columns]"
      ]
     },
     "execution_count": 21,
     "metadata": {},
     "output_type": "execute_result"
    }
   ],
   "source": [
    "df = SQL_get_tracks_playpop_all()\n",
    "df"
   ]
  },
  {
   "cell_type": "code",
   "execution_count": 22,
   "metadata": {},
   "outputs": [
    {
     "data": {
      "text/html": [
       "<div>\n",
       "<style scoped>\n",
       "    .dataframe tbody tr th:only-of-type {\n",
       "        vertical-align: middle;\n",
       "    }\n",
       "\n",
       "    .dataframe tbody tr th {\n",
       "        vertical-align: top;\n",
       "    }\n",
       "\n",
       "    .dataframe thead th {\n",
       "        text-align: right;\n",
       "    }\n",
       "</style>\n",
       "<table border=\"1\" class=\"dataframe\">\n",
       "  <thead>\n",
       "    <tr style=\"text-align: right;\">\n",
       "      <th></th>\n",
       "      <th>artist_name</th>\n",
       "      <th>album_name</th>\n",
       "      <th>album_group</th>\n",
       "      <th>track_name</th>\n",
       "      <th>track_id</th>\n",
       "      <th>track_number</th>\n",
       "      <th>track_popularity</th>\n",
       "      <th>track_playcount</th>\n",
       "      <th>date_tracked</th>\n",
       "    </tr>\n",
       "  </thead>\n",
       "  <tbody>\n",
       "    <tr>\n",
       "      <th>12569</th>\n",
       "      <td>BTS</td>\n",
       "      <td>My Universe (Galantis Remix)</td>\n",
       "      <td>single</td>\n",
       "      <td>My Universe - Galantis Remix</td>\n",
       "      <td>1DlczmjByrS4qxRVfGjpqN</td>\n",
       "      <td>1</td>\n",
       "      <td>60</td>\n",
       "      <td>26064701</td>\n",
       "      <td>2023-03-07</td>\n",
       "    </tr>\n",
       "    <tr>\n",
       "      <th>12570</th>\n",
       "      <td>Coldplay</td>\n",
       "      <td>My Universe (Galantis Remix)</td>\n",
       "      <td>single</td>\n",
       "      <td>My Universe - Galantis Remix</td>\n",
       "      <td>1DlczmjByrS4qxRVfGjpqN</td>\n",
       "      <td>1</td>\n",
       "      <td>60</td>\n",
       "      <td>26064701</td>\n",
       "      <td>2023-03-07</td>\n",
       "    </tr>\n",
       "    <tr>\n",
       "      <th>14919</th>\n",
       "      <td>Taylor Swift</td>\n",
       "      <td>Anti-Hero (ILLENIUM Remix)</td>\n",
       "      <td>single</td>\n",
       "      <td>Anti-Hero - ILLENIUM Remix</td>\n",
       "      <td>6C0H8ts9M6deezz0yYR6LK</td>\n",
       "      <td>1</td>\n",
       "      <td>60</td>\n",
       "      <td>6724343</td>\n",
       "      <td>2023-03-07</td>\n",
       "    </tr>\n",
       "    <tr>\n",
       "      <th>14920</th>\n",
       "      <td>ILLENIUM</td>\n",
       "      <td>Anti-Hero (ILLENIUM Remix)</td>\n",
       "      <td>single</td>\n",
       "      <td>Anti-Hero - ILLENIUM Remix</td>\n",
       "      <td>6C0H8ts9M6deezz0yYR6LK</td>\n",
       "      <td>1</td>\n",
       "      <td>60</td>\n",
       "      <td>6724343</td>\n",
       "      <td>2023-03-07</td>\n",
       "    </tr>\n",
       "  </tbody>\n",
       "</table>\n",
       "</div>"
      ],
      "text/plain": [
       "        artist_name                    album_name album_group  \\\n",
       "12569           BTS  My Universe (Galantis Remix)      single   \n",
       "12570      Coldplay  My Universe (Galantis Remix)      single   \n",
       "14919  Taylor Swift    Anti-Hero (ILLENIUM Remix)      single   \n",
       "14920      ILLENIUM    Anti-Hero (ILLENIUM Remix)      single   \n",
       "\n",
       "                         track_name                track_id  track_number  \\\n",
       "12569  My Universe - Galantis Remix  1DlczmjByrS4qxRVfGjpqN             1   \n",
       "12570  My Universe - Galantis Remix  1DlczmjByrS4qxRVfGjpqN             1   \n",
       "14919    Anti-Hero - ILLENIUM Remix  6C0H8ts9M6deezz0yYR6LK             1   \n",
       "14920    Anti-Hero - ILLENIUM Remix  6C0H8ts9M6deezz0yYR6LK             1   \n",
       "\n",
       "       track_popularity  track_playcount date_tracked  \n",
       "12569                60         26064701   2023-03-07  \n",
       "12570                60         26064701   2023-03-07  \n",
       "14919                60          6724343   2023-03-07  \n",
       "14920                60          6724343   2023-03-07  "
      ]
     },
     "execution_count": 22,
     "metadata": {},
     "output_type": "execute_result"
    }
   ],
   "source": [
    "#identify the duplicates created\n",
    "df.loc[df.duplicated(subset=['track_id','date_tracked','artist_name']),:]\n"
   ]
  },
  {
   "cell_type": "code",
   "execution_count": 23,
   "metadata": {},
   "outputs": [
    {
     "data": {
      "text/html": [
       "<div>\n",
       "<style scoped>\n",
       "    .dataframe tbody tr th:only-of-type {\n",
       "        vertical-align: middle;\n",
       "    }\n",
       "\n",
       "    .dataframe tbody tr th {\n",
       "        vertical-align: top;\n",
       "    }\n",
       "\n",
       "    .dataframe thead th {\n",
       "        text-align: right;\n",
       "    }\n",
       "</style>\n",
       "<table border=\"1\" class=\"dataframe\">\n",
       "  <thead>\n",
       "    <tr style=\"text-align: right;\">\n",
       "      <th></th>\n",
       "      <th>artist_name</th>\n",
       "      <th>album_name</th>\n",
       "      <th>album_group</th>\n",
       "      <th>track_name</th>\n",
       "      <th>track_id</th>\n",
       "      <th>track_number</th>\n",
       "      <th>track_popularity</th>\n",
       "      <th>track_playcount</th>\n",
       "      <th>date_tracked</th>\n",
       "    </tr>\n",
       "  </thead>\n",
       "  <tbody>\n",
       "    <tr>\n",
       "      <th>0</th>\n",
       "      <td>Ariana Grande</td>\n",
       "      <td>Positions (Deluxe)</td>\n",
       "      <td>album</td>\n",
       "      <td>shut up</td>\n",
       "      <td>12sliObzVzbLbAlDb8eChf</td>\n",
       "      <td>1</td>\n",
       "      <td>50</td>\n",
       "      <td>91887648</td>\n",
       "      <td>2023-03-04</td>\n",
       "    </tr>\n",
       "    <tr>\n",
       "      <th>1</th>\n",
       "      <td>Ariana Grande</td>\n",
       "      <td>Positions (Deluxe)</td>\n",
       "      <td>album</td>\n",
       "      <td>34+35</td>\n",
       "      <td>1hG4V53eR16jg7jVTNLOiX</td>\n",
       "      <td>2</td>\n",
       "      <td>54</td>\n",
       "      <td>813653167</td>\n",
       "      <td>2023-03-04</td>\n",
       "    </tr>\n",
       "    <tr>\n",
       "      <th>2</th>\n",
       "      <td>Ariana Grande</td>\n",
       "      <td>Positions (Deluxe)</td>\n",
       "      <td>album</td>\n",
       "      <td>motive (with Doja Cat)</td>\n",
       "      <td>5VipERQ1ofCowecoFg2MVU</td>\n",
       "      <td>3</td>\n",
       "      <td>54</td>\n",
       "      <td>380497375</td>\n",
       "      <td>2023-03-04</td>\n",
       "    </tr>\n",
       "    <tr>\n",
       "      <th>3</th>\n",
       "      <td>Ariana Grande</td>\n",
       "      <td>Positions (Deluxe)</td>\n",
       "      <td>album</td>\n",
       "      <td>just like magic</td>\n",
       "      <td>1N9hFgcgWYbGINUKjhvcK6</td>\n",
       "      <td>4</td>\n",
       "      <td>52</td>\n",
       "      <td>157315542</td>\n",
       "      <td>2023-03-04</td>\n",
       "    </tr>\n",
       "    <tr>\n",
       "      <th>4</th>\n",
       "      <td>Ariana Grande</td>\n",
       "      <td>Positions (Deluxe)</td>\n",
       "      <td>album</td>\n",
       "      <td>off the table (with The Weeknd)</td>\n",
       "      <td>1qKdid2S9fZdSrzLaCcjcF</td>\n",
       "      <td>5</td>\n",
       "      <td>53</td>\n",
       "      <td>125490517</td>\n",
       "      <td>2023-03-04</td>\n",
       "    </tr>\n",
       "    <tr>\n",
       "      <th>...</th>\n",
       "      <td>...</td>\n",
       "      <td>...</td>\n",
       "      <td>...</td>\n",
       "      <td>...</td>\n",
       "      <td>...</td>\n",
       "      <td>...</td>\n",
       "      <td>...</td>\n",
       "      <td>...</td>\n",
       "      <td>...</td>\n",
       "    </tr>\n",
       "    <tr>\n",
       "      <th>37431</th>\n",
       "      <td>Taylor Swift</td>\n",
       "      <td>The Taylor Swift Holiday Collection</td>\n",
       "      <td>single</td>\n",
       "      <td>Christmases When You Were Mine</td>\n",
       "      <td>1g09DZjQ7yBommCT6POY2n</td>\n",
       "      <td>2</td>\n",
       "      <td>40</td>\n",
       "      <td>4443156</td>\n",
       "      <td>2023-03-13</td>\n",
       "    </tr>\n",
       "    <tr>\n",
       "      <th>37432</th>\n",
       "      <td>Taylor Swift</td>\n",
       "      <td>The Taylor Swift Holiday Collection</td>\n",
       "      <td>single</td>\n",
       "      <td>Santa Baby</td>\n",
       "      <td>71IScwIe7bcIlpnlkbKVQw</td>\n",
       "      <td>3</td>\n",
       "      <td>41</td>\n",
       "      <td>7011906</td>\n",
       "      <td>2023-03-13</td>\n",
       "    </tr>\n",
       "    <tr>\n",
       "      <th>37433</th>\n",
       "      <td>Taylor Swift</td>\n",
       "      <td>The Taylor Swift Holiday Collection</td>\n",
       "      <td>single</td>\n",
       "      <td>Silent Night</td>\n",
       "      <td>1cJkUN5LAotktryx2nPCr7</td>\n",
       "      <td>4</td>\n",
       "      <td>39</td>\n",
       "      <td>3388686</td>\n",
       "      <td>2023-03-13</td>\n",
       "    </tr>\n",
       "    <tr>\n",
       "      <th>37434</th>\n",
       "      <td>Taylor Swift</td>\n",
       "      <td>The Taylor Swift Holiday Collection</td>\n",
       "      <td>single</td>\n",
       "      <td>Christmas Must Be Something More</td>\n",
       "      <td>31JVjy3XWnh6C2zf4kLCXN</td>\n",
       "      <td>5</td>\n",
       "      <td>40</td>\n",
       "      <td>4266171</td>\n",
       "      <td>2023-03-13</td>\n",
       "    </tr>\n",
       "    <tr>\n",
       "      <th>37435</th>\n",
       "      <td>Taylor Swift</td>\n",
       "      <td>The Taylor Swift Holiday Collection</td>\n",
       "      <td>single</td>\n",
       "      <td>White Christmas</td>\n",
       "      <td>7GZ3KDorsc1yWndEtzGTjf</td>\n",
       "      <td>6</td>\n",
       "      <td>39</td>\n",
       "      <td>3864811</td>\n",
       "      <td>2023-03-13</td>\n",
       "    </tr>\n",
       "  </tbody>\n",
       "</table>\n",
       "<p>37432 rows × 9 columns</p>\n",
       "</div>"
      ],
      "text/plain": [
       "         artist_name                           album_name album_group  \\\n",
       "0      Ariana Grande                   Positions (Deluxe)       album   \n",
       "1      Ariana Grande                   Positions (Deluxe)       album   \n",
       "2      Ariana Grande                   Positions (Deluxe)       album   \n",
       "3      Ariana Grande                   Positions (Deluxe)       album   \n",
       "4      Ariana Grande                   Positions (Deluxe)       album   \n",
       "...              ...                                  ...         ...   \n",
       "37431   Taylor Swift  The Taylor Swift Holiday Collection      single   \n",
       "37432   Taylor Swift  The Taylor Swift Holiday Collection      single   \n",
       "37433   Taylor Swift  The Taylor Swift Holiday Collection      single   \n",
       "37434   Taylor Swift  The Taylor Swift Holiday Collection      single   \n",
       "37435   Taylor Swift  The Taylor Swift Holiday Collection      single   \n",
       "\n",
       "                             track_name                track_id  track_number  \\\n",
       "0                               shut up  12sliObzVzbLbAlDb8eChf             1   \n",
       "1                                 34+35  1hG4V53eR16jg7jVTNLOiX             2   \n",
       "2                motive (with Doja Cat)  5VipERQ1ofCowecoFg2MVU             3   \n",
       "3                       just like magic  1N9hFgcgWYbGINUKjhvcK6             4   \n",
       "4       off the table (with The Weeknd)  1qKdid2S9fZdSrzLaCcjcF             5   \n",
       "...                                 ...                     ...           ...   \n",
       "37431    Christmases When You Were Mine  1g09DZjQ7yBommCT6POY2n             2   \n",
       "37432                        Santa Baby  71IScwIe7bcIlpnlkbKVQw             3   \n",
       "37433                      Silent Night  1cJkUN5LAotktryx2nPCr7             4   \n",
       "37434  Christmas Must Be Something More  31JVjy3XWnh6C2zf4kLCXN             5   \n",
       "37435                   White Christmas  7GZ3KDorsc1yWndEtzGTjf             6   \n",
       "\n",
       "       track_popularity  track_playcount date_tracked  \n",
       "0                    50         91887648   2023-03-04  \n",
       "1                    54        813653167   2023-03-04  \n",
       "2                    54        380497375   2023-03-04  \n",
       "3                    52        157315542   2023-03-04  \n",
       "4                    53        125490517   2023-03-04  \n",
       "...                 ...              ...          ...  \n",
       "37431                40          4443156   2023-03-13  \n",
       "37432                41          7011906   2023-03-13  \n",
       "37433                39          3388686   2023-03-13  \n",
       "37434                40          4266171   2023-03-13  \n",
       "37435                39          3864811   2023-03-13  \n",
       "\n",
       "[37432 rows x 9 columns]"
      ]
     },
     "execution_count": 23,
     "metadata": {},
     "output_type": "execute_result"
    }
   ],
   "source": [
    "# This is needed to drop duplicates.\n",
    "df = df.drop_duplicates(subset=['track_id','date_tracked','artist_name'])\n",
    "df"
   ]
  },
  {
   "attachments": {},
   "cell_type": "markdown",
   "metadata": {},
   "source": [
    "## PLOTTING"
   ]
  },
  {
   "cell_type": "code",
   "execution_count": 24,
   "metadata": {},
   "outputs": [],
   "source": [
    "import plotly.graph_objects as go\n",
    "from plotly.subplots import make_subplots"
   ]
  },
  {
   "attachments": {},
   "cell_type": "markdown",
   "metadata": {},
   "source": [
    "#### Helper Functions"
   ]
  },
  {
   "cell_type": "code",
   "execution_count": 25,
   "metadata": {},
   "outputs": [],
   "source": [
    "def plot_range_popularity(df_column):\n",
    "    '''Get the lower and upper range of popularity score (artist, album, track) to allow plotly to plot with padding'''\n",
    "    lower = df_column.min()\n",
    "    upper = df_column.max()\n",
    "\n",
    "    lower = lower - 3\n",
    "    upper = upper + 3\n",
    "    if upper > 100:\n",
    "        upper = 100\n",
    "    if lower < 0:\n",
    "        lower = 0\n",
    "    \n",
    "    return lower, upper"
   ]
  },
  {
   "cell_type": "code",
   "execution_count": 26,
   "metadata": {},
   "outputs": [],
   "source": [
    "def plot_range_playcount_followers(df_column):\n",
    "    '''Get the high and low of the popularity score '''\n",
    "    lower = df_column.min()\n",
    "    upper = df_column.max()\n",
    "\n",
    "    data_range = upper - lower  # Calculate the data range\n",
    "    padding = data_range * 0.1  # Set a padding of 10%\n",
    "    lower = lower - padding  # Compute the lower limit of the range\n",
    "    upper = upper + padding  # Compute the upper limit of the range\n",
    "\n",
    "    return lower, upper"
   ]
  },
  {
   "attachments": {},
   "cell_type": "markdown",
   "metadata": {},
   "source": [
    "### Two axis plot"
   ]
  },
  {
   "cell_type": "code",
   "execution_count": 27,
   "metadata": {},
   "outputs": [],
   "source": [
    "# Test Code\n",
    "# # Create figure with secondary y-axis\n",
    "# fig = make_subplots(specs=[[{\"secondary_y\": True}]])\n",
    "\n",
    "# # Add traces\n",
    "# fig.add_trace(\n",
    "#     go.Scatter(x=df['date_tracked'], y=df['track_playcount'],\n",
    "#                         mode='lines', # 'lines' or 'markers'\n",
    "#                         name=\"track playcount\"),\n",
    "#     secondary_y=False,\n",
    "# )\n",
    "\n",
    "# fig.add_trace(\n",
    "#     go.Scatter(x=df2['date_tracked'], y=df2['track_popularity'], name=\"track popularity score\"),\n",
    "#     secondary_y=True,\n",
    "# )\n",
    "\n",
    "# # Add figure title\n",
    "# fig.update_layout(\n",
    "#     title_text=\"Double Y Axis Example\"\n",
    "# )\n",
    "\n",
    "# # Set x-axis title\n",
    "# fig.update_xaxes(title_text=\"xaxis title\")\n",
    "\n",
    "# # Set y-axes titles\n",
    "# fig.update_yaxes(title_text=\"<b>primary</b> yaxis title\", secondary_y=False)\n",
    "# fig.update_yaxes(title_text=\"<b>secondary</b> yaxis title\", secondary_y=True)\n",
    "\n",
    "# fig.show()"
   ]
  },
  {
   "cell_type": "code",
   "execution_count": null,
   "metadata": {},
   "outputs": [],
   "source": []
  },
  {
   "cell_type": "code",
   "execution_count": null,
   "metadata": {},
   "outputs": [],
   "source": []
  },
  {
   "cell_type": "code",
   "execution_count": null,
   "metadata": {},
   "outputs": [],
   "source": []
  },
  {
   "attachments": {},
   "cell_type": "markdown",
   "metadata": {},
   "source": [
    "#### `plot_artist()`"
   ]
  },
  {
   "cell_type": "code",
   "execution_count": 28,
   "metadata": {},
   "outputs": [
    {
     "data": {
      "text/html": [
       "<div>\n",
       "<style scoped>\n",
       "    .dataframe tbody tr th:only-of-type {\n",
       "        vertical-align: middle;\n",
       "    }\n",
       "\n",
       "    .dataframe tbody tr th {\n",
       "        vertical-align: top;\n",
       "    }\n",
       "\n",
       "    .dataframe thead th {\n",
       "        text-align: right;\n",
       "    }\n",
       "</style>\n",
       "<table border=\"1\" class=\"dataframe\">\n",
       "  <thead>\n",
       "    <tr style=\"text-align: right;\">\n",
       "      <th></th>\n",
       "      <th>artist_name</th>\n",
       "      <th>artist_id</th>\n",
       "      <th>artist_followers</th>\n",
       "      <th>artist_popularity</th>\n",
       "      <th>date_tracked</th>\n",
       "    </tr>\n",
       "  </thead>\n",
       "  <tbody>\n",
       "    <tr>\n",
       "      <th>0</th>\n",
       "      <td>Martin Garrix</td>\n",
       "      <td>60d24wfXkVzDSfLS6hyCjZ</td>\n",
       "      <td>15740063</td>\n",
       "      <td>80</td>\n",
       "      <td>2023-03-04</td>\n",
       "    </tr>\n",
       "    <tr>\n",
       "      <th>1</th>\n",
       "      <td>Martin Garrix</td>\n",
       "      <td>60d24wfXkVzDSfLS6hyCjZ</td>\n",
       "      <td>15740063</td>\n",
       "      <td>80</td>\n",
       "      <td>2023-03-05</td>\n",
       "    </tr>\n",
       "    <tr>\n",
       "      <th>2</th>\n",
       "      <td>Martin Garrix</td>\n",
       "      <td>60d24wfXkVzDSfLS6hyCjZ</td>\n",
       "      <td>15741357</td>\n",
       "      <td>80</td>\n",
       "      <td>2023-03-06</td>\n",
       "    </tr>\n",
       "    <tr>\n",
       "      <th>3</th>\n",
       "      <td>Martin Garrix</td>\n",
       "      <td>60d24wfXkVzDSfLS6hyCjZ</td>\n",
       "      <td>15742314</td>\n",
       "      <td>80</td>\n",
       "      <td>2023-03-07</td>\n",
       "    </tr>\n",
       "    <tr>\n",
       "      <th>4</th>\n",
       "      <td>Martin Garrix</td>\n",
       "      <td>60d24wfXkVzDSfLS6hyCjZ</td>\n",
       "      <td>15743343</td>\n",
       "      <td>80</td>\n",
       "      <td>2023-03-08</td>\n",
       "    </tr>\n",
       "    <tr>\n",
       "      <th>5</th>\n",
       "      <td>Martin Garrix</td>\n",
       "      <td>60d24wfXkVzDSfLS6hyCjZ</td>\n",
       "      <td>15745000</td>\n",
       "      <td>80</td>\n",
       "      <td>2023-03-09</td>\n",
       "    </tr>\n",
       "    <tr>\n",
       "      <th>6</th>\n",
       "      <td>Martin Garrix</td>\n",
       "      <td>60d24wfXkVzDSfLS6hyCjZ</td>\n",
       "      <td>15746075</td>\n",
       "      <td>80</td>\n",
       "      <td>2023-03-10</td>\n",
       "    </tr>\n",
       "    <tr>\n",
       "      <th>7</th>\n",
       "      <td>Martin Garrix</td>\n",
       "      <td>60d24wfXkVzDSfLS6hyCjZ</td>\n",
       "      <td>15746075</td>\n",
       "      <td>80</td>\n",
       "      <td>2023-03-11</td>\n",
       "    </tr>\n",
       "    <tr>\n",
       "      <th>8</th>\n",
       "      <td>Martin Garrix</td>\n",
       "      <td>60d24wfXkVzDSfLS6hyCjZ</td>\n",
       "      <td>15747310</td>\n",
       "      <td>80</td>\n",
       "      <td>2023-03-12</td>\n",
       "    </tr>\n",
       "    <tr>\n",
       "      <th>9</th>\n",
       "      <td>Martin Garrix</td>\n",
       "      <td>60d24wfXkVzDSfLS6hyCjZ</td>\n",
       "      <td>15748376</td>\n",
       "      <td>80</td>\n",
       "      <td>2023-03-13</td>\n",
       "    </tr>\n",
       "  </tbody>\n",
       "</table>\n",
       "</div>"
      ],
      "text/plain": [
       "     artist_name               artist_id  artist_followers  artist_popularity  \\\n",
       "0  Martin Garrix  60d24wfXkVzDSfLS6hyCjZ          15740063                 80   \n",
       "1  Martin Garrix  60d24wfXkVzDSfLS6hyCjZ          15740063                 80   \n",
       "2  Martin Garrix  60d24wfXkVzDSfLS6hyCjZ          15741357                 80   \n",
       "3  Martin Garrix  60d24wfXkVzDSfLS6hyCjZ          15742314                 80   \n",
       "4  Martin Garrix  60d24wfXkVzDSfLS6hyCjZ          15743343                 80   \n",
       "5  Martin Garrix  60d24wfXkVzDSfLS6hyCjZ          15745000                 80   \n",
       "6  Martin Garrix  60d24wfXkVzDSfLS6hyCjZ          15746075                 80   \n",
       "7  Martin Garrix  60d24wfXkVzDSfLS6hyCjZ          15746075                 80   \n",
       "8  Martin Garrix  60d24wfXkVzDSfLS6hyCjZ          15747310                 80   \n",
       "9  Martin Garrix  60d24wfXkVzDSfLS6hyCjZ          15748376                 80   \n",
       "\n",
       "  date_tracked  \n",
       "0   2023-03-04  \n",
       "1   2023-03-05  \n",
       "2   2023-03-06  \n",
       "3   2023-03-07  \n",
       "4   2023-03-08  \n",
       "5   2023-03-09  \n",
       "6   2023-03-10  \n",
       "7   2023-03-11  \n",
       "8   2023-03-12  \n",
       "9   2023-03-13  "
      ]
     },
     "execution_count": 28,
     "metadata": {},
     "output_type": "execute_result"
    }
   ],
   "source": [
    "df = SQL_get_artist_pop(\"Martin Garrix\")\n",
    "df"
   ]
  },
  {
   "cell_type": "code",
   "execution_count": 29,
   "metadata": {},
   "outputs": [],
   "source": [
    "def plot_artist(df):\n",
    "    '''plots the artist's followers and popularity score base on date_tracked'''\n",
    "    #grab from artist popularity datafram queried\n",
    "    artist_name = df['artist_name'][1]\n",
    "    dates = df['date_tracked']\n",
    "    followers = df['artist_followers']\n",
    "    popularity = df['artist_popularity']\n",
    "\n",
    "    lower_follower, upper_follower = plot_range_playcount_followers(followers)\n",
    "    lower_pop, upper_pop = plot_range_popularity(popularity)\n",
    "    \n",
    "    #create the histograms\n",
    "    fig = go.Figure(\n",
    "        data=go.Bar(\n",
    "            x= dates,\n",
    "            y= followers,\n",
    "            name=\"Followers\",\n",
    "            marker=dict(color=\"pink\"),\n",
    "        )\n",
    "    )\n",
    "    #add the lines \n",
    "    fig.add_trace(\n",
    "        go.Scatter(\n",
    "            x= dates,\n",
    "            y= popularity,\n",
    "            yaxis= \"y2\",\n",
    "            name= \"Popularity\",\n",
    "            marker=dict(color=\"crimson\"),\n",
    "            mode='lines+markers'\n",
    "            #text = popularity,\n",
    "            #textposition='top center'\n",
    "        )\n",
    "    )\n",
    "\n",
    "    fig.update_layout(\n",
    "        title={\n",
    "            'text': f\"{artist_name}'s Followers and Popularity\",\n",
    "            'font': {'size': 24},\n",
    "            'x': 0.5,\n",
    "            'xanchor': 'center'\n",
    "        },\n",
    "        legend=dict(orientation=\"h\"),\n",
    "        yaxis=dict(\n",
    "            title=dict(text=\"Followers\"),\n",
    "            range = [lower_follower,upper_follower], #change the range here\n",
    "            side=\"left\",\n",
    "        ),\n",
    "        yaxis2=dict(\n",
    "            title=dict(text=\"Popularity Score\"),\n",
    "            side=\"right\",\n",
    "            range=[lower_pop, upper_pop], #change the range here\n",
    "            overlaying=\"y\",\n",
    "            tickmode=\"auto\",\n",
    "        ),\n",
    "    )\n",
    "    fig.show()\n"
   ]
  },
  {
   "cell_type": "code",
   "execution_count": 30,
   "metadata": {},
   "outputs": [
    {
     "data": {
      "application/vnd.plotly.v1+json": {
       "config": {
        "plotlyServerURL": "https://plot.ly"
       },
       "data": [
        {
         "marker": {
          "color": "pink"
         },
         "name": "Followers",
         "type": "bar",
         "x": [
          "2023-03-04",
          "2023-03-05",
          "2023-03-06",
          "2023-03-07",
          "2023-03-08",
          "2023-03-09",
          "2023-03-10",
          "2023-03-11",
          "2023-03-12",
          "2023-03-13"
         ],
         "y": [
          15740063,
          15740063,
          15741357,
          15742314,
          15743343,
          15745000,
          15746075,
          15746075,
          15747310,
          15748376
         ]
        },
        {
         "marker": {
          "color": "crimson"
         },
         "mode": "lines+markers",
         "name": "Popularity",
         "type": "scatter",
         "x": [
          "2023-03-04",
          "2023-03-05",
          "2023-03-06",
          "2023-03-07",
          "2023-03-08",
          "2023-03-09",
          "2023-03-10",
          "2023-03-11",
          "2023-03-12",
          "2023-03-13"
         ],
         "y": [
          80,
          80,
          80,
          80,
          80,
          80,
          80,
          80,
          80,
          80
         ],
         "yaxis": "y2"
        }
       ],
       "layout": {
        "legend": {
         "orientation": "h"
        },
        "template": {
         "data": {
          "bar": [
           {
            "error_x": {
             "color": "#2a3f5f"
            },
            "error_y": {
             "color": "#2a3f5f"
            },
            "marker": {
             "line": {
              "color": "#E5ECF6",
              "width": 0.5
             },
             "pattern": {
              "fillmode": "overlay",
              "size": 10,
              "solidity": 0.2
             }
            },
            "type": "bar"
           }
          ],
          "barpolar": [
           {
            "marker": {
             "line": {
              "color": "#E5ECF6",
              "width": 0.5
             },
             "pattern": {
              "fillmode": "overlay",
              "size": 10,
              "solidity": 0.2
             }
            },
            "type": "barpolar"
           }
          ],
          "carpet": [
           {
            "aaxis": {
             "endlinecolor": "#2a3f5f",
             "gridcolor": "white",
             "linecolor": "white",
             "minorgridcolor": "white",
             "startlinecolor": "#2a3f5f"
            },
            "baxis": {
             "endlinecolor": "#2a3f5f",
             "gridcolor": "white",
             "linecolor": "white",
             "minorgridcolor": "white",
             "startlinecolor": "#2a3f5f"
            },
            "type": "carpet"
           }
          ],
          "choropleth": [
           {
            "colorbar": {
             "outlinewidth": 0,
             "ticks": ""
            },
            "type": "choropleth"
           }
          ],
          "contour": [
           {
            "colorbar": {
             "outlinewidth": 0,
             "ticks": ""
            },
            "colorscale": [
             [
              0,
              "#0d0887"
             ],
             [
              0.1111111111111111,
              "#46039f"
             ],
             [
              0.2222222222222222,
              "#7201a8"
             ],
             [
              0.3333333333333333,
              "#9c179e"
             ],
             [
              0.4444444444444444,
              "#bd3786"
             ],
             [
              0.5555555555555556,
              "#d8576b"
             ],
             [
              0.6666666666666666,
              "#ed7953"
             ],
             [
              0.7777777777777778,
              "#fb9f3a"
             ],
             [
              0.8888888888888888,
              "#fdca26"
             ],
             [
              1,
              "#f0f921"
             ]
            ],
            "type": "contour"
           }
          ],
          "contourcarpet": [
           {
            "colorbar": {
             "outlinewidth": 0,
             "ticks": ""
            },
            "type": "contourcarpet"
           }
          ],
          "heatmap": [
           {
            "colorbar": {
             "outlinewidth": 0,
             "ticks": ""
            },
            "colorscale": [
             [
              0,
              "#0d0887"
             ],
             [
              0.1111111111111111,
              "#46039f"
             ],
             [
              0.2222222222222222,
              "#7201a8"
             ],
             [
              0.3333333333333333,
              "#9c179e"
             ],
             [
              0.4444444444444444,
              "#bd3786"
             ],
             [
              0.5555555555555556,
              "#d8576b"
             ],
             [
              0.6666666666666666,
              "#ed7953"
             ],
             [
              0.7777777777777778,
              "#fb9f3a"
             ],
             [
              0.8888888888888888,
              "#fdca26"
             ],
             [
              1,
              "#f0f921"
             ]
            ],
            "type": "heatmap"
           }
          ],
          "heatmapgl": [
           {
            "colorbar": {
             "outlinewidth": 0,
             "ticks": ""
            },
            "colorscale": [
             [
              0,
              "#0d0887"
             ],
             [
              0.1111111111111111,
              "#46039f"
             ],
             [
              0.2222222222222222,
              "#7201a8"
             ],
             [
              0.3333333333333333,
              "#9c179e"
             ],
             [
              0.4444444444444444,
              "#bd3786"
             ],
             [
              0.5555555555555556,
              "#d8576b"
             ],
             [
              0.6666666666666666,
              "#ed7953"
             ],
             [
              0.7777777777777778,
              "#fb9f3a"
             ],
             [
              0.8888888888888888,
              "#fdca26"
             ],
             [
              1,
              "#f0f921"
             ]
            ],
            "type": "heatmapgl"
           }
          ],
          "histogram": [
           {
            "marker": {
             "pattern": {
              "fillmode": "overlay",
              "size": 10,
              "solidity": 0.2
             }
            },
            "type": "histogram"
           }
          ],
          "histogram2d": [
           {
            "colorbar": {
             "outlinewidth": 0,
             "ticks": ""
            },
            "colorscale": [
             [
              0,
              "#0d0887"
             ],
             [
              0.1111111111111111,
              "#46039f"
             ],
             [
              0.2222222222222222,
              "#7201a8"
             ],
             [
              0.3333333333333333,
              "#9c179e"
             ],
             [
              0.4444444444444444,
              "#bd3786"
             ],
             [
              0.5555555555555556,
              "#d8576b"
             ],
             [
              0.6666666666666666,
              "#ed7953"
             ],
             [
              0.7777777777777778,
              "#fb9f3a"
             ],
             [
              0.8888888888888888,
              "#fdca26"
             ],
             [
              1,
              "#f0f921"
             ]
            ],
            "type": "histogram2d"
           }
          ],
          "histogram2dcontour": [
           {
            "colorbar": {
             "outlinewidth": 0,
             "ticks": ""
            },
            "colorscale": [
             [
              0,
              "#0d0887"
             ],
             [
              0.1111111111111111,
              "#46039f"
             ],
             [
              0.2222222222222222,
              "#7201a8"
             ],
             [
              0.3333333333333333,
              "#9c179e"
             ],
             [
              0.4444444444444444,
              "#bd3786"
             ],
             [
              0.5555555555555556,
              "#d8576b"
             ],
             [
              0.6666666666666666,
              "#ed7953"
             ],
             [
              0.7777777777777778,
              "#fb9f3a"
             ],
             [
              0.8888888888888888,
              "#fdca26"
             ],
             [
              1,
              "#f0f921"
             ]
            ],
            "type": "histogram2dcontour"
           }
          ],
          "mesh3d": [
           {
            "colorbar": {
             "outlinewidth": 0,
             "ticks": ""
            },
            "type": "mesh3d"
           }
          ],
          "parcoords": [
           {
            "line": {
             "colorbar": {
              "outlinewidth": 0,
              "ticks": ""
             }
            },
            "type": "parcoords"
           }
          ],
          "pie": [
           {
            "automargin": true,
            "type": "pie"
           }
          ],
          "scatter": [
           {
            "fillpattern": {
             "fillmode": "overlay",
             "size": 10,
             "solidity": 0.2
            },
            "type": "scatter"
           }
          ],
          "scatter3d": [
           {
            "line": {
             "colorbar": {
              "outlinewidth": 0,
              "ticks": ""
             }
            },
            "marker": {
             "colorbar": {
              "outlinewidth": 0,
              "ticks": ""
             }
            },
            "type": "scatter3d"
           }
          ],
          "scattercarpet": [
           {
            "marker": {
             "colorbar": {
              "outlinewidth": 0,
              "ticks": ""
             }
            },
            "type": "scattercarpet"
           }
          ],
          "scattergeo": [
           {
            "marker": {
             "colorbar": {
              "outlinewidth": 0,
              "ticks": ""
             }
            },
            "type": "scattergeo"
           }
          ],
          "scattergl": [
           {
            "marker": {
             "colorbar": {
              "outlinewidth": 0,
              "ticks": ""
             }
            },
            "type": "scattergl"
           }
          ],
          "scattermapbox": [
           {
            "marker": {
             "colorbar": {
              "outlinewidth": 0,
              "ticks": ""
             }
            },
            "type": "scattermapbox"
           }
          ],
          "scatterpolar": [
           {
            "marker": {
             "colorbar": {
              "outlinewidth": 0,
              "ticks": ""
             }
            },
            "type": "scatterpolar"
           }
          ],
          "scatterpolargl": [
           {
            "marker": {
             "colorbar": {
              "outlinewidth": 0,
              "ticks": ""
             }
            },
            "type": "scatterpolargl"
           }
          ],
          "scatterternary": [
           {
            "marker": {
             "colorbar": {
              "outlinewidth": 0,
              "ticks": ""
             }
            },
            "type": "scatterternary"
           }
          ],
          "surface": [
           {
            "colorbar": {
             "outlinewidth": 0,
             "ticks": ""
            },
            "colorscale": [
             [
              0,
              "#0d0887"
             ],
             [
              0.1111111111111111,
              "#46039f"
             ],
             [
              0.2222222222222222,
              "#7201a8"
             ],
             [
              0.3333333333333333,
              "#9c179e"
             ],
             [
              0.4444444444444444,
              "#bd3786"
             ],
             [
              0.5555555555555556,
              "#d8576b"
             ],
             [
              0.6666666666666666,
              "#ed7953"
             ],
             [
              0.7777777777777778,
              "#fb9f3a"
             ],
             [
              0.8888888888888888,
              "#fdca26"
             ],
             [
              1,
              "#f0f921"
             ]
            ],
            "type": "surface"
           }
          ],
          "table": [
           {
            "cells": {
             "fill": {
              "color": "#EBF0F8"
             },
             "line": {
              "color": "white"
             }
            },
            "header": {
             "fill": {
              "color": "#C8D4E3"
             },
             "line": {
              "color": "white"
             }
            },
            "type": "table"
           }
          ]
         },
         "layout": {
          "annotationdefaults": {
           "arrowcolor": "#2a3f5f",
           "arrowhead": 0,
           "arrowwidth": 1
          },
          "autotypenumbers": "strict",
          "coloraxis": {
           "colorbar": {
            "outlinewidth": 0,
            "ticks": ""
           }
          },
          "colorscale": {
           "diverging": [
            [
             0,
             "#8e0152"
            ],
            [
             0.1,
             "#c51b7d"
            ],
            [
             0.2,
             "#de77ae"
            ],
            [
             0.3,
             "#f1b6da"
            ],
            [
             0.4,
             "#fde0ef"
            ],
            [
             0.5,
             "#f7f7f7"
            ],
            [
             0.6,
             "#e6f5d0"
            ],
            [
             0.7,
             "#b8e186"
            ],
            [
             0.8,
             "#7fbc41"
            ],
            [
             0.9,
             "#4d9221"
            ],
            [
             1,
             "#276419"
            ]
           ],
           "sequential": [
            [
             0,
             "#0d0887"
            ],
            [
             0.1111111111111111,
             "#46039f"
            ],
            [
             0.2222222222222222,
             "#7201a8"
            ],
            [
             0.3333333333333333,
             "#9c179e"
            ],
            [
             0.4444444444444444,
             "#bd3786"
            ],
            [
             0.5555555555555556,
             "#d8576b"
            ],
            [
             0.6666666666666666,
             "#ed7953"
            ],
            [
             0.7777777777777778,
             "#fb9f3a"
            ],
            [
             0.8888888888888888,
             "#fdca26"
            ],
            [
             1,
             "#f0f921"
            ]
           ],
           "sequentialminus": [
            [
             0,
             "#0d0887"
            ],
            [
             0.1111111111111111,
             "#46039f"
            ],
            [
             0.2222222222222222,
             "#7201a8"
            ],
            [
             0.3333333333333333,
             "#9c179e"
            ],
            [
             0.4444444444444444,
             "#bd3786"
            ],
            [
             0.5555555555555556,
             "#d8576b"
            ],
            [
             0.6666666666666666,
             "#ed7953"
            ],
            [
             0.7777777777777778,
             "#fb9f3a"
            ],
            [
             0.8888888888888888,
             "#fdca26"
            ],
            [
             1,
             "#f0f921"
            ]
           ]
          },
          "colorway": [
           "#636efa",
           "#EF553B",
           "#00cc96",
           "#ab63fa",
           "#FFA15A",
           "#19d3f3",
           "#FF6692",
           "#B6E880",
           "#FF97FF",
           "#FECB52"
          ],
          "font": {
           "color": "#2a3f5f"
          },
          "geo": {
           "bgcolor": "white",
           "lakecolor": "white",
           "landcolor": "#E5ECF6",
           "showlakes": true,
           "showland": true,
           "subunitcolor": "white"
          },
          "hoverlabel": {
           "align": "left"
          },
          "hovermode": "closest",
          "mapbox": {
           "style": "light"
          },
          "paper_bgcolor": "white",
          "plot_bgcolor": "#E5ECF6",
          "polar": {
           "angularaxis": {
            "gridcolor": "white",
            "linecolor": "white",
            "ticks": ""
           },
           "bgcolor": "#E5ECF6",
           "radialaxis": {
            "gridcolor": "white",
            "linecolor": "white",
            "ticks": ""
           }
          },
          "scene": {
           "xaxis": {
            "backgroundcolor": "#E5ECF6",
            "gridcolor": "white",
            "gridwidth": 2,
            "linecolor": "white",
            "showbackground": true,
            "ticks": "",
            "zerolinecolor": "white"
           },
           "yaxis": {
            "backgroundcolor": "#E5ECF6",
            "gridcolor": "white",
            "gridwidth": 2,
            "linecolor": "white",
            "showbackground": true,
            "ticks": "",
            "zerolinecolor": "white"
           },
           "zaxis": {
            "backgroundcolor": "#E5ECF6",
            "gridcolor": "white",
            "gridwidth": 2,
            "linecolor": "white",
            "showbackground": true,
            "ticks": "",
            "zerolinecolor": "white"
           }
          },
          "shapedefaults": {
           "line": {
            "color": "#2a3f5f"
           }
          },
          "ternary": {
           "aaxis": {
            "gridcolor": "white",
            "linecolor": "white",
            "ticks": ""
           },
           "baxis": {
            "gridcolor": "white",
            "linecolor": "white",
            "ticks": ""
           },
           "bgcolor": "#E5ECF6",
           "caxis": {
            "gridcolor": "white",
            "linecolor": "white",
            "ticks": ""
           }
          },
          "title": {
           "x": 0.05
          },
          "xaxis": {
           "automargin": true,
           "gridcolor": "white",
           "linecolor": "white",
           "ticks": "",
           "title": {
            "standoff": 15
           },
           "zerolinecolor": "white",
           "zerolinewidth": 2
          },
          "yaxis": {
           "automargin": true,
           "gridcolor": "white",
           "linecolor": "white",
           "ticks": "",
           "title": {
            "standoff": 15
           },
           "zerolinecolor": "white",
           "zerolinewidth": 2
          }
         }
        },
        "title": {
         "font": {
          "size": 24
         },
         "text": "Martin Garrix's Followers and Popularity",
         "x": 0.5,
         "xanchor": "center"
        },
        "yaxis": {
         "range": [
          15739231.7,
          15749207.3
         ],
         "side": "left",
         "title": {
          "text": "Followers"
         }
        },
        "yaxis2": {
         "overlaying": "y",
         "range": [
          77,
          83
         ],
         "side": "right",
         "tickmode": "auto",
         "title": {
          "text": "Popularity Score"
         }
        }
       }
      }
     },
     "metadata": {},
     "output_type": "display_data"
    }
   ],
   "source": [
    "plot_artist(df)"
   ]
  },
  {
   "attachments": {},
   "cell_type": "markdown",
   "metadata": {},
   "source": [
    "#### `plot_latest_albums_or_singles()`"
   ]
  },
  {
   "cell_type": "code",
   "execution_count": 31,
   "metadata": {},
   "outputs": [
    {
     "data": {
      "text/html": [
       "<div>\n",
       "<style scoped>\n",
       "    .dataframe tbody tr th:only-of-type {\n",
       "        vertical-align: middle;\n",
       "    }\n",
       "\n",
       "    .dataframe tbody tr th {\n",
       "        vertical-align: top;\n",
       "    }\n",
       "\n",
       "    .dataframe thead th {\n",
       "        text-align: right;\n",
       "    }\n",
       "</style>\n",
       "<table border=\"1\" class=\"dataframe\">\n",
       "  <thead>\n",
       "    <tr style=\"text-align: right;\">\n",
       "      <th></th>\n",
       "      <th>artist_name</th>\n",
       "      <th>album_group</th>\n",
       "      <th>album_name</th>\n",
       "      <th>album_release_date</th>\n",
       "      <th>album_popularity</th>\n",
       "      <th>date_tracked</th>\n",
       "    </tr>\n",
       "  </thead>\n",
       "  <tbody>\n",
       "    <tr>\n",
       "      <th>0</th>\n",
       "      <td>Taylor Swift</td>\n",
       "      <td>single</td>\n",
       "      <td>Anti-Hero (ILLENIUM Remix)</td>\n",
       "      <td>2022-11-18</td>\n",
       "      <td>55</td>\n",
       "      <td>2023-03-04</td>\n",
       "    </tr>\n",
       "    <tr>\n",
       "      <th>1</th>\n",
       "      <td>Taylor Swift</td>\n",
       "      <td>album</td>\n",
       "      <td>Midnights (3am Edition)</td>\n",
       "      <td>2022-10-22</td>\n",
       "      <td>90</td>\n",
       "      <td>2023-03-04</td>\n",
       "    </tr>\n",
       "    <tr>\n",
       "      <th>2</th>\n",
       "      <td>Taylor Swift</td>\n",
       "      <td>album</td>\n",
       "      <td>Midnights</td>\n",
       "      <td>2022-10-21</td>\n",
       "      <td>94</td>\n",
       "      <td>2023-03-04</td>\n",
       "    </tr>\n",
       "    <tr>\n",
       "      <th>3</th>\n",
       "      <td>Taylor Swift</td>\n",
       "      <td>album</td>\n",
       "      <td>Red (Taylor's Version)</td>\n",
       "      <td>2021-11-12</td>\n",
       "      <td>87</td>\n",
       "      <td>2023-03-04</td>\n",
       "    </tr>\n",
       "    <tr>\n",
       "      <th>4</th>\n",
       "      <td>Taylor Swift</td>\n",
       "      <td>album</td>\n",
       "      <td>Fearless (Taylor's Version)</td>\n",
       "      <td>2021-04-09</td>\n",
       "      <td>84</td>\n",
       "      <td>2023-03-04</td>\n",
       "    </tr>\n",
       "    <tr>\n",
       "      <th>...</th>\n",
       "      <td>...</td>\n",
       "      <td>...</td>\n",
       "      <td>...</td>\n",
       "      <td>...</td>\n",
       "      <td>...</td>\n",
       "      <td>...</td>\n",
       "    </tr>\n",
       "    <tr>\n",
       "      <th>1045</th>\n",
       "      <td>Taylor Swift</td>\n",
       "      <td>single</td>\n",
       "      <td>Sweeter Than Fiction</td>\n",
       "      <td>2013-10-21</td>\n",
       "      <td>45</td>\n",
       "      <td>2023-03-13</td>\n",
       "    </tr>\n",
       "    <tr>\n",
       "      <th>1046</th>\n",
       "      <td>Taylor Swift</td>\n",
       "      <td>single</td>\n",
       "      <td>Everything Has Changed (Remix)</td>\n",
       "      <td>2013-01-01</td>\n",
       "      <td>28</td>\n",
       "      <td>2023-03-13</td>\n",
       "    </tr>\n",
       "    <tr>\n",
       "      <th>1047</th>\n",
       "      <td>Taylor Swift</td>\n",
       "      <td>single</td>\n",
       "      <td>Ronan</td>\n",
       "      <td>2012-09-08</td>\n",
       "      <td>35</td>\n",
       "      <td>2023-03-13</td>\n",
       "    </tr>\n",
       "    <tr>\n",
       "      <th>1048</th>\n",
       "      <td>Taylor Swift</td>\n",
       "      <td>single</td>\n",
       "      <td>Today Was A Fairytale</td>\n",
       "      <td>2011-02-15</td>\n",
       "      <td>44</td>\n",
       "      <td>2023-03-13</td>\n",
       "    </tr>\n",
       "    <tr>\n",
       "      <th>1049</th>\n",
       "      <td>Taylor Swift</td>\n",
       "      <td>single</td>\n",
       "      <td>The Taylor Swift Holiday Collection</td>\n",
       "      <td>2008-12-02</td>\n",
       "      <td>50</td>\n",
       "      <td>2023-03-13</td>\n",
       "    </tr>\n",
       "  </tbody>\n",
       "</table>\n",
       "<p>1050 rows × 6 columns</p>\n",
       "</div>"
      ],
      "text/plain": [
       "       artist_name album_group                           album_name  \\\n",
       "0     Taylor Swift      single           Anti-Hero (ILLENIUM Remix)   \n",
       "1     Taylor Swift       album              Midnights (3am Edition)   \n",
       "2     Taylor Swift       album                            Midnights   \n",
       "3     Taylor Swift       album               Red (Taylor's Version)   \n",
       "4     Taylor Swift       album          Fearless (Taylor's Version)   \n",
       "...            ...         ...                                  ...   \n",
       "1045  Taylor Swift      single                 Sweeter Than Fiction   \n",
       "1046  Taylor Swift      single       Everything Has Changed (Remix)   \n",
       "1047  Taylor Swift      single                                Ronan   \n",
       "1048  Taylor Swift      single                Today Was A Fairytale   \n",
       "1049  Taylor Swift      single  The Taylor Swift Holiday Collection   \n",
       "\n",
       "     album_release_date  album_popularity date_tracked  \n",
       "0            2022-11-18                55   2023-03-04  \n",
       "1            2022-10-22                90   2023-03-04  \n",
       "2            2022-10-21                94   2023-03-04  \n",
       "3            2021-11-12                87   2023-03-04  \n",
       "4            2021-04-09                84   2023-03-04  \n",
       "...                 ...               ...          ...  \n",
       "1045         2013-10-21                45   2023-03-13  \n",
       "1046         2013-01-01                28   2023-03-13  \n",
       "1047         2012-09-08                35   2023-03-13  \n",
       "1048         2011-02-15                44   2023-03-13  \n",
       "1049         2008-12-02                50   2023-03-13  \n",
       "\n",
       "[1050 rows x 6 columns]"
      ]
     },
     "execution_count": 31,
     "metadata": {},
     "output_type": "execute_result"
    }
   ],
   "source": [
    "#new\n",
    "df = SQL_get_albums_pop_artist(\"Taylor Swift\")\n",
    "df"
   ]
  },
  {
   "cell_type": "code",
   "execution_count": 32,
   "metadata": {},
   "outputs": [],
   "source": [
    "def plot_latest_albums_or_singles(df, album = True, number = 1):\n",
    "    '''allow to toggle latest album or single and plot the popularity score'''\n",
    "\n",
    "    ## Processing data\n",
    "    artist_name = df['artist_name'][1]\n",
    "\n",
    "\n",
    "    #select album or single\n",
    "    if album == True:\n",
    "        types = \"Album(s)\"\n",
    "        df = df[df['album_group'] == 'album']\n",
    "\n",
    "    else:\n",
    "        types = \"Single(s)\"\n",
    "        df = df[df['album_group'] == 'single']\n",
    "\n",
    "\n",
    "    #grab the album_name of the first to the number selected\n",
    "    temp_name = df['album_name'].iloc[0:number]\n",
    "    new_df = df[df['album_name'].isin(temp_name)]\n",
    "\n",
    "    #last check for duplicates\n",
    "    new_df.drop_duplicates()\n",
    "\n",
    "    # Use plotly express to create the graph\n",
    "    fig = px.line(new_df, x='date_tracked', y='album_popularity', color='album_name')\n",
    "\n",
    "    # Update the legend\n",
    "    fig.update_layout(\n",
    "        title={\n",
    "            'text': f\"{artist_name}'s Latest {number} {types} Popularity\",\n",
    "            'font': {'size': 24},\n",
    "            'x': 0.5,\n",
    "            'xanchor': 'center'\n",
    "        },\n",
    "        legend=dict(\n",
    "        title=f\"{types}\", #legend title\n",
    "        font=dict(size=12)\n",
    "        ),\n",
    "        xaxis_title=\"Date\",\n",
    "        yaxis_title=\"Popularity Score\"\n",
    "    )\n",
    "    \n",
    "    fig.show()\n",
    "    \n",
    "\n"
   ]
  },
  {
   "cell_type": "code",
   "execution_count": 33,
   "metadata": {},
   "outputs": [
    {
     "data": {
      "application/vnd.plotly.v1+json": {
       "config": {
        "plotlyServerURL": "https://plot.ly"
       },
       "data": [
        {
         "hovertemplate": "album_name=Anti-Hero (ILLENIUM Remix)<br>date_tracked=%{x}<br>album_popularity=%{y}<extra></extra>",
         "legendgroup": "Anti-Hero (ILLENIUM Remix)",
         "line": {
          "color": "#636efa",
          "dash": "solid"
         },
         "marker": {
          "symbol": "circle"
         },
         "mode": "lines",
         "name": "Anti-Hero (ILLENIUM Remix)",
         "orientation": "v",
         "showlegend": true,
         "type": "scatter",
         "x": [
          "2023-03-04",
          "2023-03-05",
          "2023-03-06",
          "2023-03-07",
          "2023-03-08",
          "2023-03-09",
          "2023-03-10",
          "2023-03-11",
          "2023-03-12",
          "2023-03-13"
         ],
         "xaxis": "x",
         "y": [
          55,
          55,
          55,
          55,
          55,
          55,
          55,
          55,
          55,
          55
         ],
         "yaxis": "y"
        },
        {
         "hovertemplate": "album_name=Lavender Haze (Remixes)<br>date_tracked=%{x}<br>album_popularity=%{y}<extra></extra>",
         "legendgroup": "Lavender Haze (Remixes)",
         "line": {
          "color": "#EF553B",
          "dash": "solid"
         },
         "marker": {
          "symbol": "circle"
         },
         "mode": "lines",
         "name": "Lavender Haze (Remixes)",
         "orientation": "v",
         "showlegend": true,
         "type": "scatter",
         "x": [
          "2023-03-04",
          "2023-03-05",
          "2023-03-06",
          "2023-03-07",
          "2023-03-08",
          "2023-03-09",
          "2023-03-10",
          "2023-03-11",
          "2023-03-12",
          "2023-03-13"
         ],
         "xaxis": "x",
         "y": [
          0,
          43,
          47,
          51,
          53,
          54,
          55,
          56,
          57,
          58
         ],
         "yaxis": "y"
        },
        {
         "hovertemplate": "album_name=Lavender Haze (Felix Jaehn Remix)<br>date_tracked=%{x}<br>album_popularity=%{y}<extra></extra>",
         "legendgroup": "Lavender Haze (Felix Jaehn Remix)",
         "line": {
          "color": "#00cc96",
          "dash": "solid"
         },
         "marker": {
          "symbol": "circle"
         },
         "mode": "lines",
         "name": "Lavender Haze (Felix Jaehn Remix)",
         "orientation": "v",
         "showlegend": true,
         "type": "scatter",
         "x": [
          "2023-03-04",
          "2023-03-05",
          "2023-03-06",
          "2023-03-07",
          "2023-03-08",
          "2023-03-09",
          "2023-03-10",
          "2023-03-11",
          "2023-03-12",
          "2023-03-13"
         ],
         "xaxis": "x",
         "y": [
          67,
          67,
          67,
          67,
          67,
          66,
          66,
          66,
          66,
          66
         ],
         "yaxis": "y"
        },
        {
         "hovertemplate": "album_name=Anti-Hero (Acoustic Version)<br>date_tracked=%{x}<br>album_popularity=%{y}<extra></extra>",
         "legendgroup": "Anti-Hero (Acoustic Version)",
         "line": {
          "color": "#ab63fa",
          "dash": "solid"
         },
         "marker": {
          "symbol": "circle"
         },
         "mode": "lines",
         "name": "Anti-Hero (Acoustic Version)",
         "orientation": "v",
         "showlegend": true,
         "type": "scatter",
         "x": [
          "2023-03-04",
          "2023-03-05",
          "2023-03-06",
          "2023-03-07",
          "2023-03-08",
          "2023-03-09",
          "2023-03-10",
          "2023-03-11",
          "2023-03-12",
          "2023-03-13"
         ],
         "xaxis": "x",
         "y": [
          60,
          60,
          60,
          60,
          60,
          60,
          60,
          60,
          60,
          60
         ],
         "yaxis": "y"
        },
        {
         "hovertemplate": "album_name=Anti-Hero (Remixes)<br>date_tracked=%{x}<br>album_popularity=%{y}<extra></extra>",
         "legendgroup": "Anti-Hero (Remixes)",
         "line": {
          "color": "#FFA15A",
          "dash": "solid"
         },
         "marker": {
          "symbol": "circle"
         },
         "mode": "lines",
         "name": "Anti-Hero (Remixes)",
         "orientation": "v",
         "showlegend": true,
         "type": "scatter",
         "x": [
          "2023-03-04",
          "2023-03-05",
          "2023-03-06",
          "2023-03-07",
          "2023-03-08",
          "2023-03-09",
          "2023-03-10",
          "2023-03-11",
          "2023-03-12",
          "2023-03-13"
         ],
         "xaxis": "x",
         "y": [
          61,
          61,
          61,
          61,
          61,
          61,
          61,
          61,
          61,
          61
         ],
         "yaxis": "y"
        },
        {
         "hovertemplate": "album_name=Anti-Hero (feat. Bleachers)<br>date_tracked=%{x}<br>album_popularity=%{y}<extra></extra>",
         "legendgroup": "Anti-Hero (feat. Bleachers)",
         "line": {
          "color": "#19d3f3",
          "dash": "solid"
         },
         "marker": {
          "symbol": "circle"
         },
         "mode": "lines",
         "name": "Anti-Hero (feat. Bleachers)",
         "orientation": "v",
         "showlegend": true,
         "type": "scatter",
         "x": [
          "2023-03-04",
          "2023-03-05",
          "2023-03-06",
          "2023-03-07",
          "2023-03-08",
          "2023-03-09",
          "2023-03-10",
          "2023-03-11",
          "2023-03-12",
          "2023-03-13"
         ],
         "xaxis": "x",
         "y": [
          54,
          54,
          54,
          54,
          54,
          54,
          54,
          54,
          54,
          54
         ],
         "yaxis": "y"
        },
        {
         "hovertemplate": "album_name=Carolina (From The Motion Picture “Where The Crawdads Sing”)<br>date_tracked=%{x}<br>album_popularity=%{y}<extra></extra>",
         "legendgroup": "Carolina (From The Motion Picture “Where The Crawdads Sing”)",
         "line": {
          "color": "#FF6692",
          "dash": "solid"
         },
         "marker": {
          "symbol": "circle"
         },
         "mode": "lines",
         "name": "Carolina (From The Motion Picture “Where The Crawdads Sing”)",
         "orientation": "v",
         "showlegend": true,
         "type": "scatter",
         "x": [
          "2023-03-04",
          "2023-03-05",
          "2023-03-06",
          "2023-03-07",
          "2023-03-08",
          "2023-03-09",
          "2023-03-10",
          "2023-03-11",
          "2023-03-12",
          "2023-03-13"
         ],
         "xaxis": "x",
         "y": [
          60,
          60,
          60,
          60,
          60,
          60,
          60,
          60,
          60,
          60
         ],
         "yaxis": "y"
        },
        {
         "hovertemplate": "album_name=All Too Well (10 Minute Version) (The Short Film)<br>date_tracked=%{x}<br>album_popularity=%{y}<extra></extra>",
         "legendgroup": "All Too Well (10 Minute Version) (The Short Film)",
         "line": {
          "color": "#B6E880",
          "dash": "solid"
         },
         "marker": {
          "symbol": "circle"
         },
         "mode": "lines",
         "name": "All Too Well (10 Minute Version) (The Short Film)",
         "orientation": "v",
         "showlegend": true,
         "type": "scatter",
         "x": [
          "2023-03-04",
          "2023-03-05",
          "2023-03-06",
          "2023-03-07",
          "2023-03-08",
          "2023-03-09",
          "2023-03-10",
          "2023-03-11",
          "2023-03-12",
          "2023-03-13"
         ],
         "xaxis": "x",
         "y": [
          48,
          48,
          48,
          48,
          48,
          48,
          48,
          48,
          48,
          48
         ],
         "yaxis": "y"
        },
        {
         "hovertemplate": "album_name=This Love (Taylor’s Version)<br>date_tracked=%{x}<br>album_popularity=%{y}<extra></extra>",
         "legendgroup": "This Love (Taylor’s Version)",
         "line": {
          "color": "#FF97FF",
          "dash": "solid"
         },
         "marker": {
          "symbol": "circle"
         },
         "mode": "lines",
         "name": "This Love (Taylor’s Version)",
         "orientation": "v",
         "showlegend": true,
         "type": "scatter",
         "x": [
          "2023-03-04",
          "2023-03-05",
          "2023-03-06",
          "2023-03-07",
          "2023-03-08",
          "2023-03-09",
          "2023-03-10",
          "2023-03-11",
          "2023-03-12",
          "2023-03-13"
         ],
         "xaxis": "x",
         "y": [
          67,
          67,
          67,
          67,
          67,
          67,
          67,
          67,
          67,
          67
         ],
         "yaxis": "y"
        },
        {
         "hovertemplate": "album_name=The Joker And The Queen (feat. Taylor Swift)<br>date_tracked=%{x}<br>album_popularity=%{y}<extra></extra>",
         "legendgroup": "The Joker And The Queen (feat. Taylor Swift)",
         "line": {
          "color": "#FECB52",
          "dash": "solid"
         },
         "marker": {
          "symbol": "circle"
         },
         "mode": "lines",
         "name": "The Joker And The Queen (feat. Taylor Swift)",
         "orientation": "v",
         "showlegend": true,
         "type": "scatter",
         "x": [
          "2023-03-04",
          "2023-03-05",
          "2023-03-06",
          "2023-03-07",
          "2023-03-08",
          "2023-03-09",
          "2023-03-10",
          "2023-03-11",
          "2023-03-12",
          "2023-03-13"
         ],
         "xaxis": "x",
         "y": [
          64,
          64,
          64,
          64,
          64,
          64,
          64,
          64,
          64,
          64
         ],
         "yaxis": "y"
        }
       ],
       "layout": {
        "legend": {
         "font": {
          "size": 12
         },
         "title": {
          "text": "Single(s)"
         },
         "tracegroupgap": 0
        },
        "margin": {
         "t": 60
        },
        "template": {
         "data": {
          "bar": [
           {
            "error_x": {
             "color": "#2a3f5f"
            },
            "error_y": {
             "color": "#2a3f5f"
            },
            "marker": {
             "line": {
              "color": "#E5ECF6",
              "width": 0.5
             },
             "pattern": {
              "fillmode": "overlay",
              "size": 10,
              "solidity": 0.2
             }
            },
            "type": "bar"
           }
          ],
          "barpolar": [
           {
            "marker": {
             "line": {
              "color": "#E5ECF6",
              "width": 0.5
             },
             "pattern": {
              "fillmode": "overlay",
              "size": 10,
              "solidity": 0.2
             }
            },
            "type": "barpolar"
           }
          ],
          "carpet": [
           {
            "aaxis": {
             "endlinecolor": "#2a3f5f",
             "gridcolor": "white",
             "linecolor": "white",
             "minorgridcolor": "white",
             "startlinecolor": "#2a3f5f"
            },
            "baxis": {
             "endlinecolor": "#2a3f5f",
             "gridcolor": "white",
             "linecolor": "white",
             "minorgridcolor": "white",
             "startlinecolor": "#2a3f5f"
            },
            "type": "carpet"
           }
          ],
          "choropleth": [
           {
            "colorbar": {
             "outlinewidth": 0,
             "ticks": ""
            },
            "type": "choropleth"
           }
          ],
          "contour": [
           {
            "colorbar": {
             "outlinewidth": 0,
             "ticks": ""
            },
            "colorscale": [
             [
              0,
              "#0d0887"
             ],
             [
              0.1111111111111111,
              "#46039f"
             ],
             [
              0.2222222222222222,
              "#7201a8"
             ],
             [
              0.3333333333333333,
              "#9c179e"
             ],
             [
              0.4444444444444444,
              "#bd3786"
             ],
             [
              0.5555555555555556,
              "#d8576b"
             ],
             [
              0.6666666666666666,
              "#ed7953"
             ],
             [
              0.7777777777777778,
              "#fb9f3a"
             ],
             [
              0.8888888888888888,
              "#fdca26"
             ],
             [
              1,
              "#f0f921"
             ]
            ],
            "type": "contour"
           }
          ],
          "contourcarpet": [
           {
            "colorbar": {
             "outlinewidth": 0,
             "ticks": ""
            },
            "type": "contourcarpet"
           }
          ],
          "heatmap": [
           {
            "colorbar": {
             "outlinewidth": 0,
             "ticks": ""
            },
            "colorscale": [
             [
              0,
              "#0d0887"
             ],
             [
              0.1111111111111111,
              "#46039f"
             ],
             [
              0.2222222222222222,
              "#7201a8"
             ],
             [
              0.3333333333333333,
              "#9c179e"
             ],
             [
              0.4444444444444444,
              "#bd3786"
             ],
             [
              0.5555555555555556,
              "#d8576b"
             ],
             [
              0.6666666666666666,
              "#ed7953"
             ],
             [
              0.7777777777777778,
              "#fb9f3a"
             ],
             [
              0.8888888888888888,
              "#fdca26"
             ],
             [
              1,
              "#f0f921"
             ]
            ],
            "type": "heatmap"
           }
          ],
          "heatmapgl": [
           {
            "colorbar": {
             "outlinewidth": 0,
             "ticks": ""
            },
            "colorscale": [
             [
              0,
              "#0d0887"
             ],
             [
              0.1111111111111111,
              "#46039f"
             ],
             [
              0.2222222222222222,
              "#7201a8"
             ],
             [
              0.3333333333333333,
              "#9c179e"
             ],
             [
              0.4444444444444444,
              "#bd3786"
             ],
             [
              0.5555555555555556,
              "#d8576b"
             ],
             [
              0.6666666666666666,
              "#ed7953"
             ],
             [
              0.7777777777777778,
              "#fb9f3a"
             ],
             [
              0.8888888888888888,
              "#fdca26"
             ],
             [
              1,
              "#f0f921"
             ]
            ],
            "type": "heatmapgl"
           }
          ],
          "histogram": [
           {
            "marker": {
             "pattern": {
              "fillmode": "overlay",
              "size": 10,
              "solidity": 0.2
             }
            },
            "type": "histogram"
           }
          ],
          "histogram2d": [
           {
            "colorbar": {
             "outlinewidth": 0,
             "ticks": ""
            },
            "colorscale": [
             [
              0,
              "#0d0887"
             ],
             [
              0.1111111111111111,
              "#46039f"
             ],
             [
              0.2222222222222222,
              "#7201a8"
             ],
             [
              0.3333333333333333,
              "#9c179e"
             ],
             [
              0.4444444444444444,
              "#bd3786"
             ],
             [
              0.5555555555555556,
              "#d8576b"
             ],
             [
              0.6666666666666666,
              "#ed7953"
             ],
             [
              0.7777777777777778,
              "#fb9f3a"
             ],
             [
              0.8888888888888888,
              "#fdca26"
             ],
             [
              1,
              "#f0f921"
             ]
            ],
            "type": "histogram2d"
           }
          ],
          "histogram2dcontour": [
           {
            "colorbar": {
             "outlinewidth": 0,
             "ticks": ""
            },
            "colorscale": [
             [
              0,
              "#0d0887"
             ],
             [
              0.1111111111111111,
              "#46039f"
             ],
             [
              0.2222222222222222,
              "#7201a8"
             ],
             [
              0.3333333333333333,
              "#9c179e"
             ],
             [
              0.4444444444444444,
              "#bd3786"
             ],
             [
              0.5555555555555556,
              "#d8576b"
             ],
             [
              0.6666666666666666,
              "#ed7953"
             ],
             [
              0.7777777777777778,
              "#fb9f3a"
             ],
             [
              0.8888888888888888,
              "#fdca26"
             ],
             [
              1,
              "#f0f921"
             ]
            ],
            "type": "histogram2dcontour"
           }
          ],
          "mesh3d": [
           {
            "colorbar": {
             "outlinewidth": 0,
             "ticks": ""
            },
            "type": "mesh3d"
           }
          ],
          "parcoords": [
           {
            "line": {
             "colorbar": {
              "outlinewidth": 0,
              "ticks": ""
             }
            },
            "type": "parcoords"
           }
          ],
          "pie": [
           {
            "automargin": true,
            "type": "pie"
           }
          ],
          "scatter": [
           {
            "fillpattern": {
             "fillmode": "overlay",
             "size": 10,
             "solidity": 0.2
            },
            "type": "scatter"
           }
          ],
          "scatter3d": [
           {
            "line": {
             "colorbar": {
              "outlinewidth": 0,
              "ticks": ""
             }
            },
            "marker": {
             "colorbar": {
              "outlinewidth": 0,
              "ticks": ""
             }
            },
            "type": "scatter3d"
           }
          ],
          "scattercarpet": [
           {
            "marker": {
             "colorbar": {
              "outlinewidth": 0,
              "ticks": ""
             }
            },
            "type": "scattercarpet"
           }
          ],
          "scattergeo": [
           {
            "marker": {
             "colorbar": {
              "outlinewidth": 0,
              "ticks": ""
             }
            },
            "type": "scattergeo"
           }
          ],
          "scattergl": [
           {
            "marker": {
             "colorbar": {
              "outlinewidth": 0,
              "ticks": ""
             }
            },
            "type": "scattergl"
           }
          ],
          "scattermapbox": [
           {
            "marker": {
             "colorbar": {
              "outlinewidth": 0,
              "ticks": ""
             }
            },
            "type": "scattermapbox"
           }
          ],
          "scatterpolar": [
           {
            "marker": {
             "colorbar": {
              "outlinewidth": 0,
              "ticks": ""
             }
            },
            "type": "scatterpolar"
           }
          ],
          "scatterpolargl": [
           {
            "marker": {
             "colorbar": {
              "outlinewidth": 0,
              "ticks": ""
             }
            },
            "type": "scatterpolargl"
           }
          ],
          "scatterternary": [
           {
            "marker": {
             "colorbar": {
              "outlinewidth": 0,
              "ticks": ""
             }
            },
            "type": "scatterternary"
           }
          ],
          "surface": [
           {
            "colorbar": {
             "outlinewidth": 0,
             "ticks": ""
            },
            "colorscale": [
             [
              0,
              "#0d0887"
             ],
             [
              0.1111111111111111,
              "#46039f"
             ],
             [
              0.2222222222222222,
              "#7201a8"
             ],
             [
              0.3333333333333333,
              "#9c179e"
             ],
             [
              0.4444444444444444,
              "#bd3786"
             ],
             [
              0.5555555555555556,
              "#d8576b"
             ],
             [
              0.6666666666666666,
              "#ed7953"
             ],
             [
              0.7777777777777778,
              "#fb9f3a"
             ],
             [
              0.8888888888888888,
              "#fdca26"
             ],
             [
              1,
              "#f0f921"
             ]
            ],
            "type": "surface"
           }
          ],
          "table": [
           {
            "cells": {
             "fill": {
              "color": "#EBF0F8"
             },
             "line": {
              "color": "white"
             }
            },
            "header": {
             "fill": {
              "color": "#C8D4E3"
             },
             "line": {
              "color": "white"
             }
            },
            "type": "table"
           }
          ]
         },
         "layout": {
          "annotationdefaults": {
           "arrowcolor": "#2a3f5f",
           "arrowhead": 0,
           "arrowwidth": 1
          },
          "autotypenumbers": "strict",
          "coloraxis": {
           "colorbar": {
            "outlinewidth": 0,
            "ticks": ""
           }
          },
          "colorscale": {
           "diverging": [
            [
             0,
             "#8e0152"
            ],
            [
             0.1,
             "#c51b7d"
            ],
            [
             0.2,
             "#de77ae"
            ],
            [
             0.3,
             "#f1b6da"
            ],
            [
             0.4,
             "#fde0ef"
            ],
            [
             0.5,
             "#f7f7f7"
            ],
            [
             0.6,
             "#e6f5d0"
            ],
            [
             0.7,
             "#b8e186"
            ],
            [
             0.8,
             "#7fbc41"
            ],
            [
             0.9,
             "#4d9221"
            ],
            [
             1,
             "#276419"
            ]
           ],
           "sequential": [
            [
             0,
             "#0d0887"
            ],
            [
             0.1111111111111111,
             "#46039f"
            ],
            [
             0.2222222222222222,
             "#7201a8"
            ],
            [
             0.3333333333333333,
             "#9c179e"
            ],
            [
             0.4444444444444444,
             "#bd3786"
            ],
            [
             0.5555555555555556,
             "#d8576b"
            ],
            [
             0.6666666666666666,
             "#ed7953"
            ],
            [
             0.7777777777777778,
             "#fb9f3a"
            ],
            [
             0.8888888888888888,
             "#fdca26"
            ],
            [
             1,
             "#f0f921"
            ]
           ],
           "sequentialminus": [
            [
             0,
             "#0d0887"
            ],
            [
             0.1111111111111111,
             "#46039f"
            ],
            [
             0.2222222222222222,
             "#7201a8"
            ],
            [
             0.3333333333333333,
             "#9c179e"
            ],
            [
             0.4444444444444444,
             "#bd3786"
            ],
            [
             0.5555555555555556,
             "#d8576b"
            ],
            [
             0.6666666666666666,
             "#ed7953"
            ],
            [
             0.7777777777777778,
             "#fb9f3a"
            ],
            [
             0.8888888888888888,
             "#fdca26"
            ],
            [
             1,
             "#f0f921"
            ]
           ]
          },
          "colorway": [
           "#636efa",
           "#EF553B",
           "#00cc96",
           "#ab63fa",
           "#FFA15A",
           "#19d3f3",
           "#FF6692",
           "#B6E880",
           "#FF97FF",
           "#FECB52"
          ],
          "font": {
           "color": "#2a3f5f"
          },
          "geo": {
           "bgcolor": "white",
           "lakecolor": "white",
           "landcolor": "#E5ECF6",
           "showlakes": true,
           "showland": true,
           "subunitcolor": "white"
          },
          "hoverlabel": {
           "align": "left"
          },
          "hovermode": "closest",
          "mapbox": {
           "style": "light"
          },
          "paper_bgcolor": "white",
          "plot_bgcolor": "#E5ECF6",
          "polar": {
           "angularaxis": {
            "gridcolor": "white",
            "linecolor": "white",
            "ticks": ""
           },
           "bgcolor": "#E5ECF6",
           "radialaxis": {
            "gridcolor": "white",
            "linecolor": "white",
            "ticks": ""
           }
          },
          "scene": {
           "xaxis": {
            "backgroundcolor": "#E5ECF6",
            "gridcolor": "white",
            "gridwidth": 2,
            "linecolor": "white",
            "showbackground": true,
            "ticks": "",
            "zerolinecolor": "white"
           },
           "yaxis": {
            "backgroundcolor": "#E5ECF6",
            "gridcolor": "white",
            "gridwidth": 2,
            "linecolor": "white",
            "showbackground": true,
            "ticks": "",
            "zerolinecolor": "white"
           },
           "zaxis": {
            "backgroundcolor": "#E5ECF6",
            "gridcolor": "white",
            "gridwidth": 2,
            "linecolor": "white",
            "showbackground": true,
            "ticks": "",
            "zerolinecolor": "white"
           }
          },
          "shapedefaults": {
           "line": {
            "color": "#2a3f5f"
           }
          },
          "ternary": {
           "aaxis": {
            "gridcolor": "white",
            "linecolor": "white",
            "ticks": ""
           },
           "baxis": {
            "gridcolor": "white",
            "linecolor": "white",
            "ticks": ""
           },
           "bgcolor": "#E5ECF6",
           "caxis": {
            "gridcolor": "white",
            "linecolor": "white",
            "ticks": ""
           }
          },
          "title": {
           "x": 0.05
          },
          "xaxis": {
           "automargin": true,
           "gridcolor": "white",
           "linecolor": "white",
           "ticks": "",
           "title": {
            "standoff": 15
           },
           "zerolinecolor": "white",
           "zerolinewidth": 2
          },
          "yaxis": {
           "automargin": true,
           "gridcolor": "white",
           "linecolor": "white",
           "ticks": "",
           "title": {
            "standoff": 15
           },
           "zerolinecolor": "white",
           "zerolinewidth": 2
          }
         }
        },
        "title": {
         "font": {
          "size": 24
         },
         "text": "Taylor Swift's Latest 10 Single(s) Popularity",
         "x": 0.5,
         "xanchor": "center"
        },
        "xaxis": {
         "anchor": "y",
         "domain": [
          0,
          1
         ],
         "title": {
          "text": "Date"
         }
        },
        "yaxis": {
         "anchor": "x",
         "domain": [
          0,
          1
         ],
         "title": {
          "text": "Popularity Score"
         }
        }
       }
      }
     },
     "metadata": {},
     "output_type": "display_data"
    }
   ],
   "source": [
    "plot_latest_albums_or_singles(df,album = False, number = 10)"
   ]
  },
  {
   "attachments": {},
   "cell_type": "markdown",
   "metadata": {},
   "source": [
    "#### `plot_album_tracks()`"
   ]
  },
  {
   "cell_type": "code",
   "execution_count": 34,
   "metadata": {},
   "outputs": [
    {
     "data": {
      "text/html": [
       "<div>\n",
       "<style scoped>\n",
       "    .dataframe tbody tr th:only-of-type {\n",
       "        vertical-align: middle;\n",
       "    }\n",
       "\n",
       "    .dataframe tbody tr th {\n",
       "        vertical-align: top;\n",
       "    }\n",
       "\n",
       "    .dataframe thead th {\n",
       "        text-align: right;\n",
       "    }\n",
       "</style>\n",
       "<table border=\"1\" class=\"dataframe\">\n",
       "  <thead>\n",
       "    <tr style=\"text-align: right;\">\n",
       "      <th></th>\n",
       "      <th>artist_name</th>\n",
       "      <th>album_name</th>\n",
       "      <th>album_group</th>\n",
       "      <th>track_name</th>\n",
       "      <th>track_id</th>\n",
       "      <th>track_number</th>\n",
       "      <th>track_popularity</th>\n",
       "      <th>track_playcount</th>\n",
       "      <th>date_tracked</th>\n",
       "    </tr>\n",
       "  </thead>\n",
       "  <tbody>\n",
       "    <tr>\n",
       "      <th>0</th>\n",
       "      <td>Taylor Swift</td>\n",
       "      <td>Anti-Hero (ILLENIUM Remix)</td>\n",
       "      <td>single</td>\n",
       "      <td>Anti-Hero - ILLENIUM Remix</td>\n",
       "      <td>6C0H8ts9M6deezz0yYR6LK</td>\n",
       "      <td>1</td>\n",
       "      <td>60</td>\n",
       "      <td>6655791</td>\n",
       "      <td>2023-03-04</td>\n",
       "    </tr>\n",
       "    <tr>\n",
       "      <th>1</th>\n",
       "      <td>Taylor Swift</td>\n",
       "      <td>Midnights (3am Edition)</td>\n",
       "      <td>album</td>\n",
       "      <td>Lavender Haze</td>\n",
       "      <td>4g2c7NoTWAOSYDy44l9nub</td>\n",
       "      <td>1</td>\n",
       "      <td>74</td>\n",
       "      <td>310253891</td>\n",
       "      <td>2023-03-04</td>\n",
       "    </tr>\n",
       "    <tr>\n",
       "      <th>2</th>\n",
       "      <td>Taylor Swift</td>\n",
       "      <td>Midnights (3am Edition)</td>\n",
       "      <td>album</td>\n",
       "      <td>Maroon</td>\n",
       "      <td>199E1RRrVmVTQqBXih5qRC</td>\n",
       "      <td>2</td>\n",
       "      <td>74</td>\n",
       "      <td>227662369</td>\n",
       "      <td>2023-03-04</td>\n",
       "    </tr>\n",
       "    <tr>\n",
       "      <th>3</th>\n",
       "      <td>Taylor Swift</td>\n",
       "      <td>Midnights (3am Edition)</td>\n",
       "      <td>album</td>\n",
       "      <td>Anti-Hero</td>\n",
       "      <td>02Zkkf2zMkwRGQjZ7T4p8f</td>\n",
       "      <td>3</td>\n",
       "      <td>75</td>\n",
       "      <td>631167491</td>\n",
       "      <td>2023-03-04</td>\n",
       "    </tr>\n",
       "    <tr>\n",
       "      <th>4</th>\n",
       "      <td>Taylor Swift</td>\n",
       "      <td>Midnights (3am Edition)</td>\n",
       "      <td>album</td>\n",
       "      <td>Snow On The Beach (feat. Lana Del Rey)</td>\n",
       "      <td>6ADDIJxxqzM9LMpm78yzQG</td>\n",
       "      <td>4</td>\n",
       "      <td>72</td>\n",
       "      <td>236114590</td>\n",
       "      <td>2023-03-04</td>\n",
       "    </tr>\n",
       "    <tr>\n",
       "      <th>...</th>\n",
       "      <td>...</td>\n",
       "      <td>...</td>\n",
       "      <td>...</td>\n",
       "      <td>...</td>\n",
       "      <td>...</td>\n",
       "      <td>...</td>\n",
       "      <td>...</td>\n",
       "      <td>...</td>\n",
       "      <td>...</td>\n",
       "    </tr>\n",
       "    <tr>\n",
       "      <th>9792</th>\n",
       "      <td>Taylor Swift</td>\n",
       "      <td>The Taylor Swift Holiday Collection</td>\n",
       "      <td>single</td>\n",
       "      <td>Christmases When You Were Mine</td>\n",
       "      <td>1g09DZjQ7yBommCT6POY2n</td>\n",
       "      <td>2</td>\n",
       "      <td>40</td>\n",
       "      <td>4443156</td>\n",
       "      <td>2023-03-13</td>\n",
       "    </tr>\n",
       "    <tr>\n",
       "      <th>9793</th>\n",
       "      <td>Taylor Swift</td>\n",
       "      <td>The Taylor Swift Holiday Collection</td>\n",
       "      <td>single</td>\n",
       "      <td>Santa Baby</td>\n",
       "      <td>71IScwIe7bcIlpnlkbKVQw</td>\n",
       "      <td>3</td>\n",
       "      <td>41</td>\n",
       "      <td>7011906</td>\n",
       "      <td>2023-03-13</td>\n",
       "    </tr>\n",
       "    <tr>\n",
       "      <th>9794</th>\n",
       "      <td>Taylor Swift</td>\n",
       "      <td>The Taylor Swift Holiday Collection</td>\n",
       "      <td>single</td>\n",
       "      <td>Silent Night</td>\n",
       "      <td>1cJkUN5LAotktryx2nPCr7</td>\n",
       "      <td>4</td>\n",
       "      <td>39</td>\n",
       "      <td>3388686</td>\n",
       "      <td>2023-03-13</td>\n",
       "    </tr>\n",
       "    <tr>\n",
       "      <th>9795</th>\n",
       "      <td>Taylor Swift</td>\n",
       "      <td>The Taylor Swift Holiday Collection</td>\n",
       "      <td>single</td>\n",
       "      <td>Christmas Must Be Something More</td>\n",
       "      <td>31JVjy3XWnh6C2zf4kLCXN</td>\n",
       "      <td>5</td>\n",
       "      <td>40</td>\n",
       "      <td>4266171</td>\n",
       "      <td>2023-03-13</td>\n",
       "    </tr>\n",
       "    <tr>\n",
       "      <th>9796</th>\n",
       "      <td>Taylor Swift</td>\n",
       "      <td>The Taylor Swift Holiday Collection</td>\n",
       "      <td>single</td>\n",
       "      <td>White Christmas</td>\n",
       "      <td>7GZ3KDorsc1yWndEtzGTjf</td>\n",
       "      <td>6</td>\n",
       "      <td>39</td>\n",
       "      <td>3864811</td>\n",
       "      <td>2023-03-13</td>\n",
       "    </tr>\n",
       "  </tbody>\n",
       "</table>\n",
       "<p>9797 rows × 9 columns</p>\n",
       "</div>"
      ],
      "text/plain": [
       "       artist_name                           album_name album_group  \\\n",
       "0     Taylor Swift           Anti-Hero (ILLENIUM Remix)      single   \n",
       "1     Taylor Swift              Midnights (3am Edition)       album   \n",
       "2     Taylor Swift              Midnights (3am Edition)       album   \n",
       "3     Taylor Swift              Midnights (3am Edition)       album   \n",
       "4     Taylor Swift              Midnights (3am Edition)       album   \n",
       "...            ...                                  ...         ...   \n",
       "9792  Taylor Swift  The Taylor Swift Holiday Collection      single   \n",
       "9793  Taylor Swift  The Taylor Swift Holiday Collection      single   \n",
       "9794  Taylor Swift  The Taylor Swift Holiday Collection      single   \n",
       "9795  Taylor Swift  The Taylor Swift Holiday Collection      single   \n",
       "9796  Taylor Swift  The Taylor Swift Holiday Collection      single   \n",
       "\n",
       "                                  track_name                track_id  \\\n",
       "0                 Anti-Hero - ILLENIUM Remix  6C0H8ts9M6deezz0yYR6LK   \n",
       "1                              Lavender Haze  4g2c7NoTWAOSYDy44l9nub   \n",
       "2                                     Maroon  199E1RRrVmVTQqBXih5qRC   \n",
       "3                                  Anti-Hero  02Zkkf2zMkwRGQjZ7T4p8f   \n",
       "4     Snow On The Beach (feat. Lana Del Rey)  6ADDIJxxqzM9LMpm78yzQG   \n",
       "...                                      ...                     ...   \n",
       "9792          Christmases When You Were Mine  1g09DZjQ7yBommCT6POY2n   \n",
       "9793                              Santa Baby  71IScwIe7bcIlpnlkbKVQw   \n",
       "9794                            Silent Night  1cJkUN5LAotktryx2nPCr7   \n",
       "9795        Christmas Must Be Something More  31JVjy3XWnh6C2zf4kLCXN   \n",
       "9796                         White Christmas  7GZ3KDorsc1yWndEtzGTjf   \n",
       "\n",
       "      track_number  track_popularity  track_playcount date_tracked  \n",
       "0                1                60          6655791   2023-03-04  \n",
       "1                1                74        310253891   2023-03-04  \n",
       "2                2                74        227662369   2023-03-04  \n",
       "3                3                75        631167491   2023-03-04  \n",
       "4                4                72        236114590   2023-03-04  \n",
       "...            ...               ...              ...          ...  \n",
       "9792             2                40          4443156   2023-03-13  \n",
       "9793             3                41          7011906   2023-03-13  \n",
       "9794             4                39          3388686   2023-03-13  \n",
       "9795             5                40          4266171   2023-03-13  \n",
       "9796             6                39          3864811   2023-03-13  \n",
       "\n",
       "[9797 rows x 9 columns]"
      ]
     },
     "execution_count": 34,
     "metadata": {},
     "output_type": "execute_result"
    }
   ],
   "source": [
    "df = SQL_get_tracks_playpop_artist('Taylor Swift')\n",
    "df"
   ]
  },
  {
   "cell_type": "code",
   "execution_count": 35,
   "metadata": {},
   "outputs": [
    {
     "data": {
      "text/plain": [
       "array(['Lavender Haze', 'Maroon', 'Anti-Hero',\n",
       "       'Snow On The Beach (feat. Lana Del Rey)',\n",
       "       \"You're On Your Own, Kid\", 'Midnight Rain', 'Question...?',\n",
       "       'Vigilante Shit', 'Bejeweled', 'Labyrinth', 'Karma',\n",
       "       'Sweet Nothing', 'Mastermind', 'The Great War',\n",
       "       'Bigger Than The Whole Sky', 'Paris', 'High Infidelity', 'Glitch',\n",
       "       \"Would've, Could've, Should've\", 'Dear Reader'], dtype=object)"
      ]
     },
     "execution_count": 35,
     "metadata": {},
     "output_type": "execute_result"
    }
   ],
   "source": [
    "df = df[df['album_name'] == \"Midnights (3am Edition)\"]\n",
    "df['track_name'].unique()"
   ]
  },
  {
   "cell_type": "code",
   "execution_count": 36,
   "metadata": {},
   "outputs": [],
   "source": [
    "def plot_album_tracks(df, album_name, pop = True):\n",
    "\n",
    "     ## Processing data\n",
    "    artist_name = df['artist_name'][1]\n",
    "\n",
    "\n",
    "    # grab only the data that is from one album\n",
    "    new_df = df[df['album_name'] == album_name]\n",
    "    #last check for duplicates\n",
    "    new_df.drop_duplicates()\n",
    "\n",
    "    #select album or single\n",
    "    if pop == True:\n",
    "        types = \"Popularity Score\"\n",
    "            # Use plotly express to create the graph\n",
    "        fig = px.line(new_df, x='date_tracked', y='track_popularity', color='track_name')\n",
    "\n",
    "    else:\n",
    "        types = \"Playcount\"\n",
    "        fig = px.line(new_df, x='date_tracked', y='track_playcount', color='track_name')\n",
    "\n",
    "\n",
    "\n",
    "    # Update the legend\n",
    "    fig.update_layout(\n",
    "        title={\n",
    "            'text': f\"Album/Single: {album_name} {types}\",\n",
    "            'font': {'size': 24},\n",
    "            'x': 0.5,\n",
    "            'xanchor': 'center'\n",
    "        },\n",
    "        legend=dict(\n",
    "        title=f\"{types}\", #legend title\n",
    "        font=dict(size=12)\n",
    "        ),\n",
    "        xaxis_title=\"Date\",\n",
    "        yaxis_title= f\"{types}\"\n",
    "    )\n",
    "    \n",
    "    fig.show()"
   ]
  },
  {
   "cell_type": "code",
   "execution_count": 37,
   "metadata": {},
   "outputs": [
    {
     "data": {
      "application/vnd.plotly.v1+json": {
       "config": {
        "plotlyServerURL": "https://plot.ly"
       },
       "data": [
        {
         "hovertemplate": "track_name=Lavender Haze<br>date_tracked=%{x}<br>track_playcount=%{y}<extra></extra>",
         "legendgroup": "Lavender Haze",
         "line": {
          "color": "#636efa",
          "dash": "solid"
         },
         "marker": {
          "symbol": "circle"
         },
         "mode": "lines",
         "name": "Lavender Haze",
         "orientation": "v",
         "showlegend": true,
         "type": "scatter",
         "x": [
          "2023-03-04",
          "2023-03-05",
          "2023-03-06",
          "2023-03-07",
          "2023-03-08",
          "2023-03-09",
          "2023-03-10",
          "2023-03-11",
          "2023-03-12",
          "2023-03-13"
         ],
         "xaxis": "x",
         "y": [
          310253891,
          311549255,
          312784487,
          314101752,
          315409806,
          316735100,
          318100880,
          319477488,
          320796433,
          321991322
         ],
         "yaxis": "y"
        },
        {
         "hovertemplate": "track_name=Maroon<br>date_tracked=%{x}<br>track_playcount=%{y}<extra></extra>",
         "legendgroup": "Maroon",
         "line": {
          "color": "#EF553B",
          "dash": "solid"
         },
         "marker": {
          "symbol": "circle"
         },
         "mode": "lines",
         "name": "Maroon",
         "orientation": "v",
         "showlegend": true,
         "type": "scatter",
         "x": [
          "2023-03-04",
          "2023-03-05",
          "2023-03-06",
          "2023-03-07",
          "2023-03-08",
          "2023-03-09",
          "2023-03-10",
          "2023-03-11",
          "2023-03-12",
          "2023-03-13"
         ],
         "xaxis": "x",
         "y": [
          227662369,
          228228569,
          228770971,
          229365247,
          229957269,
          230550964,
          231147467,
          231743614,
          232304781,
          232836052
         ],
         "yaxis": "y"
        },
        {
         "hovertemplate": "track_name=Anti-Hero<br>date_tracked=%{x}<br>track_playcount=%{y}<extra></extra>",
         "legendgroup": "Anti-Hero",
         "line": {
          "color": "#00cc96",
          "dash": "solid"
         },
         "marker": {
          "symbol": "circle"
         },
         "mode": "lines",
         "name": "Anti-Hero",
         "orientation": "v",
         "showlegend": true,
         "type": "scatter",
         "x": [
          "2023-03-04",
          "2023-03-05",
          "2023-03-06",
          "2023-03-07",
          "2023-03-08",
          "2023-03-09",
          "2023-03-10",
          "2023-03-11",
          "2023-03-12",
          "2023-03-13"
         ],
         "xaxis": "x",
         "y": [
          631167491,
          634054004,
          636639382,
          639366323,
          642120303,
          644916937,
          647752478,
          650691753,
          653578692,
          656167254
         ],
         "yaxis": "y"
        },
        {
         "hovertemplate": "track_name=Snow On The Beach (feat. Lana Del Rey)<br>date_tracked=%{x}<br>track_playcount=%{y}<extra></extra>",
         "legendgroup": "Snow On The Beach (feat. Lana Del Rey)",
         "line": {
          "color": "#ab63fa",
          "dash": "solid"
         },
         "marker": {
          "symbol": "circle"
         },
         "mode": "lines",
         "name": "Snow On The Beach (feat. Lana Del Rey)",
         "orientation": "v",
         "showlegend": true,
         "type": "scatter",
         "x": [
          "2023-03-04",
          "2023-03-05",
          "2023-03-06",
          "2023-03-07",
          "2023-03-08",
          "2023-03-09",
          "2023-03-10",
          "2023-03-11",
          "2023-03-12",
          "2023-03-13"
         ],
         "xaxis": "x",
         "y": [
          236114590,
          236707174,
          237286969,
          237910925,
          238523976,
          239134743,
          239746376,
          240342671,
          240899774,
          241445608
         ],
         "yaxis": "y"
        },
        {
         "hovertemplate": "track_name=You're On Your Own, Kid<br>date_tracked=%{x}<br>track_playcount=%{y}<extra></extra>",
         "legendgroup": "You're On Your Own, Kid",
         "line": {
          "color": "#FFA15A",
          "dash": "solid"
         },
         "marker": {
          "symbol": "circle"
         },
         "mode": "lines",
         "name": "You're On Your Own, Kid",
         "orientation": "v",
         "showlegend": true,
         "type": "scatter",
         "x": [
          "2023-03-04",
          "2023-03-05",
          "2023-03-06",
          "2023-03-07",
          "2023-03-08",
          "2023-03-09",
          "2023-03-10",
          "2023-03-11",
          "2023-03-12",
          "2023-03-13"
         ],
         "xaxis": "x",
         "y": [
          231095435,
          231761632,
          232416057,
          233135497,
          233857022,
          234578640,
          235305720,
          236012627,
          236679860,
          237327105
         ],
         "yaxis": "y"
        },
        {
         "hovertemplate": "track_name=Midnight Rain<br>date_tracked=%{x}<br>track_playcount=%{y}<extra></extra>",
         "legendgroup": "Midnight Rain",
         "line": {
          "color": "#19d3f3",
          "dash": "solid"
         },
         "marker": {
          "symbol": "circle"
         },
         "mode": "lines",
         "name": "Midnight Rain",
         "orientation": "v",
         "showlegend": true,
         "type": "scatter",
         "x": [
          "2023-03-04",
          "2023-03-05",
          "2023-03-06",
          "2023-03-07",
          "2023-03-08",
          "2023-03-09",
          "2023-03-10",
          "2023-03-11",
          "2023-03-12",
          "2023-03-13"
         ],
         "xaxis": "x",
         "y": [
          285507594,
          286414271,
          287285183,
          288217153,
          289153330,
          290093008,
          291037163,
          291966125,
          292849426,
          293696062
         ],
         "yaxis": "y"
        },
        {
         "hovertemplate": "track_name=Question...?<br>date_tracked=%{x}<br>track_playcount=%{y}<extra></extra>",
         "legendgroup": "Question...?",
         "line": {
          "color": "#FF6692",
          "dash": "solid"
         },
         "marker": {
          "symbol": "circle"
         },
         "mode": "lines",
         "name": "Question...?",
         "orientation": "v",
         "showlegend": true,
         "type": "scatter",
         "x": [
          "2023-03-04",
          "2023-03-05",
          "2023-03-06",
          "2023-03-07",
          "2023-03-08",
          "2023-03-09",
          "2023-03-10",
          "2023-03-11",
          "2023-03-12",
          "2023-03-13"
         ],
         "xaxis": "x",
         "y": [
          166402734,
          166739971,
          167060882,
          167410676,
          167763218,
          168117984,
          168477463,
          168829443,
          169155477,
          169464958
         ],
         "yaxis": "y"
        },
        {
         "hovertemplate": "track_name=Vigilante Shit<br>date_tracked=%{x}<br>track_playcount=%{y}<extra></extra>",
         "legendgroup": "Vigilante Shit",
         "line": {
          "color": "#B6E880",
          "dash": "solid"
         },
         "marker": {
          "symbol": "circle"
         },
         "mode": "lines",
         "name": "Vigilante Shit",
         "orientation": "v",
         "showlegend": true,
         "type": "scatter",
         "x": [
          "2023-03-04",
          "2023-03-05",
          "2023-03-06",
          "2023-03-07",
          "2023-03-08",
          "2023-03-09",
          "2023-03-10",
          "2023-03-11",
          "2023-03-12",
          "2023-03-13"
         ],
         "xaxis": "x",
         "y": [
          177626208,
          178031202,
          178384083,
          178769691,
          179158285,
          179553165,
          179954434,
          180347720,
          180714280,
          181059903
         ],
         "yaxis": "y"
        },
        {
         "hovertemplate": "track_name=Bejeweled<br>date_tracked=%{x}<br>track_playcount=%{y}<extra></extra>",
         "legendgroup": "Bejeweled",
         "line": {
          "color": "#FF97FF",
          "dash": "solid"
         },
         "marker": {
          "symbol": "circle"
         },
         "mode": "lines",
         "name": "Bejeweled",
         "orientation": "v",
         "showlegend": true,
         "type": "scatter",
         "x": [
          "2023-03-04",
          "2023-03-05",
          "2023-03-06",
          "2023-03-07",
          "2023-03-08",
          "2023-03-09",
          "2023-03-10",
          "2023-03-11",
          "2023-03-12",
          "2023-03-13"
         ],
         "xaxis": "x",
         "y": [
          213972066,
          214598778,
          215188350,
          215821451,
          216459684,
          217104129,
          217751158,
          218402206,
          219029224,
          219609055
         ],
         "yaxis": "y"
        },
        {
         "hovertemplate": "track_name=Labyrinth<br>date_tracked=%{x}<br>track_playcount=%{y}<extra></extra>",
         "legendgroup": "Labyrinth",
         "line": {
          "color": "#FECB52",
          "dash": "solid"
         },
         "marker": {
          "symbol": "circle"
         },
         "mode": "lines",
         "name": "Labyrinth",
         "orientation": "v",
         "showlegend": true,
         "type": "scatter",
         "x": [
          "2023-03-04",
          "2023-03-05",
          "2023-03-06",
          "2023-03-07",
          "2023-03-08",
          "2023-03-09",
          "2023-03-10",
          "2023-03-11",
          "2023-03-12",
          "2023-03-13"
         ],
         "xaxis": "x",
         "y": [
          137811566,
          138093638,
          138369849,
          138672914,
          138975808,
          139281089,
          139590208,
          139891070,
          140169639,
          140444662
         ],
         "yaxis": "y"
        },
        {
         "hovertemplate": "track_name=Karma<br>date_tracked=%{x}<br>track_playcount=%{y}<extra></extra>",
         "legendgroup": "Karma",
         "line": {
          "color": "#636efa",
          "dash": "solid"
         },
         "marker": {
          "symbol": "circle"
         },
         "mode": "lines",
         "name": "Karma",
         "orientation": "v",
         "showlegend": true,
         "type": "scatter",
         "x": [
          "2023-03-04",
          "2023-03-05",
          "2023-03-06",
          "2023-03-07",
          "2023-03-08",
          "2023-03-09",
          "2023-03-10",
          "2023-03-11",
          "2023-03-12",
          "2023-03-13"
         ],
         "xaxis": "x",
         "y": [
          216733448,
          217331156,
          217895696,
          218514050,
          219140039,
          219768423,
          220399199,
          221042086,
          221659216,
          222226410
         ],
         "yaxis": "y"
        },
        {
         "hovertemplate": "track_name=Sweet Nothing<br>date_tracked=%{x}<br>track_playcount=%{y}<extra></extra>",
         "legendgroup": "Sweet Nothing",
         "line": {
          "color": "#EF553B",
          "dash": "solid"
         },
         "marker": {
          "symbol": "circle"
         },
         "mode": "lines",
         "name": "Sweet Nothing",
         "orientation": "v",
         "showlegend": true,
         "type": "scatter",
         "x": [
          "2023-03-04",
          "2023-03-05",
          "2023-03-06",
          "2023-03-07",
          "2023-03-08",
          "2023-03-09",
          "2023-03-10",
          "2023-03-11",
          "2023-03-12",
          "2023-03-13"
         ],
         "xaxis": "x",
         "y": [
          133943847,
          134238846,
          134526108,
          134842631,
          135161286,
          135484324,
          135809492,
          136125033,
          136417475,
          136704273
         ],
         "yaxis": "y"
        },
        {
         "hovertemplate": "track_name=Mastermind<br>date_tracked=%{x}<br>track_playcount=%{y}<extra></extra>",
         "legendgroup": "Mastermind",
         "line": {
          "color": "#00cc96",
          "dash": "solid"
         },
         "marker": {
          "symbol": "circle"
         },
         "mode": "lines",
         "name": "Mastermind",
         "orientation": "v",
         "showlegend": true,
         "type": "scatter",
         "x": [
          "2023-03-04",
          "2023-03-05",
          "2023-03-06",
          "2023-03-07",
          "2023-03-08",
          "2023-03-09",
          "2023-03-10",
          "2023-03-11",
          "2023-03-12",
          "2023-03-13"
         ],
         "xaxis": "x",
         "y": [
          148890361,
          149241383,
          149580004,
          149952571,
          150330184,
          150710633,
          151096364,
          151472468,
          151818425,
          152150105
         ],
         "yaxis": "y"
        },
        {
         "hovertemplate": "track_name=The Great War<br>date_tracked=%{x}<br>track_playcount=%{y}<extra></extra>",
         "legendgroup": "The Great War",
         "line": {
          "color": "#ab63fa",
          "dash": "solid"
         },
         "marker": {
          "symbol": "circle"
         },
         "mode": "lines",
         "name": "The Great War",
         "orientation": "v",
         "showlegend": true,
         "type": "scatter",
         "x": [
          "2023-03-04",
          "2023-03-05",
          "2023-03-06",
          "2023-03-07",
          "2023-03-08",
          "2023-03-09",
          "2023-03-10",
          "2023-03-11",
          "2023-03-12",
          "2023-03-13"
         ],
         "xaxis": "x",
         "y": [
          112254559,
          112677228,
          113090846,
          113557299,
          114025902,
          114491707,
          114957345,
          115408872,
          115820040,
          116229893
         ],
         "yaxis": "y"
        },
        {
         "hovertemplate": "track_name=Bigger Than The Whole Sky<br>date_tracked=%{x}<br>track_playcount=%{y}<extra></extra>",
         "legendgroup": "Bigger Than The Whole Sky",
         "line": {
          "color": "#FFA15A",
          "dash": "solid"
         },
         "marker": {
          "symbol": "circle"
         },
         "mode": "lines",
         "name": "Bigger Than The Whole Sky",
         "orientation": "v",
         "showlegend": true,
         "type": "scatter",
         "x": [
          "2023-03-04",
          "2023-03-05",
          "2023-03-06",
          "2023-03-07",
          "2023-03-08",
          "2023-03-09",
          "2023-03-10",
          "2023-03-11",
          "2023-03-12",
          "2023-03-13"
         ],
         "xaxis": "x",
         "y": [
          88117980,
          88321200,
          88520556,
          88746010,
          88970912,
          89197433,
          89426562,
          89648056,
          89848215,
          90043317
         ],
         "yaxis": "y"
        },
        {
         "hovertemplate": "track_name=Paris<br>date_tracked=%{x}<br>track_playcount=%{y}<extra></extra>",
         "legendgroup": "Paris",
         "line": {
          "color": "#19d3f3",
          "dash": "solid"
         },
         "marker": {
          "symbol": "circle"
         },
         "mode": "lines",
         "name": "Paris",
         "orientation": "v",
         "showlegend": true,
         "type": "scatter",
         "x": [
          "2023-03-04",
          "2023-03-05",
          "2023-03-06",
          "2023-03-07",
          "2023-03-08",
          "2023-03-09",
          "2023-03-10",
          "2023-03-11",
          "2023-03-12",
          "2023-03-13"
         ],
         "xaxis": "x",
         "y": [
          85467392,
          85695855,
          85916902,
          86164632,
          86413790,
          86662325,
          86914176,
          87159058,
          87385717,
          87602457
         ],
         "yaxis": "y"
        },
        {
         "hovertemplate": "track_name=High Infidelity<br>date_tracked=%{x}<br>track_playcount=%{y}<extra></extra>",
         "legendgroup": "High Infidelity",
         "line": {
          "color": "#FF6692",
          "dash": "solid"
         },
         "marker": {
          "symbol": "circle"
         },
         "mode": "lines",
         "name": "High Infidelity",
         "orientation": "v",
         "showlegend": true,
         "type": "scatter",
         "x": [
          "2023-03-04",
          "2023-03-05",
          "2023-03-06",
          "2023-03-07",
          "2023-03-08",
          "2023-03-09",
          "2023-03-10",
          "2023-03-11",
          "2023-03-12",
          "2023-03-13"
         ],
         "xaxis": "x",
         "y": [
          73638415,
          73815223,
          73987697,
          74182653,
          74378747,
          74574394,
          74773663,
          74969895,
          75149698,
          75321854
         ],
         "yaxis": "y"
        },
        {
         "hovertemplate": "track_name=Glitch<br>date_tracked=%{x}<br>track_playcount=%{y}<extra></extra>",
         "legendgroup": "Glitch",
         "line": {
          "color": "#B6E880",
          "dash": "solid"
         },
         "marker": {
          "symbol": "circle"
         },
         "mode": "lines",
         "name": "Glitch",
         "orientation": "v",
         "showlegend": true,
         "type": "scatter",
         "x": [
          "2023-03-04",
          "2023-03-05",
          "2023-03-06",
          "2023-03-07",
          "2023-03-08",
          "2023-03-09",
          "2023-03-10",
          "2023-03-11",
          "2023-03-12",
          "2023-03-13"
         ],
         "xaxis": "x",
         "y": [
          62388893,
          62514150,
          62636069,
          62773025,
          62912049,
          63050113,
          63190222,
          63324693,
          63447009,
          63563773
         ],
         "yaxis": "y"
        },
        {
         "hovertemplate": "track_name=Would've, Could've, Should've<br>date_tracked=%{x}<br>track_playcount=%{y}<extra></extra>",
         "legendgroup": "Would've, Could've, Should've",
         "line": {
          "color": "#FF97FF",
          "dash": "solid"
         },
         "marker": {
          "symbol": "circle"
         },
         "mode": "lines",
         "name": "Would've, Could've, Should've",
         "orientation": "v",
         "showlegend": true,
         "type": "scatter",
         "x": [
          "2023-03-04",
          "2023-03-05",
          "2023-03-06",
          "2023-03-07",
          "2023-03-08",
          "2023-03-09",
          "2023-03-10",
          "2023-03-11",
          "2023-03-12",
          "2023-03-13"
         ],
         "xaxis": "x",
         "y": [
          117429524,
          117773048,
          118106152,
          118483188,
          118863685,
          119243295,
          119626909,
          120003853,
          120348573,
          120688067
         ],
         "yaxis": "y"
        },
        {
         "hovertemplate": "track_name=Dear Reader<br>date_tracked=%{x}<br>track_playcount=%{y}<extra></extra>",
         "legendgroup": "Dear Reader",
         "line": {
          "color": "#FECB52",
          "dash": "solid"
         },
         "marker": {
          "symbol": "circle"
         },
         "mode": "lines",
         "name": "Dear Reader",
         "orientation": "v",
         "showlegend": true,
         "type": "scatter",
         "x": [
          "2023-03-04",
          "2023-03-05",
          "2023-03-06",
          "2023-03-07",
          "2023-03-08",
          "2023-03-09",
          "2023-03-10",
          "2023-03-11",
          "2023-03-12",
          "2023-03-13"
         ],
         "xaxis": "x",
         "y": [
          61314700,
          61444280,
          61572531,
          61716800,
          61864002,
          62009360,
          62155960,
          62295820,
          62422102,
          62547002
         ],
         "yaxis": "y"
        }
       ],
       "layout": {
        "legend": {
         "font": {
          "size": 12
         },
         "title": {
          "text": "Playcount"
         },
         "tracegroupgap": 0
        },
        "margin": {
         "t": 60
        },
        "template": {
         "data": {
          "bar": [
           {
            "error_x": {
             "color": "#2a3f5f"
            },
            "error_y": {
             "color": "#2a3f5f"
            },
            "marker": {
             "line": {
              "color": "#E5ECF6",
              "width": 0.5
             },
             "pattern": {
              "fillmode": "overlay",
              "size": 10,
              "solidity": 0.2
             }
            },
            "type": "bar"
           }
          ],
          "barpolar": [
           {
            "marker": {
             "line": {
              "color": "#E5ECF6",
              "width": 0.5
             },
             "pattern": {
              "fillmode": "overlay",
              "size": 10,
              "solidity": 0.2
             }
            },
            "type": "barpolar"
           }
          ],
          "carpet": [
           {
            "aaxis": {
             "endlinecolor": "#2a3f5f",
             "gridcolor": "white",
             "linecolor": "white",
             "minorgridcolor": "white",
             "startlinecolor": "#2a3f5f"
            },
            "baxis": {
             "endlinecolor": "#2a3f5f",
             "gridcolor": "white",
             "linecolor": "white",
             "minorgridcolor": "white",
             "startlinecolor": "#2a3f5f"
            },
            "type": "carpet"
           }
          ],
          "choropleth": [
           {
            "colorbar": {
             "outlinewidth": 0,
             "ticks": ""
            },
            "type": "choropleth"
           }
          ],
          "contour": [
           {
            "colorbar": {
             "outlinewidth": 0,
             "ticks": ""
            },
            "colorscale": [
             [
              0,
              "#0d0887"
             ],
             [
              0.1111111111111111,
              "#46039f"
             ],
             [
              0.2222222222222222,
              "#7201a8"
             ],
             [
              0.3333333333333333,
              "#9c179e"
             ],
             [
              0.4444444444444444,
              "#bd3786"
             ],
             [
              0.5555555555555556,
              "#d8576b"
             ],
             [
              0.6666666666666666,
              "#ed7953"
             ],
             [
              0.7777777777777778,
              "#fb9f3a"
             ],
             [
              0.8888888888888888,
              "#fdca26"
             ],
             [
              1,
              "#f0f921"
             ]
            ],
            "type": "contour"
           }
          ],
          "contourcarpet": [
           {
            "colorbar": {
             "outlinewidth": 0,
             "ticks": ""
            },
            "type": "contourcarpet"
           }
          ],
          "heatmap": [
           {
            "colorbar": {
             "outlinewidth": 0,
             "ticks": ""
            },
            "colorscale": [
             [
              0,
              "#0d0887"
             ],
             [
              0.1111111111111111,
              "#46039f"
             ],
             [
              0.2222222222222222,
              "#7201a8"
             ],
             [
              0.3333333333333333,
              "#9c179e"
             ],
             [
              0.4444444444444444,
              "#bd3786"
             ],
             [
              0.5555555555555556,
              "#d8576b"
             ],
             [
              0.6666666666666666,
              "#ed7953"
             ],
             [
              0.7777777777777778,
              "#fb9f3a"
             ],
             [
              0.8888888888888888,
              "#fdca26"
             ],
             [
              1,
              "#f0f921"
             ]
            ],
            "type": "heatmap"
           }
          ],
          "heatmapgl": [
           {
            "colorbar": {
             "outlinewidth": 0,
             "ticks": ""
            },
            "colorscale": [
             [
              0,
              "#0d0887"
             ],
             [
              0.1111111111111111,
              "#46039f"
             ],
             [
              0.2222222222222222,
              "#7201a8"
             ],
             [
              0.3333333333333333,
              "#9c179e"
             ],
             [
              0.4444444444444444,
              "#bd3786"
             ],
             [
              0.5555555555555556,
              "#d8576b"
             ],
             [
              0.6666666666666666,
              "#ed7953"
             ],
             [
              0.7777777777777778,
              "#fb9f3a"
             ],
             [
              0.8888888888888888,
              "#fdca26"
             ],
             [
              1,
              "#f0f921"
             ]
            ],
            "type": "heatmapgl"
           }
          ],
          "histogram": [
           {
            "marker": {
             "pattern": {
              "fillmode": "overlay",
              "size": 10,
              "solidity": 0.2
             }
            },
            "type": "histogram"
           }
          ],
          "histogram2d": [
           {
            "colorbar": {
             "outlinewidth": 0,
             "ticks": ""
            },
            "colorscale": [
             [
              0,
              "#0d0887"
             ],
             [
              0.1111111111111111,
              "#46039f"
             ],
             [
              0.2222222222222222,
              "#7201a8"
             ],
             [
              0.3333333333333333,
              "#9c179e"
             ],
             [
              0.4444444444444444,
              "#bd3786"
             ],
             [
              0.5555555555555556,
              "#d8576b"
             ],
             [
              0.6666666666666666,
              "#ed7953"
             ],
             [
              0.7777777777777778,
              "#fb9f3a"
             ],
             [
              0.8888888888888888,
              "#fdca26"
             ],
             [
              1,
              "#f0f921"
             ]
            ],
            "type": "histogram2d"
           }
          ],
          "histogram2dcontour": [
           {
            "colorbar": {
             "outlinewidth": 0,
             "ticks": ""
            },
            "colorscale": [
             [
              0,
              "#0d0887"
             ],
             [
              0.1111111111111111,
              "#46039f"
             ],
             [
              0.2222222222222222,
              "#7201a8"
             ],
             [
              0.3333333333333333,
              "#9c179e"
             ],
             [
              0.4444444444444444,
              "#bd3786"
             ],
             [
              0.5555555555555556,
              "#d8576b"
             ],
             [
              0.6666666666666666,
              "#ed7953"
             ],
             [
              0.7777777777777778,
              "#fb9f3a"
             ],
             [
              0.8888888888888888,
              "#fdca26"
             ],
             [
              1,
              "#f0f921"
             ]
            ],
            "type": "histogram2dcontour"
           }
          ],
          "mesh3d": [
           {
            "colorbar": {
             "outlinewidth": 0,
             "ticks": ""
            },
            "type": "mesh3d"
           }
          ],
          "parcoords": [
           {
            "line": {
             "colorbar": {
              "outlinewidth": 0,
              "ticks": ""
             }
            },
            "type": "parcoords"
           }
          ],
          "pie": [
           {
            "automargin": true,
            "type": "pie"
           }
          ],
          "scatter": [
           {
            "fillpattern": {
             "fillmode": "overlay",
             "size": 10,
             "solidity": 0.2
            },
            "type": "scatter"
           }
          ],
          "scatter3d": [
           {
            "line": {
             "colorbar": {
              "outlinewidth": 0,
              "ticks": ""
             }
            },
            "marker": {
             "colorbar": {
              "outlinewidth": 0,
              "ticks": ""
             }
            },
            "type": "scatter3d"
           }
          ],
          "scattercarpet": [
           {
            "marker": {
             "colorbar": {
              "outlinewidth": 0,
              "ticks": ""
             }
            },
            "type": "scattercarpet"
           }
          ],
          "scattergeo": [
           {
            "marker": {
             "colorbar": {
              "outlinewidth": 0,
              "ticks": ""
             }
            },
            "type": "scattergeo"
           }
          ],
          "scattergl": [
           {
            "marker": {
             "colorbar": {
              "outlinewidth": 0,
              "ticks": ""
             }
            },
            "type": "scattergl"
           }
          ],
          "scattermapbox": [
           {
            "marker": {
             "colorbar": {
              "outlinewidth": 0,
              "ticks": ""
             }
            },
            "type": "scattermapbox"
           }
          ],
          "scatterpolar": [
           {
            "marker": {
             "colorbar": {
              "outlinewidth": 0,
              "ticks": ""
             }
            },
            "type": "scatterpolar"
           }
          ],
          "scatterpolargl": [
           {
            "marker": {
             "colorbar": {
              "outlinewidth": 0,
              "ticks": ""
             }
            },
            "type": "scatterpolargl"
           }
          ],
          "scatterternary": [
           {
            "marker": {
             "colorbar": {
              "outlinewidth": 0,
              "ticks": ""
             }
            },
            "type": "scatterternary"
           }
          ],
          "surface": [
           {
            "colorbar": {
             "outlinewidth": 0,
             "ticks": ""
            },
            "colorscale": [
             [
              0,
              "#0d0887"
             ],
             [
              0.1111111111111111,
              "#46039f"
             ],
             [
              0.2222222222222222,
              "#7201a8"
             ],
             [
              0.3333333333333333,
              "#9c179e"
             ],
             [
              0.4444444444444444,
              "#bd3786"
             ],
             [
              0.5555555555555556,
              "#d8576b"
             ],
             [
              0.6666666666666666,
              "#ed7953"
             ],
             [
              0.7777777777777778,
              "#fb9f3a"
             ],
             [
              0.8888888888888888,
              "#fdca26"
             ],
             [
              1,
              "#f0f921"
             ]
            ],
            "type": "surface"
           }
          ],
          "table": [
           {
            "cells": {
             "fill": {
              "color": "#EBF0F8"
             },
             "line": {
              "color": "white"
             }
            },
            "header": {
             "fill": {
              "color": "#C8D4E3"
             },
             "line": {
              "color": "white"
             }
            },
            "type": "table"
           }
          ]
         },
         "layout": {
          "annotationdefaults": {
           "arrowcolor": "#2a3f5f",
           "arrowhead": 0,
           "arrowwidth": 1
          },
          "autotypenumbers": "strict",
          "coloraxis": {
           "colorbar": {
            "outlinewidth": 0,
            "ticks": ""
           }
          },
          "colorscale": {
           "diverging": [
            [
             0,
             "#8e0152"
            ],
            [
             0.1,
             "#c51b7d"
            ],
            [
             0.2,
             "#de77ae"
            ],
            [
             0.3,
             "#f1b6da"
            ],
            [
             0.4,
             "#fde0ef"
            ],
            [
             0.5,
             "#f7f7f7"
            ],
            [
             0.6,
             "#e6f5d0"
            ],
            [
             0.7,
             "#b8e186"
            ],
            [
             0.8,
             "#7fbc41"
            ],
            [
             0.9,
             "#4d9221"
            ],
            [
             1,
             "#276419"
            ]
           ],
           "sequential": [
            [
             0,
             "#0d0887"
            ],
            [
             0.1111111111111111,
             "#46039f"
            ],
            [
             0.2222222222222222,
             "#7201a8"
            ],
            [
             0.3333333333333333,
             "#9c179e"
            ],
            [
             0.4444444444444444,
             "#bd3786"
            ],
            [
             0.5555555555555556,
             "#d8576b"
            ],
            [
             0.6666666666666666,
             "#ed7953"
            ],
            [
             0.7777777777777778,
             "#fb9f3a"
            ],
            [
             0.8888888888888888,
             "#fdca26"
            ],
            [
             1,
             "#f0f921"
            ]
           ],
           "sequentialminus": [
            [
             0,
             "#0d0887"
            ],
            [
             0.1111111111111111,
             "#46039f"
            ],
            [
             0.2222222222222222,
             "#7201a8"
            ],
            [
             0.3333333333333333,
             "#9c179e"
            ],
            [
             0.4444444444444444,
             "#bd3786"
            ],
            [
             0.5555555555555556,
             "#d8576b"
            ],
            [
             0.6666666666666666,
             "#ed7953"
            ],
            [
             0.7777777777777778,
             "#fb9f3a"
            ],
            [
             0.8888888888888888,
             "#fdca26"
            ],
            [
             1,
             "#f0f921"
            ]
           ]
          },
          "colorway": [
           "#636efa",
           "#EF553B",
           "#00cc96",
           "#ab63fa",
           "#FFA15A",
           "#19d3f3",
           "#FF6692",
           "#B6E880",
           "#FF97FF",
           "#FECB52"
          ],
          "font": {
           "color": "#2a3f5f"
          },
          "geo": {
           "bgcolor": "white",
           "lakecolor": "white",
           "landcolor": "#E5ECF6",
           "showlakes": true,
           "showland": true,
           "subunitcolor": "white"
          },
          "hoverlabel": {
           "align": "left"
          },
          "hovermode": "closest",
          "mapbox": {
           "style": "light"
          },
          "paper_bgcolor": "white",
          "plot_bgcolor": "#E5ECF6",
          "polar": {
           "angularaxis": {
            "gridcolor": "white",
            "linecolor": "white",
            "ticks": ""
           },
           "bgcolor": "#E5ECF6",
           "radialaxis": {
            "gridcolor": "white",
            "linecolor": "white",
            "ticks": ""
           }
          },
          "scene": {
           "xaxis": {
            "backgroundcolor": "#E5ECF6",
            "gridcolor": "white",
            "gridwidth": 2,
            "linecolor": "white",
            "showbackground": true,
            "ticks": "",
            "zerolinecolor": "white"
           },
           "yaxis": {
            "backgroundcolor": "#E5ECF6",
            "gridcolor": "white",
            "gridwidth": 2,
            "linecolor": "white",
            "showbackground": true,
            "ticks": "",
            "zerolinecolor": "white"
           },
           "zaxis": {
            "backgroundcolor": "#E5ECF6",
            "gridcolor": "white",
            "gridwidth": 2,
            "linecolor": "white",
            "showbackground": true,
            "ticks": "",
            "zerolinecolor": "white"
           }
          },
          "shapedefaults": {
           "line": {
            "color": "#2a3f5f"
           }
          },
          "ternary": {
           "aaxis": {
            "gridcolor": "white",
            "linecolor": "white",
            "ticks": ""
           },
           "baxis": {
            "gridcolor": "white",
            "linecolor": "white",
            "ticks": ""
           },
           "bgcolor": "#E5ECF6",
           "caxis": {
            "gridcolor": "white",
            "linecolor": "white",
            "ticks": ""
           }
          },
          "title": {
           "x": 0.05
          },
          "xaxis": {
           "automargin": true,
           "gridcolor": "white",
           "linecolor": "white",
           "ticks": "",
           "title": {
            "standoff": 15
           },
           "zerolinecolor": "white",
           "zerolinewidth": 2
          },
          "yaxis": {
           "automargin": true,
           "gridcolor": "white",
           "linecolor": "white",
           "ticks": "",
           "title": {
            "standoff": 15
           },
           "zerolinecolor": "white",
           "zerolinewidth": 2
          }
         }
        },
        "title": {
         "font": {
          "size": 24
         },
         "text": "Album/Single: Midnights (3am Edition) Playcount",
         "x": 0.5,
         "xanchor": "center"
        },
        "xaxis": {
         "anchor": "y",
         "domain": [
          0,
          1
         ],
         "title": {
          "text": "Date"
         }
        },
        "yaxis": {
         "anchor": "x",
         "domain": [
          0,
          1
         ],
         "title": {
          "text": "Playcount"
         }
        }
       }
      }
     },
     "metadata": {},
     "output_type": "display_data"
    }
   ],
   "source": [
    "plot_album_tracks(df,\"Midnights (3am Edition)\",pop = False)"
   ]
  },
  {
   "attachments": {},
   "cell_type": "markdown",
   "metadata": {},
   "source": [
    "#### `plot_track()`"
   ]
  },
  {
   "cell_type": "code",
   "execution_count": 38,
   "metadata": {},
   "outputs": [
    {
     "data": {
      "text/html": [
       "<div>\n",
       "<style scoped>\n",
       "    .dataframe tbody tr th:only-of-type {\n",
       "        vertical-align: middle;\n",
       "    }\n",
       "\n",
       "    .dataframe tbody tr th {\n",
       "        vertical-align: top;\n",
       "    }\n",
       "\n",
       "    .dataframe thead th {\n",
       "        text-align: right;\n",
       "    }\n",
       "</style>\n",
       "<table border=\"1\" class=\"dataframe\">\n",
       "  <thead>\n",
       "    <tr style=\"text-align: right;\">\n",
       "      <th></th>\n",
       "      <th>artist_name</th>\n",
       "      <th>album_name</th>\n",
       "      <th>album_group</th>\n",
       "      <th>track_name</th>\n",
       "      <th>track_id</th>\n",
       "      <th>track_number</th>\n",
       "      <th>track_popularity</th>\n",
       "      <th>track_playcount</th>\n",
       "      <th>date_tracked</th>\n",
       "    </tr>\n",
       "  </thead>\n",
       "  <tbody>\n",
       "    <tr>\n",
       "      <th>0</th>\n",
       "      <td>Taylor Swift</td>\n",
       "      <td>Anti-Hero (ILLENIUM Remix)</td>\n",
       "      <td>single</td>\n",
       "      <td>Anti-Hero - ILLENIUM Remix</td>\n",
       "      <td>6C0H8ts9M6deezz0yYR6LK</td>\n",
       "      <td>1</td>\n",
       "      <td>60</td>\n",
       "      <td>6655791</td>\n",
       "      <td>2023-03-04</td>\n",
       "    </tr>\n",
       "    <tr>\n",
       "      <th>1</th>\n",
       "      <td>Taylor Swift</td>\n",
       "      <td>Midnights (3am Edition)</td>\n",
       "      <td>album</td>\n",
       "      <td>Lavender Haze</td>\n",
       "      <td>4g2c7NoTWAOSYDy44l9nub</td>\n",
       "      <td>1</td>\n",
       "      <td>74</td>\n",
       "      <td>310253891</td>\n",
       "      <td>2023-03-04</td>\n",
       "    </tr>\n",
       "    <tr>\n",
       "      <th>2</th>\n",
       "      <td>Taylor Swift</td>\n",
       "      <td>Midnights (3am Edition)</td>\n",
       "      <td>album</td>\n",
       "      <td>Maroon</td>\n",
       "      <td>199E1RRrVmVTQqBXih5qRC</td>\n",
       "      <td>2</td>\n",
       "      <td>74</td>\n",
       "      <td>227662369</td>\n",
       "      <td>2023-03-04</td>\n",
       "    </tr>\n",
       "    <tr>\n",
       "      <th>3</th>\n",
       "      <td>Taylor Swift</td>\n",
       "      <td>Midnights (3am Edition)</td>\n",
       "      <td>album</td>\n",
       "      <td>Anti-Hero</td>\n",
       "      <td>02Zkkf2zMkwRGQjZ7T4p8f</td>\n",
       "      <td>3</td>\n",
       "      <td>75</td>\n",
       "      <td>631167491</td>\n",
       "      <td>2023-03-04</td>\n",
       "    </tr>\n",
       "    <tr>\n",
       "      <th>4</th>\n",
       "      <td>Taylor Swift</td>\n",
       "      <td>Midnights (3am Edition)</td>\n",
       "      <td>album</td>\n",
       "      <td>Snow On The Beach (feat. Lana Del Rey)</td>\n",
       "      <td>6ADDIJxxqzM9LMpm78yzQG</td>\n",
       "      <td>4</td>\n",
       "      <td>72</td>\n",
       "      <td>236114590</td>\n",
       "      <td>2023-03-04</td>\n",
       "    </tr>\n",
       "    <tr>\n",
       "      <th>...</th>\n",
       "      <td>...</td>\n",
       "      <td>...</td>\n",
       "      <td>...</td>\n",
       "      <td>...</td>\n",
       "      <td>...</td>\n",
       "      <td>...</td>\n",
       "      <td>...</td>\n",
       "      <td>...</td>\n",
       "      <td>...</td>\n",
       "    </tr>\n",
       "    <tr>\n",
       "      <th>9792</th>\n",
       "      <td>Taylor Swift</td>\n",
       "      <td>The Taylor Swift Holiday Collection</td>\n",
       "      <td>single</td>\n",
       "      <td>Christmases When You Were Mine</td>\n",
       "      <td>1g09DZjQ7yBommCT6POY2n</td>\n",
       "      <td>2</td>\n",
       "      <td>40</td>\n",
       "      <td>4443156</td>\n",
       "      <td>2023-03-13</td>\n",
       "    </tr>\n",
       "    <tr>\n",
       "      <th>9793</th>\n",
       "      <td>Taylor Swift</td>\n",
       "      <td>The Taylor Swift Holiday Collection</td>\n",
       "      <td>single</td>\n",
       "      <td>Santa Baby</td>\n",
       "      <td>71IScwIe7bcIlpnlkbKVQw</td>\n",
       "      <td>3</td>\n",
       "      <td>41</td>\n",
       "      <td>7011906</td>\n",
       "      <td>2023-03-13</td>\n",
       "    </tr>\n",
       "    <tr>\n",
       "      <th>9794</th>\n",
       "      <td>Taylor Swift</td>\n",
       "      <td>The Taylor Swift Holiday Collection</td>\n",
       "      <td>single</td>\n",
       "      <td>Silent Night</td>\n",
       "      <td>1cJkUN5LAotktryx2nPCr7</td>\n",
       "      <td>4</td>\n",
       "      <td>39</td>\n",
       "      <td>3388686</td>\n",
       "      <td>2023-03-13</td>\n",
       "    </tr>\n",
       "    <tr>\n",
       "      <th>9795</th>\n",
       "      <td>Taylor Swift</td>\n",
       "      <td>The Taylor Swift Holiday Collection</td>\n",
       "      <td>single</td>\n",
       "      <td>Christmas Must Be Something More</td>\n",
       "      <td>31JVjy3XWnh6C2zf4kLCXN</td>\n",
       "      <td>5</td>\n",
       "      <td>40</td>\n",
       "      <td>4266171</td>\n",
       "      <td>2023-03-13</td>\n",
       "    </tr>\n",
       "    <tr>\n",
       "      <th>9796</th>\n",
       "      <td>Taylor Swift</td>\n",
       "      <td>The Taylor Swift Holiday Collection</td>\n",
       "      <td>single</td>\n",
       "      <td>White Christmas</td>\n",
       "      <td>7GZ3KDorsc1yWndEtzGTjf</td>\n",
       "      <td>6</td>\n",
       "      <td>39</td>\n",
       "      <td>3864811</td>\n",
       "      <td>2023-03-13</td>\n",
       "    </tr>\n",
       "  </tbody>\n",
       "</table>\n",
       "<p>9797 rows × 9 columns</p>\n",
       "</div>"
      ],
      "text/plain": [
       "       artist_name                           album_name album_group  \\\n",
       "0     Taylor Swift           Anti-Hero (ILLENIUM Remix)      single   \n",
       "1     Taylor Swift              Midnights (3am Edition)       album   \n",
       "2     Taylor Swift              Midnights (3am Edition)       album   \n",
       "3     Taylor Swift              Midnights (3am Edition)       album   \n",
       "4     Taylor Swift              Midnights (3am Edition)       album   \n",
       "...            ...                                  ...         ...   \n",
       "9792  Taylor Swift  The Taylor Swift Holiday Collection      single   \n",
       "9793  Taylor Swift  The Taylor Swift Holiday Collection      single   \n",
       "9794  Taylor Swift  The Taylor Swift Holiday Collection      single   \n",
       "9795  Taylor Swift  The Taylor Swift Holiday Collection      single   \n",
       "9796  Taylor Swift  The Taylor Swift Holiday Collection      single   \n",
       "\n",
       "                                  track_name                track_id  \\\n",
       "0                 Anti-Hero - ILLENIUM Remix  6C0H8ts9M6deezz0yYR6LK   \n",
       "1                              Lavender Haze  4g2c7NoTWAOSYDy44l9nub   \n",
       "2                                     Maroon  199E1RRrVmVTQqBXih5qRC   \n",
       "3                                  Anti-Hero  02Zkkf2zMkwRGQjZ7T4p8f   \n",
       "4     Snow On The Beach (feat. Lana Del Rey)  6ADDIJxxqzM9LMpm78yzQG   \n",
       "...                                      ...                     ...   \n",
       "9792          Christmases When You Were Mine  1g09DZjQ7yBommCT6POY2n   \n",
       "9793                              Santa Baby  71IScwIe7bcIlpnlkbKVQw   \n",
       "9794                            Silent Night  1cJkUN5LAotktryx2nPCr7   \n",
       "9795        Christmas Must Be Something More  31JVjy3XWnh6C2zf4kLCXN   \n",
       "9796                         White Christmas  7GZ3KDorsc1yWndEtzGTjf   \n",
       "\n",
       "      track_number  track_popularity  track_playcount date_tracked  \n",
       "0                1                60          6655791   2023-03-04  \n",
       "1                1                74        310253891   2023-03-04  \n",
       "2                2                74        227662369   2023-03-04  \n",
       "3                3                75        631167491   2023-03-04  \n",
       "4                4                72        236114590   2023-03-04  \n",
       "...            ...               ...              ...          ...  \n",
       "9792             2                40          4443156   2023-03-13  \n",
       "9793             3                41          7011906   2023-03-13  \n",
       "9794             4                39          3388686   2023-03-13  \n",
       "9795             5                40          4266171   2023-03-13  \n",
       "9796             6                39          3864811   2023-03-13  \n",
       "\n",
       "[9797 rows x 9 columns]"
      ]
     },
     "execution_count": 38,
     "metadata": {},
     "output_type": "execute_result"
    }
   ],
   "source": [
    "df = SQL_get_tracks_playpop_artist('Taylor Swift')\n",
    "df"
   ]
  },
  {
   "attachments": {},
   "cell_type": "markdown",
   "metadata": {},
   "source": [
    "#### `plot_track_single()`"
   ]
  },
  {
   "cell_type": "code",
   "execution_count": 39,
   "metadata": {},
   "outputs": [],
   "source": [
    "def plot_track_single(df,track_name):\n",
    "    \n",
    "    #grab only the data from the track and remove duplicates\n",
    "    df = df[df['track_name'] == track_name]\n",
    "    df = df.drop_duplicates(subset=['track_name','track_playcount','date_tracked'],keep = 'last')\n",
    "    \n",
    "\n",
    "    #grab from track popularity datafram queried\n",
    "    dates = df['date_tracked']\n",
    "    playcount = df['track_playcount']\n",
    "    popularity = df['track_popularity']\n",
    "\n",
    "    lower_play, upper_play = plot_range_playcount_followers(playcount)\n",
    "    lower_pop, upper_pop = plot_range_popularity(popularity)\n",
    "    \n",
    "    #create the histograms\n",
    "    fig = go.Figure(\n",
    "        data=go.Bar(\n",
    "            x= dates,\n",
    "            y= playcount,\n",
    "            name=\"Playcount\",\n",
    "            marker=dict(color=\"LightSkyBlue\"),\n",
    "        )\n",
    "    )\n",
    "    #add the lines \n",
    "    fig.add_trace(\n",
    "        go.Scatter(\n",
    "            x= dates,\n",
    "            y= popularity,\n",
    "            yaxis= \"y2\",\n",
    "            name= \"Popularity\",\n",
    "            marker=dict(color=\"purple\"),\n",
    "            mode='lines+markers'\n",
    "        )\n",
    "    )\n",
    "\n",
    "    fig.update_layout(\n",
    "        title={\n",
    "            'text': f\"{track_name}'s Playcount vs. Popularity\",\n",
    "            'font': {'size': 24},\n",
    "            'x': 0.5,\n",
    "            'xanchor': 'center'\n",
    "        },\n",
    "        legend=dict(orientation=\"h\"),\n",
    "        yaxis=dict(\n",
    "            title=dict(text=\"Playcount\"),\n",
    "            range = [lower_play,upper_play], #change the range here\n",
    "            side=\"left\",\n",
    "        ),\n",
    "        yaxis2=dict(\n",
    "            title=dict(text=\"Popularity Score\"),\n",
    "            side=\"right\",\n",
    "            range=[lower_pop, upper_pop], #change the range here\n",
    "            overlaying=\"y\",\n",
    "            tickmode=\"auto\",\n",
    "        ),\n",
    "    )\n",
    "    fig.show()"
   ]
  },
  {
   "cell_type": "code",
   "execution_count": 40,
   "metadata": {},
   "outputs": [
    {
     "data": {
      "application/vnd.plotly.v1+json": {
       "config": {
        "plotlyServerURL": "https://plot.ly"
       },
       "data": [
        {
         "marker": {
          "color": "LightSkyBlue"
         },
         "name": "Playcount",
         "type": "bar",
         "x": [],
         "y": []
        },
        {
         "marker": {
          "color": "purple"
         },
         "mode": "lines+markers",
         "name": "Popularity",
         "type": "scatter",
         "x": [],
         "y": [],
         "yaxis": "y2"
        }
       ],
       "layout": {
        "legend": {
         "orientation": "h"
        },
        "template": {
         "data": {
          "bar": [
           {
            "error_x": {
             "color": "#2a3f5f"
            },
            "error_y": {
             "color": "#2a3f5f"
            },
            "marker": {
             "line": {
              "color": "#E5ECF6",
              "width": 0.5
             },
             "pattern": {
              "fillmode": "overlay",
              "size": 10,
              "solidity": 0.2
             }
            },
            "type": "bar"
           }
          ],
          "barpolar": [
           {
            "marker": {
             "line": {
              "color": "#E5ECF6",
              "width": 0.5
             },
             "pattern": {
              "fillmode": "overlay",
              "size": 10,
              "solidity": 0.2
             }
            },
            "type": "barpolar"
           }
          ],
          "carpet": [
           {
            "aaxis": {
             "endlinecolor": "#2a3f5f",
             "gridcolor": "white",
             "linecolor": "white",
             "minorgridcolor": "white",
             "startlinecolor": "#2a3f5f"
            },
            "baxis": {
             "endlinecolor": "#2a3f5f",
             "gridcolor": "white",
             "linecolor": "white",
             "minorgridcolor": "white",
             "startlinecolor": "#2a3f5f"
            },
            "type": "carpet"
           }
          ],
          "choropleth": [
           {
            "colorbar": {
             "outlinewidth": 0,
             "ticks": ""
            },
            "type": "choropleth"
           }
          ],
          "contour": [
           {
            "colorbar": {
             "outlinewidth": 0,
             "ticks": ""
            },
            "colorscale": [
             [
              0,
              "#0d0887"
             ],
             [
              0.1111111111111111,
              "#46039f"
             ],
             [
              0.2222222222222222,
              "#7201a8"
             ],
             [
              0.3333333333333333,
              "#9c179e"
             ],
             [
              0.4444444444444444,
              "#bd3786"
             ],
             [
              0.5555555555555556,
              "#d8576b"
             ],
             [
              0.6666666666666666,
              "#ed7953"
             ],
             [
              0.7777777777777778,
              "#fb9f3a"
             ],
             [
              0.8888888888888888,
              "#fdca26"
             ],
             [
              1,
              "#f0f921"
             ]
            ],
            "type": "contour"
           }
          ],
          "contourcarpet": [
           {
            "colorbar": {
             "outlinewidth": 0,
             "ticks": ""
            },
            "type": "contourcarpet"
           }
          ],
          "heatmap": [
           {
            "colorbar": {
             "outlinewidth": 0,
             "ticks": ""
            },
            "colorscale": [
             [
              0,
              "#0d0887"
             ],
             [
              0.1111111111111111,
              "#46039f"
             ],
             [
              0.2222222222222222,
              "#7201a8"
             ],
             [
              0.3333333333333333,
              "#9c179e"
             ],
             [
              0.4444444444444444,
              "#bd3786"
             ],
             [
              0.5555555555555556,
              "#d8576b"
             ],
             [
              0.6666666666666666,
              "#ed7953"
             ],
             [
              0.7777777777777778,
              "#fb9f3a"
             ],
             [
              0.8888888888888888,
              "#fdca26"
             ],
             [
              1,
              "#f0f921"
             ]
            ],
            "type": "heatmap"
           }
          ],
          "heatmapgl": [
           {
            "colorbar": {
             "outlinewidth": 0,
             "ticks": ""
            },
            "colorscale": [
             [
              0,
              "#0d0887"
             ],
             [
              0.1111111111111111,
              "#46039f"
             ],
             [
              0.2222222222222222,
              "#7201a8"
             ],
             [
              0.3333333333333333,
              "#9c179e"
             ],
             [
              0.4444444444444444,
              "#bd3786"
             ],
             [
              0.5555555555555556,
              "#d8576b"
             ],
             [
              0.6666666666666666,
              "#ed7953"
             ],
             [
              0.7777777777777778,
              "#fb9f3a"
             ],
             [
              0.8888888888888888,
              "#fdca26"
             ],
             [
              1,
              "#f0f921"
             ]
            ],
            "type": "heatmapgl"
           }
          ],
          "histogram": [
           {
            "marker": {
             "pattern": {
              "fillmode": "overlay",
              "size": 10,
              "solidity": 0.2
             }
            },
            "type": "histogram"
           }
          ],
          "histogram2d": [
           {
            "colorbar": {
             "outlinewidth": 0,
             "ticks": ""
            },
            "colorscale": [
             [
              0,
              "#0d0887"
             ],
             [
              0.1111111111111111,
              "#46039f"
             ],
             [
              0.2222222222222222,
              "#7201a8"
             ],
             [
              0.3333333333333333,
              "#9c179e"
             ],
             [
              0.4444444444444444,
              "#bd3786"
             ],
             [
              0.5555555555555556,
              "#d8576b"
             ],
             [
              0.6666666666666666,
              "#ed7953"
             ],
             [
              0.7777777777777778,
              "#fb9f3a"
             ],
             [
              0.8888888888888888,
              "#fdca26"
             ],
             [
              1,
              "#f0f921"
             ]
            ],
            "type": "histogram2d"
           }
          ],
          "histogram2dcontour": [
           {
            "colorbar": {
             "outlinewidth": 0,
             "ticks": ""
            },
            "colorscale": [
             [
              0,
              "#0d0887"
             ],
             [
              0.1111111111111111,
              "#46039f"
             ],
             [
              0.2222222222222222,
              "#7201a8"
             ],
             [
              0.3333333333333333,
              "#9c179e"
             ],
             [
              0.4444444444444444,
              "#bd3786"
             ],
             [
              0.5555555555555556,
              "#d8576b"
             ],
             [
              0.6666666666666666,
              "#ed7953"
             ],
             [
              0.7777777777777778,
              "#fb9f3a"
             ],
             [
              0.8888888888888888,
              "#fdca26"
             ],
             [
              1,
              "#f0f921"
             ]
            ],
            "type": "histogram2dcontour"
           }
          ],
          "mesh3d": [
           {
            "colorbar": {
             "outlinewidth": 0,
             "ticks": ""
            },
            "type": "mesh3d"
           }
          ],
          "parcoords": [
           {
            "line": {
             "colorbar": {
              "outlinewidth": 0,
              "ticks": ""
             }
            },
            "type": "parcoords"
           }
          ],
          "pie": [
           {
            "automargin": true,
            "type": "pie"
           }
          ],
          "scatter": [
           {
            "fillpattern": {
             "fillmode": "overlay",
             "size": 10,
             "solidity": 0.2
            },
            "type": "scatter"
           }
          ],
          "scatter3d": [
           {
            "line": {
             "colorbar": {
              "outlinewidth": 0,
              "ticks": ""
             }
            },
            "marker": {
             "colorbar": {
              "outlinewidth": 0,
              "ticks": ""
             }
            },
            "type": "scatter3d"
           }
          ],
          "scattercarpet": [
           {
            "marker": {
             "colorbar": {
              "outlinewidth": 0,
              "ticks": ""
             }
            },
            "type": "scattercarpet"
           }
          ],
          "scattergeo": [
           {
            "marker": {
             "colorbar": {
              "outlinewidth": 0,
              "ticks": ""
             }
            },
            "type": "scattergeo"
           }
          ],
          "scattergl": [
           {
            "marker": {
             "colorbar": {
              "outlinewidth": 0,
              "ticks": ""
             }
            },
            "type": "scattergl"
           }
          ],
          "scattermapbox": [
           {
            "marker": {
             "colorbar": {
              "outlinewidth": 0,
              "ticks": ""
             }
            },
            "type": "scattermapbox"
           }
          ],
          "scatterpolar": [
           {
            "marker": {
             "colorbar": {
              "outlinewidth": 0,
              "ticks": ""
             }
            },
            "type": "scatterpolar"
           }
          ],
          "scatterpolargl": [
           {
            "marker": {
             "colorbar": {
              "outlinewidth": 0,
              "ticks": ""
             }
            },
            "type": "scatterpolargl"
           }
          ],
          "scatterternary": [
           {
            "marker": {
             "colorbar": {
              "outlinewidth": 0,
              "ticks": ""
             }
            },
            "type": "scatterternary"
           }
          ],
          "surface": [
           {
            "colorbar": {
             "outlinewidth": 0,
             "ticks": ""
            },
            "colorscale": [
             [
              0,
              "#0d0887"
             ],
             [
              0.1111111111111111,
              "#46039f"
             ],
             [
              0.2222222222222222,
              "#7201a8"
             ],
             [
              0.3333333333333333,
              "#9c179e"
             ],
             [
              0.4444444444444444,
              "#bd3786"
             ],
             [
              0.5555555555555556,
              "#d8576b"
             ],
             [
              0.6666666666666666,
              "#ed7953"
             ],
             [
              0.7777777777777778,
              "#fb9f3a"
             ],
             [
              0.8888888888888888,
              "#fdca26"
             ],
             [
              1,
              "#f0f921"
             ]
            ],
            "type": "surface"
           }
          ],
          "table": [
           {
            "cells": {
             "fill": {
              "color": "#EBF0F8"
             },
             "line": {
              "color": "white"
             }
            },
            "header": {
             "fill": {
              "color": "#C8D4E3"
             },
             "line": {
              "color": "white"
             }
            },
            "type": "table"
           }
          ]
         },
         "layout": {
          "annotationdefaults": {
           "arrowcolor": "#2a3f5f",
           "arrowhead": 0,
           "arrowwidth": 1
          },
          "autotypenumbers": "strict",
          "coloraxis": {
           "colorbar": {
            "outlinewidth": 0,
            "ticks": ""
           }
          },
          "colorscale": {
           "diverging": [
            [
             0,
             "#8e0152"
            ],
            [
             0.1,
             "#c51b7d"
            ],
            [
             0.2,
             "#de77ae"
            ],
            [
             0.3,
             "#f1b6da"
            ],
            [
             0.4,
             "#fde0ef"
            ],
            [
             0.5,
             "#f7f7f7"
            ],
            [
             0.6,
             "#e6f5d0"
            ],
            [
             0.7,
             "#b8e186"
            ],
            [
             0.8,
             "#7fbc41"
            ],
            [
             0.9,
             "#4d9221"
            ],
            [
             1,
             "#276419"
            ]
           ],
           "sequential": [
            [
             0,
             "#0d0887"
            ],
            [
             0.1111111111111111,
             "#46039f"
            ],
            [
             0.2222222222222222,
             "#7201a8"
            ],
            [
             0.3333333333333333,
             "#9c179e"
            ],
            [
             0.4444444444444444,
             "#bd3786"
            ],
            [
             0.5555555555555556,
             "#d8576b"
            ],
            [
             0.6666666666666666,
             "#ed7953"
            ],
            [
             0.7777777777777778,
             "#fb9f3a"
            ],
            [
             0.8888888888888888,
             "#fdca26"
            ],
            [
             1,
             "#f0f921"
            ]
           ],
           "sequentialminus": [
            [
             0,
             "#0d0887"
            ],
            [
             0.1111111111111111,
             "#46039f"
            ],
            [
             0.2222222222222222,
             "#7201a8"
            ],
            [
             0.3333333333333333,
             "#9c179e"
            ],
            [
             0.4444444444444444,
             "#bd3786"
            ],
            [
             0.5555555555555556,
             "#d8576b"
            ],
            [
             0.6666666666666666,
             "#ed7953"
            ],
            [
             0.7777777777777778,
             "#fb9f3a"
            ],
            [
             0.8888888888888888,
             "#fdca26"
            ],
            [
             1,
             "#f0f921"
            ]
           ]
          },
          "colorway": [
           "#636efa",
           "#EF553B",
           "#00cc96",
           "#ab63fa",
           "#FFA15A",
           "#19d3f3",
           "#FF6692",
           "#B6E880",
           "#FF97FF",
           "#FECB52"
          ],
          "font": {
           "color": "#2a3f5f"
          },
          "geo": {
           "bgcolor": "white",
           "lakecolor": "white",
           "landcolor": "#E5ECF6",
           "showlakes": true,
           "showland": true,
           "subunitcolor": "white"
          },
          "hoverlabel": {
           "align": "left"
          },
          "hovermode": "closest",
          "mapbox": {
           "style": "light"
          },
          "paper_bgcolor": "white",
          "plot_bgcolor": "#E5ECF6",
          "polar": {
           "angularaxis": {
            "gridcolor": "white",
            "linecolor": "white",
            "ticks": ""
           },
           "bgcolor": "#E5ECF6",
           "radialaxis": {
            "gridcolor": "white",
            "linecolor": "white",
            "ticks": ""
           }
          },
          "scene": {
           "xaxis": {
            "backgroundcolor": "#E5ECF6",
            "gridcolor": "white",
            "gridwidth": 2,
            "linecolor": "white",
            "showbackground": true,
            "ticks": "",
            "zerolinecolor": "white"
           },
           "yaxis": {
            "backgroundcolor": "#E5ECF6",
            "gridcolor": "white",
            "gridwidth": 2,
            "linecolor": "white",
            "showbackground": true,
            "ticks": "",
            "zerolinecolor": "white"
           },
           "zaxis": {
            "backgroundcolor": "#E5ECF6",
            "gridcolor": "white",
            "gridwidth": 2,
            "linecolor": "white",
            "showbackground": true,
            "ticks": "",
            "zerolinecolor": "white"
           }
          },
          "shapedefaults": {
           "line": {
            "color": "#2a3f5f"
           }
          },
          "ternary": {
           "aaxis": {
            "gridcolor": "white",
            "linecolor": "white",
            "ticks": ""
           },
           "baxis": {
            "gridcolor": "white",
            "linecolor": "white",
            "ticks": ""
           },
           "bgcolor": "#E5ECF6",
           "caxis": {
            "gridcolor": "white",
            "linecolor": "white",
            "ticks": ""
           }
          },
          "title": {
           "x": 0.05
          },
          "xaxis": {
           "automargin": true,
           "gridcolor": "white",
           "linecolor": "white",
           "ticks": "",
           "title": {
            "standoff": 15
           },
           "zerolinecolor": "white",
           "zerolinewidth": 2
          },
          "yaxis": {
           "automargin": true,
           "gridcolor": "white",
           "linecolor": "white",
           "ticks": "",
           "title": {
            "standoff": 15
           },
           "zerolinecolor": "white",
           "zerolinewidth": 2
          }
         }
        },
        "title": {
         "font": {
          "size": 24
         },
         "text": "Santa, Can’t You Hear Me's Playcount vs. Popularity",
         "x": 0.5,
         "xanchor": "center"
        },
        "yaxis": {
         "range": [
          null,
          null
         ],
         "side": "left",
         "title": {
          "text": "Playcount"
         }
        },
        "yaxis2": {
         "overlaying": "y",
         "range": [
          null,
          null
         ],
         "side": "right",
         "tickmode": "auto",
         "title": {
          "text": "Popularity Score"
         }
        }
       }
      }
     },
     "metadata": {},
     "output_type": "display_data"
    }
   ],
   "source": [
    "plot_track_single(df,\"Santa, Can’t You Hear Me\")"
   ]
  },
  {
   "attachments": {},
   "cell_type": "markdown",
   "metadata": {},
   "source": [
    "#### `plot_track_album()`"
   ]
  },
  {
   "cell_type": "code",
   "execution_count": 41,
   "metadata": {},
   "outputs": [],
   "source": [
    "def plot_track_album(df,albumtrack_name):\n",
    "    \n",
    "    #grab only the data from the track and remove duplicates\n",
    "    df = df[df['album_track_name'] == albumtrack_name]\n",
    "\n",
    "    #grab from track popularity datafram queried\n",
    "    dates = df['date_tracked']\n",
    "    playcount = df['track_playcount']\n",
    "    popularity = df['track_popularity']\n",
    "\n",
    "    lower_play, upper_play = plot_range_playcount_followers(playcount)\n",
    "    lower_pop, upper_pop = plot_range_popularity(popularity)\n",
    "    \n",
    "    #create the histograms\n",
    "    fig = go.Figure(\n",
    "        data=go.Bar(\n",
    "            x= dates,\n",
    "            y= playcount,\n",
    "            name=\"Playcount\",\n",
    "            marker=dict(color=\"mediumorchid\"),\n",
    "        )\n",
    "    )\n",
    "    #add the lines \n",
    "    fig.add_trace(\n",
    "        go.Scatter(\n",
    "            x= dates,\n",
    "            y= popularity,\n",
    "            yaxis= \"y2\",\n",
    "            name= \"Popularity\",\n",
    "            marker=dict(color=\"deepskyblue\"),\n",
    "            mode='lines+markers'\n",
    "        )\n",
    "    )\n",
    "\n",
    "    fig.update_layout(\n",
    "        title={\n",
    "            'text':  f\"{albumtrack_name}'s Playcount vs. Popularity\",\n",
    "            'font': {'size': 24},\n",
    "            'x': 0.5,\n",
    "            'xanchor': 'center'\n",
    "        },\n",
    "        legend=dict(orientation=\"h\"),\n",
    "        yaxis=dict(\n",
    "            title=dict(text=\"Playcount\"),\n",
    "            range = [lower_play,upper_play], #change the range here\n",
    "            side=\"left\",\n",
    "        ),\n",
    "        yaxis2=dict(\n",
    "            title=dict(text=\"Popularity Score\"),\n",
    "            side=\"right\",\n",
    "            range=[lower_pop, upper_pop], #change the range here\n",
    "            overlaying=\"y\",\n",
    "            tickmode=\"auto\",\n",
    "        ),\n",
    "    )\n",
    "    fig.show()"
   ]
  },
  {
   "cell_type": "code",
   "execution_count": 42,
   "metadata": {},
   "outputs": [],
   "source": [
    "df4 = SQL_get_tracks_playpop_artist(\"Taylor Swift\").drop_duplicates(subset=['track_id','date_tracked','artist_name'])\n",
    "df4 = df4[df4['album_group'] == \"album\"]\n",
    "df4['album_track_name'] = df4['album_name'] + ' ' + df4['track_name']"
   ]
  },
  {
   "cell_type": "code",
   "execution_count": 43,
   "metadata": {},
   "outputs": [
    {
     "data": {
      "application/vnd.plotly.v1+json": {
       "config": {
        "plotlyServerURL": "https://plot.ly"
       },
       "data": [
        {
         "marker": {
          "color": "mediumorchid"
         },
         "name": "Playcount",
         "type": "bar",
         "x": [
          "2023-03-04",
          "2023-03-05",
          "2023-03-06",
          "2023-03-07",
          "2023-03-08",
          "2023-03-09",
          "2023-03-10",
          "2023-03-11",
          "2023-03-12",
          "2023-03-13"
         ],
         "y": [
          631167491,
          634054004,
          636639382,
          639366323,
          642120303,
          644916937,
          647752478,
          650691753,
          653578692,
          656167254
         ]
        },
        {
         "marker": {
          "color": "deepskyblue"
         },
         "mode": "lines+markers",
         "name": "Popularity",
         "type": "scatter",
         "x": [
          "2023-03-04",
          "2023-03-05",
          "2023-03-06",
          "2023-03-07",
          "2023-03-08",
          "2023-03-09",
          "2023-03-10",
          "2023-03-11",
          "2023-03-12",
          "2023-03-13"
         ],
         "y": [
          75,
          75,
          75,
          75,
          75,
          75,
          75,
          75,
          75,
          75
         ],
         "yaxis": "y2"
        }
       ],
       "layout": {
        "legend": {
         "orientation": "h"
        },
        "template": {
         "data": {
          "bar": [
           {
            "error_x": {
             "color": "#2a3f5f"
            },
            "error_y": {
             "color": "#2a3f5f"
            },
            "marker": {
             "line": {
              "color": "#E5ECF6",
              "width": 0.5
             },
             "pattern": {
              "fillmode": "overlay",
              "size": 10,
              "solidity": 0.2
             }
            },
            "type": "bar"
           }
          ],
          "barpolar": [
           {
            "marker": {
             "line": {
              "color": "#E5ECF6",
              "width": 0.5
             },
             "pattern": {
              "fillmode": "overlay",
              "size": 10,
              "solidity": 0.2
             }
            },
            "type": "barpolar"
           }
          ],
          "carpet": [
           {
            "aaxis": {
             "endlinecolor": "#2a3f5f",
             "gridcolor": "white",
             "linecolor": "white",
             "minorgridcolor": "white",
             "startlinecolor": "#2a3f5f"
            },
            "baxis": {
             "endlinecolor": "#2a3f5f",
             "gridcolor": "white",
             "linecolor": "white",
             "minorgridcolor": "white",
             "startlinecolor": "#2a3f5f"
            },
            "type": "carpet"
           }
          ],
          "choropleth": [
           {
            "colorbar": {
             "outlinewidth": 0,
             "ticks": ""
            },
            "type": "choropleth"
           }
          ],
          "contour": [
           {
            "colorbar": {
             "outlinewidth": 0,
             "ticks": ""
            },
            "colorscale": [
             [
              0,
              "#0d0887"
             ],
             [
              0.1111111111111111,
              "#46039f"
             ],
             [
              0.2222222222222222,
              "#7201a8"
             ],
             [
              0.3333333333333333,
              "#9c179e"
             ],
             [
              0.4444444444444444,
              "#bd3786"
             ],
             [
              0.5555555555555556,
              "#d8576b"
             ],
             [
              0.6666666666666666,
              "#ed7953"
             ],
             [
              0.7777777777777778,
              "#fb9f3a"
             ],
             [
              0.8888888888888888,
              "#fdca26"
             ],
             [
              1,
              "#f0f921"
             ]
            ],
            "type": "contour"
           }
          ],
          "contourcarpet": [
           {
            "colorbar": {
             "outlinewidth": 0,
             "ticks": ""
            },
            "type": "contourcarpet"
           }
          ],
          "heatmap": [
           {
            "colorbar": {
             "outlinewidth": 0,
             "ticks": ""
            },
            "colorscale": [
             [
              0,
              "#0d0887"
             ],
             [
              0.1111111111111111,
              "#46039f"
             ],
             [
              0.2222222222222222,
              "#7201a8"
             ],
             [
              0.3333333333333333,
              "#9c179e"
             ],
             [
              0.4444444444444444,
              "#bd3786"
             ],
             [
              0.5555555555555556,
              "#d8576b"
             ],
             [
              0.6666666666666666,
              "#ed7953"
             ],
             [
              0.7777777777777778,
              "#fb9f3a"
             ],
             [
              0.8888888888888888,
              "#fdca26"
             ],
             [
              1,
              "#f0f921"
             ]
            ],
            "type": "heatmap"
           }
          ],
          "heatmapgl": [
           {
            "colorbar": {
             "outlinewidth": 0,
             "ticks": ""
            },
            "colorscale": [
             [
              0,
              "#0d0887"
             ],
             [
              0.1111111111111111,
              "#46039f"
             ],
             [
              0.2222222222222222,
              "#7201a8"
             ],
             [
              0.3333333333333333,
              "#9c179e"
             ],
             [
              0.4444444444444444,
              "#bd3786"
             ],
             [
              0.5555555555555556,
              "#d8576b"
             ],
             [
              0.6666666666666666,
              "#ed7953"
             ],
             [
              0.7777777777777778,
              "#fb9f3a"
             ],
             [
              0.8888888888888888,
              "#fdca26"
             ],
             [
              1,
              "#f0f921"
             ]
            ],
            "type": "heatmapgl"
           }
          ],
          "histogram": [
           {
            "marker": {
             "pattern": {
              "fillmode": "overlay",
              "size": 10,
              "solidity": 0.2
             }
            },
            "type": "histogram"
           }
          ],
          "histogram2d": [
           {
            "colorbar": {
             "outlinewidth": 0,
             "ticks": ""
            },
            "colorscale": [
             [
              0,
              "#0d0887"
             ],
             [
              0.1111111111111111,
              "#46039f"
             ],
             [
              0.2222222222222222,
              "#7201a8"
             ],
             [
              0.3333333333333333,
              "#9c179e"
             ],
             [
              0.4444444444444444,
              "#bd3786"
             ],
             [
              0.5555555555555556,
              "#d8576b"
             ],
             [
              0.6666666666666666,
              "#ed7953"
             ],
             [
              0.7777777777777778,
              "#fb9f3a"
             ],
             [
              0.8888888888888888,
              "#fdca26"
             ],
             [
              1,
              "#f0f921"
             ]
            ],
            "type": "histogram2d"
           }
          ],
          "histogram2dcontour": [
           {
            "colorbar": {
             "outlinewidth": 0,
             "ticks": ""
            },
            "colorscale": [
             [
              0,
              "#0d0887"
             ],
             [
              0.1111111111111111,
              "#46039f"
             ],
             [
              0.2222222222222222,
              "#7201a8"
             ],
             [
              0.3333333333333333,
              "#9c179e"
             ],
             [
              0.4444444444444444,
              "#bd3786"
             ],
             [
              0.5555555555555556,
              "#d8576b"
             ],
             [
              0.6666666666666666,
              "#ed7953"
             ],
             [
              0.7777777777777778,
              "#fb9f3a"
             ],
             [
              0.8888888888888888,
              "#fdca26"
             ],
             [
              1,
              "#f0f921"
             ]
            ],
            "type": "histogram2dcontour"
           }
          ],
          "mesh3d": [
           {
            "colorbar": {
             "outlinewidth": 0,
             "ticks": ""
            },
            "type": "mesh3d"
           }
          ],
          "parcoords": [
           {
            "line": {
             "colorbar": {
              "outlinewidth": 0,
              "ticks": ""
             }
            },
            "type": "parcoords"
           }
          ],
          "pie": [
           {
            "automargin": true,
            "type": "pie"
           }
          ],
          "scatter": [
           {
            "fillpattern": {
             "fillmode": "overlay",
             "size": 10,
             "solidity": 0.2
            },
            "type": "scatter"
           }
          ],
          "scatter3d": [
           {
            "line": {
             "colorbar": {
              "outlinewidth": 0,
              "ticks": ""
             }
            },
            "marker": {
             "colorbar": {
              "outlinewidth": 0,
              "ticks": ""
             }
            },
            "type": "scatter3d"
           }
          ],
          "scattercarpet": [
           {
            "marker": {
             "colorbar": {
              "outlinewidth": 0,
              "ticks": ""
             }
            },
            "type": "scattercarpet"
           }
          ],
          "scattergeo": [
           {
            "marker": {
             "colorbar": {
              "outlinewidth": 0,
              "ticks": ""
             }
            },
            "type": "scattergeo"
           }
          ],
          "scattergl": [
           {
            "marker": {
             "colorbar": {
              "outlinewidth": 0,
              "ticks": ""
             }
            },
            "type": "scattergl"
           }
          ],
          "scattermapbox": [
           {
            "marker": {
             "colorbar": {
              "outlinewidth": 0,
              "ticks": ""
             }
            },
            "type": "scattermapbox"
           }
          ],
          "scatterpolar": [
           {
            "marker": {
             "colorbar": {
              "outlinewidth": 0,
              "ticks": ""
             }
            },
            "type": "scatterpolar"
           }
          ],
          "scatterpolargl": [
           {
            "marker": {
             "colorbar": {
              "outlinewidth": 0,
              "ticks": ""
             }
            },
            "type": "scatterpolargl"
           }
          ],
          "scatterternary": [
           {
            "marker": {
             "colorbar": {
              "outlinewidth": 0,
              "ticks": ""
             }
            },
            "type": "scatterternary"
           }
          ],
          "surface": [
           {
            "colorbar": {
             "outlinewidth": 0,
             "ticks": ""
            },
            "colorscale": [
             [
              0,
              "#0d0887"
             ],
             [
              0.1111111111111111,
              "#46039f"
             ],
             [
              0.2222222222222222,
              "#7201a8"
             ],
             [
              0.3333333333333333,
              "#9c179e"
             ],
             [
              0.4444444444444444,
              "#bd3786"
             ],
             [
              0.5555555555555556,
              "#d8576b"
             ],
             [
              0.6666666666666666,
              "#ed7953"
             ],
             [
              0.7777777777777778,
              "#fb9f3a"
             ],
             [
              0.8888888888888888,
              "#fdca26"
             ],
             [
              1,
              "#f0f921"
             ]
            ],
            "type": "surface"
           }
          ],
          "table": [
           {
            "cells": {
             "fill": {
              "color": "#EBF0F8"
             },
             "line": {
              "color": "white"
             }
            },
            "header": {
             "fill": {
              "color": "#C8D4E3"
             },
             "line": {
              "color": "white"
             }
            },
            "type": "table"
           }
          ]
         },
         "layout": {
          "annotationdefaults": {
           "arrowcolor": "#2a3f5f",
           "arrowhead": 0,
           "arrowwidth": 1
          },
          "autotypenumbers": "strict",
          "coloraxis": {
           "colorbar": {
            "outlinewidth": 0,
            "ticks": ""
           }
          },
          "colorscale": {
           "diverging": [
            [
             0,
             "#8e0152"
            ],
            [
             0.1,
             "#c51b7d"
            ],
            [
             0.2,
             "#de77ae"
            ],
            [
             0.3,
             "#f1b6da"
            ],
            [
             0.4,
             "#fde0ef"
            ],
            [
             0.5,
             "#f7f7f7"
            ],
            [
             0.6,
             "#e6f5d0"
            ],
            [
             0.7,
             "#b8e186"
            ],
            [
             0.8,
             "#7fbc41"
            ],
            [
             0.9,
             "#4d9221"
            ],
            [
             1,
             "#276419"
            ]
           ],
           "sequential": [
            [
             0,
             "#0d0887"
            ],
            [
             0.1111111111111111,
             "#46039f"
            ],
            [
             0.2222222222222222,
             "#7201a8"
            ],
            [
             0.3333333333333333,
             "#9c179e"
            ],
            [
             0.4444444444444444,
             "#bd3786"
            ],
            [
             0.5555555555555556,
             "#d8576b"
            ],
            [
             0.6666666666666666,
             "#ed7953"
            ],
            [
             0.7777777777777778,
             "#fb9f3a"
            ],
            [
             0.8888888888888888,
             "#fdca26"
            ],
            [
             1,
             "#f0f921"
            ]
           ],
           "sequentialminus": [
            [
             0,
             "#0d0887"
            ],
            [
             0.1111111111111111,
             "#46039f"
            ],
            [
             0.2222222222222222,
             "#7201a8"
            ],
            [
             0.3333333333333333,
             "#9c179e"
            ],
            [
             0.4444444444444444,
             "#bd3786"
            ],
            [
             0.5555555555555556,
             "#d8576b"
            ],
            [
             0.6666666666666666,
             "#ed7953"
            ],
            [
             0.7777777777777778,
             "#fb9f3a"
            ],
            [
             0.8888888888888888,
             "#fdca26"
            ],
            [
             1,
             "#f0f921"
            ]
           ]
          },
          "colorway": [
           "#636efa",
           "#EF553B",
           "#00cc96",
           "#ab63fa",
           "#FFA15A",
           "#19d3f3",
           "#FF6692",
           "#B6E880",
           "#FF97FF",
           "#FECB52"
          ],
          "font": {
           "color": "#2a3f5f"
          },
          "geo": {
           "bgcolor": "white",
           "lakecolor": "white",
           "landcolor": "#E5ECF6",
           "showlakes": true,
           "showland": true,
           "subunitcolor": "white"
          },
          "hoverlabel": {
           "align": "left"
          },
          "hovermode": "closest",
          "mapbox": {
           "style": "light"
          },
          "paper_bgcolor": "white",
          "plot_bgcolor": "#E5ECF6",
          "polar": {
           "angularaxis": {
            "gridcolor": "white",
            "linecolor": "white",
            "ticks": ""
           },
           "bgcolor": "#E5ECF6",
           "radialaxis": {
            "gridcolor": "white",
            "linecolor": "white",
            "ticks": ""
           }
          },
          "scene": {
           "xaxis": {
            "backgroundcolor": "#E5ECF6",
            "gridcolor": "white",
            "gridwidth": 2,
            "linecolor": "white",
            "showbackground": true,
            "ticks": "",
            "zerolinecolor": "white"
           },
           "yaxis": {
            "backgroundcolor": "#E5ECF6",
            "gridcolor": "white",
            "gridwidth": 2,
            "linecolor": "white",
            "showbackground": true,
            "ticks": "",
            "zerolinecolor": "white"
           },
           "zaxis": {
            "backgroundcolor": "#E5ECF6",
            "gridcolor": "white",
            "gridwidth": 2,
            "linecolor": "white",
            "showbackground": true,
            "ticks": "",
            "zerolinecolor": "white"
           }
          },
          "shapedefaults": {
           "line": {
            "color": "#2a3f5f"
           }
          },
          "ternary": {
           "aaxis": {
            "gridcolor": "white",
            "linecolor": "white",
            "ticks": ""
           },
           "baxis": {
            "gridcolor": "white",
            "linecolor": "white",
            "ticks": ""
           },
           "bgcolor": "#E5ECF6",
           "caxis": {
            "gridcolor": "white",
            "linecolor": "white",
            "ticks": ""
           }
          },
          "title": {
           "x": 0.05
          },
          "xaxis": {
           "automargin": true,
           "gridcolor": "white",
           "linecolor": "white",
           "ticks": "",
           "title": {
            "standoff": 15
           },
           "zerolinecolor": "white",
           "zerolinewidth": 2
          },
          "yaxis": {
           "automargin": true,
           "gridcolor": "white",
           "linecolor": "white",
           "ticks": "",
           "title": {
            "standoff": 15
           },
           "zerolinecolor": "white",
           "zerolinewidth": 2
          }
         }
        },
        "title": {
         "font": {
          "size": 24
         },
         "text": "Midnights (3am Edition) Anti-Hero's Playcount vs. Popularity",
         "x": 0.5,
         "xanchor": "center"
        },
        "yaxis": {
         "range": [
          628667514.7,
          658667230.3
         ],
         "side": "left",
         "title": {
          "text": "Playcount"
         }
        },
        "yaxis2": {
         "overlaying": "y",
         "range": [
          72,
          78
         ],
         "side": "right",
         "tickmode": "auto",
         "title": {
          "text": "Popularity Score"
         }
        }
       }
      }
     },
     "metadata": {},
     "output_type": "display_data"
    }
   ],
   "source": [
    "plot_track_album(df4,\"Midnights (3am Edition) Anti-Hero\")"
   ]
  },
  {
   "attachments": {},
   "cell_type": "markdown",
   "metadata": {},
   "source": [
    "#### `plot_all_artist_pop()`"
   ]
  },
  {
   "cell_type": "code",
   "execution_count": 44,
   "metadata": {},
   "outputs": [
    {
     "data": {
      "text/html": [
       "<div>\n",
       "<style scoped>\n",
       "    .dataframe tbody tr th:only-of-type {\n",
       "        vertical-align: middle;\n",
       "    }\n",
       "\n",
       "    .dataframe tbody tr th {\n",
       "        vertical-align: top;\n",
       "    }\n",
       "\n",
       "    .dataframe thead th {\n",
       "        text-align: right;\n",
       "    }\n",
       "</style>\n",
       "<table border=\"1\" class=\"dataframe\">\n",
       "  <thead>\n",
       "    <tr style=\"text-align: right;\">\n",
       "      <th></th>\n",
       "      <th>artist_name</th>\n",
       "      <th>artist_id</th>\n",
       "      <th>artist_followers</th>\n",
       "      <th>artist_popularity</th>\n",
       "      <th>date_tracked</th>\n",
       "    </tr>\n",
       "  </thead>\n",
       "  <tbody>\n",
       "    <tr>\n",
       "      <th>0</th>\n",
       "      <td>Ariana Grande</td>\n",
       "      <td>66CXWjxzNUsdJxJ2JdwvnR</td>\n",
       "      <td>88348950</td>\n",
       "      <td>92</td>\n",
       "      <td>2023-03-04</td>\n",
       "    </tr>\n",
       "    <tr>\n",
       "      <th>1</th>\n",
       "      <td>Avicii</td>\n",
       "      <td>1vCWHaC5f2uS3yhpwWbIA6</td>\n",
       "      <td>22620854</td>\n",
       "      <td>84</td>\n",
       "      <td>2023-03-04</td>\n",
       "    </tr>\n",
       "    <tr>\n",
       "      <th>2</th>\n",
       "      <td>BTS</td>\n",
       "      <td>3Nrfpe0tUJi4K4DXYWgMUX</td>\n",
       "      <td>61927930</td>\n",
       "      <td>93</td>\n",
       "      <td>2023-03-04</td>\n",
       "    </tr>\n",
       "    <tr>\n",
       "      <th>3</th>\n",
       "      <td>Coldplay</td>\n",
       "      <td>4gzpq5DPGxSnKTe4SA8HAU</td>\n",
       "      <td>42282671</td>\n",
       "      <td>90</td>\n",
       "      <td>2023-03-04</td>\n",
       "    </tr>\n",
       "    <tr>\n",
       "      <th>4</th>\n",
       "      <td>Drake</td>\n",
       "      <td>3TVXtAsR1Inumwj472S9r4</td>\n",
       "      <td>72531141</td>\n",
       "      <td>98</td>\n",
       "      <td>2023-03-04</td>\n",
       "    </tr>\n",
       "    <tr>\n",
       "      <th>...</th>\n",
       "      <td>...</td>\n",
       "      <td>...</td>\n",
       "      <td>...</td>\n",
       "      <td>...</td>\n",
       "      <td>...</td>\n",
       "    </tr>\n",
       "    <tr>\n",
       "      <th>115</th>\n",
       "      <td>Joji</td>\n",
       "      <td>3MZsBdqDrRTJihTHQrO6Dq</td>\n",
       "      <td>8186516</td>\n",
       "      <td>86</td>\n",
       "      <td>2023-03-13</td>\n",
       "    </tr>\n",
       "    <tr>\n",
       "      <th>116</th>\n",
       "      <td>Martin Garrix</td>\n",
       "      <td>60d24wfXkVzDSfLS6hyCjZ</td>\n",
       "      <td>15748376</td>\n",
       "      <td>80</td>\n",
       "      <td>2023-03-13</td>\n",
       "    </tr>\n",
       "    <tr>\n",
       "      <th>117</th>\n",
       "      <td>Mike Williams</td>\n",
       "      <td>3IpvVrP3VLhruTmnququq7</td>\n",
       "      <td>350671</td>\n",
       "      <td>61</td>\n",
       "      <td>2023-03-13</td>\n",
       "    </tr>\n",
       "    <tr>\n",
       "      <th>118</th>\n",
       "      <td>NIKI</td>\n",
       "      <td>2kxP07DLgs4xlWz8YHlvfh</td>\n",
       "      <td>2383687</td>\n",
       "      <td>76</td>\n",
       "      <td>2023-03-13</td>\n",
       "    </tr>\n",
       "    <tr>\n",
       "      <th>119</th>\n",
       "      <td>Taylor Swift</td>\n",
       "      <td>06HL4z0CvFAxyc27GXpf02</td>\n",
       "      <td>69513913</td>\n",
       "      <td>99</td>\n",
       "      <td>2023-03-13</td>\n",
       "    </tr>\n",
       "  </tbody>\n",
       "</table>\n",
       "<p>120 rows × 5 columns</p>\n",
       "</div>"
      ],
      "text/plain": [
       "       artist_name               artist_id  artist_followers  \\\n",
       "0    Ariana Grande  66CXWjxzNUsdJxJ2JdwvnR          88348950   \n",
       "1           Avicii  1vCWHaC5f2uS3yhpwWbIA6          22620854   \n",
       "2              BTS  3Nrfpe0tUJi4K4DXYWgMUX          61927930   \n",
       "3         Coldplay  4gzpq5DPGxSnKTe4SA8HAU          42282671   \n",
       "4            Drake  3TVXtAsR1Inumwj472S9r4          72531141   \n",
       "..             ...                     ...               ...   \n",
       "115           Joji  3MZsBdqDrRTJihTHQrO6Dq           8186516   \n",
       "116  Martin Garrix  60d24wfXkVzDSfLS6hyCjZ          15748376   \n",
       "117  Mike Williams  3IpvVrP3VLhruTmnququq7            350671   \n",
       "118           NIKI  2kxP07DLgs4xlWz8YHlvfh           2383687   \n",
       "119   Taylor Swift  06HL4z0CvFAxyc27GXpf02          69513913   \n",
       "\n",
       "     artist_popularity date_tracked  \n",
       "0                   92   2023-03-04  \n",
       "1                   84   2023-03-04  \n",
       "2                   93   2023-03-04  \n",
       "3                   90   2023-03-04  \n",
       "4                   98   2023-03-04  \n",
       "..                 ...          ...  \n",
       "115                 86   2023-03-13  \n",
       "116                 80   2023-03-13  \n",
       "117                 61   2023-03-13  \n",
       "118                 76   2023-03-13  \n",
       "119                 99   2023-03-13  \n",
       "\n",
       "[120 rows x 5 columns]"
      ]
     },
     "execution_count": 44,
     "metadata": {},
     "output_type": "execute_result"
    }
   ],
   "source": [
    "df = SQL_get_all_art_pop()\n",
    "df"
   ]
  },
  {
   "cell_type": "code",
   "execution_count": 45,
   "metadata": {},
   "outputs": [],
   "source": [
    "def plot_all_artist_pop(df):\n",
    "    '''plots the popularity score of all the artist'''\n",
    "\n",
    "    fig = px.line(df, x=\"date_tracked\", y=\"artist_popularity\",\n",
    "             color='artist_name')\n",
    "    \n",
    "    fig.update_layout(\n",
    "        title={\n",
    "            'text':  \"All Artist Popularity Score\",\n",
    "            'font': {'size': 24},\n",
    "            'x': 0.5,\n",
    "            'xanchor': 'center'\n",
    "        },\n",
    "        \n",
    "    legend=dict(\n",
    "        title= \"Artist\", #legend title\n",
    "        font=dict(size=12)\n",
    "        ),\n",
    "        xaxis_title=\"Date\",\n",
    "        yaxis_title=\"Popularity Score\"\n",
    "    )\n",
    "    \n",
    "    fig.show()"
   ]
  },
  {
   "cell_type": "code",
   "execution_count": 46,
   "metadata": {},
   "outputs": [
    {
     "data": {
      "text/html": [
       "<div>\n",
       "<style scoped>\n",
       "    .dataframe tbody tr th:only-of-type {\n",
       "        vertical-align: middle;\n",
       "    }\n",
       "\n",
       "    .dataframe tbody tr th {\n",
       "        vertical-align: top;\n",
       "    }\n",
       "\n",
       "    .dataframe thead th {\n",
       "        text-align: right;\n",
       "    }\n",
       "</style>\n",
       "<table border=\"1\" class=\"dataframe\">\n",
       "  <thead>\n",
       "    <tr style=\"text-align: right;\">\n",
       "      <th></th>\n",
       "      <th>artist_name</th>\n",
       "      <th>artist_id</th>\n",
       "      <th>artist_followers</th>\n",
       "      <th>artist_popularity</th>\n",
       "      <th>date_tracked</th>\n",
       "    </tr>\n",
       "  </thead>\n",
       "  <tbody>\n",
       "    <tr>\n",
       "      <th>0</th>\n",
       "      <td>Ariana Grande</td>\n",
       "      <td>66CXWjxzNUsdJxJ2JdwvnR</td>\n",
       "      <td>88348950</td>\n",
       "      <td>92</td>\n",
       "      <td>2023-03-04</td>\n",
       "    </tr>\n",
       "    <tr>\n",
       "      <th>1</th>\n",
       "      <td>Avicii</td>\n",
       "      <td>1vCWHaC5f2uS3yhpwWbIA6</td>\n",
       "      <td>22620854</td>\n",
       "      <td>84</td>\n",
       "      <td>2023-03-04</td>\n",
       "    </tr>\n",
       "    <tr>\n",
       "      <th>2</th>\n",
       "      <td>BTS</td>\n",
       "      <td>3Nrfpe0tUJi4K4DXYWgMUX</td>\n",
       "      <td>61927930</td>\n",
       "      <td>93</td>\n",
       "      <td>2023-03-04</td>\n",
       "    </tr>\n",
       "    <tr>\n",
       "      <th>3</th>\n",
       "      <td>Coldplay</td>\n",
       "      <td>4gzpq5DPGxSnKTe4SA8HAU</td>\n",
       "      <td>42282671</td>\n",
       "      <td>90</td>\n",
       "      <td>2023-03-04</td>\n",
       "    </tr>\n",
       "    <tr>\n",
       "      <th>4</th>\n",
       "      <td>Drake</td>\n",
       "      <td>3TVXtAsR1Inumwj472S9r4</td>\n",
       "      <td>72531141</td>\n",
       "      <td>98</td>\n",
       "      <td>2023-03-04</td>\n",
       "    </tr>\n",
       "    <tr>\n",
       "      <th>...</th>\n",
       "      <td>...</td>\n",
       "      <td>...</td>\n",
       "      <td>...</td>\n",
       "      <td>...</td>\n",
       "      <td>...</td>\n",
       "    </tr>\n",
       "    <tr>\n",
       "      <th>115</th>\n",
       "      <td>Joji</td>\n",
       "      <td>3MZsBdqDrRTJihTHQrO6Dq</td>\n",
       "      <td>8186516</td>\n",
       "      <td>86</td>\n",
       "      <td>2023-03-13</td>\n",
       "    </tr>\n",
       "    <tr>\n",
       "      <th>116</th>\n",
       "      <td>Martin Garrix</td>\n",
       "      <td>60d24wfXkVzDSfLS6hyCjZ</td>\n",
       "      <td>15748376</td>\n",
       "      <td>80</td>\n",
       "      <td>2023-03-13</td>\n",
       "    </tr>\n",
       "    <tr>\n",
       "      <th>117</th>\n",
       "      <td>Mike Williams</td>\n",
       "      <td>3IpvVrP3VLhruTmnququq7</td>\n",
       "      <td>350671</td>\n",
       "      <td>61</td>\n",
       "      <td>2023-03-13</td>\n",
       "    </tr>\n",
       "    <tr>\n",
       "      <th>118</th>\n",
       "      <td>NIKI</td>\n",
       "      <td>2kxP07DLgs4xlWz8YHlvfh</td>\n",
       "      <td>2383687</td>\n",
       "      <td>76</td>\n",
       "      <td>2023-03-13</td>\n",
       "    </tr>\n",
       "    <tr>\n",
       "      <th>119</th>\n",
       "      <td>Taylor Swift</td>\n",
       "      <td>06HL4z0CvFAxyc27GXpf02</td>\n",
       "      <td>69513913</td>\n",
       "      <td>99</td>\n",
       "      <td>2023-03-13</td>\n",
       "    </tr>\n",
       "  </tbody>\n",
       "</table>\n",
       "<p>120 rows × 5 columns</p>\n",
       "</div>"
      ],
      "text/plain": [
       "       artist_name               artist_id  artist_followers  \\\n",
       "0    Ariana Grande  66CXWjxzNUsdJxJ2JdwvnR          88348950   \n",
       "1           Avicii  1vCWHaC5f2uS3yhpwWbIA6          22620854   \n",
       "2              BTS  3Nrfpe0tUJi4K4DXYWgMUX          61927930   \n",
       "3         Coldplay  4gzpq5DPGxSnKTe4SA8HAU          42282671   \n",
       "4            Drake  3TVXtAsR1Inumwj472S9r4          72531141   \n",
       "..             ...                     ...               ...   \n",
       "115           Joji  3MZsBdqDrRTJihTHQrO6Dq           8186516   \n",
       "116  Martin Garrix  60d24wfXkVzDSfLS6hyCjZ          15748376   \n",
       "117  Mike Williams  3IpvVrP3VLhruTmnququq7            350671   \n",
       "118           NIKI  2kxP07DLgs4xlWz8YHlvfh           2383687   \n",
       "119   Taylor Swift  06HL4z0CvFAxyc27GXpf02          69513913   \n",
       "\n",
       "     artist_popularity date_tracked  \n",
       "0                   92   2023-03-04  \n",
       "1                   84   2023-03-04  \n",
       "2                   93   2023-03-04  \n",
       "3                   90   2023-03-04  \n",
       "4                   98   2023-03-04  \n",
       "..                 ...          ...  \n",
       "115                 86   2023-03-13  \n",
       "116                 80   2023-03-13  \n",
       "117                 61   2023-03-13  \n",
       "118                 76   2023-03-13  \n",
       "119                 99   2023-03-13  \n",
       "\n",
       "[120 rows x 5 columns]"
      ]
     },
     "execution_count": 46,
     "metadata": {},
     "output_type": "execute_result"
    }
   ],
   "source": [
    "df"
   ]
  },
  {
   "cell_type": "code",
   "execution_count": 47,
   "metadata": {},
   "outputs": [
    {
     "data": {
      "application/vnd.plotly.v1+json": {
       "config": {
        "plotlyServerURL": "https://plot.ly"
       },
       "data": [
        {
         "hovertemplate": "artist_name=Ariana Grande<br>date_tracked=%{x}<br>artist_popularity=%{y}<extra></extra>",
         "legendgroup": "Ariana Grande",
         "line": {
          "color": "#636efa",
          "dash": "solid"
         },
         "marker": {
          "symbol": "circle"
         },
         "mode": "lines",
         "name": "Ariana Grande",
         "orientation": "v",
         "showlegend": true,
         "type": "scatter",
         "x": [
          "2023-03-04",
          "2023-03-05",
          "2023-03-06",
          "2023-03-07",
          "2023-03-08",
          "2023-03-09",
          "2023-03-10",
          "2023-03-11",
          "2023-03-12",
          "2023-03-13"
         ],
         "xaxis": "x",
         "y": [
          92,
          92,
          92,
          92,
          92,
          92,
          92,
          92,
          93,
          93
         ],
         "yaxis": "y"
        },
        {
         "hovertemplate": "artist_name=Avicii<br>date_tracked=%{x}<br>artist_popularity=%{y}<extra></extra>",
         "legendgroup": "Avicii",
         "line": {
          "color": "#EF553B",
          "dash": "solid"
         },
         "marker": {
          "symbol": "circle"
         },
         "mode": "lines",
         "name": "Avicii",
         "orientation": "v",
         "showlegend": true,
         "type": "scatter",
         "x": [
          "2023-03-04",
          "2023-03-05",
          "2023-03-06",
          "2023-03-07",
          "2023-03-08",
          "2023-03-09",
          "2023-03-10",
          "2023-03-11",
          "2023-03-12",
          "2023-03-13"
         ],
         "xaxis": "x",
         "y": [
          84,
          84,
          84,
          84,
          84,
          84,
          84,
          84,
          84,
          84
         ],
         "yaxis": "y"
        },
        {
         "hovertemplate": "artist_name=BTS<br>date_tracked=%{x}<br>artist_popularity=%{y}<extra></extra>",
         "legendgroup": "BTS",
         "line": {
          "color": "#00cc96",
          "dash": "solid"
         },
         "marker": {
          "symbol": "circle"
         },
         "mode": "lines",
         "name": "BTS",
         "orientation": "v",
         "showlegend": true,
         "type": "scatter",
         "x": [
          "2023-03-04",
          "2023-03-05",
          "2023-03-06",
          "2023-03-07",
          "2023-03-08",
          "2023-03-09",
          "2023-03-10",
          "2023-03-11",
          "2023-03-12",
          "2023-03-13"
         ],
         "xaxis": "x",
         "y": [
          93,
          93,
          93,
          93,
          93,
          93,
          93,
          93,
          93,
          93
         ],
         "yaxis": "y"
        },
        {
         "hovertemplate": "artist_name=Coldplay<br>date_tracked=%{x}<br>artist_popularity=%{y}<extra></extra>",
         "legendgroup": "Coldplay",
         "line": {
          "color": "#ab63fa",
          "dash": "solid"
         },
         "marker": {
          "symbol": "circle"
         },
         "mode": "lines",
         "name": "Coldplay",
         "orientation": "v",
         "showlegend": true,
         "type": "scatter",
         "x": [
          "2023-03-04",
          "2023-03-05",
          "2023-03-06",
          "2023-03-07",
          "2023-03-08",
          "2023-03-09",
          "2023-03-10",
          "2023-03-11",
          "2023-03-12",
          "2023-03-13"
         ],
         "xaxis": "x",
         "y": [
          90,
          90,
          90,
          90,
          90,
          90,
          90,
          90,
          90,
          90
         ],
         "yaxis": "y"
        },
        {
         "hovertemplate": "artist_name=Drake<br>date_tracked=%{x}<br>artist_popularity=%{y}<extra></extra>",
         "legendgroup": "Drake",
         "line": {
          "color": "#FFA15A",
          "dash": "solid"
         },
         "marker": {
          "symbol": "circle"
         },
         "mode": "lines",
         "name": "Drake",
         "orientation": "v",
         "showlegend": true,
         "type": "scatter",
         "x": [
          "2023-03-04",
          "2023-03-05",
          "2023-03-06",
          "2023-03-07",
          "2023-03-08",
          "2023-03-09",
          "2023-03-10",
          "2023-03-11",
          "2023-03-12",
          "2023-03-13"
         ],
         "xaxis": "x",
         "y": [
          98,
          98,
          98,
          98,
          98,
          98,
          98,
          98,
          98,
          98
         ],
         "yaxis": "y"
        },
        {
         "hovertemplate": "artist_name=ILLENIUM<br>date_tracked=%{x}<br>artist_popularity=%{y}<extra></extra>",
         "legendgroup": "ILLENIUM",
         "line": {
          "color": "#19d3f3",
          "dash": "solid"
         },
         "marker": {
          "symbol": "circle"
         },
         "mode": "lines",
         "name": "ILLENIUM",
         "orientation": "v",
         "showlegend": true,
         "type": "scatter",
         "x": [
          "2023-03-04",
          "2023-03-05",
          "2023-03-06",
          "2023-03-07",
          "2023-03-08",
          "2023-03-09",
          "2023-03-10",
          "2023-03-11",
          "2023-03-12",
          "2023-03-13"
         ],
         "xaxis": "x",
         "y": [
          75,
          75,
          75,
          75,
          75,
          75,
          76,
          76,
          76,
          75
         ],
         "yaxis": "y"
        },
        {
         "hovertemplate": "artist_name=JMIN<br>date_tracked=%{x}<br>artist_popularity=%{y}<extra></extra>",
         "legendgroup": "JMIN",
         "line": {
          "color": "#FF6692",
          "dash": "solid"
         },
         "marker": {
          "symbol": "circle"
         },
         "mode": "lines",
         "name": "JMIN",
         "orientation": "v",
         "showlegend": true,
         "type": "scatter",
         "x": [
          "2023-03-04",
          "2023-03-05",
          "2023-03-06",
          "2023-03-07",
          "2023-03-08",
          "2023-03-09",
          "2023-03-10",
          "2023-03-11",
          "2023-03-12",
          "2023-03-13"
         ],
         "xaxis": "x",
         "y": [
          42,
          42,
          42,
          42,
          42,
          42,
          42,
          42,
          42,
          42
         ],
         "yaxis": "y"
        },
        {
         "hovertemplate": "artist_name=Joji<br>date_tracked=%{x}<br>artist_popularity=%{y}<extra></extra>",
         "legendgroup": "Joji",
         "line": {
          "color": "#B6E880",
          "dash": "solid"
         },
         "marker": {
          "symbol": "circle"
         },
         "mode": "lines",
         "name": "Joji",
         "orientation": "v",
         "showlegend": true,
         "type": "scatter",
         "x": [
          "2023-03-04",
          "2023-03-05",
          "2023-03-06",
          "2023-03-07",
          "2023-03-08",
          "2023-03-09",
          "2023-03-10",
          "2023-03-11",
          "2023-03-12",
          "2023-03-13"
         ],
         "xaxis": "x",
         "y": [
          86,
          86,
          86,
          86,
          86,
          86,
          86,
          86,
          86,
          86
         ],
         "yaxis": "y"
        },
        {
         "hovertemplate": "artist_name=Martin Garrix<br>date_tracked=%{x}<br>artist_popularity=%{y}<extra></extra>",
         "legendgroup": "Martin Garrix",
         "line": {
          "color": "#FF97FF",
          "dash": "solid"
         },
         "marker": {
          "symbol": "circle"
         },
         "mode": "lines",
         "name": "Martin Garrix",
         "orientation": "v",
         "showlegend": true,
         "type": "scatter",
         "x": [
          "2023-03-04",
          "2023-03-05",
          "2023-03-06",
          "2023-03-07",
          "2023-03-08",
          "2023-03-09",
          "2023-03-10",
          "2023-03-11",
          "2023-03-12",
          "2023-03-13"
         ],
         "xaxis": "x",
         "y": [
          80,
          80,
          80,
          80,
          80,
          80,
          80,
          80,
          80,
          80
         ],
         "yaxis": "y"
        },
        {
         "hovertemplate": "artist_name=Mike Williams<br>date_tracked=%{x}<br>artist_popularity=%{y}<extra></extra>",
         "legendgroup": "Mike Williams",
         "line": {
          "color": "#FECB52",
          "dash": "solid"
         },
         "marker": {
          "symbol": "circle"
         },
         "mode": "lines",
         "name": "Mike Williams",
         "orientation": "v",
         "showlegend": true,
         "type": "scatter",
         "x": [
          "2023-03-04",
          "2023-03-05",
          "2023-03-06",
          "2023-03-07",
          "2023-03-08",
          "2023-03-09",
          "2023-03-10",
          "2023-03-11",
          "2023-03-12",
          "2023-03-13"
         ],
         "xaxis": "x",
         "y": [
          61,
          61,
          61,
          61,
          61,
          61,
          61,
          61,
          61,
          61
         ],
         "yaxis": "y"
        },
        {
         "hovertemplate": "artist_name=NIKI<br>date_tracked=%{x}<br>artist_popularity=%{y}<extra></extra>",
         "legendgroup": "NIKI",
         "line": {
          "color": "#636efa",
          "dash": "solid"
         },
         "marker": {
          "symbol": "circle"
         },
         "mode": "lines",
         "name": "NIKI",
         "orientation": "v",
         "showlegend": true,
         "type": "scatter",
         "x": [
          "2023-03-04",
          "2023-03-05",
          "2023-03-06",
          "2023-03-07",
          "2023-03-08",
          "2023-03-09",
          "2023-03-10",
          "2023-03-11",
          "2023-03-12",
          "2023-03-13"
         ],
         "xaxis": "x",
         "y": [
          76,
          76,
          76,
          76,
          76,
          76,
          76,
          76,
          76,
          76
         ],
         "yaxis": "y"
        },
        {
         "hovertemplate": "artist_name=Taylor Swift<br>date_tracked=%{x}<br>artist_popularity=%{y}<extra></extra>",
         "legendgroup": "Taylor Swift",
         "line": {
          "color": "#EF553B",
          "dash": "solid"
         },
         "marker": {
          "symbol": "circle"
         },
         "mode": "lines",
         "name": "Taylor Swift",
         "orientation": "v",
         "showlegend": true,
         "type": "scatter",
         "x": [
          "2023-03-04",
          "2023-03-05",
          "2023-03-06",
          "2023-03-07",
          "2023-03-08",
          "2023-03-09",
          "2023-03-10",
          "2023-03-11",
          "2023-03-12",
          "2023-03-13"
         ],
         "xaxis": "x",
         "y": [
          99,
          99,
          99,
          99,
          99,
          99,
          99,
          99,
          99,
          99
         ],
         "yaxis": "y"
        }
       ],
       "layout": {
        "legend": {
         "font": {
          "size": 12
         },
         "title": {
          "text": "Artist"
         },
         "tracegroupgap": 0
        },
        "margin": {
         "t": 60
        },
        "template": {
         "data": {
          "bar": [
           {
            "error_x": {
             "color": "#2a3f5f"
            },
            "error_y": {
             "color": "#2a3f5f"
            },
            "marker": {
             "line": {
              "color": "#E5ECF6",
              "width": 0.5
             },
             "pattern": {
              "fillmode": "overlay",
              "size": 10,
              "solidity": 0.2
             }
            },
            "type": "bar"
           }
          ],
          "barpolar": [
           {
            "marker": {
             "line": {
              "color": "#E5ECF6",
              "width": 0.5
             },
             "pattern": {
              "fillmode": "overlay",
              "size": 10,
              "solidity": 0.2
             }
            },
            "type": "barpolar"
           }
          ],
          "carpet": [
           {
            "aaxis": {
             "endlinecolor": "#2a3f5f",
             "gridcolor": "white",
             "linecolor": "white",
             "minorgridcolor": "white",
             "startlinecolor": "#2a3f5f"
            },
            "baxis": {
             "endlinecolor": "#2a3f5f",
             "gridcolor": "white",
             "linecolor": "white",
             "minorgridcolor": "white",
             "startlinecolor": "#2a3f5f"
            },
            "type": "carpet"
           }
          ],
          "choropleth": [
           {
            "colorbar": {
             "outlinewidth": 0,
             "ticks": ""
            },
            "type": "choropleth"
           }
          ],
          "contour": [
           {
            "colorbar": {
             "outlinewidth": 0,
             "ticks": ""
            },
            "colorscale": [
             [
              0,
              "#0d0887"
             ],
             [
              0.1111111111111111,
              "#46039f"
             ],
             [
              0.2222222222222222,
              "#7201a8"
             ],
             [
              0.3333333333333333,
              "#9c179e"
             ],
             [
              0.4444444444444444,
              "#bd3786"
             ],
             [
              0.5555555555555556,
              "#d8576b"
             ],
             [
              0.6666666666666666,
              "#ed7953"
             ],
             [
              0.7777777777777778,
              "#fb9f3a"
             ],
             [
              0.8888888888888888,
              "#fdca26"
             ],
             [
              1,
              "#f0f921"
             ]
            ],
            "type": "contour"
           }
          ],
          "contourcarpet": [
           {
            "colorbar": {
             "outlinewidth": 0,
             "ticks": ""
            },
            "type": "contourcarpet"
           }
          ],
          "heatmap": [
           {
            "colorbar": {
             "outlinewidth": 0,
             "ticks": ""
            },
            "colorscale": [
             [
              0,
              "#0d0887"
             ],
             [
              0.1111111111111111,
              "#46039f"
             ],
             [
              0.2222222222222222,
              "#7201a8"
             ],
             [
              0.3333333333333333,
              "#9c179e"
             ],
             [
              0.4444444444444444,
              "#bd3786"
             ],
             [
              0.5555555555555556,
              "#d8576b"
             ],
             [
              0.6666666666666666,
              "#ed7953"
             ],
             [
              0.7777777777777778,
              "#fb9f3a"
             ],
             [
              0.8888888888888888,
              "#fdca26"
             ],
             [
              1,
              "#f0f921"
             ]
            ],
            "type": "heatmap"
           }
          ],
          "heatmapgl": [
           {
            "colorbar": {
             "outlinewidth": 0,
             "ticks": ""
            },
            "colorscale": [
             [
              0,
              "#0d0887"
             ],
             [
              0.1111111111111111,
              "#46039f"
             ],
             [
              0.2222222222222222,
              "#7201a8"
             ],
             [
              0.3333333333333333,
              "#9c179e"
             ],
             [
              0.4444444444444444,
              "#bd3786"
             ],
             [
              0.5555555555555556,
              "#d8576b"
             ],
             [
              0.6666666666666666,
              "#ed7953"
             ],
             [
              0.7777777777777778,
              "#fb9f3a"
             ],
             [
              0.8888888888888888,
              "#fdca26"
             ],
             [
              1,
              "#f0f921"
             ]
            ],
            "type": "heatmapgl"
           }
          ],
          "histogram": [
           {
            "marker": {
             "pattern": {
              "fillmode": "overlay",
              "size": 10,
              "solidity": 0.2
             }
            },
            "type": "histogram"
           }
          ],
          "histogram2d": [
           {
            "colorbar": {
             "outlinewidth": 0,
             "ticks": ""
            },
            "colorscale": [
             [
              0,
              "#0d0887"
             ],
             [
              0.1111111111111111,
              "#46039f"
             ],
             [
              0.2222222222222222,
              "#7201a8"
             ],
             [
              0.3333333333333333,
              "#9c179e"
             ],
             [
              0.4444444444444444,
              "#bd3786"
             ],
             [
              0.5555555555555556,
              "#d8576b"
             ],
             [
              0.6666666666666666,
              "#ed7953"
             ],
             [
              0.7777777777777778,
              "#fb9f3a"
             ],
             [
              0.8888888888888888,
              "#fdca26"
             ],
             [
              1,
              "#f0f921"
             ]
            ],
            "type": "histogram2d"
           }
          ],
          "histogram2dcontour": [
           {
            "colorbar": {
             "outlinewidth": 0,
             "ticks": ""
            },
            "colorscale": [
             [
              0,
              "#0d0887"
             ],
             [
              0.1111111111111111,
              "#46039f"
             ],
             [
              0.2222222222222222,
              "#7201a8"
             ],
             [
              0.3333333333333333,
              "#9c179e"
             ],
             [
              0.4444444444444444,
              "#bd3786"
             ],
             [
              0.5555555555555556,
              "#d8576b"
             ],
             [
              0.6666666666666666,
              "#ed7953"
             ],
             [
              0.7777777777777778,
              "#fb9f3a"
             ],
             [
              0.8888888888888888,
              "#fdca26"
             ],
             [
              1,
              "#f0f921"
             ]
            ],
            "type": "histogram2dcontour"
           }
          ],
          "mesh3d": [
           {
            "colorbar": {
             "outlinewidth": 0,
             "ticks": ""
            },
            "type": "mesh3d"
           }
          ],
          "parcoords": [
           {
            "line": {
             "colorbar": {
              "outlinewidth": 0,
              "ticks": ""
             }
            },
            "type": "parcoords"
           }
          ],
          "pie": [
           {
            "automargin": true,
            "type": "pie"
           }
          ],
          "scatter": [
           {
            "fillpattern": {
             "fillmode": "overlay",
             "size": 10,
             "solidity": 0.2
            },
            "type": "scatter"
           }
          ],
          "scatter3d": [
           {
            "line": {
             "colorbar": {
              "outlinewidth": 0,
              "ticks": ""
             }
            },
            "marker": {
             "colorbar": {
              "outlinewidth": 0,
              "ticks": ""
             }
            },
            "type": "scatter3d"
           }
          ],
          "scattercarpet": [
           {
            "marker": {
             "colorbar": {
              "outlinewidth": 0,
              "ticks": ""
             }
            },
            "type": "scattercarpet"
           }
          ],
          "scattergeo": [
           {
            "marker": {
             "colorbar": {
              "outlinewidth": 0,
              "ticks": ""
             }
            },
            "type": "scattergeo"
           }
          ],
          "scattergl": [
           {
            "marker": {
             "colorbar": {
              "outlinewidth": 0,
              "ticks": ""
             }
            },
            "type": "scattergl"
           }
          ],
          "scattermapbox": [
           {
            "marker": {
             "colorbar": {
              "outlinewidth": 0,
              "ticks": ""
             }
            },
            "type": "scattermapbox"
           }
          ],
          "scatterpolar": [
           {
            "marker": {
             "colorbar": {
              "outlinewidth": 0,
              "ticks": ""
             }
            },
            "type": "scatterpolar"
           }
          ],
          "scatterpolargl": [
           {
            "marker": {
             "colorbar": {
              "outlinewidth": 0,
              "ticks": ""
             }
            },
            "type": "scatterpolargl"
           }
          ],
          "scatterternary": [
           {
            "marker": {
             "colorbar": {
              "outlinewidth": 0,
              "ticks": ""
             }
            },
            "type": "scatterternary"
           }
          ],
          "surface": [
           {
            "colorbar": {
             "outlinewidth": 0,
             "ticks": ""
            },
            "colorscale": [
             [
              0,
              "#0d0887"
             ],
             [
              0.1111111111111111,
              "#46039f"
             ],
             [
              0.2222222222222222,
              "#7201a8"
             ],
             [
              0.3333333333333333,
              "#9c179e"
             ],
             [
              0.4444444444444444,
              "#bd3786"
             ],
             [
              0.5555555555555556,
              "#d8576b"
             ],
             [
              0.6666666666666666,
              "#ed7953"
             ],
             [
              0.7777777777777778,
              "#fb9f3a"
             ],
             [
              0.8888888888888888,
              "#fdca26"
             ],
             [
              1,
              "#f0f921"
             ]
            ],
            "type": "surface"
           }
          ],
          "table": [
           {
            "cells": {
             "fill": {
              "color": "#EBF0F8"
             },
             "line": {
              "color": "white"
             }
            },
            "header": {
             "fill": {
              "color": "#C8D4E3"
             },
             "line": {
              "color": "white"
             }
            },
            "type": "table"
           }
          ]
         },
         "layout": {
          "annotationdefaults": {
           "arrowcolor": "#2a3f5f",
           "arrowhead": 0,
           "arrowwidth": 1
          },
          "autotypenumbers": "strict",
          "coloraxis": {
           "colorbar": {
            "outlinewidth": 0,
            "ticks": ""
           }
          },
          "colorscale": {
           "diverging": [
            [
             0,
             "#8e0152"
            ],
            [
             0.1,
             "#c51b7d"
            ],
            [
             0.2,
             "#de77ae"
            ],
            [
             0.3,
             "#f1b6da"
            ],
            [
             0.4,
             "#fde0ef"
            ],
            [
             0.5,
             "#f7f7f7"
            ],
            [
             0.6,
             "#e6f5d0"
            ],
            [
             0.7,
             "#b8e186"
            ],
            [
             0.8,
             "#7fbc41"
            ],
            [
             0.9,
             "#4d9221"
            ],
            [
             1,
             "#276419"
            ]
           ],
           "sequential": [
            [
             0,
             "#0d0887"
            ],
            [
             0.1111111111111111,
             "#46039f"
            ],
            [
             0.2222222222222222,
             "#7201a8"
            ],
            [
             0.3333333333333333,
             "#9c179e"
            ],
            [
             0.4444444444444444,
             "#bd3786"
            ],
            [
             0.5555555555555556,
             "#d8576b"
            ],
            [
             0.6666666666666666,
             "#ed7953"
            ],
            [
             0.7777777777777778,
             "#fb9f3a"
            ],
            [
             0.8888888888888888,
             "#fdca26"
            ],
            [
             1,
             "#f0f921"
            ]
           ],
           "sequentialminus": [
            [
             0,
             "#0d0887"
            ],
            [
             0.1111111111111111,
             "#46039f"
            ],
            [
             0.2222222222222222,
             "#7201a8"
            ],
            [
             0.3333333333333333,
             "#9c179e"
            ],
            [
             0.4444444444444444,
             "#bd3786"
            ],
            [
             0.5555555555555556,
             "#d8576b"
            ],
            [
             0.6666666666666666,
             "#ed7953"
            ],
            [
             0.7777777777777778,
             "#fb9f3a"
            ],
            [
             0.8888888888888888,
             "#fdca26"
            ],
            [
             1,
             "#f0f921"
            ]
           ]
          },
          "colorway": [
           "#636efa",
           "#EF553B",
           "#00cc96",
           "#ab63fa",
           "#FFA15A",
           "#19d3f3",
           "#FF6692",
           "#B6E880",
           "#FF97FF",
           "#FECB52"
          ],
          "font": {
           "color": "#2a3f5f"
          },
          "geo": {
           "bgcolor": "white",
           "lakecolor": "white",
           "landcolor": "#E5ECF6",
           "showlakes": true,
           "showland": true,
           "subunitcolor": "white"
          },
          "hoverlabel": {
           "align": "left"
          },
          "hovermode": "closest",
          "mapbox": {
           "style": "light"
          },
          "paper_bgcolor": "white",
          "plot_bgcolor": "#E5ECF6",
          "polar": {
           "angularaxis": {
            "gridcolor": "white",
            "linecolor": "white",
            "ticks": ""
           },
           "bgcolor": "#E5ECF6",
           "radialaxis": {
            "gridcolor": "white",
            "linecolor": "white",
            "ticks": ""
           }
          },
          "scene": {
           "xaxis": {
            "backgroundcolor": "#E5ECF6",
            "gridcolor": "white",
            "gridwidth": 2,
            "linecolor": "white",
            "showbackground": true,
            "ticks": "",
            "zerolinecolor": "white"
           },
           "yaxis": {
            "backgroundcolor": "#E5ECF6",
            "gridcolor": "white",
            "gridwidth": 2,
            "linecolor": "white",
            "showbackground": true,
            "ticks": "",
            "zerolinecolor": "white"
           },
           "zaxis": {
            "backgroundcolor": "#E5ECF6",
            "gridcolor": "white",
            "gridwidth": 2,
            "linecolor": "white",
            "showbackground": true,
            "ticks": "",
            "zerolinecolor": "white"
           }
          },
          "shapedefaults": {
           "line": {
            "color": "#2a3f5f"
           }
          },
          "ternary": {
           "aaxis": {
            "gridcolor": "white",
            "linecolor": "white",
            "ticks": ""
           },
           "baxis": {
            "gridcolor": "white",
            "linecolor": "white",
            "ticks": ""
           },
           "bgcolor": "#E5ECF6",
           "caxis": {
            "gridcolor": "white",
            "linecolor": "white",
            "ticks": ""
           }
          },
          "title": {
           "x": 0.05
          },
          "xaxis": {
           "automargin": true,
           "gridcolor": "white",
           "linecolor": "white",
           "ticks": "",
           "title": {
            "standoff": 15
           },
           "zerolinecolor": "white",
           "zerolinewidth": 2
          },
          "yaxis": {
           "automargin": true,
           "gridcolor": "white",
           "linecolor": "white",
           "ticks": "",
           "title": {
            "standoff": 15
           },
           "zerolinecolor": "white",
           "zerolinewidth": 2
          }
         }
        },
        "title": {
         "font": {
          "size": 24
         },
         "text": "All Artist Popularity Score",
         "x": 0.5,
         "xanchor": "center"
        },
        "xaxis": {
         "anchor": "y",
         "domain": [
          0,
          1
         ],
         "title": {
          "text": "Date"
         }
        },
        "yaxis": {
         "anchor": "x",
         "domain": [
          0,
          1
         ],
         "title": {
          "text": "Popularity Score"
         }
        }
       }
      }
     },
     "metadata": {},
     "output_type": "display_data"
    }
   ],
   "source": [
    "plot_all_artist_pop(df)"
   ]
  },
  {
   "attachments": {},
   "cell_type": "markdown",
   "metadata": {},
   "source": [
    "#### `plot_all_artist_hist()`"
   ]
  },
  {
   "cell_type": "code",
   "execution_count": 48,
   "metadata": {},
   "outputs": [
    {
     "data": {
      "text/html": [
       "<div>\n",
       "<style scoped>\n",
       "    .dataframe tbody tr th:only-of-type {\n",
       "        vertical-align: middle;\n",
       "    }\n",
       "\n",
       "    .dataframe tbody tr th {\n",
       "        vertical-align: top;\n",
       "    }\n",
       "\n",
       "    .dataframe thead th {\n",
       "        text-align: right;\n",
       "    }\n",
       "</style>\n",
       "<table border=\"1\" class=\"dataframe\">\n",
       "  <thead>\n",
       "    <tr style=\"text-align: right;\">\n",
       "      <th></th>\n",
       "      <th>artist_name</th>\n",
       "      <th>artist_id</th>\n",
       "      <th>artist_followers</th>\n",
       "      <th>artist_popularity</th>\n",
       "      <th>date_tracked</th>\n",
       "    </tr>\n",
       "  </thead>\n",
       "  <tbody>\n",
       "    <tr>\n",
       "      <th>0</th>\n",
       "      <td>Ariana Grande</td>\n",
       "      <td>66CXWjxzNUsdJxJ2JdwvnR</td>\n",
       "      <td>88348950</td>\n",
       "      <td>92</td>\n",
       "      <td>2023-03-04</td>\n",
       "    </tr>\n",
       "    <tr>\n",
       "      <th>1</th>\n",
       "      <td>Avicii</td>\n",
       "      <td>1vCWHaC5f2uS3yhpwWbIA6</td>\n",
       "      <td>22620854</td>\n",
       "      <td>84</td>\n",
       "      <td>2023-03-04</td>\n",
       "    </tr>\n",
       "    <tr>\n",
       "      <th>2</th>\n",
       "      <td>BTS</td>\n",
       "      <td>3Nrfpe0tUJi4K4DXYWgMUX</td>\n",
       "      <td>61927930</td>\n",
       "      <td>93</td>\n",
       "      <td>2023-03-04</td>\n",
       "    </tr>\n",
       "    <tr>\n",
       "      <th>3</th>\n",
       "      <td>Coldplay</td>\n",
       "      <td>4gzpq5DPGxSnKTe4SA8HAU</td>\n",
       "      <td>42282671</td>\n",
       "      <td>90</td>\n",
       "      <td>2023-03-04</td>\n",
       "    </tr>\n",
       "    <tr>\n",
       "      <th>4</th>\n",
       "      <td>Drake</td>\n",
       "      <td>3TVXtAsR1Inumwj472S9r4</td>\n",
       "      <td>72531141</td>\n",
       "      <td>98</td>\n",
       "      <td>2023-03-04</td>\n",
       "    </tr>\n",
       "    <tr>\n",
       "      <th>...</th>\n",
       "      <td>...</td>\n",
       "      <td>...</td>\n",
       "      <td>...</td>\n",
       "      <td>...</td>\n",
       "      <td>...</td>\n",
       "    </tr>\n",
       "    <tr>\n",
       "      <th>115</th>\n",
       "      <td>Joji</td>\n",
       "      <td>3MZsBdqDrRTJihTHQrO6Dq</td>\n",
       "      <td>8186516</td>\n",
       "      <td>86</td>\n",
       "      <td>2023-03-13</td>\n",
       "    </tr>\n",
       "    <tr>\n",
       "      <th>116</th>\n",
       "      <td>Martin Garrix</td>\n",
       "      <td>60d24wfXkVzDSfLS6hyCjZ</td>\n",
       "      <td>15748376</td>\n",
       "      <td>80</td>\n",
       "      <td>2023-03-13</td>\n",
       "    </tr>\n",
       "    <tr>\n",
       "      <th>117</th>\n",
       "      <td>Mike Williams</td>\n",
       "      <td>3IpvVrP3VLhruTmnququq7</td>\n",
       "      <td>350671</td>\n",
       "      <td>61</td>\n",
       "      <td>2023-03-13</td>\n",
       "    </tr>\n",
       "    <tr>\n",
       "      <th>118</th>\n",
       "      <td>NIKI</td>\n",
       "      <td>2kxP07DLgs4xlWz8YHlvfh</td>\n",
       "      <td>2383687</td>\n",
       "      <td>76</td>\n",
       "      <td>2023-03-13</td>\n",
       "    </tr>\n",
       "    <tr>\n",
       "      <th>119</th>\n",
       "      <td>Taylor Swift</td>\n",
       "      <td>06HL4z0CvFAxyc27GXpf02</td>\n",
       "      <td>69513913</td>\n",
       "      <td>99</td>\n",
       "      <td>2023-03-13</td>\n",
       "    </tr>\n",
       "  </tbody>\n",
       "</table>\n",
       "<p>120 rows × 5 columns</p>\n",
       "</div>"
      ],
      "text/plain": [
       "       artist_name               artist_id  artist_followers  \\\n",
       "0    Ariana Grande  66CXWjxzNUsdJxJ2JdwvnR          88348950   \n",
       "1           Avicii  1vCWHaC5f2uS3yhpwWbIA6          22620854   \n",
       "2              BTS  3Nrfpe0tUJi4K4DXYWgMUX          61927930   \n",
       "3         Coldplay  4gzpq5DPGxSnKTe4SA8HAU          42282671   \n",
       "4            Drake  3TVXtAsR1Inumwj472S9r4          72531141   \n",
       "..             ...                     ...               ...   \n",
       "115           Joji  3MZsBdqDrRTJihTHQrO6Dq           8186516   \n",
       "116  Martin Garrix  60d24wfXkVzDSfLS6hyCjZ          15748376   \n",
       "117  Mike Williams  3IpvVrP3VLhruTmnququq7            350671   \n",
       "118           NIKI  2kxP07DLgs4xlWz8YHlvfh           2383687   \n",
       "119   Taylor Swift  06HL4z0CvFAxyc27GXpf02          69513913   \n",
       "\n",
       "     artist_popularity date_tracked  \n",
       "0                   92   2023-03-04  \n",
       "1                   84   2023-03-04  \n",
       "2                   93   2023-03-04  \n",
       "3                   90   2023-03-04  \n",
       "4                   98   2023-03-04  \n",
       "..                 ...          ...  \n",
       "115                 86   2023-03-13  \n",
       "116                 80   2023-03-13  \n",
       "117                 61   2023-03-13  \n",
       "118                 76   2023-03-13  \n",
       "119                 99   2023-03-13  \n",
       "\n",
       "[120 rows x 5 columns]"
      ]
     },
     "execution_count": 48,
     "metadata": {},
     "output_type": "execute_result"
    }
   ],
   "source": [
    "df = SQL_get_all_art_pop()\n",
    "df"
   ]
  },
  {
   "cell_type": "code",
   "execution_count": 49,
   "metadata": {},
   "outputs": [],
   "source": [
    "def plot_all_artist_hist(df, sets=1):\n",
    "    ''' plot a 2 by 2 of plot_artist() for all the artist (divided into 3 sets for better sizing)'''\n",
    "    # get the unique artist names\n",
    "    artist_names = df['artist_name'].unique()\n",
    "    #create empty list to track the bounds\n",
    "    popularity_bounds = []\n",
    "    follower_bounds = []\n",
    "    dates = df['date_tracked']\n",
    "    for artist in artist_names:\n",
    "        temp = df[df['artist_name'] == artist]\n",
    "        follower = temp['artist_followers']\n",
    "        popularity = temp['artist_popularity']\n",
    "        lower_follow, upper_follow = plot_range_playcount_followers(follower)\n",
    "        lower_pop, upper_pop = plot_range_popularity(popularity)\n",
    "\n",
    "        follower_bounds.append([lower_follow, upper_follow])\n",
    "        popularity_bounds.append([lower_pop, upper_pop])\n",
    "    \n",
    "    # set conditions grab 4 at onces\n",
    "    if sets == 1:\n",
    "        artist_names = artist_names[0:4]\n",
    "        follower_bounds = follower_bounds[0:4]\n",
    "        popularity_bounds = popularity_bounds[0:4]\n",
    "    \n",
    "    elif sets == 2:\n",
    "        artist_names = artist_names[4:8]\n",
    "        follower_bounds = follower_bounds[4:8]\n",
    "        popularity_bounds = popularity_bounds[4:8]\n",
    "    \n",
    "    else:\n",
    "        artist_names = artist_names[8:12]\n",
    "        follower_bounds = follower_bounds[8:12]\n",
    "        popularity_bounds = popularity_bounds[8:12]\n",
    "\n",
    "\n",
    "\n",
    "    specs = [[{'secondary_y': True}, {'secondary_y': True}],\n",
    "         [{'secondary_y': True}, {'secondary_y': True}]]\n",
    "    fig = make_subplots(\n",
    "    rows= 2, cols= 2,\n",
    "    subplot_titles=(artist_names), specs= specs\n",
    "    )\n",
    "\n",
    "    # artist 1 of the subgroup\n",
    "    temp = df[df['artist_name'] == artist_names[0]]\n",
    "    fig.add_trace(go.Bar(\n",
    "            x= temp.date_tracked,\n",
    "            y= temp.artist_followers,\n",
    "            name= artist_names[0],\n",
    "            legendgroup='group1'\n",
    "\n",
    "    ), row=1, col=1, secondary_y= False)\n",
    "    fig.add_trace(go.Scatter(\n",
    "            x= temp.date_tracked,\n",
    "            y= temp.artist_popularity,\n",
    "            name= artist_names[0],\n",
    "            mode='lines+markers',\n",
    "            legendgroup='group2'\n",
    "        ), row=1, col=1, secondary_y= True)\n",
    "\n",
    "    fig.update_yaxes(range = follower_bounds[0], row=1, col=1, secondary_y= False)\n",
    "    fig.update_yaxes(range = popularity_bounds[0], row=1, col=1, secondary_y= True)\n",
    "    \n",
    "    \n",
    "    # artist 2 of the subgroup\n",
    "    temp = df[df['artist_name'] == artist_names[1]]\n",
    "    fig.add_trace(go.Bar(\n",
    "            x= temp.date_tracked,\n",
    "            y= temp.artist_followers,\n",
    "            name= artist_names[1],\n",
    "            legendgroup='group1'\n",
    "\n",
    "    ), row=1, col=2, secondary_y= False)\n",
    "    fig.add_trace(go.Scatter(\n",
    "            x= temp.date_tracked,\n",
    "            y= temp.artist_popularity,\n",
    "            name= artist_names[1],\n",
    "            mode='lines+markers',\n",
    "            legendgroup='group2'\n",
    "        ), row=1, col=2, secondary_y= True)\n",
    "\n",
    "    fig.update_yaxes(range = follower_bounds[1], row=1, col=2, secondary_y= False)\n",
    "    fig.update_yaxes(range = popularity_bounds[1], row=1, col=2, secondary_y= True)\n",
    "    \n",
    "    \n",
    "   # artist 3 of the subgroup\n",
    "    temp = df[df['artist_name'] == artist_names[2]]\n",
    "    fig.add_trace(go.Bar(\n",
    "            x= temp.date_tracked,\n",
    "            y= temp.artist_followers,\n",
    "            name= artist_names[2],\n",
    "            legendgroup='group1'\n",
    "\n",
    "    ), row=2, col=1, secondary_y= False)\n",
    "    fig.add_trace(go.Scatter(\n",
    "            x= temp.date_tracked,\n",
    "            y= temp.artist_popularity,\n",
    "            name= artist_names[2],\n",
    "            mode='lines+markers',\n",
    "            legendgroup='group2'\n",
    "        ), row=2, col=1, secondary_y= True)\n",
    "\n",
    "    fig.update_yaxes(range = follower_bounds[2], row=2, col=1, secondary_y= False)\n",
    "    fig.update_yaxes(range = popularity_bounds[2], row=2, col=1, secondary_y= True)\n",
    "\n",
    "    # artist 4 of the subgroup\n",
    "    temp = df[df['artist_name'] == artist_names[3]]\n",
    "    fig.add_trace(go.Bar(\n",
    "            x= temp.date_tracked,\n",
    "            y= temp.artist_followers,\n",
    "            name= artist_names[3],\n",
    "            legendgroup='group1'\n",
    "\n",
    "    ), row=2, col=2, secondary_y= False)\n",
    "    fig.add_trace(go.Scatter(\n",
    "            x= temp.date_tracked,\n",
    "            y= temp.artist_popularity,\n",
    "            name= artist_names[3],\n",
    "            mode='lines+markers',\n",
    "            legendgroup='group2'\n",
    "        ), row=2, col=2, secondary_y= True)\n",
    "\n",
    "    fig.update_yaxes(range = follower_bounds[3], row=2, col=2, secondary_y= False)\n",
    "    fig.update_yaxes(range = popularity_bounds[3], row=2, col=2, secondary_y= True)\n",
    "\n",
    "\n",
    "\n",
    "\n",
    "    if sets == 1:\n",
    "        fig.update_layout(height=500, width=700,\n",
    "                        title_text=\"Artist Followers vs. Popularity\")\n",
    "    else:\n",
    "        fig.update_layout(height=500, width=700)\n",
    "\n",
    "    fig.update_layout(\n",
    "    legend=dict(\n",
    "        title=dict(\n",
    "            text='Followers and Popularity',\n",
    "            font=dict(\n",
    "                size=12,\n",
    "                color='black'\n",
    "            )\n",
    "        ),\n",
    "        orientation='v'\n",
    "        )\n",
    "    )\n",
    "\n",
    "    fig.show()"
   ]
  },
  {
   "cell_type": "code",
   "execution_count": 50,
   "metadata": {},
   "outputs": [
    {
     "data": {
      "application/vnd.plotly.v1+json": {
       "config": {
        "plotlyServerURL": "https://plot.ly"
       },
       "data": [
        {
         "legendgroup": "group1",
         "name": "Ariana Grande",
         "type": "bar",
         "x": [
          "2023-03-04",
          "2023-03-05",
          "2023-03-06",
          "2023-03-07",
          "2023-03-08",
          "2023-03-09",
          "2023-03-10",
          "2023-03-11",
          "2023-03-12",
          "2023-03-13"
         ],
         "xaxis": "x",
         "y": [
          88348950,
          88348950,
          88380942,
          88406524,
          88432092,
          88478658,
          88505867,
          88505867,
          88538121,
          88569513
         ],
         "yaxis": "y"
        },
        {
         "legendgroup": "group2",
         "mode": "lines+markers",
         "name": "Ariana Grande",
         "type": "scatter",
         "x": [
          "2023-03-04",
          "2023-03-05",
          "2023-03-06",
          "2023-03-07",
          "2023-03-08",
          "2023-03-09",
          "2023-03-10",
          "2023-03-11",
          "2023-03-12",
          "2023-03-13"
         ],
         "xaxis": "x",
         "y": [
          92,
          92,
          92,
          92,
          92,
          92,
          92,
          92,
          93,
          93
         ],
         "yaxis": "y2"
        },
        {
         "legendgroup": "group1",
         "name": "Avicii",
         "type": "bar",
         "x": [
          "2023-03-04",
          "2023-03-05",
          "2023-03-06",
          "2023-03-07",
          "2023-03-08",
          "2023-03-09",
          "2023-03-10",
          "2023-03-11",
          "2023-03-12",
          "2023-03-13"
         ],
         "xaxis": "x2",
         "y": [
          22620854,
          22620854,
          22624476,
          22627696,
          22631020,
          22637082,
          22640416,
          22640416,
          22644133,
          22647538
         ],
         "yaxis": "y3"
        },
        {
         "legendgroup": "group2",
         "mode": "lines+markers",
         "name": "Avicii",
         "type": "scatter",
         "x": [
          "2023-03-04",
          "2023-03-05",
          "2023-03-06",
          "2023-03-07",
          "2023-03-08",
          "2023-03-09",
          "2023-03-10",
          "2023-03-11",
          "2023-03-12",
          "2023-03-13"
         ],
         "xaxis": "x2",
         "y": [
          84,
          84,
          84,
          84,
          84,
          84,
          84,
          84,
          84,
          84
         ],
         "yaxis": "y4"
        },
        {
         "legendgroup": "group1",
         "name": "BTS",
         "type": "bar",
         "x": [
          "2023-03-04",
          "2023-03-05",
          "2023-03-06",
          "2023-03-07",
          "2023-03-08",
          "2023-03-09",
          "2023-03-10",
          "2023-03-11",
          "2023-03-12",
          "2023-03-13"
         ],
         "xaxis": "x3",
         "y": [
          61927930,
          61927930,
          61972773,
          62011343,
          62048245,
          62119901,
          62157902,
          62157902,
          62202800,
          62247140
         ],
         "yaxis": "y5"
        },
        {
         "legendgroup": "group2",
         "mode": "lines+markers",
         "name": "BTS",
         "type": "scatter",
         "x": [
          "2023-03-04",
          "2023-03-05",
          "2023-03-06",
          "2023-03-07",
          "2023-03-08",
          "2023-03-09",
          "2023-03-10",
          "2023-03-11",
          "2023-03-12",
          "2023-03-13"
         ],
         "xaxis": "x3",
         "y": [
          93,
          93,
          93,
          93,
          93,
          93,
          93,
          93,
          93,
          93
         ],
         "yaxis": "y6"
        },
        {
         "legendgroup": "group1",
         "name": "Coldplay",
         "type": "bar",
         "x": [
          "2023-03-04",
          "2023-03-05",
          "2023-03-06",
          "2023-03-07",
          "2023-03-08",
          "2023-03-09",
          "2023-03-10",
          "2023-03-11",
          "2023-03-12",
          "2023-03-13"
         ],
         "xaxis": "x4",
         "y": [
          42282671,
          42282671,
          42306941,
          42327973,
          42349222,
          42391022,
          42412910,
          42412910,
          42439782,
          42467840
         ],
         "yaxis": "y7"
        },
        {
         "legendgroup": "group2",
         "mode": "lines+markers",
         "name": "Coldplay",
         "type": "scatter",
         "x": [
          "2023-03-04",
          "2023-03-05",
          "2023-03-06",
          "2023-03-07",
          "2023-03-08",
          "2023-03-09",
          "2023-03-10",
          "2023-03-11",
          "2023-03-12",
          "2023-03-13"
         ],
         "xaxis": "x4",
         "y": [
          90,
          90,
          90,
          90,
          90,
          90,
          90,
          90,
          90,
          90
         ],
         "yaxis": "y8"
        }
       ],
       "layout": {
        "annotations": [
         {
          "font": {
           "size": 16
          },
          "showarrow": false,
          "text": "Ariana Grande",
          "x": 0.185,
          "xanchor": "center",
          "xref": "paper",
          "y": 1,
          "yanchor": "bottom",
          "yref": "paper"
         },
         {
          "font": {
           "size": 16
          },
          "showarrow": false,
          "text": "Avicii",
          "x": 0.7550000000000001,
          "xanchor": "center",
          "xref": "paper",
          "y": 1,
          "yanchor": "bottom",
          "yref": "paper"
         },
         {
          "font": {
           "size": 16
          },
          "showarrow": false,
          "text": "BTS",
          "x": 0.185,
          "xanchor": "center",
          "xref": "paper",
          "y": 0.375,
          "yanchor": "bottom",
          "yref": "paper"
         },
         {
          "font": {
           "size": 16
          },
          "showarrow": false,
          "text": "Coldplay",
          "x": 0.7550000000000001,
          "xanchor": "center",
          "xref": "paper",
          "y": 0.375,
          "yanchor": "bottom",
          "yref": "paper"
         }
        ],
        "height": 500,
        "legend": {
         "orientation": "v",
         "title": {
          "font": {
           "color": "black",
           "size": 12
          },
          "text": "Followers and Popularity"
         }
        },
        "template": {
         "data": {
          "bar": [
           {
            "error_x": {
             "color": "#2a3f5f"
            },
            "error_y": {
             "color": "#2a3f5f"
            },
            "marker": {
             "line": {
              "color": "#E5ECF6",
              "width": 0.5
             },
             "pattern": {
              "fillmode": "overlay",
              "size": 10,
              "solidity": 0.2
             }
            },
            "type": "bar"
           }
          ],
          "barpolar": [
           {
            "marker": {
             "line": {
              "color": "#E5ECF6",
              "width": 0.5
             },
             "pattern": {
              "fillmode": "overlay",
              "size": 10,
              "solidity": 0.2
             }
            },
            "type": "barpolar"
           }
          ],
          "carpet": [
           {
            "aaxis": {
             "endlinecolor": "#2a3f5f",
             "gridcolor": "white",
             "linecolor": "white",
             "minorgridcolor": "white",
             "startlinecolor": "#2a3f5f"
            },
            "baxis": {
             "endlinecolor": "#2a3f5f",
             "gridcolor": "white",
             "linecolor": "white",
             "minorgridcolor": "white",
             "startlinecolor": "#2a3f5f"
            },
            "type": "carpet"
           }
          ],
          "choropleth": [
           {
            "colorbar": {
             "outlinewidth": 0,
             "ticks": ""
            },
            "type": "choropleth"
           }
          ],
          "contour": [
           {
            "colorbar": {
             "outlinewidth": 0,
             "ticks": ""
            },
            "colorscale": [
             [
              0,
              "#0d0887"
             ],
             [
              0.1111111111111111,
              "#46039f"
             ],
             [
              0.2222222222222222,
              "#7201a8"
             ],
             [
              0.3333333333333333,
              "#9c179e"
             ],
             [
              0.4444444444444444,
              "#bd3786"
             ],
             [
              0.5555555555555556,
              "#d8576b"
             ],
             [
              0.6666666666666666,
              "#ed7953"
             ],
             [
              0.7777777777777778,
              "#fb9f3a"
             ],
             [
              0.8888888888888888,
              "#fdca26"
             ],
             [
              1,
              "#f0f921"
             ]
            ],
            "type": "contour"
           }
          ],
          "contourcarpet": [
           {
            "colorbar": {
             "outlinewidth": 0,
             "ticks": ""
            },
            "type": "contourcarpet"
           }
          ],
          "heatmap": [
           {
            "colorbar": {
             "outlinewidth": 0,
             "ticks": ""
            },
            "colorscale": [
             [
              0,
              "#0d0887"
             ],
             [
              0.1111111111111111,
              "#46039f"
             ],
             [
              0.2222222222222222,
              "#7201a8"
             ],
             [
              0.3333333333333333,
              "#9c179e"
             ],
             [
              0.4444444444444444,
              "#bd3786"
             ],
             [
              0.5555555555555556,
              "#d8576b"
             ],
             [
              0.6666666666666666,
              "#ed7953"
             ],
             [
              0.7777777777777778,
              "#fb9f3a"
             ],
             [
              0.8888888888888888,
              "#fdca26"
             ],
             [
              1,
              "#f0f921"
             ]
            ],
            "type": "heatmap"
           }
          ],
          "heatmapgl": [
           {
            "colorbar": {
             "outlinewidth": 0,
             "ticks": ""
            },
            "colorscale": [
             [
              0,
              "#0d0887"
             ],
             [
              0.1111111111111111,
              "#46039f"
             ],
             [
              0.2222222222222222,
              "#7201a8"
             ],
             [
              0.3333333333333333,
              "#9c179e"
             ],
             [
              0.4444444444444444,
              "#bd3786"
             ],
             [
              0.5555555555555556,
              "#d8576b"
             ],
             [
              0.6666666666666666,
              "#ed7953"
             ],
             [
              0.7777777777777778,
              "#fb9f3a"
             ],
             [
              0.8888888888888888,
              "#fdca26"
             ],
             [
              1,
              "#f0f921"
             ]
            ],
            "type": "heatmapgl"
           }
          ],
          "histogram": [
           {
            "marker": {
             "pattern": {
              "fillmode": "overlay",
              "size": 10,
              "solidity": 0.2
             }
            },
            "type": "histogram"
           }
          ],
          "histogram2d": [
           {
            "colorbar": {
             "outlinewidth": 0,
             "ticks": ""
            },
            "colorscale": [
             [
              0,
              "#0d0887"
             ],
             [
              0.1111111111111111,
              "#46039f"
             ],
             [
              0.2222222222222222,
              "#7201a8"
             ],
             [
              0.3333333333333333,
              "#9c179e"
             ],
             [
              0.4444444444444444,
              "#bd3786"
             ],
             [
              0.5555555555555556,
              "#d8576b"
             ],
             [
              0.6666666666666666,
              "#ed7953"
             ],
             [
              0.7777777777777778,
              "#fb9f3a"
             ],
             [
              0.8888888888888888,
              "#fdca26"
             ],
             [
              1,
              "#f0f921"
             ]
            ],
            "type": "histogram2d"
           }
          ],
          "histogram2dcontour": [
           {
            "colorbar": {
             "outlinewidth": 0,
             "ticks": ""
            },
            "colorscale": [
             [
              0,
              "#0d0887"
             ],
             [
              0.1111111111111111,
              "#46039f"
             ],
             [
              0.2222222222222222,
              "#7201a8"
             ],
             [
              0.3333333333333333,
              "#9c179e"
             ],
             [
              0.4444444444444444,
              "#bd3786"
             ],
             [
              0.5555555555555556,
              "#d8576b"
             ],
             [
              0.6666666666666666,
              "#ed7953"
             ],
             [
              0.7777777777777778,
              "#fb9f3a"
             ],
             [
              0.8888888888888888,
              "#fdca26"
             ],
             [
              1,
              "#f0f921"
             ]
            ],
            "type": "histogram2dcontour"
           }
          ],
          "mesh3d": [
           {
            "colorbar": {
             "outlinewidth": 0,
             "ticks": ""
            },
            "type": "mesh3d"
           }
          ],
          "parcoords": [
           {
            "line": {
             "colorbar": {
              "outlinewidth": 0,
              "ticks": ""
             }
            },
            "type": "parcoords"
           }
          ],
          "pie": [
           {
            "automargin": true,
            "type": "pie"
           }
          ],
          "scatter": [
           {
            "fillpattern": {
             "fillmode": "overlay",
             "size": 10,
             "solidity": 0.2
            },
            "type": "scatter"
           }
          ],
          "scatter3d": [
           {
            "line": {
             "colorbar": {
              "outlinewidth": 0,
              "ticks": ""
             }
            },
            "marker": {
             "colorbar": {
              "outlinewidth": 0,
              "ticks": ""
             }
            },
            "type": "scatter3d"
           }
          ],
          "scattercarpet": [
           {
            "marker": {
             "colorbar": {
              "outlinewidth": 0,
              "ticks": ""
             }
            },
            "type": "scattercarpet"
           }
          ],
          "scattergeo": [
           {
            "marker": {
             "colorbar": {
              "outlinewidth": 0,
              "ticks": ""
             }
            },
            "type": "scattergeo"
           }
          ],
          "scattergl": [
           {
            "marker": {
             "colorbar": {
              "outlinewidth": 0,
              "ticks": ""
             }
            },
            "type": "scattergl"
           }
          ],
          "scattermapbox": [
           {
            "marker": {
             "colorbar": {
              "outlinewidth": 0,
              "ticks": ""
             }
            },
            "type": "scattermapbox"
           }
          ],
          "scatterpolar": [
           {
            "marker": {
             "colorbar": {
              "outlinewidth": 0,
              "ticks": ""
             }
            },
            "type": "scatterpolar"
           }
          ],
          "scatterpolargl": [
           {
            "marker": {
             "colorbar": {
              "outlinewidth": 0,
              "ticks": ""
             }
            },
            "type": "scatterpolargl"
           }
          ],
          "scatterternary": [
           {
            "marker": {
             "colorbar": {
              "outlinewidth": 0,
              "ticks": ""
             }
            },
            "type": "scatterternary"
           }
          ],
          "surface": [
           {
            "colorbar": {
             "outlinewidth": 0,
             "ticks": ""
            },
            "colorscale": [
             [
              0,
              "#0d0887"
             ],
             [
              0.1111111111111111,
              "#46039f"
             ],
             [
              0.2222222222222222,
              "#7201a8"
             ],
             [
              0.3333333333333333,
              "#9c179e"
             ],
             [
              0.4444444444444444,
              "#bd3786"
             ],
             [
              0.5555555555555556,
              "#d8576b"
             ],
             [
              0.6666666666666666,
              "#ed7953"
             ],
             [
              0.7777777777777778,
              "#fb9f3a"
             ],
             [
              0.8888888888888888,
              "#fdca26"
             ],
             [
              1,
              "#f0f921"
             ]
            ],
            "type": "surface"
           }
          ],
          "table": [
           {
            "cells": {
             "fill": {
              "color": "#EBF0F8"
             },
             "line": {
              "color": "white"
             }
            },
            "header": {
             "fill": {
              "color": "#C8D4E3"
             },
             "line": {
              "color": "white"
             }
            },
            "type": "table"
           }
          ]
         },
         "layout": {
          "annotationdefaults": {
           "arrowcolor": "#2a3f5f",
           "arrowhead": 0,
           "arrowwidth": 1
          },
          "autotypenumbers": "strict",
          "coloraxis": {
           "colorbar": {
            "outlinewidth": 0,
            "ticks": ""
           }
          },
          "colorscale": {
           "diverging": [
            [
             0,
             "#8e0152"
            ],
            [
             0.1,
             "#c51b7d"
            ],
            [
             0.2,
             "#de77ae"
            ],
            [
             0.3,
             "#f1b6da"
            ],
            [
             0.4,
             "#fde0ef"
            ],
            [
             0.5,
             "#f7f7f7"
            ],
            [
             0.6,
             "#e6f5d0"
            ],
            [
             0.7,
             "#b8e186"
            ],
            [
             0.8,
             "#7fbc41"
            ],
            [
             0.9,
             "#4d9221"
            ],
            [
             1,
             "#276419"
            ]
           ],
           "sequential": [
            [
             0,
             "#0d0887"
            ],
            [
             0.1111111111111111,
             "#46039f"
            ],
            [
             0.2222222222222222,
             "#7201a8"
            ],
            [
             0.3333333333333333,
             "#9c179e"
            ],
            [
             0.4444444444444444,
             "#bd3786"
            ],
            [
             0.5555555555555556,
             "#d8576b"
            ],
            [
             0.6666666666666666,
             "#ed7953"
            ],
            [
             0.7777777777777778,
             "#fb9f3a"
            ],
            [
             0.8888888888888888,
             "#fdca26"
            ],
            [
             1,
             "#f0f921"
            ]
           ],
           "sequentialminus": [
            [
             0,
             "#0d0887"
            ],
            [
             0.1111111111111111,
             "#46039f"
            ],
            [
             0.2222222222222222,
             "#7201a8"
            ],
            [
             0.3333333333333333,
             "#9c179e"
            ],
            [
             0.4444444444444444,
             "#bd3786"
            ],
            [
             0.5555555555555556,
             "#d8576b"
            ],
            [
             0.6666666666666666,
             "#ed7953"
            ],
            [
             0.7777777777777778,
             "#fb9f3a"
            ],
            [
             0.8888888888888888,
             "#fdca26"
            ],
            [
             1,
             "#f0f921"
            ]
           ]
          },
          "colorway": [
           "#636efa",
           "#EF553B",
           "#00cc96",
           "#ab63fa",
           "#FFA15A",
           "#19d3f3",
           "#FF6692",
           "#B6E880",
           "#FF97FF",
           "#FECB52"
          ],
          "font": {
           "color": "#2a3f5f"
          },
          "geo": {
           "bgcolor": "white",
           "lakecolor": "white",
           "landcolor": "#E5ECF6",
           "showlakes": true,
           "showland": true,
           "subunitcolor": "white"
          },
          "hoverlabel": {
           "align": "left"
          },
          "hovermode": "closest",
          "mapbox": {
           "style": "light"
          },
          "paper_bgcolor": "white",
          "plot_bgcolor": "#E5ECF6",
          "polar": {
           "angularaxis": {
            "gridcolor": "white",
            "linecolor": "white",
            "ticks": ""
           },
           "bgcolor": "#E5ECF6",
           "radialaxis": {
            "gridcolor": "white",
            "linecolor": "white",
            "ticks": ""
           }
          },
          "scene": {
           "xaxis": {
            "backgroundcolor": "#E5ECF6",
            "gridcolor": "white",
            "gridwidth": 2,
            "linecolor": "white",
            "showbackground": true,
            "ticks": "",
            "zerolinecolor": "white"
           },
           "yaxis": {
            "backgroundcolor": "#E5ECF6",
            "gridcolor": "white",
            "gridwidth": 2,
            "linecolor": "white",
            "showbackground": true,
            "ticks": "",
            "zerolinecolor": "white"
           },
           "zaxis": {
            "backgroundcolor": "#E5ECF6",
            "gridcolor": "white",
            "gridwidth": 2,
            "linecolor": "white",
            "showbackground": true,
            "ticks": "",
            "zerolinecolor": "white"
           }
          },
          "shapedefaults": {
           "line": {
            "color": "#2a3f5f"
           }
          },
          "ternary": {
           "aaxis": {
            "gridcolor": "white",
            "linecolor": "white",
            "ticks": ""
           },
           "baxis": {
            "gridcolor": "white",
            "linecolor": "white",
            "ticks": ""
           },
           "bgcolor": "#E5ECF6",
           "caxis": {
            "gridcolor": "white",
            "linecolor": "white",
            "ticks": ""
           }
          },
          "title": {
           "x": 0.05
          },
          "xaxis": {
           "automargin": true,
           "gridcolor": "white",
           "linecolor": "white",
           "ticks": "",
           "title": {
            "standoff": 15
           },
           "zerolinecolor": "white",
           "zerolinewidth": 2
          },
          "yaxis": {
           "automargin": true,
           "gridcolor": "white",
           "linecolor": "white",
           "ticks": "",
           "title": {
            "standoff": 15
           },
           "zerolinecolor": "white",
           "zerolinewidth": 2
          }
         }
        },
        "title": {
         "text": "Artist Followers vs. Popularity"
        },
        "width": 700,
        "xaxis": {
         "anchor": "y",
         "domain": [
          0,
          0.37
         ]
        },
        "xaxis2": {
         "anchor": "y3",
         "domain": [
          0.5700000000000001,
          0.9400000000000001
         ]
        },
        "xaxis3": {
         "anchor": "y5",
         "domain": [
          0,
          0.37
         ]
        },
        "xaxis4": {
         "anchor": "y7",
         "domain": [
          0.5700000000000001,
          0.9400000000000001
         ]
        },
        "yaxis": {
         "anchor": "x",
         "domain": [
          0.625,
          1
         ],
         "range": [
          88326893.7,
          88591569.3
         ]
        },
        "yaxis2": {
         "anchor": "x",
         "overlaying": "y",
         "range": [
          89,
          96
         ],
         "side": "right"
        },
        "yaxis3": {
         "anchor": "x2",
         "domain": [
          0.625,
          1
         ],
         "range": [
          22618185.6,
          22650206.4
         ]
        },
        "yaxis4": {
         "anchor": "x2",
         "overlaying": "y3",
         "range": [
          81,
          87
         ],
         "side": "right"
        },
        "yaxis5": {
         "anchor": "x3",
         "domain": [
          0,
          0.375
         ],
         "range": [
          61896009,
          62279061
         ]
        },
        "yaxis6": {
         "anchor": "x3",
         "overlaying": "y5",
         "range": [
          90,
          96
         ],
         "side": "right"
        },
        "yaxis7": {
         "anchor": "x4",
         "domain": [
          0,
          0.375
         ],
         "range": [
          42264154.1,
          42486356.9
         ]
        },
        "yaxis8": {
         "anchor": "x4",
         "overlaying": "y7",
         "range": [
          87,
          93
         ],
         "side": "right"
        }
       }
      }
     },
     "metadata": {},
     "output_type": "display_data"
    }
   ],
   "source": [
    "plot_all_artist_hist(df,1)"
   ]
  },
  {
   "cell_type": "code",
   "execution_count": null,
   "metadata": {},
   "outputs": [],
   "source": []
  }
 ],
 "metadata": {
  "kernelspec": {
   "display_name": "Python 3",
   "language": "python",
   "name": "python3"
  },
  "language_info": {
   "codemirror_mode": {
    "name": "ipython",
    "version": 3
   },
   "file_extension": ".py",
   "mimetype": "text/x-python",
   "name": "python",
   "nbconvert_exporter": "python",
   "pygments_lexer": "ipython3",
   "version": "3.9.15"
  },
  "orig_nbformat": 4,
  "vscode": {
   "interpreter": {
    "hash": "397704579725e15f5c7cb49fe5f0341eb7531c82d19f2c29d197e8b64ab5776b"
   }
  }
 },
 "nbformat": 4,
 "nbformat_minor": 2
}
